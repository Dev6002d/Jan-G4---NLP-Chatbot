{
  "nbformat": 4,
  "nbformat_minor": 0,
  "metadata": {
    "kernelspec": {
      "display_name": "Python 3",
      "language": "python",
      "name": "python3"
    },
    "language_info": {
      "codemirror_mode": {
        "name": "ipython",
        "version": 3
      },
      "file_extension": ".py",
      "mimetype": "text/x-python",
      "name": "python",
      "nbconvert_exporter": "python",
      "pygments_lexer": "ipython3",
      "version": "3.7.6"
    },
    "colab": {
      "name": "Capstone_NLP_Chatbot_Jan_A_G4.ipynb",
      "provenance": [],
      "collapsed_sections": [],
      "include_colab_link": true
    }
  },
  "cells": [
    {
      "cell_type": "markdown",
      "metadata": {
        "id": "view-in-github",
        "colab_type": "text"
      },
      "source": [
        "<a href=\"https://colab.research.google.com/github/shyamsparrow/Jan-G4---NLP-Chatbot/blob/main/Capstone_NLP_Chatbot_Jan_A_G4.ipynb\" target=\"_parent\"><img src=\"https://colab.research.google.com/assets/colab-badge.svg\" alt=\"Open In Colab\"/></a>"
      ]
    },
    {
      "cell_type": "markdown",
      "metadata": {
        "id": "9Yj3kJll4cxT"
      },
      "source": [
        "# Capstone Project - NLP Chatbot\n",
        "\n",
        "### DOMAIN: \n",
        "Industrial safety. NLP based Chatbot.\n",
        "\n",
        "### CONTEXT:\n",
        "The database comes from one of the biggest industry in Brazil and in the world. It is an urgent need for industries/companies around the globe to understand why employees still suffer some injuries/accidents in plants. Sometimes they also die in such environment.\n",
        "\n",
        "### DATA DESCRIPTION:\n",
        "This The database is basically records of accidents from 12 different plants in 03 different countries which every line in the data is an occurrence of an accident.\n",
        "\n",
        "### Columns description:\n",
        "* Data: timestamp or time/date information\n",
        "* Countries: which country the accident occurred (anonymised)\n",
        "* Local: the city where the manufacturing plant is located (anonymised)\n",
        "* Industry sector: which sector the plant belongs to\n",
        "* Accident level: from I to VI, it registers how severe was the accident (I means not severe but VI means very severe)\n",
        "* Potential Accident Level: Depending on the Accident Level, the database also registers how severe the accident could have   been (due to other factors involved in the accident)\n",
        "* Gender: if the person is male of female\n",
        "* Employee or Third Party: if the injured person is an employee or a third party\n",
        "* Critical Risk: some description of the risk involved in the accident\n",
        "* Description: Detailed description of how the accident happened.\n",
        "\n",
        "Link to download the dataset: https://drive.google.com/file/d/1_GmrRP1S2OIa02KlfOBNkYa8uxazGbfE/view?usp=sharing,\n",
        "Original dataset link: https://www.kaggle.com/ihmstefanini/industrial-safety-and-health-analytics-database\n",
        "\n",
        "### PROJECT OBJECTIVE:\n",
        "Design a ML/DL based chatbot utility which can help the professionals to highlight the safety risk as per the incident description."
      ]
    },
    {
      "cell_type": "code",
      "metadata": {
        "colab": {
          "base_uri": "https://localhost:8080/"
        },
        "id": "UXY9aXj-FwOg",
        "outputId": "0a61ebf0-647c-4ed8-d505-72b13b05da6d"
      },
      "source": [
        "from google.colab import drive\n",
        "drive.mount('/content/drive')"
      ],
      "execution_count": 1,
      "outputs": [
        {
          "output_type": "stream",
          "name": "stdout",
          "text": [
            "Mounted at /content/drive\n"
          ]
        }
      ]
    },
    {
      "cell_type": "markdown",
      "metadata": {
        "id": "yJ3cY1PPaSlS"
      },
      "source": [
        "Replace the folder path with your drive folder path and clone the githb repo"
      ]
    },
    {
      "cell_type": "code",
      "metadata": {
        "id": "wwhw9SyePdXo",
        "colab": {
          "base_uri": "https://localhost:8080/"
        },
        "outputId": "155dedfb-8fbe-4730-966a-b43e2b9e9eb5"
      },
      "source": [
        "%cd /content/drive/MyDrive/AIML/Capstone"
      ],
      "execution_count": 5,
      "outputs": [
        {
          "output_type": "stream",
          "name": "stdout",
          "text": [
            "/content/drive/MyDrive/AIML/Capstone\n"
          ]
        }
      ]
    },
    {
      "cell_type": "markdown",
      "metadata": {
        "id": "zb2bSd4Qa6sd"
      },
      "source": [
        "Run the below code for clone it for first time"
      ]
    },
    {
      "cell_type": "code",
      "metadata": {
        "colab": {
          "base_uri": "https://localhost:8080/"
        },
        "id": "02mIR5BkLrQM",
        "outputId": "93c540d7-41d4-4170-8ae0-66911906e24c"
      },
      "source": [
        "! git clone https://github.com/shyamsparrow/Jan-G4---NLP-Chatbot.git"
      ],
      "execution_count": 6,
      "outputs": [
        {
          "output_type": "stream",
          "name": "stdout",
          "text": [
            "fatal: destination path 'Jan-G4---NLP-Chatbot' already exists and is not an empty directory.\n"
          ]
        }
      ]
    },
    {
      "cell_type": "code",
      "metadata": {
        "colab": {
          "base_uri": "https://localhost:8080/"
        },
        "id": "OigsCtatbCvx",
        "outputId": "af70bd11-670b-4d2c-9aca-404a78a9e041"
      },
      "source": [
        "%cd /content/drive/MyDrive/AIML/Capstone/Jan-G4---NLP-Chatbot"
      ],
      "execution_count": 8,
      "outputs": [
        {
          "output_type": "stream",
          "name": "stdout",
          "text": [
            "/content/drive/MyDrive/AIML/Capstone/Jan-G4---NLP-Chatbot\n"
          ]
        }
      ]
    },
    {
      "cell_type": "code",
      "metadata": {
        "colab": {
          "base_uri": "https://localhost:8080/"
        },
        "id": "WITqKl1Nb_G4",
        "outputId": "787b40f8-d8af-418d-df18-f6c97971c0b5"
      },
      "source": [
        "!git pull"
      ],
      "execution_count": 33,
      "outputs": [
        {
          "output_type": "stream",
          "name": "stdout",
          "text": [
            "remote: Enumerating objects: 4, done.\u001b[K\n",
            "remote: Counting objects:  25% (1/4)\u001b[K\rremote: Counting objects:  50% (2/4)\u001b[K\rremote: Counting objects:  75% (3/4)\u001b[K\rremote: Counting objects: 100% (4/4)\u001b[K\rremote: Counting objects: 100% (4/4), done.\u001b[K\n",
            "remote: Compressing objects:  33% (1/3)\u001b[K\rremote: Compressing objects:  66% (2/3)\u001b[K\rremote: Compressing objects: 100% (3/3)\u001b[K\rremote: Compressing objects: 100% (3/3), done.\u001b[K\n",
            "remote: Total 3 (delta 1), reused 0 (delta 0), pack-reused 0\u001b[K\n",
            "Unpacking objects:  33% (1/3)   \rUnpacking objects:  66% (2/3)   \rUnpacking objects: 100% (3/3)   \rUnpacking objects: 100% (3/3), done.\n",
            "From https://github.com/shyamsparrow/Jan-G4---NLP-Chatbot\n",
            "   913d006..ad8980c  main       -> origin/main\n",
            "Updating 913d006..ad8980c\n",
            "error: Your local changes to the following files would be overwritten by merge:\n",
            "\tconfig.py\n",
            "Please commit your changes or stash them before you merge.\n",
            "Aborting\n"
          ]
        }
      ]
    },
    {
      "cell_type": "code",
      "metadata": {
        "id": "d4CkHgK24cxV"
      },
      "source": [
        "import warnings\n",
        "warnings.filterwarnings('ignore')\n",
        "\n",
        "import tensorflow as tf\n",
        "from tensorflow import keras\n",
        "from keras.datasets import imdb\n",
        "from keras.preprocessing import sequence\n",
        "from keras.models import Sequential\n",
        "from keras.layers import Dense\n",
        "from keras.layers.embeddings import Embedding\n",
        "from keras.layers import Flatten\n",
        "from keras.callbacks import EarlyStopping\n",
        "from wordcloud import WordCloud,STOPWORDS\n",
        "import nltk\n",
        "from nltk.corpus import stopwords\n",
        "from bs4 import BeautifulSoup\n",
        "import string\n",
        "import numpy as np\n",
        "import pandas as pd\n",
        "import seaborn as sns\n",
        "import matplotlib.pyplot as plt\n",
        "import re"
      ],
      "execution_count": 13,
      "outputs": []
    },
    {
      "cell_type": "code",
      "metadata": {
        "id": "KHfbdf5t4cxY",
        "colab": {
          "base_uri": "https://localhost:8080/"
        },
        "outputId": "e3f15e71-ef42-4676-b772-077e1d2d95a7"
      },
      "source": [
        "url = \"Data Set - industrial_safety_and_health_database_with_accidents_description.csv\"\n",
        "industry_df = pd.read_csv(url, index_col = 0)\n",
        "industry_df.head"
      ],
      "execution_count": 14,
      "outputs": [
        {
          "output_type": "execute_result",
          "data": {
            "text/plain": [
              "<bound method NDFrame.head of                     Data  ...                                        Description\n",
              "0    2016-01-01 00:00:00  ...  While removing the drill rod of the Jumbo 08 f...\n",
              "1    2016-01-02 00:00:00  ...  During the activation of a sodium sulphide pum...\n",
              "2    2016-01-06 00:00:00  ...  In the sub-station MILPO located at level +170...\n",
              "3    2016-01-08 00:00:00  ...  Being 9:45 am. approximately in the Nv. 1880 C...\n",
              "4    2016-01-10 00:00:00  ...  Approximately at 11:45 a.m. in circumstances t...\n",
              "..                   ...  ...                                                ...\n",
              "434  2017-07-04 00:00:00  ...  Being approximately 5:00 a.m. approximately, w...\n",
              "435  2017-07-04 00:00:00  ...  The collaborator moved from the infrastructure...\n",
              "436  2017-07-05 00:00:00  ...  During the environmental monitoring activity i...\n",
              "437  2017-07-06 00:00:00  ...  The Employee performed the activity of strippi...\n",
              "438  2017-07-09 00:00:00  ...  At 10:00 a.m., when the assistant cleaned the ...\n",
              "\n",
              "[425 rows x 10 columns]>"
            ]
          },
          "metadata": {},
          "execution_count": 14
        }
      ]
    },
    {
      "cell_type": "code",
      "metadata": {
        "id": "D9rdU9F-4cxY",
        "colab": {
          "base_uri": "https://localhost:8080/"
        },
        "outputId": "d93037b4-c90b-4440-dbfd-d652d840a0e5"
      },
      "source": [
        "industry_df.shape"
      ],
      "execution_count": 15,
      "outputs": [
        {
          "output_type": "execute_result",
          "data": {
            "text/plain": [
              "(425, 10)"
            ]
          },
          "metadata": {},
          "execution_count": 15
        }
      ]
    },
    {
      "cell_type": "code",
      "metadata": {
        "id": "aYREgrh_4cxZ",
        "colab": {
          "base_uri": "https://localhost:8080/",
          "height": 265
        },
        "outputId": "7ac3047b-fdd9-4efe-e946-5c2fab6780c9"
      },
      "source": [
        "industry_df.rename(columns={'Data':'Date', 'Countries':'Country', 'Genre':'Gender', 'Employee or Third Party':'Employee type'}, inplace=True)\n",
        "industry_df.head(3)"
      ],
      "execution_count": 16,
      "outputs": [
        {
          "output_type": "execute_result",
          "data": {
            "text/html": [
              "<div>\n",
              "<style scoped>\n",
              "    .dataframe tbody tr th:only-of-type {\n",
              "        vertical-align: middle;\n",
              "    }\n",
              "\n",
              "    .dataframe tbody tr th {\n",
              "        vertical-align: top;\n",
              "    }\n",
              "\n",
              "    .dataframe thead th {\n",
              "        text-align: right;\n",
              "    }\n",
              "</style>\n",
              "<table border=\"1\" class=\"dataframe\">\n",
              "  <thead>\n",
              "    <tr style=\"text-align: right;\">\n",
              "      <th></th>\n",
              "      <th>Date</th>\n",
              "      <th>Country</th>\n",
              "      <th>Local</th>\n",
              "      <th>Industry Sector</th>\n",
              "      <th>Accident Level</th>\n",
              "      <th>Potential Accident Level</th>\n",
              "      <th>Gender</th>\n",
              "      <th>Employee type</th>\n",
              "      <th>Critical Risk</th>\n",
              "      <th>Description</th>\n",
              "    </tr>\n",
              "  </thead>\n",
              "  <tbody>\n",
              "    <tr>\n",
              "      <th>0</th>\n",
              "      <td>2016-01-01 00:00:00</td>\n",
              "      <td>Country_01</td>\n",
              "      <td>Local_01</td>\n",
              "      <td>Mining</td>\n",
              "      <td>I</td>\n",
              "      <td>IV</td>\n",
              "      <td>Male</td>\n",
              "      <td>Third Party</td>\n",
              "      <td>Pressed</td>\n",
              "      <td>While removing the drill rod of the Jumbo 08 f...</td>\n",
              "    </tr>\n",
              "    <tr>\n",
              "      <th>1</th>\n",
              "      <td>2016-01-02 00:00:00</td>\n",
              "      <td>Country_02</td>\n",
              "      <td>Local_02</td>\n",
              "      <td>Mining</td>\n",
              "      <td>I</td>\n",
              "      <td>IV</td>\n",
              "      <td>Male</td>\n",
              "      <td>Employee</td>\n",
              "      <td>Pressurized Systems</td>\n",
              "      <td>During the activation of a sodium sulphide pum...</td>\n",
              "    </tr>\n",
              "    <tr>\n",
              "      <th>2</th>\n",
              "      <td>2016-01-06 00:00:00</td>\n",
              "      <td>Country_01</td>\n",
              "      <td>Local_03</td>\n",
              "      <td>Mining</td>\n",
              "      <td>I</td>\n",
              "      <td>III</td>\n",
              "      <td>Male</td>\n",
              "      <td>Third Party (Remote)</td>\n",
              "      <td>Manual Tools</td>\n",
              "      <td>In the sub-station MILPO located at level +170...</td>\n",
              "    </tr>\n",
              "  </tbody>\n",
              "</table>\n",
              "</div>"
            ],
            "text/plain": [
              "                  Date  ...                                        Description\n",
              "0  2016-01-01 00:00:00  ...  While removing the drill rod of the Jumbo 08 f...\n",
              "1  2016-01-02 00:00:00  ...  During the activation of a sodium sulphide pum...\n",
              "2  2016-01-06 00:00:00  ...  In the sub-station MILPO located at level +170...\n",
              "\n",
              "[3 rows x 10 columns]"
            ]
          },
          "metadata": {},
          "execution_count": 16
        }
      ]
    },
    {
      "cell_type": "code",
      "metadata": {
        "id": "PL6vwoTB4cxa",
        "colab": {
          "base_uri": "https://localhost:8080/",
          "height": 363
        },
        "outputId": "ab795b6f-e0e2-4891-8c56-b87d312eaaf0"
      },
      "source": [
        "datatype = pd.DataFrame(industry_df.dtypes)\n",
        "datatype['MissingVal'] = industry_df.isnull().sum()\n",
        "datatype['NUnique']=industry_df.nunique()\n",
        "datatype"
      ],
      "execution_count": 17,
      "outputs": [
        {
          "output_type": "execute_result",
          "data": {
            "text/html": [
              "<div>\n",
              "<style scoped>\n",
              "    .dataframe tbody tr th:only-of-type {\n",
              "        vertical-align: middle;\n",
              "    }\n",
              "\n",
              "    .dataframe tbody tr th {\n",
              "        vertical-align: top;\n",
              "    }\n",
              "\n",
              "    .dataframe thead th {\n",
              "        text-align: right;\n",
              "    }\n",
              "</style>\n",
              "<table border=\"1\" class=\"dataframe\">\n",
              "  <thead>\n",
              "    <tr style=\"text-align: right;\">\n",
              "      <th></th>\n",
              "      <th>0</th>\n",
              "      <th>MissingVal</th>\n",
              "      <th>NUnique</th>\n",
              "    </tr>\n",
              "  </thead>\n",
              "  <tbody>\n",
              "    <tr>\n",
              "      <th>Date</th>\n",
              "      <td>object</td>\n",
              "      <td>0</td>\n",
              "      <td>287</td>\n",
              "    </tr>\n",
              "    <tr>\n",
              "      <th>Country</th>\n",
              "      <td>object</td>\n",
              "      <td>0</td>\n",
              "      <td>3</td>\n",
              "    </tr>\n",
              "    <tr>\n",
              "      <th>Local</th>\n",
              "      <td>object</td>\n",
              "      <td>0</td>\n",
              "      <td>12</td>\n",
              "    </tr>\n",
              "    <tr>\n",
              "      <th>Industry Sector</th>\n",
              "      <td>object</td>\n",
              "      <td>0</td>\n",
              "      <td>3</td>\n",
              "    </tr>\n",
              "    <tr>\n",
              "      <th>Accident Level</th>\n",
              "      <td>object</td>\n",
              "      <td>0</td>\n",
              "      <td>5</td>\n",
              "    </tr>\n",
              "    <tr>\n",
              "      <th>Potential Accident Level</th>\n",
              "      <td>object</td>\n",
              "      <td>0</td>\n",
              "      <td>6</td>\n",
              "    </tr>\n",
              "    <tr>\n",
              "      <th>Gender</th>\n",
              "      <td>object</td>\n",
              "      <td>0</td>\n",
              "      <td>2</td>\n",
              "    </tr>\n",
              "    <tr>\n",
              "      <th>Employee type</th>\n",
              "      <td>object</td>\n",
              "      <td>0</td>\n",
              "      <td>3</td>\n",
              "    </tr>\n",
              "    <tr>\n",
              "      <th>Critical Risk</th>\n",
              "      <td>object</td>\n",
              "      <td>0</td>\n",
              "      <td>33</td>\n",
              "    </tr>\n",
              "    <tr>\n",
              "      <th>Description</th>\n",
              "      <td>object</td>\n",
              "      <td>0</td>\n",
              "      <td>411</td>\n",
              "    </tr>\n",
              "  </tbody>\n",
              "</table>\n",
              "</div>"
            ],
            "text/plain": [
              "                               0  MissingVal  NUnique\n",
              "Date                      object           0      287\n",
              "Country                   object           0        3\n",
              "Local                     object           0       12\n",
              "Industry Sector           object           0        3\n",
              "Accident Level            object           0        5\n",
              "Potential Accident Level  object           0        6\n",
              "Gender                    object           0        2\n",
              "Employee type             object           0        3\n",
              "Critical Risk             object           0       33\n",
              "Description               object           0      411"
            ]
          },
          "metadata": {},
          "execution_count": 17
        }
      ]
    },
    {
      "cell_type": "code",
      "metadata": {
        "id": "GR0nfCRk4cxa",
        "colab": {
          "base_uri": "https://localhost:8080/"
        },
        "outputId": "16f00316-41b3-43c0-8932-0b23cb3a4a7c"
      },
      "source": [
        "for x in industry_df.columns:\n",
        "    if x != 'Description' and x != 'Date':\n",
        "        print('--'*30); print(f'Unique values of \"{x}\" column'); print('--'*30)\n",
        "        print(industry_df[x].unique())\n",
        "        print(\"\\n\")"
      ],
      "execution_count": 18,
      "outputs": [
        {
          "output_type": "stream",
          "name": "stdout",
          "text": [
            "------------------------------------------------------------\n",
            "Unique values of \"Country\" column\n",
            "------------------------------------------------------------\n",
            "['Country_01' 'Country_02' 'Country_03']\n",
            "\n",
            "\n",
            "------------------------------------------------------------\n",
            "Unique values of \"Local\" column\n",
            "------------------------------------------------------------\n",
            "['Local_01' 'Local_02' 'Local_03' 'Local_04' 'Local_05' 'Local_06'\n",
            " 'Local_07' 'Local_08' 'Local_10' 'Local_09' 'Local_11' 'Local_12']\n",
            "\n",
            "\n",
            "------------------------------------------------------------\n",
            "Unique values of \"Industry Sector\" column\n",
            "------------------------------------------------------------\n",
            "['Mining' 'Metals' 'Others']\n",
            "\n",
            "\n",
            "------------------------------------------------------------\n",
            "Unique values of \"Accident Level\" column\n",
            "------------------------------------------------------------\n",
            "['I' 'IV' 'III' 'II' 'V']\n",
            "\n",
            "\n",
            "------------------------------------------------------------\n",
            "Unique values of \"Potential Accident Level\" column\n",
            "------------------------------------------------------------\n",
            "['IV' 'III' 'I' 'II' 'V' 'VI']\n",
            "\n",
            "\n",
            "------------------------------------------------------------\n",
            "Unique values of \"Gender\" column\n",
            "------------------------------------------------------------\n",
            "['Male' 'Female']\n",
            "\n",
            "\n",
            "------------------------------------------------------------\n",
            "Unique values of \"Employee type\" column\n",
            "------------------------------------------------------------\n",
            "['Third Party' 'Employee' 'Third Party (Remote)']\n",
            "\n",
            "\n",
            "------------------------------------------------------------\n",
            "Unique values of \"Critical Risk\" column\n",
            "------------------------------------------------------------\n",
            "['Pressed' 'Pressurized Systems' 'Manual Tools' 'Others'\n",
            " 'Fall prevention (same level)' 'Chemical substances' 'Liquid Metal'\n",
            " 'Electrical installation' 'Confined space'\n",
            " 'Pressurized Systems / Chemical Substances'\n",
            " 'Blocking and isolation of energies' 'Suspended Loads' 'Poll' 'Cut'\n",
            " 'Fall' 'Bees' 'Fall prevention' '\\nNot applicable' 'Traffic' 'Projection'\n",
            " 'Venomous Animals' 'Plates' 'Projection/Burning' 'remains of choco'\n",
            " 'Vehicles and Mobile Equipment' 'Projection/Choco' 'Machine Protection'\n",
            " 'Power lock' 'Burn' 'Projection/Manual Tools'\n",
            " 'Individual protection equipment' 'Electrical Shock'\n",
            " 'Projection of fragments']\n",
            "\n",
            "\n"
          ]
        }
      ]
    },
    {
      "cell_type": "code",
      "metadata": {
        "id": "7oCyL5VN4cxb",
        "colab": {
          "base_uri": "https://localhost:8080/"
        },
        "outputId": "69751327-b996-4484-b591-dd713beea804"
      },
      "source": [
        "industry_df.duplicated().sum()"
      ],
      "execution_count": 19,
      "outputs": [
        {
          "output_type": "execute_result",
          "data": {
            "text/plain": [
              "7"
            ]
          },
          "metadata": {},
          "execution_count": 19
        }
      ]
    },
    {
      "cell_type": "code",
      "metadata": {
        "id": "6gWfoqac4cxe",
        "colab": {
          "base_uri": "https://localhost:8080/",
          "height": 546
        },
        "outputId": "aae85da6-2268-40a7-b271-ac2004ce7d64"
      },
      "source": [
        "duplicates = industry_df.duplicated()\n",
        "\n",
        "industry_df[duplicates]"
      ],
      "execution_count": 20,
      "outputs": [
        {
          "output_type": "execute_result",
          "data": {
            "text/html": [
              "<div>\n",
              "<style scoped>\n",
              "    .dataframe tbody tr th:only-of-type {\n",
              "        vertical-align: middle;\n",
              "    }\n",
              "\n",
              "    .dataframe tbody tr th {\n",
              "        vertical-align: top;\n",
              "    }\n",
              "\n",
              "    .dataframe thead th {\n",
              "        text-align: right;\n",
              "    }\n",
              "</style>\n",
              "<table border=\"1\" class=\"dataframe\">\n",
              "  <thead>\n",
              "    <tr style=\"text-align: right;\">\n",
              "      <th></th>\n",
              "      <th>Date</th>\n",
              "      <th>Country</th>\n",
              "      <th>Local</th>\n",
              "      <th>Industry Sector</th>\n",
              "      <th>Accident Level</th>\n",
              "      <th>Potential Accident Level</th>\n",
              "      <th>Gender</th>\n",
              "      <th>Employee type</th>\n",
              "      <th>Critical Risk</th>\n",
              "      <th>Description</th>\n",
              "    </tr>\n",
              "  </thead>\n",
              "  <tbody>\n",
              "    <tr>\n",
              "      <th>89</th>\n",
              "      <td>2016-04-01 00:00:00</td>\n",
              "      <td>Country_01</td>\n",
              "      <td>Local_01</td>\n",
              "      <td>Mining</td>\n",
              "      <td>I</td>\n",
              "      <td>V</td>\n",
              "      <td>Male</td>\n",
              "      <td>Third Party (Remote)</td>\n",
              "      <td>Others</td>\n",
              "      <td>In circumstances that two workers of the Abrat...</td>\n",
              "    </tr>\n",
              "    <tr>\n",
              "      <th>276</th>\n",
              "      <td>2016-12-01 00:00:00</td>\n",
              "      <td>Country_01</td>\n",
              "      <td>Local_03</td>\n",
              "      <td>Mining</td>\n",
              "      <td>I</td>\n",
              "      <td>IV</td>\n",
              "      <td>Male</td>\n",
              "      <td>Employee</td>\n",
              "      <td>Others</td>\n",
              "      <td>During the activity of chuteo of ore in hopper...</td>\n",
              "    </tr>\n",
              "    <tr>\n",
              "      <th>317</th>\n",
              "      <td>2017-01-21 00:00:00</td>\n",
              "      <td>Country_02</td>\n",
              "      <td>Local_02</td>\n",
              "      <td>Mining</td>\n",
              "      <td>I</td>\n",
              "      <td>I</td>\n",
              "      <td>Male</td>\n",
              "      <td>Third Party (Remote)</td>\n",
              "      <td>Others</td>\n",
              "      <td>Employees engaged in the removal of material f...</td>\n",
              "    </tr>\n",
              "    <tr>\n",
              "      <th>359</th>\n",
              "      <td>2017-03-02 00:00:00</td>\n",
              "      <td>Country_03</td>\n",
              "      <td>Local_10</td>\n",
              "      <td>Others</td>\n",
              "      <td>I</td>\n",
              "      <td>I</td>\n",
              "      <td>Male</td>\n",
              "      <td>Third Party</td>\n",
              "      <td>Venomous Animals</td>\n",
              "      <td>On 02/03/17 during the soil sampling in the re...</td>\n",
              "    </tr>\n",
              "    <tr>\n",
              "      <th>360</th>\n",
              "      <td>2017-03-02 00:00:00</td>\n",
              "      <td>Country_03</td>\n",
              "      <td>Local_10</td>\n",
              "      <td>Others</td>\n",
              "      <td>I</td>\n",
              "      <td>I</td>\n",
              "      <td>Male</td>\n",
              "      <td>Third Party</td>\n",
              "      <td>Venomous Animals</td>\n",
              "      <td>On 02/03/17 during the soil sampling in the re...</td>\n",
              "    </tr>\n",
              "    <tr>\n",
              "      <th>369</th>\n",
              "      <td>2017-03-15 00:00:00</td>\n",
              "      <td>Country_03</td>\n",
              "      <td>Local_10</td>\n",
              "      <td>Others</td>\n",
              "      <td>I</td>\n",
              "      <td>I</td>\n",
              "      <td>Male</td>\n",
              "      <td>Third Party</td>\n",
              "      <td>Venomous Animals</td>\n",
              "      <td>Team of the VMS Project performed soil collect...</td>\n",
              "    </tr>\n",
              "    <tr>\n",
              "      <th>411</th>\n",
              "      <td>2017-05-23 00:00:00</td>\n",
              "      <td>Country_01</td>\n",
              "      <td>Local_04</td>\n",
              "      <td>Mining</td>\n",
              "      <td>I</td>\n",
              "      <td>IV</td>\n",
              "      <td>Male</td>\n",
              "      <td>Third Party</td>\n",
              "      <td>Projection of fragments</td>\n",
              "      <td>In moments when the 02 collaborators carried o...</td>\n",
              "    </tr>\n",
              "  </tbody>\n",
              "</table>\n",
              "</div>"
            ],
            "text/plain": [
              "                    Date  ...                                        Description\n",
              "89   2016-04-01 00:00:00  ...  In circumstances that two workers of the Abrat...\n",
              "276  2016-12-01 00:00:00  ...  During the activity of chuteo of ore in hopper...\n",
              "317  2017-01-21 00:00:00  ...  Employees engaged in the removal of material f...\n",
              "359  2017-03-02 00:00:00  ...  On 02/03/17 during the soil sampling in the re...\n",
              "360  2017-03-02 00:00:00  ...  On 02/03/17 during the soil sampling in the re...\n",
              "369  2017-03-15 00:00:00  ...  Team of the VMS Project performed soil collect...\n",
              "411  2017-05-23 00:00:00  ...  In moments when the 02 collaborators carried o...\n",
              "\n",
              "[7 rows x 10 columns]"
            ]
          },
          "metadata": {},
          "execution_count": 20
        }
      ]
    },
    {
      "cell_type": "code",
      "metadata": {
        "id": "XJE2TLUW4cxe",
        "colab": {
          "base_uri": "https://localhost:8080/"
        },
        "outputId": "1de5986a-de7d-438a-e122-980c847565db"
      },
      "source": [
        "industry_df.drop_duplicates(inplace=True)\n",
        "industry_df.shape"
      ],
      "execution_count": 21,
      "outputs": [
        {
          "output_type": "execute_result",
          "data": {
            "text/plain": [
              "(418, 10)"
            ]
          },
          "metadata": {},
          "execution_count": 21
        }
      ]
    },
    {
      "cell_type": "code",
      "metadata": {
        "id": "TDMjbSyZ4cxf",
        "colab": {
          "base_uri": "https://localhost:8080/",
          "height": 244
        },
        "outputId": "8650adfc-b4db-4ded-e49b-c15247dbb274"
      },
      "source": [
        "industry_df.describe()"
      ],
      "execution_count": 22,
      "outputs": [
        {
          "output_type": "execute_result",
          "data": {
            "text/html": [
              "<div>\n",
              "<style scoped>\n",
              "    .dataframe tbody tr th:only-of-type {\n",
              "        vertical-align: middle;\n",
              "    }\n",
              "\n",
              "    .dataframe tbody tr th {\n",
              "        vertical-align: top;\n",
              "    }\n",
              "\n",
              "    .dataframe thead th {\n",
              "        text-align: right;\n",
              "    }\n",
              "</style>\n",
              "<table border=\"1\" class=\"dataframe\">\n",
              "  <thead>\n",
              "    <tr style=\"text-align: right;\">\n",
              "      <th></th>\n",
              "      <th>Date</th>\n",
              "      <th>Country</th>\n",
              "      <th>Local</th>\n",
              "      <th>Industry Sector</th>\n",
              "      <th>Accident Level</th>\n",
              "      <th>Potential Accident Level</th>\n",
              "      <th>Gender</th>\n",
              "      <th>Employee type</th>\n",
              "      <th>Critical Risk</th>\n",
              "      <th>Description</th>\n",
              "    </tr>\n",
              "  </thead>\n",
              "  <tbody>\n",
              "    <tr>\n",
              "      <th>count</th>\n",
              "      <td>418</td>\n",
              "      <td>418</td>\n",
              "      <td>418</td>\n",
              "      <td>418</td>\n",
              "      <td>418</td>\n",
              "      <td>418</td>\n",
              "      <td>418</td>\n",
              "      <td>418</td>\n",
              "      <td>418</td>\n",
              "      <td>418</td>\n",
              "    </tr>\n",
              "    <tr>\n",
              "      <th>unique</th>\n",
              "      <td>287</td>\n",
              "      <td>3</td>\n",
              "      <td>12</td>\n",
              "      <td>3</td>\n",
              "      <td>5</td>\n",
              "      <td>6</td>\n",
              "      <td>2</td>\n",
              "      <td>3</td>\n",
              "      <td>33</td>\n",
              "      <td>411</td>\n",
              "    </tr>\n",
              "    <tr>\n",
              "      <th>top</th>\n",
              "      <td>2017-02-08 00:00:00</td>\n",
              "      <td>Country_01</td>\n",
              "      <td>Local_03</td>\n",
              "      <td>Mining</td>\n",
              "      <td>I</td>\n",
              "      <td>IV</td>\n",
              "      <td>Male</td>\n",
              "      <td>Third Party</td>\n",
              "      <td>Others</td>\n",
              "      <td>The employees Márcio and Sérgio performed the ...</td>\n",
              "    </tr>\n",
              "    <tr>\n",
              "      <th>freq</th>\n",
              "      <td>6</td>\n",
              "      <td>248</td>\n",
              "      <td>89</td>\n",
              "      <td>237</td>\n",
              "      <td>309</td>\n",
              "      <td>141</td>\n",
              "      <td>396</td>\n",
              "      <td>185</td>\n",
              "      <td>229</td>\n",
              "      <td>2</td>\n",
              "    </tr>\n",
              "  </tbody>\n",
              "</table>\n",
              "</div>"
            ],
            "text/plain": [
              "                       Date  ...                                        Description\n",
              "count                   418  ...                                                418\n",
              "unique                  287  ...                                                411\n",
              "top     2017-02-08 00:00:00  ...  The employees Márcio and Sérgio performed the ...\n",
              "freq                      6  ...                                                  2\n",
              "\n",
              "[4 rows x 10 columns]"
            ]
          },
          "metadata": {},
          "execution_count": 22
        }
      ]
    },
    {
      "cell_type": "code",
      "metadata": {
        "id": "tneODFgN4cxg",
        "colab": {
          "base_uri": "https://localhost:8080/"
        },
        "outputId": "e63ce24f-2aac-4717-c7b2-f82ffa04782d"
      },
      "source": [
        "print(industry_df.Date.min())\n",
        "print(industry_df.Date.max())"
      ],
      "execution_count": 23,
      "outputs": [
        {
          "output_type": "stream",
          "name": "stdout",
          "text": [
            "2016-01-01 00:00:00\n",
            "2017-07-09 00:00:00\n"
          ]
        }
      ]
    },
    {
      "cell_type": "code",
      "metadata": {
        "id": "4HojFqRv4cxg",
        "colab": {
          "base_uri": "https://localhost:8080/",
          "height": 406
        },
        "outputId": "d362740f-5621-4d02-895a-a3099f4b5ae3"
      },
      "source": [
        "industry_df['Date'] = pd.to_datetime(industry_df['Date'])\n",
        "industry_df['Year'] = industry_df['Date'].apply(lambda x : x.year)\n",
        "industry_df['Month'] = industry_df['Date'].apply(lambda x : x.month)\n",
        "industry_df['Day'] = industry_df['Date'].apply(lambda x : x.day)\n",
        "industry_df['Weekday'] = industry_df['Date'].apply(lambda x : x.day_name())\n",
        "industry_df['WeekofYear'] = industry_df['Date'].apply(lambda x : x.weekofyear)\n",
        "industry_df.head(3)"
      ],
      "execution_count": 24,
      "outputs": [
        {
          "output_type": "execute_result",
          "data": {
            "text/html": [
              "<div>\n",
              "<style scoped>\n",
              "    .dataframe tbody tr th:only-of-type {\n",
              "        vertical-align: middle;\n",
              "    }\n",
              "\n",
              "    .dataframe tbody tr th {\n",
              "        vertical-align: top;\n",
              "    }\n",
              "\n",
              "    .dataframe thead th {\n",
              "        text-align: right;\n",
              "    }\n",
              "</style>\n",
              "<table border=\"1\" class=\"dataframe\">\n",
              "  <thead>\n",
              "    <tr style=\"text-align: right;\">\n",
              "      <th></th>\n",
              "      <th>Date</th>\n",
              "      <th>Country</th>\n",
              "      <th>Local</th>\n",
              "      <th>Industry Sector</th>\n",
              "      <th>Accident Level</th>\n",
              "      <th>Potential Accident Level</th>\n",
              "      <th>Gender</th>\n",
              "      <th>Employee type</th>\n",
              "      <th>Critical Risk</th>\n",
              "      <th>Description</th>\n",
              "      <th>Year</th>\n",
              "      <th>Month</th>\n",
              "      <th>Day</th>\n",
              "      <th>Weekday</th>\n",
              "      <th>WeekofYear</th>\n",
              "    </tr>\n",
              "  </thead>\n",
              "  <tbody>\n",
              "    <tr>\n",
              "      <th>0</th>\n",
              "      <td>2016-01-01</td>\n",
              "      <td>Country_01</td>\n",
              "      <td>Local_01</td>\n",
              "      <td>Mining</td>\n",
              "      <td>I</td>\n",
              "      <td>IV</td>\n",
              "      <td>Male</td>\n",
              "      <td>Third Party</td>\n",
              "      <td>Pressed</td>\n",
              "      <td>While removing the drill rod of the Jumbo 08 f...</td>\n",
              "      <td>2016</td>\n",
              "      <td>1</td>\n",
              "      <td>1</td>\n",
              "      <td>Friday</td>\n",
              "      <td>53</td>\n",
              "    </tr>\n",
              "    <tr>\n",
              "      <th>1</th>\n",
              "      <td>2016-01-02</td>\n",
              "      <td>Country_02</td>\n",
              "      <td>Local_02</td>\n",
              "      <td>Mining</td>\n",
              "      <td>I</td>\n",
              "      <td>IV</td>\n",
              "      <td>Male</td>\n",
              "      <td>Employee</td>\n",
              "      <td>Pressurized Systems</td>\n",
              "      <td>During the activation of a sodium sulphide pum...</td>\n",
              "      <td>2016</td>\n",
              "      <td>1</td>\n",
              "      <td>2</td>\n",
              "      <td>Saturday</td>\n",
              "      <td>53</td>\n",
              "    </tr>\n",
              "    <tr>\n",
              "      <th>2</th>\n",
              "      <td>2016-01-06</td>\n",
              "      <td>Country_01</td>\n",
              "      <td>Local_03</td>\n",
              "      <td>Mining</td>\n",
              "      <td>I</td>\n",
              "      <td>III</td>\n",
              "      <td>Male</td>\n",
              "      <td>Third Party (Remote)</td>\n",
              "      <td>Manual Tools</td>\n",
              "      <td>In the sub-station MILPO located at level +170...</td>\n",
              "      <td>2016</td>\n",
              "      <td>1</td>\n",
              "      <td>6</td>\n",
              "      <td>Wednesday</td>\n",
              "      <td>1</td>\n",
              "    </tr>\n",
              "  </tbody>\n",
              "</table>\n",
              "</div>"
            ],
            "text/plain": [
              "        Date     Country     Local  ... Day    Weekday WeekofYear\n",
              "0 2016-01-01  Country_01  Local_01  ...   1     Friday         53\n",
              "1 2016-01-02  Country_02  Local_02  ...   2   Saturday         53\n",
              "2 2016-01-06  Country_01  Local_03  ...   6  Wednesday          1\n",
              "\n",
              "[3 rows x 15 columns]"
            ]
          },
          "metadata": {},
          "execution_count": 24
        }
      ]
    },
    {
      "cell_type": "code",
      "metadata": {
        "id": "2_9VLApY4cxg"
      },
      "source": [
        "def month2seasons(x):\n",
        "    if x in [9, 10, 11]:\n",
        "        season = 'Spring'\n",
        "    elif x in [12, 1, 2]:\n",
        "        season = 'Summer'\n",
        "    elif x in [3, 4, 5]:\n",
        "        season = 'Autumn'\n",
        "    elif x in [6, 7, 8]:\n",
        "        season = 'Winter'\n",
        "    return season"
      ],
      "execution_count": 25,
      "outputs": []
    },
    {
      "cell_type": "code",
      "metadata": {
        "id": "QSezsoyk4cxh",
        "colab": {
          "base_uri": "https://localhost:8080/",
          "height": 406
        },
        "outputId": "cdc47a6e-7773-4f7f-800e-9a4c2383cc80"
      },
      "source": [
        "industry_df['Season'] = industry_df['Month'].apply(month2seasons)\n",
        "industry_df.head(3)"
      ],
      "execution_count": 26,
      "outputs": [
        {
          "output_type": "execute_result",
          "data": {
            "text/html": [
              "<div>\n",
              "<style scoped>\n",
              "    .dataframe tbody tr th:only-of-type {\n",
              "        vertical-align: middle;\n",
              "    }\n",
              "\n",
              "    .dataframe tbody tr th {\n",
              "        vertical-align: top;\n",
              "    }\n",
              "\n",
              "    .dataframe thead th {\n",
              "        text-align: right;\n",
              "    }\n",
              "</style>\n",
              "<table border=\"1\" class=\"dataframe\">\n",
              "  <thead>\n",
              "    <tr style=\"text-align: right;\">\n",
              "      <th></th>\n",
              "      <th>Date</th>\n",
              "      <th>Country</th>\n",
              "      <th>Local</th>\n",
              "      <th>Industry Sector</th>\n",
              "      <th>Accident Level</th>\n",
              "      <th>Potential Accident Level</th>\n",
              "      <th>Gender</th>\n",
              "      <th>Employee type</th>\n",
              "      <th>Critical Risk</th>\n",
              "      <th>Description</th>\n",
              "      <th>Year</th>\n",
              "      <th>Month</th>\n",
              "      <th>Day</th>\n",
              "      <th>Weekday</th>\n",
              "      <th>WeekofYear</th>\n",
              "      <th>Season</th>\n",
              "    </tr>\n",
              "  </thead>\n",
              "  <tbody>\n",
              "    <tr>\n",
              "      <th>0</th>\n",
              "      <td>2016-01-01</td>\n",
              "      <td>Country_01</td>\n",
              "      <td>Local_01</td>\n",
              "      <td>Mining</td>\n",
              "      <td>I</td>\n",
              "      <td>IV</td>\n",
              "      <td>Male</td>\n",
              "      <td>Third Party</td>\n",
              "      <td>Pressed</td>\n",
              "      <td>While removing the drill rod of the Jumbo 08 f...</td>\n",
              "      <td>2016</td>\n",
              "      <td>1</td>\n",
              "      <td>1</td>\n",
              "      <td>Friday</td>\n",
              "      <td>53</td>\n",
              "      <td>Summer</td>\n",
              "    </tr>\n",
              "    <tr>\n",
              "      <th>1</th>\n",
              "      <td>2016-01-02</td>\n",
              "      <td>Country_02</td>\n",
              "      <td>Local_02</td>\n",
              "      <td>Mining</td>\n",
              "      <td>I</td>\n",
              "      <td>IV</td>\n",
              "      <td>Male</td>\n",
              "      <td>Employee</td>\n",
              "      <td>Pressurized Systems</td>\n",
              "      <td>During the activation of a sodium sulphide pum...</td>\n",
              "      <td>2016</td>\n",
              "      <td>1</td>\n",
              "      <td>2</td>\n",
              "      <td>Saturday</td>\n",
              "      <td>53</td>\n",
              "      <td>Summer</td>\n",
              "    </tr>\n",
              "    <tr>\n",
              "      <th>2</th>\n",
              "      <td>2016-01-06</td>\n",
              "      <td>Country_01</td>\n",
              "      <td>Local_03</td>\n",
              "      <td>Mining</td>\n",
              "      <td>I</td>\n",
              "      <td>III</td>\n",
              "      <td>Male</td>\n",
              "      <td>Third Party (Remote)</td>\n",
              "      <td>Manual Tools</td>\n",
              "      <td>In the sub-station MILPO located at level +170...</td>\n",
              "      <td>2016</td>\n",
              "      <td>1</td>\n",
              "      <td>6</td>\n",
              "      <td>Wednesday</td>\n",
              "      <td>1</td>\n",
              "      <td>Summer</td>\n",
              "    </tr>\n",
              "  </tbody>\n",
              "</table>\n",
              "</div>"
            ],
            "text/plain": [
              "        Date     Country     Local  ...    Weekday WeekofYear  Season\n",
              "0 2016-01-01  Country_01  Local_01  ...     Friday         53  Summer\n",
              "1 2016-01-02  Country_02  Local_02  ...   Saturday         53  Summer\n",
              "2 2016-01-06  Country_01  Local_03  ...  Wednesday          1  Summer\n",
              "\n",
              "[3 rows x 16 columns]"
            ]
          },
          "metadata": {},
          "execution_count": 26
        }
      ]
    },
    {
      "cell_type": "code",
      "metadata": {
        "id": "SsZyEH6Q4cxh",
        "colab": {
          "base_uri": "https://localhost:8080/",
          "height": 238
        },
        "outputId": "a69ecc0a-7373-45e4-c82a-5a3cdddf8a9d"
      },
      "source": [
        "year_data = pd.DataFrame(industry_df.dtypes)\n",
        "year_data['NUnique']=industry_df.nunique()\n",
        "year_data.iloc[10:16]"
      ],
      "execution_count": 27,
      "outputs": [
        {
          "output_type": "execute_result",
          "data": {
            "text/html": [
              "<div>\n",
              "<style scoped>\n",
              "    .dataframe tbody tr th:only-of-type {\n",
              "        vertical-align: middle;\n",
              "    }\n",
              "\n",
              "    .dataframe tbody tr th {\n",
              "        vertical-align: top;\n",
              "    }\n",
              "\n",
              "    .dataframe thead th {\n",
              "        text-align: right;\n",
              "    }\n",
              "</style>\n",
              "<table border=\"1\" class=\"dataframe\">\n",
              "  <thead>\n",
              "    <tr style=\"text-align: right;\">\n",
              "      <th></th>\n",
              "      <th>0</th>\n",
              "      <th>NUnique</th>\n",
              "    </tr>\n",
              "  </thead>\n",
              "  <tbody>\n",
              "    <tr>\n",
              "      <th>Year</th>\n",
              "      <td>int64</td>\n",
              "      <td>2</td>\n",
              "    </tr>\n",
              "    <tr>\n",
              "      <th>Month</th>\n",
              "      <td>int64</td>\n",
              "      <td>12</td>\n",
              "    </tr>\n",
              "    <tr>\n",
              "      <th>Day</th>\n",
              "      <td>int64</td>\n",
              "      <td>31</td>\n",
              "    </tr>\n",
              "    <tr>\n",
              "      <th>Weekday</th>\n",
              "      <td>object</td>\n",
              "      <td>7</td>\n",
              "    </tr>\n",
              "    <tr>\n",
              "      <th>WeekofYear</th>\n",
              "      <td>int64</td>\n",
              "      <td>53</td>\n",
              "    </tr>\n",
              "    <tr>\n",
              "      <th>Season</th>\n",
              "      <td>object</td>\n",
              "      <td>4</td>\n",
              "    </tr>\n",
              "  </tbody>\n",
              "</table>\n",
              "</div>"
            ],
            "text/plain": [
              "                 0  NUnique\n",
              "Year         int64        2\n",
              "Month        int64       12\n",
              "Day          int64       31\n",
              "Weekday     object        7\n",
              "WeekofYear   int64       53\n",
              "Season      object        4"
            ]
          },
          "metadata": {},
          "execution_count": 27
        }
      ]
    },
    {
      "cell_type": "code",
      "metadata": {
        "id": "U2S2qqhC4cxi",
        "colab": {
          "base_uri": "https://localhost:8080/"
        },
        "outputId": "9cbee997-8492-457d-da11-6ff73c33a160"
      },
      "source": [
        "datelist = ['Year','Month','Day','Weekday','Season']\n",
        "for x in datelist:\n",
        "    print('--'*30); print(f'Unique values of \"{x}\" column'); print('--'*30)\n",
        "    print(industry_df[x].unique())\n",
        "    print(\"\\n\")"
      ],
      "execution_count": 28,
      "outputs": [
        {
          "output_type": "stream",
          "name": "stdout",
          "text": [
            "------------------------------------------------------------\n",
            "Unique values of \"Year\" column\n",
            "------------------------------------------------------------\n",
            "[2016 2017]\n",
            "\n",
            "\n",
            "------------------------------------------------------------\n",
            "Unique values of \"Month\" column\n",
            "------------------------------------------------------------\n",
            "[ 1  2  3  4  5  6  7  8  9 10 11 12]\n",
            "\n",
            "\n",
            "------------------------------------------------------------\n",
            "Unique values of \"Day\" column\n",
            "------------------------------------------------------------\n",
            "[ 1  2  6  8 10 12 16 17 19 26 28 30  4  7 21 25  9 15 14 13 20 18 22 24\n",
            " 29 27  3  5 11 31 23]\n",
            "\n",
            "\n",
            "------------------------------------------------------------\n",
            "Unique values of \"Weekday\" column\n",
            "------------------------------------------------------------\n",
            "['Friday' 'Saturday' 'Wednesday' 'Sunday' 'Tuesday' 'Thursday' 'Monday']\n",
            "\n",
            "\n",
            "------------------------------------------------------------\n",
            "Unique values of \"Season\" column\n",
            "------------------------------------------------------------\n",
            "['Summer' 'Autumn' 'Winter' 'Spring']\n",
            "\n",
            "\n"
          ]
        }
      ]
    },
    {
      "cell_type": "code",
      "metadata": {
        "id": "kxYYz8yepOev",
        "outputId": "16a58c72-48f2-4e00-984b-3938d686cf49",
        "colab": {
          "base_uri": "https://localhost:8080/",
          "height": 286
        }
      },
      "source": [
        "import NLP_text_preprocessing"
      ],
      "execution_count": 31,
      "outputs": [
        {
          "output_type": "error",
          "ename": "NameError",
          "evalue": "ignored",
          "traceback": [
            "\u001b[0;31m---------------------------------------------------------------------------\u001b[0m",
            "\u001b[0;31mNameError\u001b[0m                                 Traceback (most recent call last)",
            "\u001b[0;32m<ipython-input-31-84edf464dcd9>\u001b[0m in \u001b[0;36m<module>\u001b[0;34m()\u001b[0m\n\u001b[0;32m----> 1\u001b[0;31m \u001b[0;32mimport\u001b[0m \u001b[0mNLP_text_preprocessing\u001b[0m\u001b[0;34m\u001b[0m\u001b[0;34m\u001b[0m\u001b[0m\n\u001b[0m",
            "\u001b[0;32m/content/drive/MyDrive/AIML/Capstone/Jan-G4---NLP-Chatbot/NLP_text_preprocessing.py\u001b[0m in \u001b[0;36m<module>\u001b[0;34m()\u001b[0m\n\u001b[1;32m      7\u001b[0m       \u001b[0;34m\"provenance\"\u001b[0m\u001b[0;34m:\u001b[0m \u001b[0;34m[\u001b[0m\u001b[0;34m]\u001b[0m\u001b[0;34m,\u001b[0m\u001b[0;34m\u001b[0m\u001b[0;34m\u001b[0m\u001b[0m\n\u001b[1;32m      8\u001b[0m       \u001b[0;34m\"collapsed_sections\"\u001b[0m\u001b[0;34m:\u001b[0m \u001b[0;34m[\u001b[0m\u001b[0;34m]\u001b[0m\u001b[0;34m,\u001b[0m\u001b[0;34m\u001b[0m\u001b[0;34m\u001b[0m\u001b[0m\n\u001b[0;32m----> 9\u001b[0;31m       \u001b[0;34m\"include_colab_link\"\u001b[0m\u001b[0;34m:\u001b[0m \u001b[0mtrue\u001b[0m\u001b[0;34m\u001b[0m\u001b[0;34m\u001b[0m\u001b[0m\n\u001b[0m\u001b[1;32m     10\u001b[0m     },\n\u001b[1;32m     11\u001b[0m     \"kernelspec\": {\n",
            "\u001b[0;31mNameError\u001b[0m: name 'true' is not defined"
          ]
        }
      ]
    },
    {
      "cell_type": "code",
      "metadata": {
        "colab": {
          "base_uri": "https://localhost:8080/"
        },
        "id": "lbK5TgcARL-Z",
        "outputId": "decc68b5-8bd1-4931-a115-de1a08f7fc20"
      },
      "source": [
        "!pip install pyspellchecker"
      ],
      "execution_count": 29,
      "outputs": [
        {
          "output_type": "stream",
          "name": "stdout",
          "text": [
            "Collecting pyspellchecker\n",
            "  Downloading pyspellchecker-0.6.2-py3-none-any.whl (2.7 MB)\n",
            "\u001b[?25l\r\u001b[K     |▏                               | 10 kB 24.8 MB/s eta 0:00:01\r\u001b[K     |▎                               | 20 kB 25.7 MB/s eta 0:00:01\r\u001b[K     |▍                               | 30 kB 15.8 MB/s eta 0:00:01\r\u001b[K     |▌                               | 40 kB 17.6 MB/s eta 0:00:01\r\u001b[K     |▋                               | 51 kB 20.0 MB/s eta 0:00:01\r\u001b[K     |▊                               | 61 kB 22.3 MB/s eta 0:00:01\r\u001b[K     |▉                               | 71 kB 20.0 MB/s eta 0:00:01\r\u001b[K     |█                               | 81 kB 20.9 MB/s eta 0:00:01\r\u001b[K     |█                               | 92 kB 21.7 MB/s eta 0:00:01\r\u001b[K     |█▏                              | 102 kB 22.6 MB/s eta 0:00:01\r\u001b[K     |█▎                              | 112 kB 22.6 MB/s eta 0:00:01\r\u001b[K     |█▍                              | 122 kB 22.6 MB/s eta 0:00:01\r\u001b[K     |█▌                              | 133 kB 22.6 MB/s eta 0:00:01\r\u001b[K     |█▊                              | 143 kB 22.6 MB/s eta 0:00:01\r\u001b[K     |█▉                              | 153 kB 22.6 MB/s eta 0:00:01\r\u001b[K     |██                              | 163 kB 22.6 MB/s eta 0:00:01\r\u001b[K     |██                              | 174 kB 22.6 MB/s eta 0:00:01\r\u001b[K     |██▏                             | 184 kB 22.6 MB/s eta 0:00:01\r\u001b[K     |██▎                             | 194 kB 22.6 MB/s eta 0:00:01\r\u001b[K     |██▍                             | 204 kB 22.6 MB/s eta 0:00:01\r\u001b[K     |██▌                             | 215 kB 22.6 MB/s eta 0:00:01\r\u001b[K     |██▋                             | 225 kB 22.6 MB/s eta 0:00:01\r\u001b[K     |██▊                             | 235 kB 22.6 MB/s eta 0:00:01\r\u001b[K     |██▉                             | 245 kB 22.6 MB/s eta 0:00:01\r\u001b[K     |███                             | 256 kB 22.6 MB/s eta 0:00:01\r\u001b[K     |███                             | 266 kB 22.6 MB/s eta 0:00:01\r\u001b[K     |███▎                            | 276 kB 22.6 MB/s eta 0:00:01\r\u001b[K     |███▍                            | 286 kB 22.6 MB/s eta 0:00:01\r\u001b[K     |███▌                            | 296 kB 22.6 MB/s eta 0:00:01\r\u001b[K     |███▋                            | 307 kB 22.6 MB/s eta 0:00:01\r\u001b[K     |███▊                            | 317 kB 22.6 MB/s eta 0:00:01\r\u001b[K     |███▉                            | 327 kB 22.6 MB/s eta 0:00:01\r\u001b[K     |████                            | 337 kB 22.6 MB/s eta 0:00:01\r\u001b[K     |████                            | 348 kB 22.6 MB/s eta 0:00:01\r\u001b[K     |████▏                           | 358 kB 22.6 MB/s eta 0:00:01\r\u001b[K     |████▎                           | 368 kB 22.6 MB/s eta 0:00:01\r\u001b[K     |████▍                           | 378 kB 22.6 MB/s eta 0:00:01\r\u001b[K     |████▌                           | 389 kB 22.6 MB/s eta 0:00:01\r\u001b[K     |████▋                           | 399 kB 22.6 MB/s eta 0:00:01\r\u001b[K     |████▉                           | 409 kB 22.6 MB/s eta 0:00:01\r\u001b[K     |█████                           | 419 kB 22.6 MB/s eta 0:00:01\r\u001b[K     |█████                           | 430 kB 22.6 MB/s eta 0:00:01\r\u001b[K     |█████▏                          | 440 kB 22.6 MB/s eta 0:00:01\r\u001b[K     |█████▎                          | 450 kB 22.6 MB/s eta 0:00:01\r\u001b[K     |█████▍                          | 460 kB 22.6 MB/s eta 0:00:01\r\u001b[K     |█████▌                          | 471 kB 22.6 MB/s eta 0:00:01\r\u001b[K     |█████▋                          | 481 kB 22.6 MB/s eta 0:00:01\r\u001b[K     |█████▊                          | 491 kB 22.6 MB/s eta 0:00:01\r\u001b[K     |█████▉                          | 501 kB 22.6 MB/s eta 0:00:01\r\u001b[K     |██████                          | 512 kB 22.6 MB/s eta 0:00:01\r\u001b[K     |██████                          | 522 kB 22.6 MB/s eta 0:00:01\r\u001b[K     |██████▏                         | 532 kB 22.6 MB/s eta 0:00:01\r\u001b[K     |██████▍                         | 542 kB 22.6 MB/s eta 0:00:01\r\u001b[K     |██████▌                         | 552 kB 22.6 MB/s eta 0:00:01\r\u001b[K     |██████▋                         | 563 kB 22.6 MB/s eta 0:00:01\r\u001b[K     |██████▊                         | 573 kB 22.6 MB/s eta 0:00:01\r\u001b[K     |██████▉                         | 583 kB 22.6 MB/s eta 0:00:01\r\u001b[K     |███████                         | 593 kB 22.6 MB/s eta 0:00:01\r\u001b[K     |███████                         | 604 kB 22.6 MB/s eta 0:00:01\r\u001b[K     |███████▏                        | 614 kB 22.6 MB/s eta 0:00:01\r\u001b[K     |███████▎                        | 624 kB 22.6 MB/s eta 0:00:01\r\u001b[K     |███████▍                        | 634 kB 22.6 MB/s eta 0:00:01\r\u001b[K     |███████▌                        | 645 kB 22.6 MB/s eta 0:00:01\r\u001b[K     |███████▋                        | 655 kB 22.6 MB/s eta 0:00:01\r\u001b[K     |███████▊                        | 665 kB 22.6 MB/s eta 0:00:01\r\u001b[K     |████████                        | 675 kB 22.6 MB/s eta 0:00:01\r\u001b[K     |████████                        | 686 kB 22.6 MB/s eta 0:00:01\r\u001b[K     |████████▏                       | 696 kB 22.6 MB/s eta 0:00:01\r\u001b[K     |████████▎                       | 706 kB 22.6 MB/s eta 0:00:01\r\u001b[K     |████████▍                       | 716 kB 22.6 MB/s eta 0:00:01\r\u001b[K     |████████▌                       | 727 kB 22.6 MB/s eta 0:00:01\r\u001b[K     |████████▋                       | 737 kB 22.6 MB/s eta 0:00:01\r\u001b[K     |████████▊                       | 747 kB 22.6 MB/s eta 0:00:01\r\u001b[K     |████████▉                       | 757 kB 22.6 MB/s eta 0:00:01\r\u001b[K     |█████████                       | 768 kB 22.6 MB/s eta 0:00:01\r\u001b[K     |█████████                       | 778 kB 22.6 MB/s eta 0:00:01\r\u001b[K     |█████████▏                      | 788 kB 22.6 MB/s eta 0:00:01\r\u001b[K     |█████████▎                      | 798 kB 22.6 MB/s eta 0:00:01\r\u001b[K     |█████████▌                      | 808 kB 22.6 MB/s eta 0:00:01\r\u001b[K     |█████████▋                      | 819 kB 22.6 MB/s eta 0:00:01\r\u001b[K     |█████████▊                      | 829 kB 22.6 MB/s eta 0:00:01\r\u001b[K     |█████████▉                      | 839 kB 22.6 MB/s eta 0:00:01\r\u001b[K     |██████████                      | 849 kB 22.6 MB/s eta 0:00:01\r\u001b[K     |██████████                      | 860 kB 22.6 MB/s eta 0:00:01\r\u001b[K     |██████████▏                     | 870 kB 22.6 MB/s eta 0:00:01\r\u001b[K     |██████████▎                     | 880 kB 22.6 MB/s eta 0:00:01\r\u001b[K     |██████████▍                     | 890 kB 22.6 MB/s eta 0:00:01\r\u001b[K     |██████████▌                     | 901 kB 22.6 MB/s eta 0:00:01\r\u001b[K     |██████████▋                     | 911 kB 22.6 MB/s eta 0:00:01\r\u001b[K     |██████████▊                     | 921 kB 22.6 MB/s eta 0:00:01\r\u001b[K     |██████████▉                     | 931 kB 22.6 MB/s eta 0:00:01\r\u001b[K     |███████████                     | 942 kB 22.6 MB/s eta 0:00:01\r\u001b[K     |███████████▏                    | 952 kB 22.6 MB/s eta 0:00:01\r\u001b[K     |███████████▎                    | 962 kB 22.6 MB/s eta 0:00:01\r\u001b[K     |███████████▍                    | 972 kB 22.6 MB/s eta 0:00:01\r\u001b[K     |███████████▌                    | 983 kB 22.6 MB/s eta 0:00:01\r\u001b[K     |███████████▋                    | 993 kB 22.6 MB/s eta 0:00:01\r\u001b[K     |███████████▊                    | 1.0 MB 22.6 MB/s eta 0:00:01\r\u001b[K     |███████████▉                    | 1.0 MB 22.6 MB/s eta 0:00:01\r\u001b[K     |████████████                    | 1.0 MB 22.6 MB/s eta 0:00:01\r\u001b[K     |████████████                    | 1.0 MB 22.6 MB/s eta 0:00:01\r\u001b[K     |████████████▏                   | 1.0 MB 22.6 MB/s eta 0:00:01\r\u001b[K     |████████████▎                   | 1.1 MB 22.6 MB/s eta 0:00:01\r\u001b[K     |████████████▍                   | 1.1 MB 22.6 MB/s eta 0:00:01\r\u001b[K     |████████████▋                   | 1.1 MB 22.6 MB/s eta 0:00:01\r\u001b[K     |████████████▊                   | 1.1 MB 22.6 MB/s eta 0:00:01\r\u001b[K     |████████████▉                   | 1.1 MB 22.6 MB/s eta 0:00:01\r\u001b[K     |█████████████                   | 1.1 MB 22.6 MB/s eta 0:00:01\r\u001b[K     |█████████████                   | 1.1 MB 22.6 MB/s eta 0:00:01\r\u001b[K     |█████████████▏                  | 1.1 MB 22.6 MB/s eta 0:00:01\r\u001b[K     |█████████████▎                  | 1.1 MB 22.6 MB/s eta 0:00:01\r\u001b[K     |█████████████▍                  | 1.1 MB 22.6 MB/s eta 0:00:01\r\u001b[K     |█████████████▌                  | 1.2 MB 22.6 MB/s eta 0:00:01\r\u001b[K     |█████████████▋                  | 1.2 MB 22.6 MB/s eta 0:00:01\r\u001b[K     |█████████████▊                  | 1.2 MB 22.6 MB/s eta 0:00:01\r\u001b[K     |█████████████▉                  | 1.2 MB 22.6 MB/s eta 0:00:01\r\u001b[K     |██████████████                  | 1.2 MB 22.6 MB/s eta 0:00:01\r\u001b[K     |██████████████▏                 | 1.2 MB 22.6 MB/s eta 0:00:01\r\u001b[K     |██████████████▎                 | 1.2 MB 22.6 MB/s eta 0:00:01\r\u001b[K     |██████████████▍                 | 1.2 MB 22.6 MB/s eta 0:00:01\r\u001b[K     |██████████████▌                 | 1.2 MB 22.6 MB/s eta 0:00:01\r\u001b[K     |██████████████▋                 | 1.2 MB 22.6 MB/s eta 0:00:01\r\u001b[K     |██████████████▊                 | 1.3 MB 22.6 MB/s eta 0:00:01\r\u001b[K     |██████████████▉                 | 1.3 MB 22.6 MB/s eta 0:00:01\r\u001b[K     |███████████████                 | 1.3 MB 22.6 MB/s eta 0:00:01\r\u001b[K     |███████████████                 | 1.3 MB 22.6 MB/s eta 0:00:01\r\u001b[K     |███████████████▏                | 1.3 MB 22.6 MB/s eta 0:00:01\r\u001b[K     |███████████████▎                | 1.3 MB 22.6 MB/s eta 0:00:01\r\u001b[K     |███████████████▍                | 1.3 MB 22.6 MB/s eta 0:00:01\r\u001b[K     |███████████████▌                | 1.3 MB 22.6 MB/s eta 0:00:01\r\u001b[K     |███████████████▋                | 1.3 MB 22.6 MB/s eta 0:00:01\r\u001b[K     |███████████████▉                | 1.4 MB 22.6 MB/s eta 0:00:01\r\u001b[K     |████████████████                | 1.4 MB 22.6 MB/s eta 0:00:01\r\u001b[K     |████████████████                | 1.4 MB 22.6 MB/s eta 0:00:01\r\u001b[K     |████████████████▏               | 1.4 MB 22.6 MB/s eta 0:00:01\r\u001b[K     |████████████████▎               | 1.4 MB 22.6 MB/s eta 0:00:01\r\u001b[K     |████████████████▍               | 1.4 MB 22.6 MB/s eta 0:00:01\r\u001b[K     |████████████████▌               | 1.4 MB 22.6 MB/s eta 0:00:01\r\u001b[K     |████████████████▋               | 1.4 MB 22.6 MB/s eta 0:00:01\r\u001b[K     |████████████████▊               | 1.4 MB 22.6 MB/s eta 0:00:01\r\u001b[K     |████████████████▉               | 1.4 MB 22.6 MB/s eta 0:00:01\r\u001b[K     |█████████████████               | 1.5 MB 22.6 MB/s eta 0:00:01\r\u001b[K     |█████████████████               | 1.5 MB 22.6 MB/s eta 0:00:01\r\u001b[K     |█████████████████▏              | 1.5 MB 22.6 MB/s eta 0:00:01\r\u001b[K     |█████████████████▍              | 1.5 MB 22.6 MB/s eta 0:00:01\r\u001b[K     |█████████████████▌              | 1.5 MB 22.6 MB/s eta 0:00:01\r\u001b[K     |█████████████████▋              | 1.5 MB 22.6 MB/s eta 0:00:01\r\u001b[K     |█████████████████▊              | 1.5 MB 22.6 MB/s eta 0:00:01\r\u001b[K     |█████████████████▉              | 1.5 MB 22.6 MB/s eta 0:00:01\r\u001b[K     |██████████████████              | 1.5 MB 22.6 MB/s eta 0:00:01\r\u001b[K     |██████████████████              | 1.5 MB 22.6 MB/s eta 0:00:01\r\u001b[K     |██████████████████▏             | 1.6 MB 22.6 MB/s eta 0:00:01\r\u001b[K     |██████████████████▎             | 1.6 MB 22.6 MB/s eta 0:00:01\r\u001b[K     |██████████████████▍             | 1.6 MB 22.6 MB/s eta 0:00:01\r\u001b[K     |██████████████████▌             | 1.6 MB 22.6 MB/s eta 0:00:01\r\u001b[K     |██████████████████▋             | 1.6 MB 22.6 MB/s eta 0:00:01\r\u001b[K     |██████████████████▊             | 1.6 MB 22.6 MB/s eta 0:00:01\r\u001b[K     |███████████████████             | 1.6 MB 22.6 MB/s eta 0:00:01\r\u001b[K     |███████████████████             | 1.6 MB 22.6 MB/s eta 0:00:01\r\u001b[K     |███████████████████▏            | 1.6 MB 22.6 MB/s eta 0:00:01\r\u001b[K     |███████████████████▎            | 1.6 MB 22.6 MB/s eta 0:00:01\r\u001b[K     |███████████████████▍            | 1.7 MB 22.6 MB/s eta 0:00:01\r\u001b[K     |███████████████████▌            | 1.7 MB 22.6 MB/s eta 0:00:01\r\u001b[K     |███████████████████▋            | 1.7 MB 22.6 MB/s eta 0:00:01\r\u001b[K     |███████████████████▊            | 1.7 MB 22.6 MB/s eta 0:00:01\r\u001b[K     |███████████████████▉            | 1.7 MB 22.6 MB/s eta 0:00:01\r\u001b[K     |████████████████████            | 1.7 MB 22.6 MB/s eta 0:00:01\r\u001b[K     |████████████████████            | 1.7 MB 22.6 MB/s eta 0:00:01\r\u001b[K     |████████████████████▏           | 1.7 MB 22.6 MB/s eta 0:00:01\r\u001b[K     |████████████████████▎           | 1.7 MB 22.6 MB/s eta 0:00:01\r\u001b[K     |████████████████████▌           | 1.8 MB 22.6 MB/s eta 0:00:01\r\u001b[K     |████████████████████▋           | 1.8 MB 22.6 MB/s eta 0:00:01\r\u001b[K     |████████████████████▊           | 1.8 MB 22.6 MB/s eta 0:00:01\r\u001b[K     |████████████████████▉           | 1.8 MB 22.6 MB/s eta 0:00:01\r\u001b[K     |█████████████████████           | 1.8 MB 22.6 MB/s eta 0:00:01\r\u001b[K     |█████████████████████           | 1.8 MB 22.6 MB/s eta 0:00:01\r\u001b[K     |█████████████████████▏          | 1.8 MB 22.6 MB/s eta 0:00:01\r\u001b[K     |█████████████████████▎          | 1.8 MB 22.6 MB/s eta 0:00:01\r\u001b[K     |█████████████████████▍          | 1.8 MB 22.6 MB/s eta 0:00:01\r\u001b[K     |█████████████████████▌          | 1.8 MB 22.6 MB/s eta 0:00:01\r\u001b[K     |█████████████████████▋          | 1.9 MB 22.6 MB/s eta 0:00:01\r\u001b[K     |█████████████████████▊          | 1.9 MB 22.6 MB/s eta 0:00:01\r\u001b[K     |█████████████████████▉          | 1.9 MB 22.6 MB/s eta 0:00:01\r\u001b[K     |██████████████████████          | 1.9 MB 22.6 MB/s eta 0:00:01\r\u001b[K     |██████████████████████▏         | 1.9 MB 22.6 MB/s eta 0:00:01\r\u001b[K     |██████████████████████▎         | 1.9 MB 22.6 MB/s eta 0:00:01\r\u001b[K     |██████████████████████▍         | 1.9 MB 22.6 MB/s eta 0:00:01\r\u001b[K     |██████████████████████▌         | 1.9 MB 22.6 MB/s eta 0:00:01\r\u001b[K     |██████████████████████▋         | 1.9 MB 22.6 MB/s eta 0:00:01\r\u001b[K     |██████████████████████▊         | 1.9 MB 22.6 MB/s eta 0:00:01\r\u001b[K     |██████████████████████▉         | 2.0 MB 22.6 MB/s eta 0:00:01\r\u001b[K     |███████████████████████         | 2.0 MB 22.6 MB/s eta 0:00:01\r\u001b[K     |███████████████████████         | 2.0 MB 22.6 MB/s eta 0:00:01\r\u001b[K     |███████████████████████▏        | 2.0 MB 22.6 MB/s eta 0:00:01\r\u001b[K     |███████████████████████▎        | 2.0 MB 22.6 MB/s eta 0:00:01\r\u001b[K     |███████████████████████▍        | 2.0 MB 22.6 MB/s eta 0:00:01\r\u001b[K     |███████████████████████▋        | 2.0 MB 22.6 MB/s eta 0:00:01\r\u001b[K     |███████████████████████▊        | 2.0 MB 22.6 MB/s eta 0:00:01\r\u001b[K     |███████████████████████▉        | 2.0 MB 22.6 MB/s eta 0:00:01\r\u001b[K     |████████████████████████        | 2.0 MB 22.6 MB/s eta 0:00:01\r\u001b[K     |████████████████████████        | 2.1 MB 22.6 MB/s eta 0:00:01\r\u001b[K     |████████████████████████▏       | 2.1 MB 22.6 MB/s eta 0:00:01\r\u001b[K     |████████████████████████▎       | 2.1 MB 22.6 MB/s eta 0:00:01\r\u001b[K     |████████████████████████▍       | 2.1 MB 22.6 MB/s eta 0:00:01\r\u001b[K     |████████████████████████▌       | 2.1 MB 22.6 MB/s eta 0:00:01\r\u001b[K     |████████████████████████▋       | 2.1 MB 22.6 MB/s eta 0:00:01\r\u001b[K     |████████████████████████▊       | 2.1 MB 22.6 MB/s eta 0:00:01\r\u001b[K     |████████████████████████▉       | 2.1 MB 22.6 MB/s eta 0:00:01\r\u001b[K     |█████████████████████████       | 2.1 MB 22.6 MB/s eta 0:00:01\r\u001b[K     |█████████████████████████▏      | 2.2 MB 22.6 MB/s eta 0:00:01\r\u001b[K     |█████████████████████████▎      | 2.2 MB 22.6 MB/s eta 0:00:01\r\u001b[K     |█████████████████████████▍      | 2.2 MB 22.6 MB/s eta 0:00:01\r\u001b[K     |█████████████████████████▌      | 2.2 MB 22.6 MB/s eta 0:00:01\r\u001b[K     |█████████████████████████▋      | 2.2 MB 22.6 MB/s eta 0:00:01\r\u001b[K     |█████████████████████████▊      | 2.2 MB 22.6 MB/s eta 0:00:01\r\u001b[K     |█████████████████████████▉      | 2.2 MB 22.6 MB/s eta 0:00:01\r\u001b[K     |██████████████████████████      | 2.2 MB 22.6 MB/s eta 0:00:01\r\u001b[K     |██████████████████████████      | 2.2 MB 22.6 MB/s eta 0:00:01\r\u001b[K     |██████████████████████████▏     | 2.2 MB 22.6 MB/s eta 0:00:01\r\u001b[K     |██████████████████████████▎     | 2.3 MB 22.6 MB/s eta 0:00:01\r\u001b[K     |██████████████████████████▍     | 2.3 MB 22.6 MB/s eta 0:00:01\r\u001b[K     |██████████████████████████▌     | 2.3 MB 22.6 MB/s eta 0:00:01\r\u001b[K     |██████████████████████████▊     | 2.3 MB 22.6 MB/s eta 0:00:01\r\u001b[K     |██████████████████████████▉     | 2.3 MB 22.6 MB/s eta 0:00:01\r\u001b[K     |███████████████████████████     | 2.3 MB 22.6 MB/s eta 0:00:01\r\u001b[K     |███████████████████████████     | 2.3 MB 22.6 MB/s eta 0:00:01\r\u001b[K     |███████████████████████████▏    | 2.3 MB 22.6 MB/s eta 0:00:01\r\u001b[K     |███████████████████████████▎    | 2.3 MB 22.6 MB/s eta 0:00:01\r\u001b[K     |███████████████████████████▍    | 2.3 MB 22.6 MB/s eta 0:00:01\r\u001b[K     |███████████████████████████▌    | 2.4 MB 22.6 MB/s eta 0:00:01\r\u001b[K     |███████████████████████████▋    | 2.4 MB 22.6 MB/s eta 0:00:01\r\u001b[K     |███████████████████████████▊    | 2.4 MB 22.6 MB/s eta 0:00:01\r\u001b[K     |███████████████████████████▉    | 2.4 MB 22.6 MB/s eta 0:00:01\r\u001b[K     |████████████████████████████    | 2.4 MB 22.6 MB/s eta 0:00:01\r\u001b[K     |████████████████████████████    | 2.4 MB 22.6 MB/s eta 0:00:01\r\u001b[K     |████████████████████████████▎   | 2.4 MB 22.6 MB/s eta 0:00:01\r\u001b[K     |████████████████████████████▍   | 2.4 MB 22.6 MB/s eta 0:00:01\r\u001b[K     |████████████████████████████▌   | 2.4 MB 22.6 MB/s eta 0:00:01\r\u001b[K     |████████████████████████████▋   | 2.4 MB 22.6 MB/s eta 0:00:01\r\u001b[K     |████████████████████████████▊   | 2.5 MB 22.6 MB/s eta 0:00:01\r\u001b[K     |████████████████████████████▉   | 2.5 MB 22.6 MB/s eta 0:00:01\r\u001b[K     |█████████████████████████████   | 2.5 MB 22.6 MB/s eta 0:00:01\r\u001b[K     |█████████████████████████████   | 2.5 MB 22.6 MB/s eta 0:00:01\r\u001b[K     |█████████████████████████████▏  | 2.5 MB 22.6 MB/s eta 0:00:01\r\u001b[K     |█████████████████████████████▎  | 2.5 MB 22.6 MB/s eta 0:00:01\r\u001b[K     |█████████████████████████████▍  | 2.5 MB 22.6 MB/s eta 0:00:01\r\u001b[K     |█████████████████████████████▌  | 2.5 MB 22.6 MB/s eta 0:00:01\r\u001b[K     |█████████████████████████████▋  | 2.5 MB 22.6 MB/s eta 0:00:01\r\u001b[K     |█████████████████████████████▊  | 2.5 MB 22.6 MB/s eta 0:00:01\r\u001b[K     |██████████████████████████████  | 2.6 MB 22.6 MB/s eta 0:00:01\r\u001b[K     |██████████████████████████████  | 2.6 MB 22.6 MB/s eta 0:00:01\r\u001b[K     |██████████████████████████████▏ | 2.6 MB 22.6 MB/s eta 0:00:01\r\u001b[K     |██████████████████████████████▎ | 2.6 MB 22.6 MB/s eta 0:00:01\r\u001b[K     |██████████████████████████████▍ | 2.6 MB 22.6 MB/s eta 0:00:01\r\u001b[K     |██████████████████████████████▌ | 2.6 MB 22.6 MB/s eta 0:00:01\r\u001b[K     |██████████████████████████████▋ | 2.6 MB 22.6 MB/s eta 0:00:01\r\u001b[K     |██████████████████████████████▊ | 2.6 MB 22.6 MB/s eta 0:00:01\r\u001b[K     |██████████████████████████████▉ | 2.6 MB 22.6 MB/s eta 0:00:01\r\u001b[K     |███████████████████████████████ | 2.7 MB 22.6 MB/s eta 0:00:01\r\u001b[K     |███████████████████████████████ | 2.7 MB 22.6 MB/s eta 0:00:01\r\u001b[K     |███████████████████████████████▏| 2.7 MB 22.6 MB/s eta 0:00:01\r\u001b[K     |███████████████████████████████▎| 2.7 MB 22.6 MB/s eta 0:00:01\r\u001b[K     |███████████████████████████████▌| 2.7 MB 22.6 MB/s eta 0:00:01\r\u001b[K     |███████████████████████████████▋| 2.7 MB 22.6 MB/s eta 0:00:01\r\u001b[K     |███████████████████████████████▊| 2.7 MB 22.6 MB/s eta 0:00:01\r\u001b[K     |███████████████████████████████▉| 2.7 MB 22.6 MB/s eta 0:00:01\r\u001b[K     |████████████████████████████████| 2.7 MB 22.6 MB/s eta 0:00:01\r\u001b[K     |████████████████████████████████| 2.7 MB 22.6 MB/s \n",
            "\u001b[?25hInstalling collected packages: pyspellchecker\n",
            "Successfully installed pyspellchecker-0.6.2\n"
          ]
        }
      ]
    },
    {
      "cell_type": "code",
      "metadata": {
        "id": "Gvu_b-AhRQTx"
      },
      "source": [
        "from text_preprocessing import preprocess_text"
      ],
      "execution_count": 30,
      "outputs": []
    },
    {
      "cell_type": "code",
      "metadata": {
        "colab": {
          "base_uri": "https://localhost:8080/",
          "height": 70
        },
        "id": "eWtmpv9wSO6F",
        "outputId": "33415b54-b5d1-40ec-dd19-220ddd22c09f"
      },
      "source": [
        "industry_df.Description[1]"
      ],
      "execution_count": 31,
      "outputs": [
        {
          "output_type": "execute_result",
          "data": {
            "application/vnd.google.colaboratory.intrinsic+json": {
              "type": "string"
            },
            "text/plain": [
              "'During the activation of a sodium sulphide pump, the piping was uncoupled and the sulfide solution was designed in the area to reach the maid. Immediately she made use of the emergency shower and was directed to the ambulatory doctor and later to the hospital. Note: of sulphide solution = 48 grams / liter.'"
            ]
          },
          "metadata": {},
          "execution_count": 31
        }
      ]
    },
    {
      "cell_type": "code",
      "metadata": {
        "colab": {
          "base_uri": "https://localhost:8080/"
        },
        "id": "2Jid4CxARUtk",
        "outputId": "a87bcfd0-9a87-452a-aad3-c556a5938ec6"
      },
      "source": [
        "preprocessed_text = preprocess_text(industry_df.Description[1])\n",
        "print(preprocessed_text)"
      ],
      "execution_count": 32,
      "outputs": [
        {
          "output_type": "stream",
          "name": "stdout",
          "text": [
            "activation sodium sulphide pump piping uncoupled sulfide solution designed area reach maid immediately made use emergency shower directed ambulatory doctor later hospital note sulphide solution 48 gram liter\n"
          ]
        }
      ]
    },
    {
      "cell_type": "code",
      "metadata": {
        "id": "NDwt1NdsSZnt"
      },
      "source": [
        "from text_preprocessing import tokenize_word"
      ],
      "execution_count": 33,
      "outputs": []
    },
    {
      "cell_type": "code",
      "metadata": {
        "colab": {
          "base_uri": "https://localhost:8080/"
        },
        "id": "yahRyGyjSlya",
        "outputId": "b835f76d-8b67-41f0-b9cd-60e86efcef0b"
      },
      "source": [
        "tokenise_text = tokenize_word(industry_df.Description[1])\n",
        "print(tokenise_text)"
      ],
      "execution_count": 34,
      "outputs": [
        {
          "output_type": "stream",
          "name": "stdout",
          "text": [
            "['During', 'the', 'activation', 'of', 'a', 'sodium', 'sulphide', 'pump', ',', 'the', 'piping', 'was', 'uncoupled', 'and', 'the', 'sulfide', 'solution', 'was', 'designed', 'in', 'the', 'area', 'to', 'reach', 'the', 'maid', '.', 'Immediately', 'she', 'made', 'use', 'of', 'the', 'emergency', 'shower', 'and', 'was', 'directed', 'to', 'the', 'ambulatory', 'doctor', 'and', 'later', 'to', 'the', 'hospital', '.', 'Note', ':', 'of', 'sulphide', 'solution', '=', '48', 'grams', '/', 'liter', '.']\n"
          ]
        }
      ]
    },
    {
      "cell_type": "code",
      "metadata": {
        "colab": {
          "base_uri": "https://localhost:8080/",
          "height": 35
        },
        "id": "yMgxdFuoSu7w",
        "outputId": "e43eff3c-dfd6-4083-c42d-17bb472cea76"
      },
      "source": [
        "tokenise_text[2]"
      ],
      "execution_count": 35,
      "outputs": [
        {
          "output_type": "execute_result",
          "data": {
            "application/vnd.google.colaboratory.intrinsic+json": {
              "type": "string"
            },
            "text/plain": [
              "'activation'"
            ]
          },
          "metadata": {},
          "execution_count": 35
        }
      ]
    },
    {
      "cell_type": "code",
      "metadata": {
        "id": "SYJIGCA3SzOn",
        "colab": {
          "base_uri": "https://localhost:8080/"
        },
        "outputId": "ca91aff1-0463-4081-8ab8-b56210b5da7c"
      },
      "source": [
        "%%writefile config.py\n",
        "to_lower = True\n",
        "remove_url = True\n",
        "check_spelling = True"
      ],
      "execution_count": 48,
      "outputs": [
        {
          "output_type": "stream",
          "name": "stdout",
          "text": [
            "Overwriting config.py\n"
          ]
        }
      ]
    },
    {
      "cell_type": "code",
      "metadata": {
        "id": "IR9OuCzJdd8p"
      },
      "source": [
        "import config"
      ],
      "execution_count": 49,
      "outputs": []
    },
    {
      "cell_type": "code",
      "metadata": {
        "id": "7IAFBFtwdjve",
        "colab": {
          "base_uri": "https://localhost:8080/"
        },
        "outputId": "c5acdb95-0bc8-47de-ee8a-b2d29ff8f5df"
      },
      "source": [
        "config.remove_url"
      ],
      "execution_count": 51,
      "outputs": [
        {
          "output_type": "execute_result",
          "data": {
            "text/plain": [
              "False"
            ]
          },
          "metadata": {},
          "execution_count": 51
        }
      ]
    },
    {
      "cell_type": "code",
      "metadata": {
        "colab": {
          "base_uri": "https://localhost:8080/"
        },
        "id": "LySwQy6vI34c",
        "outputId": "c3c6acb8-7b03-4d4f-ed7a-a22d29fef948"
      },
      "source": [
        "%%writefile config.py\n",
        "[config]\n",
        "func_list = [1,2,3]"
      ],
      "execution_count": 85,
      "outputs": [
        {
          "output_type": "stream",
          "name": "stdout",
          "text": [
            "Overwriting config.py\n"
          ]
        }
      ]
    },
    {
      "cell_type": "markdown",
      "metadata": {
        "id": "p32Typ1nRUH7"
      },
      "source": [
        "remove_special_character, keep_alpha_numeric, remove_whitespace, remove_stopword, check_spelling, tokenize_word, tokenize_sentence, stem_word, lemmatize_word,substitute_token]"
      ]
    },
    {
      "cell_type": "code",
      "metadata": {
        "id": "Sg5G2EUQPk1p"
      },
      "source": [
        "import config"
      ],
      "execution_count": 87,
      "outputs": []
    },
    {
      "cell_type": "code",
      "metadata": {
        "colab": {
          "base_uri": "https://localhost:8080/"
        },
        "id": "g1AXBj5RPqVm",
        "outputId": "04825b0c-283c-4dae-bb8f-3df80055556e"
      },
      "source": [
        "!pip install configparser"
      ],
      "execution_count": 84,
      "outputs": [
        {
          "output_type": "stream",
          "name": "stdout",
          "text": [
            "Requirement already satisfied: configparser in /usr/local/lib/python3.7/dist-packages (5.1.0)\n"
          ]
        }
      ]
    },
    {
      "cell_type": "code",
      "metadata": {
        "id": "pHLVSuJqPyxJ"
      },
      "source": [
        "import configparser\n",
        "import json"
      ],
      "execution_count": 80,
      "outputs": []
    },
    {
      "cell_type": "code",
      "metadata": {
        "id": "qKr9-oiEPhhW"
      },
      "source": [
        "parser = configparser.ConfigParser()\n",
        "parser.read(\"configfile.py\")\n",
        "\n",
        "option_values = parser.get(\"config\", \"func_list\")\n",
        "option_value_list = json.loads(option_values)"
      ],
      "execution_count": 88,
      "outputs": []
    },
    {
      "cell_type": "code",
      "metadata": {
        "colab": {
          "base_uri": "https://localhost:8080/"
        },
        "id": "l3sRI-MjPo0W",
        "outputId": "9fccb83b-3457-4c5e-f111-0a78d06606b5"
      },
      "source": [
        "option_value_list"
      ],
      "execution_count": 89,
      "outputs": [
        {
          "output_type": "execute_result",
          "data": {
            "text/plain": [
              "[1, 2, 3]"
            ]
          },
          "metadata": {},
          "execution_count": 89
        }
      ]
    },
    {
      "cell_type": "code",
      "metadata": {
        "id": "0xoG_yIEQIfc"
      },
      "source": [
        ""
      ],
      "execution_count": null,
      "outputs": []
    }
  ]
}