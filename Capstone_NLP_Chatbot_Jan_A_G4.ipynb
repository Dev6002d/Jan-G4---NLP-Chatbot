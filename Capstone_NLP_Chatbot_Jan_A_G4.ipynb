{
  "nbformat": 4,
  "nbformat_minor": 0,
  "metadata": {
    "kernelspec": {
      "display_name": "Python 3",
      "language": "python",
      "name": "python3"
    },
    "language_info": {
      "codemirror_mode": {
        "name": "ipython",
        "version": 3
      },
      "file_extension": ".py",
      "mimetype": "text/x-python",
      "name": "python",
      "nbconvert_exporter": "python",
      "pygments_lexer": "ipython3",
      "version": "3.7.6"
    },
    "colab": {
      "name": "Capstone_NLP_Chatbot_Jan_A_G4.ipynb",
      "provenance": [],
      "collapsed_sections": [],
      "include_colab_link": true
    }
  },
  "cells": [
    {
      "cell_type": "markdown",
      "metadata": {
        "id": "view-in-github",
        "colab_type": "text"
      },
      "source": [
        "<a href=\"https://colab.research.google.com/github/shyamsparrow/Jan-G4---NLP-Chatbot/blob/main/Capstone_NLP_Chatbot_Jan_A_G4.ipynb\" target=\"_parent\"><img src=\"https://colab.research.google.com/assets/colab-badge.svg\" alt=\"Open In Colab\"/></a>"
      ]
    },
    {
      "cell_type": "markdown",
      "metadata": {
        "id": "9Yj3kJll4cxT"
      },
      "source": [
        "# Capstone Project - NLP Chatbot\n",
        "\n",
        "### DOMAIN: \n",
        "Industrial safety. NLP based Chatbot.\n",
        "\n",
        "### CONTEXT:\n",
        "The database comes from one of the biggest industry in Brazil and in the world. It is an urgent need for industries/companies around the globe to understand why employees still suffer some injuries/accidents in plants. Sometimes they also die in such environment.\n",
        "\n",
        "### DATA DESCRIPTION:\n",
        "This The database is basically records of accidents from 12 different plants in 03 different countries which every line in the data is an occurrence of an accident.\n",
        "\n",
        "### Columns description:\n",
        "* Data: timestamp or time/date information\n",
        "* Countries: which country the accident occurred (anonymised)\n",
        "* Local: the city where the manufacturing plant is located (anonymised)\n",
        "* Industry sector: which sector the plant belongs to\n",
        "* Accident level: from I to VI, it registers how severe was the accident (I means not severe but VI means very severe)\n",
        "* Potential Accident Level: Depending on the Accident Level, the database also registers how severe the accident could have   been (due to other factors involved in the accident)\n",
        "* Gender: if the person is male of female\n",
        "* Employee or Third Party: if the injured person is an employee or a third party\n",
        "* Critical Risk: some description of the risk involved in the accident\n",
        "* Description: Detailed description of how the accident happened.\n",
        "\n",
        "Link to download the dataset: https://drive.google.com/file/d/1_GmrRP1S2OIa02KlfOBNkYa8uxazGbfE/view?usp=sharing,\n",
        "Original dataset link: https://www.kaggle.com/ihmstefanini/industrial-safety-and-health-analytics-database\n",
        "\n",
        "### PROJECT OBJECTIVE:\n",
        "Design a ML/DL based chatbot utility which can help the professionals to highlight the safety risk as per the incident description."
      ]
    },
    {
      "cell_type": "markdown",
      "metadata": {
        "id": "AGtn39ggQEsF"
      },
      "source": [
        "# New Section"
      ]
    },
    {
      "cell_type": "code",
      "metadata": {
        "colab": {
          "base_uri": "https://localhost:8080/"
        },
        "id": "rxQAj48kLi3F",
        "outputId": "507525fa-4622-4f16-9a7e-42e8917e2f03"
      },
      "source": [
        "from google.colab import drive\n",
        "drive.mount('/content/gdrive')"
      ],
      "execution_count": null,
      "outputs": [
        {
          "output_type": "stream",
          "name": "stdout",
          "text": [
            "Mounted at /content/gdrive\n"
          ]
        }
      ]
    },
    {
      "cell_type": "code",
      "metadata": {
        "id": "wwhw9SyePdXo",
        "colab": {
          "base_uri": "https://localhost:8080/"
        },
        "outputId": "cd6d07b1-89f1-4065-82d0-b6c0908fab50"
      },
      "source": [
        "%cd /content/gdrive/MyDrive/AIML/Capstone"
      ],
      "execution_count": 6,
      "outputs": [
        {
          "output_type": "stream",
          "name": "stdout",
          "text": [
            "/content/gdrive/MyDrive/AIML/Capstone\n"
          ]
        }
      ]
    },
    {
      "cell_type": "code",
      "metadata": {
        "colab": {
          "base_uri": "https://localhost:8080/"
        },
        "id": "02mIR5BkLrQM",
        "outputId": "d546e5fb-bbb1-4df0-d1a4-32dd28d28eb0"
      },
      "source": [
        "! git clone https://github.com/shyamsparrow/Jan-G4---NLP-Chatbot.git"
      ],
      "execution_count": 7,
      "outputs": [
        {
          "output_type": "stream",
          "name": "stdout",
          "text": [
            "Cloning into 'Jan-G4---NLP-Chatbot'...\n",
            "remote: Enumerating objects: 60, done.\u001b[K\n",
            "remote: Counting objects: 100% (60/60), done.\u001b[K\n",
            "remote: Compressing objects: 100% (56/56), done.\u001b[K\n",
            "remote: Total 60 (delta 20), reused 0 (delta 0), pack-reused 0\u001b[K\n",
            "Unpacking objects: 100% (60/60), done.\n"
          ]
        }
      ]
    },
    {
      "cell_type": "code",
      "metadata": {
        "id": "d4CkHgK24cxV"
      },
      "source": [
        "import warnings\n",
        "warnings.filterwarnings('ignore')\n",
        "\n",
        "import tensorflow as tf\n",
        "from tensorflow import keras\n",
        "from keras.datasets import imdb\n",
        "from keras.preprocessing import sequence\n",
        "from keras.models import Sequential\n",
        "from keras.layers import Dense\n",
        "from keras.layers.embeddings import Embedding\n",
        "from keras.layers import Flatten\n",
        "from keras.callbacks import EarlyStopping\n",
        "from wordcloud import WordCloud,STOPWORDS\n",
        "import nltk\n",
        "from nltk.corpus import stopwords\n",
        "from bs4 import BeautifulSoup\n",
        "import string\n",
        "import numpy as np\n",
        "import pandas as pd\n",
        "import seaborn as sns\n",
        "import matplotlib.pyplot as plt\n",
        "import re"
      ],
      "execution_count": 8,
      "outputs": []
    },
    {
      "cell_type": "code",
      "metadata": {
        "id": "KHfbdf5t4cxY",
        "colab": {
          "base_uri": "https://localhost:8080/"
        },
        "outputId": "532f729f-ed90-4e7a-a483-3ab658336373"
      },
      "source": [
        "url = \"Jan-G4---NLP-Chatbot/Data Set - industrial_safety_and_health_database_with_accidents_description.csv\"\n",
        "industry_df = pd.read_csv(url, index_col = 0)\n",
        "industry_df.head"
      ],
      "execution_count": 10,
      "outputs": [
        {
          "output_type": "execute_result",
          "data": {
            "text/plain": [
              "<bound method NDFrame.head of                     Data  ...                                        Description\n",
              "0    2016-01-01 00:00:00  ...  While removing the drill rod of the Jumbo 08 f...\n",
              "1    2016-01-02 00:00:00  ...  During the activation of a sodium sulphide pum...\n",
              "2    2016-01-06 00:00:00  ...  In the sub-station MILPO located at level +170...\n",
              "3    2016-01-08 00:00:00  ...  Being 9:45 am. approximately in the Nv. 1880 C...\n",
              "4    2016-01-10 00:00:00  ...  Approximately at 11:45 a.m. in circumstances t...\n",
              "..                   ...  ...                                                ...\n",
              "434  2017-07-04 00:00:00  ...  Being approximately 5:00 a.m. approximately, w...\n",
              "435  2017-07-04 00:00:00  ...  The collaborator moved from the infrastructure...\n",
              "436  2017-07-05 00:00:00  ...  During the environmental monitoring activity i...\n",
              "437  2017-07-06 00:00:00  ...  The Employee performed the activity of strippi...\n",
              "438  2017-07-09 00:00:00  ...  At 10:00 a.m., when the assistant cleaned the ...\n",
              "\n",
              "[425 rows x 10 columns]>"
            ]
          },
          "metadata": {},
          "execution_count": 10
        }
      ]
    },
    {
      "cell_type": "code",
      "metadata": {
        "id": "D9rdU9F-4cxY",
        "colab": {
          "base_uri": "https://localhost:8080/"
        },
        "outputId": "fa8bbe51-dfea-4a77-fdf0-ceead465c88a"
      },
      "source": [
        "industry_df.shape"
      ],
      "execution_count": 11,
      "outputs": [
        {
          "output_type": "execute_result",
          "data": {
            "text/plain": [
              "(425, 10)"
            ]
          },
          "metadata": {},
          "execution_count": 11
        }
      ]
    },
    {
      "cell_type": "code",
      "metadata": {
        "id": "aYREgrh_4cxZ",
        "colab": {
          "base_uri": "https://localhost:8080/",
          "height": 209
        },
        "outputId": "c417ec70-5831-435c-ff50-35c69ed4ac90"
      },
      "source": [
        "industry_df.rename(columns={'Data':'Date', 'Countries':'Country', 'Genre':'Gender', 'Employee or Third Party':'Employee type'}, inplace=True)\n",
        "industry_df.head(3)"
      ],
      "execution_count": 12,
      "outputs": [
        {
          "output_type": "execute_result",
          "data": {
            "text/html": [
              "<div>\n",
              "<style scoped>\n",
              "    .dataframe tbody tr th:only-of-type {\n",
              "        vertical-align: middle;\n",
              "    }\n",
              "\n",
              "    .dataframe tbody tr th {\n",
              "        vertical-align: top;\n",
              "    }\n",
              "\n",
              "    .dataframe thead th {\n",
              "        text-align: right;\n",
              "    }\n",
              "</style>\n",
              "<table border=\"1\" class=\"dataframe\">\n",
              "  <thead>\n",
              "    <tr style=\"text-align: right;\">\n",
              "      <th></th>\n",
              "      <th>Date</th>\n",
              "      <th>Country</th>\n",
              "      <th>Local</th>\n",
              "      <th>Industry Sector</th>\n",
              "      <th>Accident Level</th>\n",
              "      <th>Potential Accident Level</th>\n",
              "      <th>Gender</th>\n",
              "      <th>Employee type</th>\n",
              "      <th>Critical Risk</th>\n",
              "      <th>Description</th>\n",
              "    </tr>\n",
              "  </thead>\n",
              "  <tbody>\n",
              "    <tr>\n",
              "      <th>0</th>\n",
              "      <td>2016-01-01 00:00:00</td>\n",
              "      <td>Country_01</td>\n",
              "      <td>Local_01</td>\n",
              "      <td>Mining</td>\n",
              "      <td>I</td>\n",
              "      <td>IV</td>\n",
              "      <td>Male</td>\n",
              "      <td>Third Party</td>\n",
              "      <td>Pressed</td>\n",
              "      <td>While removing the drill rod of the Jumbo 08 f...</td>\n",
              "    </tr>\n",
              "    <tr>\n",
              "      <th>1</th>\n",
              "      <td>2016-01-02 00:00:00</td>\n",
              "      <td>Country_02</td>\n",
              "      <td>Local_02</td>\n",
              "      <td>Mining</td>\n",
              "      <td>I</td>\n",
              "      <td>IV</td>\n",
              "      <td>Male</td>\n",
              "      <td>Employee</td>\n",
              "      <td>Pressurized Systems</td>\n",
              "      <td>During the activation of a sodium sulphide pum...</td>\n",
              "    </tr>\n",
              "    <tr>\n",
              "      <th>2</th>\n",
              "      <td>2016-01-06 00:00:00</td>\n",
              "      <td>Country_01</td>\n",
              "      <td>Local_03</td>\n",
              "      <td>Mining</td>\n",
              "      <td>I</td>\n",
              "      <td>III</td>\n",
              "      <td>Male</td>\n",
              "      <td>Third Party (Remote)</td>\n",
              "      <td>Manual Tools</td>\n",
              "      <td>In the sub-station MILPO located at level +170...</td>\n",
              "    </tr>\n",
              "  </tbody>\n",
              "</table>\n",
              "</div>"
            ],
            "text/plain": [
              "                  Date  ...                                        Description\n",
              "0  2016-01-01 00:00:00  ...  While removing the drill rod of the Jumbo 08 f...\n",
              "1  2016-01-02 00:00:00  ...  During the activation of a sodium sulphide pum...\n",
              "2  2016-01-06 00:00:00  ...  In the sub-station MILPO located at level +170...\n",
              "\n",
              "[3 rows x 10 columns]"
            ]
          },
          "metadata": {},
          "execution_count": 12
        }
      ]
    },
    {
      "cell_type": "code",
      "metadata": {
        "id": "PL6vwoTB4cxa",
        "colab": {
          "base_uri": "https://localhost:8080/",
          "height": 357
        },
        "outputId": "95c94e43-9464-4fac-fd62-61e4b54c37b4"
      },
      "source": [
        "datatype = pd.DataFrame(industry_df.dtypes)\n",
        "datatype['MissingVal'] = industry_df.isnull().sum()\n",
        "datatype['NUnique']=industry_df.nunique()\n",
        "datatype"
      ],
      "execution_count": 13,
      "outputs": [
        {
          "output_type": "execute_result",
          "data": {
            "text/html": [
              "<div>\n",
              "<style scoped>\n",
              "    .dataframe tbody tr th:only-of-type {\n",
              "        vertical-align: middle;\n",
              "    }\n",
              "\n",
              "    .dataframe tbody tr th {\n",
              "        vertical-align: top;\n",
              "    }\n",
              "\n",
              "    .dataframe thead th {\n",
              "        text-align: right;\n",
              "    }\n",
              "</style>\n",
              "<table border=\"1\" class=\"dataframe\">\n",
              "  <thead>\n",
              "    <tr style=\"text-align: right;\">\n",
              "      <th></th>\n",
              "      <th>0</th>\n",
              "      <th>MissingVal</th>\n",
              "      <th>NUnique</th>\n",
              "    </tr>\n",
              "  </thead>\n",
              "  <tbody>\n",
              "    <tr>\n",
              "      <th>Date</th>\n",
              "      <td>object</td>\n",
              "      <td>0</td>\n",
              "      <td>287</td>\n",
              "    </tr>\n",
              "    <tr>\n",
              "      <th>Country</th>\n",
              "      <td>object</td>\n",
              "      <td>0</td>\n",
              "      <td>3</td>\n",
              "    </tr>\n",
              "    <tr>\n",
              "      <th>Local</th>\n",
              "      <td>object</td>\n",
              "      <td>0</td>\n",
              "      <td>12</td>\n",
              "    </tr>\n",
              "    <tr>\n",
              "      <th>Industry Sector</th>\n",
              "      <td>object</td>\n",
              "      <td>0</td>\n",
              "      <td>3</td>\n",
              "    </tr>\n",
              "    <tr>\n",
              "      <th>Accident Level</th>\n",
              "      <td>object</td>\n",
              "      <td>0</td>\n",
              "      <td>5</td>\n",
              "    </tr>\n",
              "    <tr>\n",
              "      <th>Potential Accident Level</th>\n",
              "      <td>object</td>\n",
              "      <td>0</td>\n",
              "      <td>6</td>\n",
              "    </tr>\n",
              "    <tr>\n",
              "      <th>Gender</th>\n",
              "      <td>object</td>\n",
              "      <td>0</td>\n",
              "      <td>2</td>\n",
              "    </tr>\n",
              "    <tr>\n",
              "      <th>Employee type</th>\n",
              "      <td>object</td>\n",
              "      <td>0</td>\n",
              "      <td>3</td>\n",
              "    </tr>\n",
              "    <tr>\n",
              "      <th>Critical Risk</th>\n",
              "      <td>object</td>\n",
              "      <td>0</td>\n",
              "      <td>33</td>\n",
              "    </tr>\n",
              "    <tr>\n",
              "      <th>Description</th>\n",
              "      <td>object</td>\n",
              "      <td>0</td>\n",
              "      <td>411</td>\n",
              "    </tr>\n",
              "  </tbody>\n",
              "</table>\n",
              "</div>"
            ],
            "text/plain": [
              "                               0  MissingVal  NUnique\n",
              "Date                      object           0      287\n",
              "Country                   object           0        3\n",
              "Local                     object           0       12\n",
              "Industry Sector           object           0        3\n",
              "Accident Level            object           0        5\n",
              "Potential Accident Level  object           0        6\n",
              "Gender                    object           0        2\n",
              "Employee type             object           0        3\n",
              "Critical Risk             object           0       33\n",
              "Description               object           0      411"
            ]
          },
          "metadata": {},
          "execution_count": 13
        }
      ]
    },
    {
      "cell_type": "code",
      "metadata": {
        "id": "GR0nfCRk4cxa",
        "colab": {
          "base_uri": "https://localhost:8080/"
        },
        "outputId": "7deb8c4f-afc4-4b57-89db-ecfe77c13d5f"
      },
      "source": [
        "for x in industry_df.columns:\n",
        "    if x != 'Description' and x != 'Date':\n",
        "        print('--'*30); print(f'Unique values of \"{x}\" column'); print('--'*30)\n",
        "        print(industry_df[x].unique())\n",
        "        print(\"\\n\")"
      ],
      "execution_count": 14,
      "outputs": [
        {
          "output_type": "stream",
          "name": "stdout",
          "text": [
            "------------------------------------------------------------\n",
            "Unique values of \"Country\" column\n",
            "------------------------------------------------------------\n",
            "['Country_01' 'Country_02' 'Country_03']\n",
            "\n",
            "\n",
            "------------------------------------------------------------\n",
            "Unique values of \"Local\" column\n",
            "------------------------------------------------------------\n",
            "['Local_01' 'Local_02' 'Local_03' 'Local_04' 'Local_05' 'Local_06'\n",
            " 'Local_07' 'Local_08' 'Local_10' 'Local_09' 'Local_11' 'Local_12']\n",
            "\n",
            "\n",
            "------------------------------------------------------------\n",
            "Unique values of \"Industry Sector\" column\n",
            "------------------------------------------------------------\n",
            "['Mining' 'Metals' 'Others']\n",
            "\n",
            "\n",
            "------------------------------------------------------------\n",
            "Unique values of \"Accident Level\" column\n",
            "------------------------------------------------------------\n",
            "['I' 'IV' 'III' 'II' 'V']\n",
            "\n",
            "\n",
            "------------------------------------------------------------\n",
            "Unique values of \"Potential Accident Level\" column\n",
            "------------------------------------------------------------\n",
            "['IV' 'III' 'I' 'II' 'V' 'VI']\n",
            "\n",
            "\n",
            "------------------------------------------------------------\n",
            "Unique values of \"Gender\" column\n",
            "------------------------------------------------------------\n",
            "['Male' 'Female']\n",
            "\n",
            "\n",
            "------------------------------------------------------------\n",
            "Unique values of \"Employee type\" column\n",
            "------------------------------------------------------------\n",
            "['Third Party' 'Employee' 'Third Party (Remote)']\n",
            "\n",
            "\n",
            "------------------------------------------------------------\n",
            "Unique values of \"Critical Risk\" column\n",
            "------------------------------------------------------------\n",
            "['Pressed' 'Pressurized Systems' 'Manual Tools' 'Others'\n",
            " 'Fall prevention (same level)' 'Chemical substances' 'Liquid Metal'\n",
            " 'Electrical installation' 'Confined space'\n",
            " 'Pressurized Systems / Chemical Substances'\n",
            " 'Blocking and isolation of energies' 'Suspended Loads' 'Poll' 'Cut'\n",
            " 'Fall' 'Bees' 'Fall prevention' '\\nNot applicable' 'Traffic' 'Projection'\n",
            " 'Venomous Animals' 'Plates' 'Projection/Burning' 'remains of choco'\n",
            " 'Vehicles and Mobile Equipment' 'Projection/Choco' 'Machine Protection'\n",
            " 'Power lock' 'Burn' 'Projection/Manual Tools'\n",
            " 'Individual protection equipment' 'Electrical Shock'\n",
            " 'Projection of fragments']\n",
            "\n",
            "\n"
          ]
        }
      ]
    },
    {
      "cell_type": "code",
      "metadata": {
        "id": "7oCyL5VN4cxb",
        "colab": {
          "base_uri": "https://localhost:8080/"
        },
        "outputId": "378dd8ba-539f-4221-f057-d5e670c16905"
      },
      "source": [
        "industry_df.duplicated().sum()"
      ],
      "execution_count": 15,
      "outputs": [
        {
          "output_type": "execute_result",
          "data": {
            "text/plain": [
              "7"
            ]
          },
          "metadata": {},
          "execution_count": 15
        }
      ]
    },
    {
      "cell_type": "code",
      "metadata": {
        "id": "6gWfoqac4cxe",
        "colab": {
          "base_uri": "https://localhost:8080/",
          "height": 399
        },
        "outputId": "871ac089-5937-4047-98b1-efd77fe3f314"
      },
      "source": [
        "duplicates = industry_df.duplicated()\n",
        "\n",
        "industry_df[duplicates]"
      ],
      "execution_count": 16,
      "outputs": [
        {
          "output_type": "execute_result",
          "data": {
            "text/html": [
              "<div>\n",
              "<style scoped>\n",
              "    .dataframe tbody tr th:only-of-type {\n",
              "        vertical-align: middle;\n",
              "    }\n",
              "\n",
              "    .dataframe tbody tr th {\n",
              "        vertical-align: top;\n",
              "    }\n",
              "\n",
              "    .dataframe thead th {\n",
              "        text-align: right;\n",
              "    }\n",
              "</style>\n",
              "<table border=\"1\" class=\"dataframe\">\n",
              "  <thead>\n",
              "    <tr style=\"text-align: right;\">\n",
              "      <th></th>\n",
              "      <th>Date</th>\n",
              "      <th>Country</th>\n",
              "      <th>Local</th>\n",
              "      <th>Industry Sector</th>\n",
              "      <th>Accident Level</th>\n",
              "      <th>Potential Accident Level</th>\n",
              "      <th>Gender</th>\n",
              "      <th>Employee type</th>\n",
              "      <th>Critical Risk</th>\n",
              "      <th>Description</th>\n",
              "    </tr>\n",
              "  </thead>\n",
              "  <tbody>\n",
              "    <tr>\n",
              "      <th>89</th>\n",
              "      <td>2016-04-01 00:00:00</td>\n",
              "      <td>Country_01</td>\n",
              "      <td>Local_01</td>\n",
              "      <td>Mining</td>\n",
              "      <td>I</td>\n",
              "      <td>V</td>\n",
              "      <td>Male</td>\n",
              "      <td>Third Party (Remote)</td>\n",
              "      <td>Others</td>\n",
              "      <td>In circumstances that two workers of the Abrat...</td>\n",
              "    </tr>\n",
              "    <tr>\n",
              "      <th>276</th>\n",
              "      <td>2016-12-01 00:00:00</td>\n",
              "      <td>Country_01</td>\n",
              "      <td>Local_03</td>\n",
              "      <td>Mining</td>\n",
              "      <td>I</td>\n",
              "      <td>IV</td>\n",
              "      <td>Male</td>\n",
              "      <td>Employee</td>\n",
              "      <td>Others</td>\n",
              "      <td>During the activity of chuteo of ore in hopper...</td>\n",
              "    </tr>\n",
              "    <tr>\n",
              "      <th>317</th>\n",
              "      <td>2017-01-21 00:00:00</td>\n",
              "      <td>Country_02</td>\n",
              "      <td>Local_02</td>\n",
              "      <td>Mining</td>\n",
              "      <td>I</td>\n",
              "      <td>I</td>\n",
              "      <td>Male</td>\n",
              "      <td>Third Party (Remote)</td>\n",
              "      <td>Others</td>\n",
              "      <td>Employees engaged in the removal of material f...</td>\n",
              "    </tr>\n",
              "    <tr>\n",
              "      <th>359</th>\n",
              "      <td>2017-03-02 00:00:00</td>\n",
              "      <td>Country_03</td>\n",
              "      <td>Local_10</td>\n",
              "      <td>Others</td>\n",
              "      <td>I</td>\n",
              "      <td>I</td>\n",
              "      <td>Male</td>\n",
              "      <td>Third Party</td>\n",
              "      <td>Venomous Animals</td>\n",
              "      <td>On 02/03/17 during the soil sampling in the re...</td>\n",
              "    </tr>\n",
              "    <tr>\n",
              "      <th>360</th>\n",
              "      <td>2017-03-02 00:00:00</td>\n",
              "      <td>Country_03</td>\n",
              "      <td>Local_10</td>\n",
              "      <td>Others</td>\n",
              "      <td>I</td>\n",
              "      <td>I</td>\n",
              "      <td>Male</td>\n",
              "      <td>Third Party</td>\n",
              "      <td>Venomous Animals</td>\n",
              "      <td>On 02/03/17 during the soil sampling in the re...</td>\n",
              "    </tr>\n",
              "    <tr>\n",
              "      <th>369</th>\n",
              "      <td>2017-03-15 00:00:00</td>\n",
              "      <td>Country_03</td>\n",
              "      <td>Local_10</td>\n",
              "      <td>Others</td>\n",
              "      <td>I</td>\n",
              "      <td>I</td>\n",
              "      <td>Male</td>\n",
              "      <td>Third Party</td>\n",
              "      <td>Venomous Animals</td>\n",
              "      <td>Team of the VMS Project performed soil collect...</td>\n",
              "    </tr>\n",
              "    <tr>\n",
              "      <th>411</th>\n",
              "      <td>2017-05-23 00:00:00</td>\n",
              "      <td>Country_01</td>\n",
              "      <td>Local_04</td>\n",
              "      <td>Mining</td>\n",
              "      <td>I</td>\n",
              "      <td>IV</td>\n",
              "      <td>Male</td>\n",
              "      <td>Third Party</td>\n",
              "      <td>Projection of fragments</td>\n",
              "      <td>In moments when the 02 collaborators carried o...</td>\n",
              "    </tr>\n",
              "  </tbody>\n",
              "</table>\n",
              "</div>"
            ],
            "text/plain": [
              "                    Date  ...                                        Description\n",
              "89   2016-04-01 00:00:00  ...  In circumstances that two workers of the Abrat...\n",
              "276  2016-12-01 00:00:00  ...  During the activity of chuteo of ore in hopper...\n",
              "317  2017-01-21 00:00:00  ...  Employees engaged in the removal of material f...\n",
              "359  2017-03-02 00:00:00  ...  On 02/03/17 during the soil sampling in the re...\n",
              "360  2017-03-02 00:00:00  ...  On 02/03/17 during the soil sampling in the re...\n",
              "369  2017-03-15 00:00:00  ...  Team of the VMS Project performed soil collect...\n",
              "411  2017-05-23 00:00:00  ...  In moments when the 02 collaborators carried o...\n",
              "\n",
              "[7 rows x 10 columns]"
            ]
          },
          "metadata": {},
          "execution_count": 16
        }
      ]
    },
    {
      "cell_type": "code",
      "metadata": {
        "id": "XJE2TLUW4cxe",
        "colab": {
          "base_uri": "https://localhost:8080/"
        },
        "outputId": "cecd90fb-6000-47cd-e984-3c6b05ab2f4f"
      },
      "source": [
        "industry_df.drop_duplicates(inplace=True)\n",
        "industry_df.shape"
      ],
      "execution_count": 17,
      "outputs": [
        {
          "output_type": "execute_result",
          "data": {
            "text/plain": [
              "(418, 10)"
            ]
          },
          "metadata": {},
          "execution_count": 17
        }
      ]
    },
    {
      "cell_type": "code",
      "metadata": {
        "id": "TDMjbSyZ4cxf",
        "colab": {
          "base_uri": "https://localhost:8080/",
          "height": 206
        },
        "outputId": "4f2af1b6-3006-4a6e-ce44-9ab775d69364"
      },
      "source": [
        "industry_df.describe()"
      ],
      "execution_count": 18,
      "outputs": [
        {
          "output_type": "execute_result",
          "data": {
            "text/html": [
              "<div>\n",
              "<style scoped>\n",
              "    .dataframe tbody tr th:only-of-type {\n",
              "        vertical-align: middle;\n",
              "    }\n",
              "\n",
              "    .dataframe tbody tr th {\n",
              "        vertical-align: top;\n",
              "    }\n",
              "\n",
              "    .dataframe thead th {\n",
              "        text-align: right;\n",
              "    }\n",
              "</style>\n",
              "<table border=\"1\" class=\"dataframe\">\n",
              "  <thead>\n",
              "    <tr style=\"text-align: right;\">\n",
              "      <th></th>\n",
              "      <th>Date</th>\n",
              "      <th>Country</th>\n",
              "      <th>Local</th>\n",
              "      <th>Industry Sector</th>\n",
              "      <th>Accident Level</th>\n",
              "      <th>Potential Accident Level</th>\n",
              "      <th>Gender</th>\n",
              "      <th>Employee type</th>\n",
              "      <th>Critical Risk</th>\n",
              "      <th>Description</th>\n",
              "    </tr>\n",
              "  </thead>\n",
              "  <tbody>\n",
              "    <tr>\n",
              "      <th>count</th>\n",
              "      <td>418</td>\n",
              "      <td>418</td>\n",
              "      <td>418</td>\n",
              "      <td>418</td>\n",
              "      <td>418</td>\n",
              "      <td>418</td>\n",
              "      <td>418</td>\n",
              "      <td>418</td>\n",
              "      <td>418</td>\n",
              "      <td>418</td>\n",
              "    </tr>\n",
              "    <tr>\n",
              "      <th>unique</th>\n",
              "      <td>287</td>\n",
              "      <td>3</td>\n",
              "      <td>12</td>\n",
              "      <td>3</td>\n",
              "      <td>5</td>\n",
              "      <td>6</td>\n",
              "      <td>2</td>\n",
              "      <td>3</td>\n",
              "      <td>33</td>\n",
              "      <td>411</td>\n",
              "    </tr>\n",
              "    <tr>\n",
              "      <th>top</th>\n",
              "      <td>2017-02-08 00:00:00</td>\n",
              "      <td>Country_01</td>\n",
              "      <td>Local_03</td>\n",
              "      <td>Mining</td>\n",
              "      <td>I</td>\n",
              "      <td>IV</td>\n",
              "      <td>Male</td>\n",
              "      <td>Third Party</td>\n",
              "      <td>Others</td>\n",
              "      <td>The employees Márcio and Sérgio performed the ...</td>\n",
              "    </tr>\n",
              "    <tr>\n",
              "      <th>freq</th>\n",
              "      <td>6</td>\n",
              "      <td>248</td>\n",
              "      <td>89</td>\n",
              "      <td>237</td>\n",
              "      <td>309</td>\n",
              "      <td>141</td>\n",
              "      <td>396</td>\n",
              "      <td>185</td>\n",
              "      <td>229</td>\n",
              "      <td>2</td>\n",
              "    </tr>\n",
              "  </tbody>\n",
              "</table>\n",
              "</div>"
            ],
            "text/plain": [
              "                       Date  ...                                        Description\n",
              "count                   418  ...                                                418\n",
              "unique                  287  ...                                                411\n",
              "top     2017-02-08 00:00:00  ...  The employees Márcio and Sérgio performed the ...\n",
              "freq                      6  ...                                                  2\n",
              "\n",
              "[4 rows x 10 columns]"
            ]
          },
          "metadata": {},
          "execution_count": 18
        }
      ]
    },
    {
      "cell_type": "code",
      "metadata": {
        "id": "tneODFgN4cxg",
        "colab": {
          "base_uri": "https://localhost:8080/"
        },
        "outputId": "d1274675-f3a7-4d77-a647-abc13c3bb933"
      },
      "source": [
        "print(industry_df.Date.min())\n",
        "print(industry_df.Date.max())"
      ],
      "execution_count": 19,
      "outputs": [
        {
          "output_type": "stream",
          "name": "stdout",
          "text": [
            "2016-01-01 00:00:00\n",
            "2017-07-09 00:00:00\n"
          ]
        }
      ]
    },
    {
      "cell_type": "code",
      "metadata": {
        "id": "4HojFqRv4cxg",
        "colab": {
          "base_uri": "https://localhost:8080/",
          "height": 343
        },
        "outputId": "66e8683c-5201-4ce8-982e-8ec8bf81ac9e"
      },
      "source": [
        "industry_df['Date'] = pd.to_datetime(industry_df['Date'])\n",
        "industry_df['Year'] = industry_df['Date'].apply(lambda x : x.year)\n",
        "industry_df['Month'] = industry_df['Date'].apply(lambda x : x.month)\n",
        "industry_df['Day'] = industry_df['Date'].apply(lambda x : x.day)\n",
        "industry_df['Weekday'] = industry_df['Date'].apply(lambda x : x.day_name())\n",
        "industry_df['WeekofYear'] = industry_df['Date'].apply(lambda x : x.weekofyear)\n",
        "industry_df.head(3)"
      ],
      "execution_count": 20,
      "outputs": [
        {
          "output_type": "execute_result",
          "data": {
            "text/html": [
              "<div>\n",
              "<style scoped>\n",
              "    .dataframe tbody tr th:only-of-type {\n",
              "        vertical-align: middle;\n",
              "    }\n",
              "\n",
              "    .dataframe tbody tr th {\n",
              "        vertical-align: top;\n",
              "    }\n",
              "\n",
              "    .dataframe thead th {\n",
              "        text-align: right;\n",
              "    }\n",
              "</style>\n",
              "<table border=\"1\" class=\"dataframe\">\n",
              "  <thead>\n",
              "    <tr style=\"text-align: right;\">\n",
              "      <th></th>\n",
              "      <th>Date</th>\n",
              "      <th>Country</th>\n",
              "      <th>Local</th>\n",
              "      <th>Industry Sector</th>\n",
              "      <th>Accident Level</th>\n",
              "      <th>Potential Accident Level</th>\n",
              "      <th>Gender</th>\n",
              "      <th>Employee type</th>\n",
              "      <th>Critical Risk</th>\n",
              "      <th>Description</th>\n",
              "      <th>Year</th>\n",
              "      <th>Month</th>\n",
              "      <th>Day</th>\n",
              "      <th>Weekday</th>\n",
              "      <th>WeekofYear</th>\n",
              "    </tr>\n",
              "  </thead>\n",
              "  <tbody>\n",
              "    <tr>\n",
              "      <th>0</th>\n",
              "      <td>2016-01-01</td>\n",
              "      <td>Country_01</td>\n",
              "      <td>Local_01</td>\n",
              "      <td>Mining</td>\n",
              "      <td>I</td>\n",
              "      <td>IV</td>\n",
              "      <td>Male</td>\n",
              "      <td>Third Party</td>\n",
              "      <td>Pressed</td>\n",
              "      <td>While removing the drill rod of the Jumbo 08 f...</td>\n",
              "      <td>2016</td>\n",
              "      <td>1</td>\n",
              "      <td>1</td>\n",
              "      <td>Friday</td>\n",
              "      <td>53</td>\n",
              "    </tr>\n",
              "    <tr>\n",
              "      <th>1</th>\n",
              "      <td>2016-01-02</td>\n",
              "      <td>Country_02</td>\n",
              "      <td>Local_02</td>\n",
              "      <td>Mining</td>\n",
              "      <td>I</td>\n",
              "      <td>IV</td>\n",
              "      <td>Male</td>\n",
              "      <td>Employee</td>\n",
              "      <td>Pressurized Systems</td>\n",
              "      <td>During the activation of a sodium sulphide pum...</td>\n",
              "      <td>2016</td>\n",
              "      <td>1</td>\n",
              "      <td>2</td>\n",
              "      <td>Saturday</td>\n",
              "      <td>53</td>\n",
              "    </tr>\n",
              "    <tr>\n",
              "      <th>2</th>\n",
              "      <td>2016-01-06</td>\n",
              "      <td>Country_01</td>\n",
              "      <td>Local_03</td>\n",
              "      <td>Mining</td>\n",
              "      <td>I</td>\n",
              "      <td>III</td>\n",
              "      <td>Male</td>\n",
              "      <td>Third Party (Remote)</td>\n",
              "      <td>Manual Tools</td>\n",
              "      <td>In the sub-station MILPO located at level +170...</td>\n",
              "      <td>2016</td>\n",
              "      <td>1</td>\n",
              "      <td>6</td>\n",
              "      <td>Wednesday</td>\n",
              "      <td>1</td>\n",
              "    </tr>\n",
              "  </tbody>\n",
              "</table>\n",
              "</div>"
            ],
            "text/plain": [
              "        Date     Country     Local  ... Day    Weekday WeekofYear\n",
              "0 2016-01-01  Country_01  Local_01  ...   1     Friday         53\n",
              "1 2016-01-02  Country_02  Local_02  ...   2   Saturday         53\n",
              "2 2016-01-06  Country_01  Local_03  ...   6  Wednesday          1\n",
              "\n",
              "[3 rows x 15 columns]"
            ]
          },
          "metadata": {},
          "execution_count": 20
        }
      ]
    },
    {
      "cell_type": "code",
      "metadata": {
        "id": "2_9VLApY4cxg"
      },
      "source": [
        "def month2seasons(x):\n",
        "    if x in [9, 10, 11]:\n",
        "        season = 'Spring'\n",
        "    elif x in [12, 1, 2]:\n",
        "        season = 'Summer'\n",
        "    elif x in [3, 4, 5]:\n",
        "        season = 'Autumn'\n",
        "    elif x in [6, 7, 8]:\n",
        "        season = 'Winter'\n",
        "    return season"
      ],
      "execution_count": 21,
      "outputs": []
    },
    {
      "cell_type": "code",
      "metadata": {
        "id": "QSezsoyk4cxh",
        "colab": {
          "base_uri": "https://localhost:8080/",
          "height": 397
        },
        "outputId": "370f4429-37b9-4a56-c55b-223c8ff21875"
      },
      "source": [
        "industry_df['Season'] = industry_df['Month'].apply(month2seasons)\n",
        "industry_df.head(3)"
      ],
      "execution_count": 22,
      "outputs": [
        {
          "output_type": "execute_result",
          "data": {
            "text/html": [
              "<div>\n",
              "<style scoped>\n",
              "    .dataframe tbody tr th:only-of-type {\n",
              "        vertical-align: middle;\n",
              "    }\n",
              "\n",
              "    .dataframe tbody tr th {\n",
              "        vertical-align: top;\n",
              "    }\n",
              "\n",
              "    .dataframe thead th {\n",
              "        text-align: right;\n",
              "    }\n",
              "</style>\n",
              "<table border=\"1\" class=\"dataframe\">\n",
              "  <thead>\n",
              "    <tr style=\"text-align: right;\">\n",
              "      <th></th>\n",
              "      <th>Date</th>\n",
              "      <th>Country</th>\n",
              "      <th>Local</th>\n",
              "      <th>Industry Sector</th>\n",
              "      <th>Accident Level</th>\n",
              "      <th>Potential Accident Level</th>\n",
              "      <th>Gender</th>\n",
              "      <th>Employee type</th>\n",
              "      <th>Critical Risk</th>\n",
              "      <th>Description</th>\n",
              "      <th>Year</th>\n",
              "      <th>Month</th>\n",
              "      <th>Day</th>\n",
              "      <th>Weekday</th>\n",
              "      <th>WeekofYear</th>\n",
              "      <th>Season</th>\n",
              "    </tr>\n",
              "  </thead>\n",
              "  <tbody>\n",
              "    <tr>\n",
              "      <th>0</th>\n",
              "      <td>2016-01-01</td>\n",
              "      <td>Country_01</td>\n",
              "      <td>Local_01</td>\n",
              "      <td>Mining</td>\n",
              "      <td>I</td>\n",
              "      <td>IV</td>\n",
              "      <td>Male</td>\n",
              "      <td>Third Party</td>\n",
              "      <td>Pressed</td>\n",
              "      <td>While removing the drill rod of the Jumbo 08 f...</td>\n",
              "      <td>2016</td>\n",
              "      <td>1</td>\n",
              "      <td>1</td>\n",
              "      <td>Friday</td>\n",
              "      <td>53</td>\n",
              "      <td>Summer</td>\n",
              "    </tr>\n",
              "    <tr>\n",
              "      <th>1</th>\n",
              "      <td>2016-01-02</td>\n",
              "      <td>Country_02</td>\n",
              "      <td>Local_02</td>\n",
              "      <td>Mining</td>\n",
              "      <td>I</td>\n",
              "      <td>IV</td>\n",
              "      <td>Male</td>\n",
              "      <td>Employee</td>\n",
              "      <td>Pressurized Systems</td>\n",
              "      <td>During the activation of a sodium sulphide pum...</td>\n",
              "      <td>2016</td>\n",
              "      <td>1</td>\n",
              "      <td>2</td>\n",
              "      <td>Saturday</td>\n",
              "      <td>53</td>\n",
              "      <td>Summer</td>\n",
              "    </tr>\n",
              "    <tr>\n",
              "      <th>2</th>\n",
              "      <td>2016-01-06</td>\n",
              "      <td>Country_01</td>\n",
              "      <td>Local_03</td>\n",
              "      <td>Mining</td>\n",
              "      <td>I</td>\n",
              "      <td>III</td>\n",
              "      <td>Male</td>\n",
              "      <td>Third Party (Remote)</td>\n",
              "      <td>Manual Tools</td>\n",
              "      <td>In the sub-station MILPO located at level +170...</td>\n",
              "      <td>2016</td>\n",
              "      <td>1</td>\n",
              "      <td>6</td>\n",
              "      <td>Wednesday</td>\n",
              "      <td>1</td>\n",
              "      <td>Summer</td>\n",
              "    </tr>\n",
              "  </tbody>\n",
              "</table>\n",
              "</div>"
            ],
            "text/plain": [
              "        Date     Country     Local  ...    Weekday WeekofYear  Season\n",
              "0 2016-01-01  Country_01  Local_01  ...     Friday         53  Summer\n",
              "1 2016-01-02  Country_02  Local_02  ...   Saturday         53  Summer\n",
              "2 2016-01-06  Country_01  Local_03  ...  Wednesday          1  Summer\n",
              "\n",
              "[3 rows x 16 columns]"
            ]
          },
          "metadata": {},
          "execution_count": 22
        }
      ]
    },
    {
      "cell_type": "code",
      "metadata": {
        "id": "SsZyEH6Q4cxh",
        "colab": {
          "base_uri": "https://localhost:8080/",
          "height": 234
        },
        "outputId": "94a11181-3452-4da8-8d77-9f6822860a5c"
      },
      "source": [
        "year_data = pd.DataFrame(industry_df.dtypes)\n",
        "year_data['NUnique']=industry_df.nunique()\n",
        "year_data.iloc[10:16]"
      ],
      "execution_count": 23,
      "outputs": [
        {
          "output_type": "execute_result",
          "data": {
            "text/html": [
              "<div>\n",
              "<style scoped>\n",
              "    .dataframe tbody tr th:only-of-type {\n",
              "        vertical-align: middle;\n",
              "    }\n",
              "\n",
              "    .dataframe tbody tr th {\n",
              "        vertical-align: top;\n",
              "    }\n",
              "\n",
              "    .dataframe thead th {\n",
              "        text-align: right;\n",
              "    }\n",
              "</style>\n",
              "<table border=\"1\" class=\"dataframe\">\n",
              "  <thead>\n",
              "    <tr style=\"text-align: right;\">\n",
              "      <th></th>\n",
              "      <th>0</th>\n",
              "      <th>NUnique</th>\n",
              "    </tr>\n",
              "  </thead>\n",
              "  <tbody>\n",
              "    <tr>\n",
              "      <th>Year</th>\n",
              "      <td>int64</td>\n",
              "      <td>2</td>\n",
              "    </tr>\n",
              "    <tr>\n",
              "      <th>Month</th>\n",
              "      <td>int64</td>\n",
              "      <td>12</td>\n",
              "    </tr>\n",
              "    <tr>\n",
              "      <th>Day</th>\n",
              "      <td>int64</td>\n",
              "      <td>31</td>\n",
              "    </tr>\n",
              "    <tr>\n",
              "      <th>Weekday</th>\n",
              "      <td>object</td>\n",
              "      <td>7</td>\n",
              "    </tr>\n",
              "    <tr>\n",
              "      <th>WeekofYear</th>\n",
              "      <td>int64</td>\n",
              "      <td>53</td>\n",
              "    </tr>\n",
              "    <tr>\n",
              "      <th>Season</th>\n",
              "      <td>object</td>\n",
              "      <td>4</td>\n",
              "    </tr>\n",
              "  </tbody>\n",
              "</table>\n",
              "</div>"
            ],
            "text/plain": [
              "                 0  NUnique\n",
              "Year         int64        2\n",
              "Month        int64       12\n",
              "Day          int64       31\n",
              "Weekday     object        7\n",
              "WeekofYear   int64       53\n",
              "Season      object        4"
            ]
          },
          "metadata": {},
          "execution_count": 23
        }
      ]
    },
    {
      "cell_type": "code",
      "metadata": {
        "id": "U2S2qqhC4cxi",
        "colab": {
          "base_uri": "https://localhost:8080/"
        },
        "outputId": "297c7796-e33e-4acd-daea-c840c4a20604"
      },
      "source": [
        "datelist = ['Year','Month','Day','Weekday','Season']\n",
        "for x in datelist:\n",
        "    print('--'*30); print(f'Unique values of \"{x}\" column'); print('--'*30)\n",
        "    print(industry_df[x].unique())\n",
        "    print(\"\\n\")"
      ],
      "execution_count": 24,
      "outputs": [
        {
          "output_type": "stream",
          "name": "stdout",
          "text": [
            "------------------------------------------------------------\n",
            "Unique values of \"Year\" column\n",
            "------------------------------------------------------------\n",
            "[2016 2017]\n",
            "\n",
            "\n",
            "------------------------------------------------------------\n",
            "Unique values of \"Month\" column\n",
            "------------------------------------------------------------\n",
            "[ 1  2  3  4  5  6  7  8  9 10 11 12]\n",
            "\n",
            "\n",
            "------------------------------------------------------------\n",
            "Unique values of \"Day\" column\n",
            "------------------------------------------------------------\n",
            "[ 1  2  6  8 10 12 16 17 19 26 28 30  4  7 21 25  9 15 14 13 20 18 22 24\n",
            " 29 27  3  5 11 31 23]\n",
            "\n",
            "\n",
            "------------------------------------------------------------\n",
            "Unique values of \"Weekday\" column\n",
            "------------------------------------------------------------\n",
            "['Friday' 'Saturday' 'Wednesday' 'Sunday' 'Tuesday' 'Thursday' 'Monday']\n",
            "\n",
            "\n",
            "------------------------------------------------------------\n",
            "Unique values of \"Season\" column\n",
            "------------------------------------------------------------\n",
            "['Summer' 'Autumn' 'Winter' 'Spring']\n",
            "\n",
            "\n"
          ]
        }
      ]
    },
    {
      "cell_type": "code",
      "metadata": {
        "id": "jcm27Ec54cxi",
        "colab": {
          "base_uri": "https://localhost:8080/"
        },
        "outputId": "b0da01cf-0798-4f65-b764-54dd14079072"
      },
      "source": [
        "%cd /content/gdrive/MyDrive/AIML/Capstone/Jan-G4---NLP-Chatbot/text_preprocessing"
      ],
      "execution_count": 25,
      "outputs": [
        {
          "output_type": "stream",
          "name": "stdout",
          "text": [
            "/content/gdrive/MyDrive/AIML/Capstone/Jan-G4---NLP-Chatbot/text_preprocessing\n"
          ]
        }
      ]
    },
    {
      "cell_type": "code",
      "metadata": {
        "colab": {
          "base_uri": "https://localhost:8080/"
        },
        "id": "lbK5TgcARL-Z",
        "outputId": "6ae24e97-ae78-4ffc-d603-bbfd7bf0345a"
      },
      "source": [
        "!pip install pyspellchecker"
      ],
      "execution_count": 26,
      "outputs": [
        {
          "output_type": "stream",
          "name": "stdout",
          "text": [
            "Collecting pyspellchecker\n",
            "  Downloading pyspellchecker-0.6.2-py3-none-any.whl (2.7 MB)\n",
            "\u001b[K     |████████████████████████████████| 2.7 MB 4.3 MB/s \n",
            "\u001b[?25hInstalling collected packages: pyspellchecker\n",
            "Successfully installed pyspellchecker-0.6.2\n"
          ]
        }
      ]
    },
    {
      "cell_type": "code",
      "metadata": {
        "id": "Gvu_b-AhRQTx"
      },
      "source": [
        "from text_preprocessing import preprocess_text"
      ],
      "execution_count": 30,
      "outputs": []
    },
    {
      "cell_type": "code",
      "metadata": {
        "colab": {
          "base_uri": "https://localhost:8080/"
        },
        "id": "eWtmpv9wSO6F",
        "outputId": "8b8b3c4e-f0bf-4886-ecb2-4cacfd9451cc"
      },
      "source": [
        "print(industry_df.Description[1])"
      ],
      "execution_count": 31,
      "outputs": [
        {
          "output_type": "stream",
          "name": "stdout",
          "text": [
            "During the activation of a sodium sulphide pump, the piping was uncoupled and the sulfide solution was designed in the area to reach the maid. Immediately she made use of the emergency shower and was directed to the ambulatory doctor and later to the hospital. Note: of sulphide solution = 48 grams / liter.\n"
          ]
        }
      ]
    },
    {
      "cell_type": "code",
      "metadata": {
        "colab": {
          "base_uri": "https://localhost:8080/"
        },
        "id": "2Jid4CxARUtk",
        "outputId": "7849bef5-0256-4963-9016-ad3cc275eb9c"
      },
      "source": [
        "preprocessed_text = preprocess_text(industry_df.Description[1])\n",
        "print(preprocessed_text)"
      ],
      "execution_count": 32,
      "outputs": [
        {
          "output_type": "stream",
          "name": "stdout",
          "text": [
            "activation sodium sulphide pump piping uncoupled sulfide solution designed area reach maid immediately made use emergency shower directed ambulatory doctor later hospital note sulphide solution 48 gram liter\n"
          ]
        }
      ]
    },
    {
      "cell_type": "code",
      "metadata": {
        "id": "NDwt1NdsSZnt"
      },
      "source": [
        "from text_preprocessing import tokenize_word"
      ],
      "execution_count": 38,
      "outputs": []
    },
    {
      "cell_type": "code",
      "metadata": {
        "colab": {
          "base_uri": "https://localhost:8080/"
        },
        "id": "yahRyGyjSlya",
        "outputId": "e3128cd7-c660-4ad9-c48e-c1b018ed608c"
      },
      "source": [
        "tokenise_text = tokenize_word(industry_df.Description[1])\n",
        "print(tokenise_text)"
      ],
      "execution_count": 39,
      "outputs": [
        {
          "output_type": "stream",
          "name": "stdout",
          "text": [
            "['During', 'the', 'activation', 'of', 'a', 'sodium', 'sulphide', 'pump', ',', 'the', 'piping', 'was', 'uncoupled', 'and', 'the', 'sulfide', 'solution', 'was', 'designed', 'in', 'the', 'area', 'to', 'reach', 'the', 'maid', '.', 'Immediately', 'she', 'made', 'use', 'of', 'the', 'emergency', 'shower', 'and', 'was', 'directed', 'to', 'the', 'ambulatory', 'doctor', 'and', 'later', 'to', 'the', 'hospital', '.', 'Note', ':', 'of', 'sulphide', 'solution', '=', '48', 'grams', '/', 'liter', '.']\n"
          ]
        }
      ]
    },
    {
      "cell_type": "code",
      "metadata": {
        "colab": {
          "base_uri": "https://localhost:8080/",
          "height": 35
        },
        "id": "yMgxdFuoSu7w",
        "outputId": "11264fc0-ec8e-4849-f221-06acc26e527a"
      },
      "source": [
        "tokenise_text[2]"
      ],
      "execution_count": 40,
      "outputs": [
        {
          "output_type": "execute_result",
          "data": {
            "application/vnd.google.colaboratory.intrinsic+json": {
              "type": "string"
            },
            "text/plain": [
              "'activation'"
            ]
          },
          "metadata": {},
          "execution_count": 40
        }
      ]
    },
    {
      "cell_type": "code",
      "metadata": {
        "id": "SYJIGCA3SzOn"
      },
      "source": [
        ""
      ],
      "execution_count": null,
      "outputs": []
    }
  ]
}