{
  "nbformat": 4,
  "nbformat_minor": 0,
  "metadata": {
    "kernelspec": {
      "display_name": "Python 3",
      "language": "python",
      "name": "python3"
    },
    "language_info": {
      "codemirror_mode": {
        "name": "ipython",
        "version": 3
      },
      "file_extension": ".py",
      "mimetype": "text/x-python",
      "name": "python",
      "nbconvert_exporter": "python",
      "pygments_lexer": "ipython3",
      "version": "3.7.6"
    },
    "colab": {
      "name": "Capstone_NLP_Chatbot_Jan_A_G4_24_11 (EDA).ipynb",
      "provenance": [],
      "collapsed_sections": [],
      "include_colab_link": true
    }
  },
  "cells": [
    {
      "cell_type": "markdown",
      "metadata": {
        "id": "view-in-github",
        "colab_type": "text"
      },
      "source": [
        "<a href=\"https://colab.research.google.com/github/shyamsparrow/Jan-G4---NLP-Chatbot/blob/Models/Capstone_NLP_Chatbot_Jan_A_G4.ipynb\" target=\"_parent\"><img src=\"https://colab.research.google.com/assets/colab-badge.svg\" alt=\"Open In Colab\"/></a>"
      ]
    },
    {
      "cell_type": "markdown",
      "metadata": {
        "id": "9Yj3kJll4cxT"
      },
      "source": [
        "# Capstone Project - NLP Chatbot\n",
        "\n",
        "### DOMAIN: \n",
        "Industrial safety. NLP based Chatbot.\n",
        "\n",
        "### CONTEXT:\n",
        "The database comes from one of the biggest industry in Brazil and in the world. It is an urgent need for industries/companies around the globe to understand why employees still suffer some injuries/accidents in plants. Sometimes they also die in such environment.\n",
        "\n",
        "### DATA DESCRIPTION:\n",
        "This The database is basically records of accidents from 12 different plants in 03 different countries which every line in the data is an occurrence of an accident.\n",
        "\n",
        "### Columns description:\n",
        "* Data: timestamp or time/date information\n",
        "* Countries: which country the accident occurred (anonymised)\n",
        "* Local: the city where the manufacturing plant is located (anonymised)\n",
        "* Industry sector: which sector the plant belongs to\n",
        "* Accident level: from I to VI, it registers how severe was the accident (I means not severe but VI means very severe)\n",
        "* Potential Accident Level: Depending on the Accident Level, the database also registers how severe the accident could have   been (due to other factors involved in the accident)\n",
        "* Gender: if the person is male of female\n",
        "* Employee or Third Party: if the injured person is an employee or a third party\n",
        "* Critical Risk: some description of the risk involved in the accident\n",
        "* Description: Detailed description of how the accident happened.\n",
        "\n",
        "Link to download the dataset: https://drive.google.com/file/d/1_GmrRP1S2OIa02KlfOBNkYa8uxazGbfE/view?usp=sharing,\n",
        "Original dataset link: https://www.kaggle.com/ihmstefanini/industrial-safety-and-health-analytics-database\n",
        "\n",
        "### PROJECT OBJECTIVE:\n",
        "Design a ML/DL based chatbot utility which can help the professionals to highlight the safety risk as per the incident description."
      ]
    },
    {
      "cell_type": "code",
      "metadata": {
        "id": "UXY9aXj-FwOg",
        "colab": {
          "base_uri": "https://localhost:8080/"
        },
        "outputId": "1093e4bd-7ca8-4f2a-8f45-8d86991a7d9a"
      },
      "source": [
        "from google.colab import drive\n",
        "drive.mount('/content/drive')"
      ],
      "execution_count": 1,
      "outputs": [
        {
          "output_type": "stream",
          "name": "stdout",
          "text": [
            "Mounted at /content/drive\n"
          ]
        }
      ]
    },
    {
      "cell_type": "markdown",
      "metadata": {
        "id": "yJ3cY1PPaSlS"
      },
      "source": [
        "Replace the folder path with your drive folder path and clone the githb repo"
      ]
    },
    {
      "cell_type": "code",
      "metadata": {
        "id": "wwhw9SyePdXo",
        "colab": {
          "base_uri": "https://localhost:8080/"
        },
        "outputId": "5026ebdc-ff2a-4d17-8ce4-f341242c2b7e"
      },
      "source": [
        "%cd /content/drive/MyDrive/AIML/Capstone"
      ],
      "execution_count": 11,
      "outputs": [
        {
          "output_type": "stream",
          "name": "stdout",
          "text": [
            "/content/drive/MyDrive/AIML/Capstone\n"
          ]
        }
      ]
    },
    {
      "cell_type": "markdown",
      "metadata": {
        "id": "zb2bSd4Qa6sd"
      },
      "source": [
        "Run the below code for clone the repo in our Googele drive for first time"
      ]
    },
    {
      "cell_type": "code",
      "metadata": {
        "colab": {
          "base_uri": "https://localhost:8080/"
        },
        "id": "02mIR5BkLrQM",
        "outputId": "f0fedd0b-59cd-4f14-e774-24ecc3cdc60f"
      },
      "source": [
        "! git clone https://github.com/shyamsparrow/Jan-G4---NLP-Chatbot.git"
      ],
      "execution_count": 13,
      "outputs": [
        {
          "output_type": "stream",
          "name": "stdout",
          "text": [
            "Cloning into 'Jan-G4---NLP-Chatbot'...\n",
            "remote: Enumerating objects: 271, done.\u001b[K\n",
            "remote: Counting objects: 100% (271/271), done.\u001b[K\n",
            "remote: Compressing objects: 100% (266/266), done.\u001b[K\n",
            "remote: Total 271 (delta 141), reused 0 (delta 0), pack-reused 0\u001b[K\n",
            "Receiving objects: 100% (271/271), 26.88 MiB | 5.52 MiB/s, done.\n",
            "Resolving deltas: 100% (141/141), done.\n"
          ]
        }
      ]
    },
    {
      "cell_type": "markdown",
      "metadata": {
        "id": "DE4JYNESXKDx"
      },
      "source": [
        "Change the Current folder into Github repo main folder, all the functions we are calling has to be in this repo."
      ]
    },
    {
      "cell_type": "code",
      "metadata": {
        "colab": {
          "base_uri": "https://localhost:8080/"
        },
        "id": "OigsCtatbCvx",
        "outputId": "7a61c2b4-c502-4ed6-cc27-8bea0eb0496e"
      },
      "source": [
        "%cd /content/drive/MyDrive/AIML/Capstone/Jan-G4---NLP-Chatbot"
      ],
      "execution_count": 14,
      "outputs": [
        {
          "output_type": "stream",
          "name": "stdout",
          "text": [
            "/content/drive/MyDrive/AIML/Capstone/Jan-G4---NLP-Chatbot\n"
          ]
        }
      ]
    },
    {
      "cell_type": "code",
      "metadata": {
        "id": "9DP36cGdeCGy"
      },
      "source": [
        "!git config --global user.email \"vegetashyam@gmail.com\"\n",
        "!git config --global user.name \"Shyam\""
      ],
      "execution_count": 9,
      "outputs": []
    },
    {
      "cell_type": "code",
      "metadata": {
        "id": "dduXV2HWejMI",
        "colab": {
          "base_uri": "https://localhost:8080/"
        },
        "outputId": "7e09cd25-20fa-44f3-9310-18eca323e9e6"
      },
      "source": [
        "!git status"
      ],
      "execution_count": 6,
      "outputs": [
        {
          "output_type": "stream",
          "name": "stdout",
          "text": [
            "On branch main\n",
            "Your branch is up to date with 'origin/main'.\n",
            "\n",
            "Untracked files:\n",
            "  (use \"git add <file>...\" to include in what will be committed)\n",
            "\n",
            "\t\u001b[31m__pycache__/\u001b[m\n",
            "\t\u001b[31mmodel.json\u001b[m\n",
            "\t\u001b[31mmodel.png\u001b[m\n",
            "\n",
            "nothing added to commit but untracked files present (use \"git add\" to track)\n"
          ]
        }
      ]
    },
    {
      "cell_type": "code",
      "metadata": {
        "id": "Mdx1iSzven86",
        "colab": {
          "base_uri": "https://localhost:8080/"
        },
        "outputId": "973f3480-c5ad-4beb-94aa-3384e6a4ec49"
      },
      "source": [
        "!git commit -m \"My message\""
      ],
      "execution_count": 8,
      "outputs": [
        {
          "output_type": "stream",
          "name": "stdout",
          "text": [
            "\n",
            "*** Please tell me who you are.\n",
            "\n",
            "Run\n",
            "\n",
            "  git config --global user.email \"you@example.com\"\n",
            "  git config --global user.name \"Your Name\"\n",
            "\n",
            "to set your account's default identity.\n",
            "Omit --global to set the identity only in this repository.\n",
            "\n",
            "fatal: unable to auto-detect email address (got 'root@c3c927f8d1ab.(none)')\n"
          ]
        }
      ]
    },
    {
      "cell_type": "markdown",
      "metadata": {
        "id": "fuZqYC2yXV1e"
      },
      "source": [
        "Run this code to update the changes in repo to our drive"
      ]
    },
    {
      "cell_type": "code",
      "metadata": {
        "colab": {
          "base_uri": "https://localhost:8080/"
        },
        "id": "WITqKl1Nb_G4",
        "outputId": "1d2290f4-8b92-4491-d8db-e0acf6066b36"
      },
      "source": [
        "!git pull"
      ],
      "execution_count": 112,
      "outputs": [
        {
          "output_type": "stream",
          "name": "stdout",
          "text": [
            "remote: Enumerating objects: 5, done.\u001b[K\n",
            "remote: Counting objects:  20% (1/5)\u001b[K\rremote: Counting objects:  40% (2/5)\u001b[K\rremote: Counting objects:  60% (3/5)\u001b[K\rremote: Counting objects:  80% (4/5)\u001b[K\rremote: Counting objects: 100% (5/5)\u001b[K\rremote: Counting objects: 100% (5/5), done.\u001b[K\n",
            "remote: Compressing objects:  33% (1/3)\u001b[K\rremote: Compressing objects:  66% (2/3)\u001b[K\rremote: Compressing objects: 100% (3/3)\u001b[K\rremote: Compressing objects: 100% (3/3), done.\u001b[K\n",
            "remote: Total 3 (delta 2), reused 0 (delta 0), pack-reused 0\u001b[K\n",
            "Unpacking objects:  33% (1/3)   \rUnpacking objects:  66% (2/3)   \rUnpacking objects: 100% (3/3)   \rUnpacking objects: 100% (3/3), done.\n",
            "From https://github.com/shyamsparrow/Jan-G4---NLP-Chatbot\n",
            "   3fef506..00f1ee4  main       -> origin/main\n",
            "You are not currently on a branch.\n",
            "Please specify which branch you want to merge with.\n",
            "See git-pull(1) for details.\n",
            "\n",
            "    git pull <remote> <branch>\n",
            "\n"
          ]
        }
      ]
    },
    {
      "cell_type": "code",
      "metadata": {
        "id": "d4CkHgK24cxV"
      },
      "source": [
        "import warnings\n",
        "warnings.filterwarnings('ignore')\n",
        "\n",
        "import config\n",
        "from wordcloud import WordCloud,STOPWORDS\n",
        "import nltk\n",
        "from nltk.corpus import stopwords\n",
        "from bs4 import BeautifulSoup\n",
        "import string\n",
        "import numpy as np\n",
        "import pandas as pd\n",
        "import seaborn as sns\n",
        "import matplotlib.pyplot as plt\n",
        "import re"
      ],
      "execution_count": 16,
      "outputs": []
    },
    {
      "cell_type": "code",
      "metadata": {
        "id": "KHfbdf5t4cxY",
        "colab": {
          "base_uri": "https://localhost:8080/"
        },
        "outputId": "5ca5890c-c9a2-437e-d0f9-1199890e830f"
      },
      "source": [
        "url = \"Data Set - industrial_safety_and_health_database_with_accidents_description.csv\"\n",
        "industry_df = pd.read_csv(url, index_col = 0)\n",
        "industry_df.head"
      ],
      "execution_count": 85,
      "outputs": [
        {
          "output_type": "execute_result",
          "data": {
            "text/plain": [
              "<bound method NDFrame.head of                     Data  ...                                        Description\n",
              "0    2016-01-01 00:00:00  ...  While removing the drill rod of the Jumbo 08 f...\n",
              "1    2016-01-02 00:00:00  ...  During the activation of a sodium sulphide pum...\n",
              "2    2016-01-06 00:00:00  ...  In the sub-station MILPO located at level +170...\n",
              "3    2016-01-08 00:00:00  ...  Being 9:45 am. approximately in the Nv. 1880 C...\n",
              "4    2016-01-10 00:00:00  ...  Approximately at 11:45 a.m. in circumstances t...\n",
              "..                   ...  ...                                                ...\n",
              "434  2017-07-04 00:00:00  ...  Being approximately 5:00 a.m. approximately, w...\n",
              "435  2017-07-04 00:00:00  ...  The collaborator moved from the infrastructure...\n",
              "436  2017-07-05 00:00:00  ...  During the environmental monitoring activity i...\n",
              "437  2017-07-06 00:00:00  ...  The Employee performed the activity of strippi...\n",
              "438  2017-07-09 00:00:00  ...  At 10:00 a.m., when the assistant cleaned the ...\n",
              "\n",
              "[425 rows x 10 columns]>"
            ]
          },
          "metadata": {},
          "execution_count": 85
        }
      ]
    },
    {
      "cell_type": "code",
      "metadata": {
        "id": "D9rdU9F-4cxY",
        "colab": {
          "base_uri": "https://localhost:8080/"
        },
        "outputId": "abcbc7c4-8717-430c-9122-03f87ac54a75"
      },
      "source": [
        "industry_df.shape"
      ],
      "execution_count": 86,
      "outputs": [
        {
          "output_type": "execute_result",
          "data": {
            "text/plain": [
              "(425, 10)"
            ]
          },
          "metadata": {},
          "execution_count": 86
        }
      ]
    },
    {
      "cell_type": "markdown",
      "metadata": {
        "id": "WB4-_ekDXsUU"
      },
      "source": [
        "### Re-naming the column name:\n",
        "We have 10 columns( features) and 425 rows of data. Let us Rename the column correctly, which is misspelled."
      ]
    },
    {
      "cell_type": "code",
      "metadata": {
        "id": "aYREgrh_4cxZ",
        "colab": {
          "base_uri": "https://localhost:8080/",
          "height": 372
        },
        "outputId": "c54f6c1e-379f-4376-c0ac-ba86f3e0d47d"
      },
      "source": [
        "industry_df.rename(columns={'Data':'Date', 'Countries':'Country', 'Genre':'Gender', 'Employee or Third Party':'Employee_type',\n",
        "'Industry Sector':'Industry_Sector','Accident Level':'Accident_Level','Potential Accident Level':'Potential_Accident_Level',\n",
        "'Critical Risk':'Critical_Risk'}, inplace=True)\n",
        "industry_df.head(3)"
      ],
      "execution_count": 87,
      "outputs": [
        {
          "output_type": "execute_result",
          "data": {
            "text/html": [
              "<div>\n",
              "<style scoped>\n",
              "    .dataframe tbody tr th:only-of-type {\n",
              "        vertical-align: middle;\n",
              "    }\n",
              "\n",
              "    .dataframe tbody tr th {\n",
              "        vertical-align: top;\n",
              "    }\n",
              "\n",
              "    .dataframe thead th {\n",
              "        text-align: right;\n",
              "    }\n",
              "</style>\n",
              "<table border=\"1\" class=\"dataframe\">\n",
              "  <thead>\n",
              "    <tr style=\"text-align: right;\">\n",
              "      <th></th>\n",
              "      <th>Date</th>\n",
              "      <th>Country</th>\n",
              "      <th>Local</th>\n",
              "      <th>Industry_Sector</th>\n",
              "      <th>Accident_Level</th>\n",
              "      <th>Potential_Accident_Level</th>\n",
              "      <th>Gender</th>\n",
              "      <th>Employee_type</th>\n",
              "      <th>Critical_Risk</th>\n",
              "      <th>Description</th>\n",
              "    </tr>\n",
              "  </thead>\n",
              "  <tbody>\n",
              "    <tr>\n",
              "      <th>0</th>\n",
              "      <td>2016-01-01 00:00:00</td>\n",
              "      <td>Country_01</td>\n",
              "      <td>Local_01</td>\n",
              "      <td>Mining</td>\n",
              "      <td>I</td>\n",
              "      <td>IV</td>\n",
              "      <td>Male</td>\n",
              "      <td>Third Party</td>\n",
              "      <td>Pressed</td>\n",
              "      <td>While removing the drill rod of the Jumbo 08 f...</td>\n",
              "    </tr>\n",
              "    <tr>\n",
              "      <th>1</th>\n",
              "      <td>2016-01-02 00:00:00</td>\n",
              "      <td>Country_02</td>\n",
              "      <td>Local_02</td>\n",
              "      <td>Mining</td>\n",
              "      <td>I</td>\n",
              "      <td>IV</td>\n",
              "      <td>Male</td>\n",
              "      <td>Employee</td>\n",
              "      <td>Pressurized Systems</td>\n",
              "      <td>During the activation of a sodium sulphide pum...</td>\n",
              "    </tr>\n",
              "    <tr>\n",
              "      <th>2</th>\n",
              "      <td>2016-01-06 00:00:00</td>\n",
              "      <td>Country_01</td>\n",
              "      <td>Local_03</td>\n",
              "      <td>Mining</td>\n",
              "      <td>I</td>\n",
              "      <td>III</td>\n",
              "      <td>Male</td>\n",
              "      <td>Third Party (Remote)</td>\n",
              "      <td>Manual Tools</td>\n",
              "      <td>In the sub-station MILPO located at level +170...</td>\n",
              "    </tr>\n",
              "  </tbody>\n",
              "</table>\n",
              "</div>"
            ],
            "text/plain": [
              "                  Date  ...                                        Description\n",
              "0  2016-01-01 00:00:00  ...  While removing the drill rod of the Jumbo 08 f...\n",
              "1  2016-01-02 00:00:00  ...  During the activation of a sodium sulphide pum...\n",
              "2  2016-01-06 00:00:00  ...  In the sub-station MILPO located at level +170...\n",
              "\n",
              "[3 rows x 10 columns]"
            ]
          },
          "metadata": {},
          "execution_count": 87
        }
      ]
    },
    {
      "cell_type": "markdown",
      "metadata": {
        "id": "ErK5yHOAYVo6"
      },
      "source": [
        "### Checking Missing Values:"
      ]
    },
    {
      "cell_type": "code",
      "metadata": {
        "id": "PL6vwoTB4cxa",
        "colab": {
          "base_uri": "https://localhost:8080/",
          "height": 363
        },
        "outputId": "ab7a9c38-76cb-4e63-d9ae-11337fa7319d"
      },
      "source": [
        "datatype = pd.DataFrame(industry_df.dtypes)\n",
        "datatype['MissingVal'] = industry_df.isnull().sum()\n",
        "datatype['NUnique']=industry_df.nunique()\n",
        "datatype"
      ],
      "execution_count": 88,
      "outputs": [
        {
          "output_type": "execute_result",
          "data": {
            "text/html": [
              "<div>\n",
              "<style scoped>\n",
              "    .dataframe tbody tr th:only-of-type {\n",
              "        vertical-align: middle;\n",
              "    }\n",
              "\n",
              "    .dataframe tbody tr th {\n",
              "        vertical-align: top;\n",
              "    }\n",
              "\n",
              "    .dataframe thead th {\n",
              "        text-align: right;\n",
              "    }\n",
              "</style>\n",
              "<table border=\"1\" class=\"dataframe\">\n",
              "  <thead>\n",
              "    <tr style=\"text-align: right;\">\n",
              "      <th></th>\n",
              "      <th>0</th>\n",
              "      <th>MissingVal</th>\n",
              "      <th>NUnique</th>\n",
              "    </tr>\n",
              "  </thead>\n",
              "  <tbody>\n",
              "    <tr>\n",
              "      <th>Date</th>\n",
              "      <td>object</td>\n",
              "      <td>0</td>\n",
              "      <td>287</td>\n",
              "    </tr>\n",
              "    <tr>\n",
              "      <th>Country</th>\n",
              "      <td>object</td>\n",
              "      <td>0</td>\n",
              "      <td>3</td>\n",
              "    </tr>\n",
              "    <tr>\n",
              "      <th>Local</th>\n",
              "      <td>object</td>\n",
              "      <td>0</td>\n",
              "      <td>12</td>\n",
              "    </tr>\n",
              "    <tr>\n",
              "      <th>Industry_Sector</th>\n",
              "      <td>object</td>\n",
              "      <td>0</td>\n",
              "      <td>3</td>\n",
              "    </tr>\n",
              "    <tr>\n",
              "      <th>Accident_Level</th>\n",
              "      <td>object</td>\n",
              "      <td>0</td>\n",
              "      <td>5</td>\n",
              "    </tr>\n",
              "    <tr>\n",
              "      <th>Potential_Accident_Level</th>\n",
              "      <td>object</td>\n",
              "      <td>0</td>\n",
              "      <td>6</td>\n",
              "    </tr>\n",
              "    <tr>\n",
              "      <th>Gender</th>\n",
              "      <td>object</td>\n",
              "      <td>0</td>\n",
              "      <td>2</td>\n",
              "    </tr>\n",
              "    <tr>\n",
              "      <th>Employee_type</th>\n",
              "      <td>object</td>\n",
              "      <td>0</td>\n",
              "      <td>3</td>\n",
              "    </tr>\n",
              "    <tr>\n",
              "      <th>Critical_Risk</th>\n",
              "      <td>object</td>\n",
              "      <td>0</td>\n",
              "      <td>33</td>\n",
              "    </tr>\n",
              "    <tr>\n",
              "      <th>Description</th>\n",
              "      <td>object</td>\n",
              "      <td>0</td>\n",
              "      <td>411</td>\n",
              "    </tr>\n",
              "  </tbody>\n",
              "</table>\n",
              "</div>"
            ],
            "text/plain": [
              "                               0  MissingVal  NUnique\n",
              "Date                      object           0      287\n",
              "Country                   object           0        3\n",
              "Local                     object           0       12\n",
              "Industry_Sector           object           0        3\n",
              "Accident_Level            object           0        5\n",
              "Potential_Accident_Level  object           0        6\n",
              "Gender                    object           0        2\n",
              "Employee_type             object           0        3\n",
              "Critical_Risk             object           0       33\n",
              "Description               object           0      411"
            ]
          },
          "metadata": {},
          "execution_count": 88
        }
      ]
    },
    {
      "cell_type": "markdown",
      "metadata": {
        "id": "uA2F22mzX8b-"
      },
      "source": [
        "By Checking the missing value, we have 0 missing values in all 10 columns."
      ]
    },
    {
      "cell_type": "markdown",
      "metadata": {
        "id": "9t7VB81xrfT-"
      },
      "source": [
        "### Removing Duplicates:"
      ]
    },
    {
      "cell_type": "code",
      "metadata": {
        "id": "7oCyL5VN4cxb",
        "colab": {
          "base_uri": "https://localhost:8080/"
        },
        "outputId": "9b8502db-280e-4705-bb42-fc1d3d26bc33"
      },
      "source": [
        "industry_df.duplicated().sum()"
      ],
      "execution_count": 89,
      "outputs": [
        {
          "output_type": "execute_result",
          "data": {
            "text/plain": [
              "7"
            ]
          },
          "metadata": {},
          "execution_count": 89
        }
      ]
    },
    {
      "cell_type": "markdown",
      "metadata": {
        "id": "vXhmEKr0rkPW"
      },
      "source": [
        "We have 7 duplicate values, let us check those values and remove it"
      ]
    },
    {
      "cell_type": "code",
      "metadata": {
        "id": "6gWfoqac4cxe",
        "colab": {
          "base_uri": "https://localhost:8080/",
          "height": 671
        },
        "outputId": "d4de9002-527d-4adc-efca-7f3118352cec"
      },
      "source": [
        "duplicates = industry_df.duplicated()\n",
        "industry_df[duplicates]"
      ],
      "execution_count": 90,
      "outputs": [
        {
          "output_type": "execute_result",
          "data": {
            "text/html": [
              "<div>\n",
              "<style scoped>\n",
              "    .dataframe tbody tr th:only-of-type {\n",
              "        vertical-align: middle;\n",
              "    }\n",
              "\n",
              "    .dataframe tbody tr th {\n",
              "        vertical-align: top;\n",
              "    }\n",
              "\n",
              "    .dataframe thead th {\n",
              "        text-align: right;\n",
              "    }\n",
              "</style>\n",
              "<table border=\"1\" class=\"dataframe\">\n",
              "  <thead>\n",
              "    <tr style=\"text-align: right;\">\n",
              "      <th></th>\n",
              "      <th>Date</th>\n",
              "      <th>Country</th>\n",
              "      <th>Local</th>\n",
              "      <th>Industry_Sector</th>\n",
              "      <th>Accident_Level</th>\n",
              "      <th>Potential_Accident_Level</th>\n",
              "      <th>Gender</th>\n",
              "      <th>Employee_type</th>\n",
              "      <th>Critical_Risk</th>\n",
              "      <th>Description</th>\n",
              "    </tr>\n",
              "  </thead>\n",
              "  <tbody>\n",
              "    <tr>\n",
              "      <th>89</th>\n",
              "      <td>2016-04-01 00:00:00</td>\n",
              "      <td>Country_01</td>\n",
              "      <td>Local_01</td>\n",
              "      <td>Mining</td>\n",
              "      <td>I</td>\n",
              "      <td>V</td>\n",
              "      <td>Male</td>\n",
              "      <td>Third Party (Remote)</td>\n",
              "      <td>Others</td>\n",
              "      <td>In circumstances that two workers of the Abrat...</td>\n",
              "    </tr>\n",
              "    <tr>\n",
              "      <th>276</th>\n",
              "      <td>2016-12-01 00:00:00</td>\n",
              "      <td>Country_01</td>\n",
              "      <td>Local_03</td>\n",
              "      <td>Mining</td>\n",
              "      <td>I</td>\n",
              "      <td>IV</td>\n",
              "      <td>Male</td>\n",
              "      <td>Employee</td>\n",
              "      <td>Others</td>\n",
              "      <td>During the activity of chuteo of ore in hopper...</td>\n",
              "    </tr>\n",
              "    <tr>\n",
              "      <th>317</th>\n",
              "      <td>2017-01-21 00:00:00</td>\n",
              "      <td>Country_02</td>\n",
              "      <td>Local_02</td>\n",
              "      <td>Mining</td>\n",
              "      <td>I</td>\n",
              "      <td>I</td>\n",
              "      <td>Male</td>\n",
              "      <td>Third Party (Remote)</td>\n",
              "      <td>Others</td>\n",
              "      <td>Employees engaged in the removal of material f...</td>\n",
              "    </tr>\n",
              "    <tr>\n",
              "      <th>359</th>\n",
              "      <td>2017-03-02 00:00:00</td>\n",
              "      <td>Country_03</td>\n",
              "      <td>Local_10</td>\n",
              "      <td>Others</td>\n",
              "      <td>I</td>\n",
              "      <td>I</td>\n",
              "      <td>Male</td>\n",
              "      <td>Third Party</td>\n",
              "      <td>Venomous Animals</td>\n",
              "      <td>On 02/03/17 during the soil sampling in the re...</td>\n",
              "    </tr>\n",
              "    <tr>\n",
              "      <th>360</th>\n",
              "      <td>2017-03-02 00:00:00</td>\n",
              "      <td>Country_03</td>\n",
              "      <td>Local_10</td>\n",
              "      <td>Others</td>\n",
              "      <td>I</td>\n",
              "      <td>I</td>\n",
              "      <td>Male</td>\n",
              "      <td>Third Party</td>\n",
              "      <td>Venomous Animals</td>\n",
              "      <td>On 02/03/17 during the soil sampling in the re...</td>\n",
              "    </tr>\n",
              "    <tr>\n",
              "      <th>369</th>\n",
              "      <td>2017-03-15 00:00:00</td>\n",
              "      <td>Country_03</td>\n",
              "      <td>Local_10</td>\n",
              "      <td>Others</td>\n",
              "      <td>I</td>\n",
              "      <td>I</td>\n",
              "      <td>Male</td>\n",
              "      <td>Third Party</td>\n",
              "      <td>Venomous Animals</td>\n",
              "      <td>Team of the VMS Project performed soil collect...</td>\n",
              "    </tr>\n",
              "    <tr>\n",
              "      <th>411</th>\n",
              "      <td>2017-05-23 00:00:00</td>\n",
              "      <td>Country_01</td>\n",
              "      <td>Local_04</td>\n",
              "      <td>Mining</td>\n",
              "      <td>I</td>\n",
              "      <td>IV</td>\n",
              "      <td>Male</td>\n",
              "      <td>Third Party</td>\n",
              "      <td>Projection of fragments</td>\n",
              "      <td>In moments when the 02 collaborators carried o...</td>\n",
              "    </tr>\n",
              "  </tbody>\n",
              "</table>\n",
              "</div>"
            ],
            "text/plain": [
              "                    Date  ...                                        Description\n",
              "89   2016-04-01 00:00:00  ...  In circumstances that two workers of the Abrat...\n",
              "276  2016-12-01 00:00:00  ...  During the activity of chuteo of ore in hopper...\n",
              "317  2017-01-21 00:00:00  ...  Employees engaged in the removal of material f...\n",
              "359  2017-03-02 00:00:00  ...  On 02/03/17 during the soil sampling in the re...\n",
              "360  2017-03-02 00:00:00  ...  On 02/03/17 during the soil sampling in the re...\n",
              "369  2017-03-15 00:00:00  ...  Team of the VMS Project performed soil collect...\n",
              "411  2017-05-23 00:00:00  ...  In moments when the 02 collaborators carried o...\n",
              "\n",
              "[7 rows x 10 columns]"
            ]
          },
          "metadata": {},
          "execution_count": 90
        }
      ]
    },
    {
      "cell_type": "code",
      "metadata": {
        "id": "XJE2TLUW4cxe",
        "colab": {
          "base_uri": "https://localhost:8080/"
        },
        "outputId": "067f667f-43f7-4f83-dafc-be699fb4ad2f"
      },
      "source": [
        "industry_df.drop_duplicates(inplace=True)\n",
        "industry_df.shape"
      ],
      "execution_count": 91,
      "outputs": [
        {
          "output_type": "execute_result",
          "data": {
            "text/plain": [
              "(418, 10)"
            ]
          },
          "metadata": {},
          "execution_count": 91
        }
      ]
    },
    {
      "cell_type": "code",
      "metadata": {
        "colab": {
          "base_uri": "https://localhost:8080/"
        },
        "id": "9DUPeR1qWb5W",
        "outputId": "b4390400-4f94-42a3-9e12-0f0074102dbf"
      },
      "source": [
        "industry_df[\"Description\"].nunique()"
      ],
      "execution_count": 92,
      "outputs": [
        {
          "output_type": "execute_result",
          "data": {
            "text/plain": [
              "411"
            ]
          },
          "metadata": {},
          "execution_count": 92
        }
      ]
    },
    {
      "cell_type": "markdown",
      "metadata": {
        "id": "cONoo7irXDEG"
      },
      "source": [
        "One can observe in the above dataframe that there are only 411 unique values in the Description column but we have 418 number of records in total, we can assume that there are still 7 number of duplicate values on description column. We will check for those duplicates on column level and drop if required for further analysis."
      ]
    },
    {
      "cell_type": "code",
      "metadata": {
        "colab": {
          "base_uri": "https://localhost:8080/",
          "height": 1000
        },
        "id": "dhLYZBxMWYXm",
        "outputId": "cfcdc1d8-bb23-490b-bf41-41c55b24b09c"
      },
      "source": [
        "print('There are still {} duplicates in the dataset as below'.format(industry_df.duplicated(subset=['Description'],keep=False).sum()))\n",
        "industry_df[industry_df.duplicated(subset=['Description'],keep=False)].sort_values(by='Description')\n"
      ],
      "execution_count": 93,
      "outputs": [
        {
          "output_type": "stream",
          "name": "stdout",
          "text": [
            "There are still 14 duplicates in the dataset as below\n"
          ]
        },
        {
          "output_type": "execute_result",
          "data": {
            "text/html": [
              "<div>\n",
              "<style scoped>\n",
              "    .dataframe tbody tr th:only-of-type {\n",
              "        vertical-align: middle;\n",
              "    }\n",
              "\n",
              "    .dataframe tbody tr th {\n",
              "        vertical-align: top;\n",
              "    }\n",
              "\n",
              "    .dataframe thead th {\n",
              "        text-align: right;\n",
              "    }\n",
              "</style>\n",
              "<table border=\"1\" class=\"dataframe\">\n",
              "  <thead>\n",
              "    <tr style=\"text-align: right;\">\n",
              "      <th></th>\n",
              "      <th>Date</th>\n",
              "      <th>Country</th>\n",
              "      <th>Local</th>\n",
              "      <th>Industry_Sector</th>\n",
              "      <th>Accident_Level</th>\n",
              "      <th>Potential_Accident_Level</th>\n",
              "      <th>Gender</th>\n",
              "      <th>Employee_type</th>\n",
              "      <th>Critical_Risk</th>\n",
              "      <th>Description</th>\n",
              "    </tr>\n",
              "  </thead>\n",
              "  <tbody>\n",
              "    <tr>\n",
              "      <th>180</th>\n",
              "      <td>2016-07-07 00:00:00</td>\n",
              "      <td>Country_01</td>\n",
              "      <td>Local_03</td>\n",
              "      <td>Mining</td>\n",
              "      <td>IV</td>\n",
              "      <td>V</td>\n",
              "      <td>Male</td>\n",
              "      <td>Third Party</td>\n",
              "      <td>Others</td>\n",
              "      <td>At moments when the MAPERU truck of plate F1T ...</td>\n",
              "    </tr>\n",
              "    <tr>\n",
              "      <th>181</th>\n",
              "      <td>2016-07-07 00:00:00</td>\n",
              "      <td>Country_01</td>\n",
              "      <td>Local_03</td>\n",
              "      <td>Mining</td>\n",
              "      <td>I</td>\n",
              "      <td>IV</td>\n",
              "      <td>Male</td>\n",
              "      <td>Third Party</td>\n",
              "      <td>Others</td>\n",
              "      <td>At moments when the MAPERU truck of plate F1T ...</td>\n",
              "    </tr>\n",
              "    <tr>\n",
              "      <th>275</th>\n",
              "      <td>2016-12-01 00:00:00</td>\n",
              "      <td>Country_01</td>\n",
              "      <td>Local_03</td>\n",
              "      <td>Mining</td>\n",
              "      <td>I</td>\n",
              "      <td>IV</td>\n",
              "      <td>Male</td>\n",
              "      <td>Employee</td>\n",
              "      <td>Others</td>\n",
              "      <td>During the activity of chuteo of ore in hopper...</td>\n",
              "    </tr>\n",
              "    <tr>\n",
              "      <th>277</th>\n",
              "      <td>2016-12-01 00:00:00</td>\n",
              "      <td>Country_01</td>\n",
              "      <td>Local_03</td>\n",
              "      <td>Mining</td>\n",
              "      <td>I</td>\n",
              "      <td>IV</td>\n",
              "      <td>Male</td>\n",
              "      <td>Third Party</td>\n",
              "      <td>Others</td>\n",
              "      <td>During the activity of chuteo of ore in hopper...</td>\n",
              "    </tr>\n",
              "    <tr>\n",
              "      <th>426</th>\n",
              "      <td>2017-06-20 00:00:00</td>\n",
              "      <td>Country_01</td>\n",
              "      <td>Local_01</td>\n",
              "      <td>Mining</td>\n",
              "      <td>I</td>\n",
              "      <td>IV</td>\n",
              "      <td>Male</td>\n",
              "      <td>Employee</td>\n",
              "      <td>Others</td>\n",
              "      <td>In circumstance, the AHK-903 license plate (Em...</td>\n",
              "    </tr>\n",
              "    <tr>\n",
              "      <th>427</th>\n",
              "      <td>2017-06-20 00:00:00</td>\n",
              "      <td>Country_01</td>\n",
              "      <td>Local_01</td>\n",
              "      <td>Mining</td>\n",
              "      <td>I</td>\n",
              "      <td>IV</td>\n",
              "      <td>Male</td>\n",
              "      <td>Third Party</td>\n",
              "      <td>Others</td>\n",
              "      <td>In circumstance, the AHK-903 license plate (Em...</td>\n",
              "    </tr>\n",
              "    <tr>\n",
              "      <th>142</th>\n",
              "      <td>2016-05-26 00:00:00</td>\n",
              "      <td>Country_03</td>\n",
              "      <td>Local_10</td>\n",
              "      <td>Others</td>\n",
              "      <td>I</td>\n",
              "      <td>I</td>\n",
              "      <td>Male</td>\n",
              "      <td>Third Party</td>\n",
              "      <td>Bees</td>\n",
              "      <td>In the geological reconnaissance activity, in ...</td>\n",
              "    </tr>\n",
              "    <tr>\n",
              "      <th>143</th>\n",
              "      <td>2016-05-26 00:00:00</td>\n",
              "      <td>Country_03</td>\n",
              "      <td>Local_10</td>\n",
              "      <td>Others</td>\n",
              "      <td>I</td>\n",
              "      <td>I</td>\n",
              "      <td>Male</td>\n",
              "      <td>Employee</td>\n",
              "      <td>Others</td>\n",
              "      <td>In the geological reconnaissance activity, in ...</td>\n",
              "    </tr>\n",
              "    <tr>\n",
              "      <th>155</th>\n",
              "      <td>2016-06-08 00:00:00</td>\n",
              "      <td>Country_03</td>\n",
              "      <td>Local_10</td>\n",
              "      <td>Others</td>\n",
              "      <td>I</td>\n",
              "      <td>I</td>\n",
              "      <td>Male</td>\n",
              "      <td>Third Party</td>\n",
              "      <td>Bees</td>\n",
              "      <td>Project of Vazante that carried out sediment c...</td>\n",
              "    </tr>\n",
              "    <tr>\n",
              "      <th>156</th>\n",
              "      <td>2016-06-08 00:00:00</td>\n",
              "      <td>Country_03</td>\n",
              "      <td>Local_10</td>\n",
              "      <td>Others</td>\n",
              "      <td>I</td>\n",
              "      <td>I</td>\n",
              "      <td>Male</td>\n",
              "      <td>Third Party</td>\n",
              "      <td>Others</td>\n",
              "      <td>Project of Vazante that carried out sediment c...</td>\n",
              "    </tr>\n",
              "    <tr>\n",
              "      <th>401</th>\n",
              "      <td>2017-05-06 00:00:00</td>\n",
              "      <td>Country_02</td>\n",
              "      <td>Local_07</td>\n",
              "      <td>Mining</td>\n",
              "      <td>IV</td>\n",
              "      <td>V</td>\n",
              "      <td>Male</td>\n",
              "      <td>Employee</td>\n",
              "      <td>Projection</td>\n",
              "      <td>The employees Márcio and Sérgio performed the ...</td>\n",
              "    </tr>\n",
              "    <tr>\n",
              "      <th>402</th>\n",
              "      <td>2017-05-06 00:00:00</td>\n",
              "      <td>Country_02</td>\n",
              "      <td>Local_07</td>\n",
              "      <td>Mining</td>\n",
              "      <td>II</td>\n",
              "      <td>V</td>\n",
              "      <td>Male</td>\n",
              "      <td>Employee</td>\n",
              "      <td>Projection</td>\n",
              "      <td>The employees Márcio and Sérgio performed the ...</td>\n",
              "    </tr>\n",
              "    <tr>\n",
              "      <th>37</th>\n",
              "      <td>2016-02-24 00:00:00</td>\n",
              "      <td>Country_02</td>\n",
              "      <td>Local_07</td>\n",
              "      <td>Mining</td>\n",
              "      <td>I</td>\n",
              "      <td>V</td>\n",
              "      <td>Male</td>\n",
              "      <td>Employee</td>\n",
              "      <td>Others</td>\n",
              "      <td>When starting the activity of removing a coil ...</td>\n",
              "    </tr>\n",
              "    <tr>\n",
              "      <th>38</th>\n",
              "      <td>2016-02-24 00:00:00</td>\n",
              "      <td>Country_02</td>\n",
              "      <td>Local_07</td>\n",
              "      <td>Mining</td>\n",
              "      <td>I</td>\n",
              "      <td>V</td>\n",
              "      <td>Female</td>\n",
              "      <td>Third Party</td>\n",
              "      <td>Others</td>\n",
              "      <td>When starting the activity of removing a coil ...</td>\n",
              "    </tr>\n",
              "  </tbody>\n",
              "</table>\n",
              "</div>"
            ],
            "text/plain": [
              "                    Date  ...                                        Description\n",
              "180  2016-07-07 00:00:00  ...  At moments when the MAPERU truck of plate F1T ...\n",
              "181  2016-07-07 00:00:00  ...  At moments when the MAPERU truck of plate F1T ...\n",
              "275  2016-12-01 00:00:00  ...  During the activity of chuteo of ore in hopper...\n",
              "277  2016-12-01 00:00:00  ...  During the activity of chuteo of ore in hopper...\n",
              "426  2017-06-20 00:00:00  ...  In circumstance, the AHK-903 license plate (Em...\n",
              "427  2017-06-20 00:00:00  ...  In circumstance, the AHK-903 license plate (Em...\n",
              "142  2016-05-26 00:00:00  ...  In the geological reconnaissance activity, in ...\n",
              "143  2016-05-26 00:00:00  ...  In the geological reconnaissance activity, in ...\n",
              "155  2016-06-08 00:00:00  ...  Project of Vazante that carried out sediment c...\n",
              "156  2016-06-08 00:00:00  ...  Project of Vazante that carried out sediment c...\n",
              "401  2017-05-06 00:00:00  ...  The employees Márcio and Sérgio performed the ...\n",
              "402  2017-05-06 00:00:00  ...  The employees Márcio and Sérgio performed the ...\n",
              "37   2016-02-24 00:00:00  ...  When starting the activity of removing a coil ...\n",
              "38   2016-02-24 00:00:00  ...  When starting the activity of removing a coil ...\n",
              "\n",
              "[14 rows x 10 columns]"
            ]
          },
          "metadata": {},
          "execution_count": 93
        }
      ]
    },
    {
      "cell_type": "markdown",
      "metadata": {
        "id": "SOKZglpHXek4"
      },
      "source": [
        "We can cleary observe that the above dataframe contains 7 duplicates in which only one or two column values are dissimilar among the datapoints where in the Description is matching, which is logically unsound.\n",
        "It can also be noticed that the incidents which are having duplicate values happened on the time stamp(Date Column).\n",
        "Hence we will be dropping these hidden duplicates which doesn't seem right logically."
      ]
    },
    {
      "cell_type": "code",
      "metadata": {
        "colab": {
          "base_uri": "https://localhost:8080/"
        },
        "id": "rHJHBZIRXg7f",
        "outputId": "b5d17566-69e4-418f-fed1-68e456d1dc4b"
      },
      "source": [
        "# Dropping the duplicates we detected above.\n",
        "industry_df.drop_duplicates(subset=['Description'], keep='first', inplace=True)\n",
        "print('After removing duplicates the shape of the dataset is:', industry_df.shape)"
      ],
      "execution_count": 94,
      "outputs": [
        {
          "output_type": "stream",
          "name": "stdout",
          "text": [
            "After removing duplicates the shape of the dataset is: (411, 10)\n"
          ]
        }
      ]
    },
    {
      "cell_type": "markdown",
      "metadata": {
        "id": "BfQTdUM2YcQ-"
      },
      "source": [
        "### Checking Outliers:"
      ]
    },
    {
      "cell_type": "code",
      "metadata": {
        "id": "GR0nfCRk4cxa",
        "colab": {
          "base_uri": "https://localhost:8080/"
        },
        "outputId": "dacf55de-3a14-4e64-c0e0-e4709687e7b9"
      },
      "source": [
        "for x in industry_df.columns:\n",
        "    if x != 'Description' and x != 'Date':\n",
        "        print('--'*30); print(f'Unique values of \"{x}\" column'); print('--'*30)\n",
        "        print(industry_df[x].unique())\n",
        "        print(\"\\n\")"
      ],
      "execution_count": 95,
      "outputs": [
        {
          "output_type": "stream",
          "name": "stdout",
          "text": [
            "------------------------------------------------------------\n",
            "Unique values of \"Country\" column\n",
            "------------------------------------------------------------\n",
            "['Country_01' 'Country_02' 'Country_03']\n",
            "\n",
            "\n",
            "------------------------------------------------------------\n",
            "Unique values of \"Local\" column\n",
            "------------------------------------------------------------\n",
            "['Local_01' 'Local_02' 'Local_03' 'Local_04' 'Local_05' 'Local_06'\n",
            " 'Local_07' 'Local_08' 'Local_10' 'Local_09' 'Local_11' 'Local_12']\n",
            "\n",
            "\n",
            "------------------------------------------------------------\n",
            "Unique values of \"Industry_Sector\" column\n",
            "------------------------------------------------------------\n",
            "['Mining' 'Metals' 'Others']\n",
            "\n",
            "\n",
            "------------------------------------------------------------\n",
            "Unique values of \"Accident_Level\" column\n",
            "------------------------------------------------------------\n",
            "['I' 'IV' 'III' 'II' 'V']\n",
            "\n",
            "\n",
            "------------------------------------------------------------\n",
            "Unique values of \"Potential_Accident_Level\" column\n",
            "------------------------------------------------------------\n",
            "['IV' 'III' 'I' 'II' 'V' 'VI']\n",
            "\n",
            "\n",
            "------------------------------------------------------------\n",
            "Unique values of \"Gender\" column\n",
            "------------------------------------------------------------\n",
            "['Male' 'Female']\n",
            "\n",
            "\n",
            "------------------------------------------------------------\n",
            "Unique values of \"Employee_type\" column\n",
            "------------------------------------------------------------\n",
            "['Third Party' 'Employee' 'Third Party (Remote)']\n",
            "\n",
            "\n",
            "------------------------------------------------------------\n",
            "Unique values of \"Critical_Risk\" column\n",
            "------------------------------------------------------------\n",
            "['Pressed' 'Pressurized Systems' 'Manual Tools' 'Others'\n",
            " 'Fall prevention (same level)' 'Chemical substances' 'Liquid Metal'\n",
            " 'Electrical installation' 'Confined space'\n",
            " 'Pressurized Systems / Chemical Substances'\n",
            " 'Blocking and isolation of energies' 'Suspended Loads' 'Poll' 'Cut'\n",
            " 'Fall' 'Bees' 'Fall prevention' '\\nNot applicable' 'Traffic' 'Projection'\n",
            " 'Venomous Animals' 'Plates' 'Projection/Burning' 'remains of choco'\n",
            " 'Vehicles and Mobile Equipment' 'Projection/Choco' 'Machine Protection'\n",
            " 'Power lock' 'Burn' 'Projection/Manual Tools'\n",
            " 'Individual protection equipment' 'Electrical Shock'\n",
            " 'Projection of fragments']\n",
            "\n",
            "\n"
          ]
        }
      ]
    },
    {
      "cell_type": "markdown",
      "metadata": {
        "id": "q3yfRl6GYpc6"
      },
      "source": [
        "By checking all the unique values of all columns in the dataset, we can say there is no Outlier in this column. \n",
        "\n",
        "We have only 3 countries, 12 Locals, 3 Industry sectors, 5 accident levels, 6 potential accident levels, 3 Employee types and 33 Critical Risks including Not applicable."
      ]
    },
    {
      "cell_type": "markdown",
      "metadata": {
        "id": "C6W_zgO1YHiN"
      },
      "source": [
        "Five type of accident levels (1 to 5) are present.\n",
        "Six type of Potential Accident Levels (1 to 6) and we see that there is only one value registered under 'Accident level 6'"
      ]
    },
    {
      "cell_type": "code",
      "metadata": {
        "id": "Q6L-4dl1YJS0"
      },
      "source": [
        "industry_df['Potential_Accident_Level'] = industry_df['Potential_Accident_Level'].replace('VI', 'V')"
      ],
      "execution_count": 96,
      "outputs": []
    },
    {
      "cell_type": "code",
      "metadata": {
        "id": "tAzAkUc9WNZ2"
      },
      "source": [
        "industry_df = industry_df.reset_index(drop=True)"
      ],
      "execution_count": 97,
      "outputs": []
    },
    {
      "cell_type": "markdown",
      "metadata": {
        "id": "aT7yuNBjrsyG"
      },
      "source": [
        "Removed all Duplicate values"
      ]
    },
    {
      "cell_type": "code",
      "metadata": {
        "id": "TDMjbSyZ4cxf",
        "colab": {
          "base_uri": "https://localhost:8080/",
          "height": 247
        },
        "outputId": "7bdde1ca-4d17-4dd9-c5d5-a9c74e3debe1"
      },
      "source": [
        "industry_df.describe()"
      ],
      "execution_count": 98,
      "outputs": [
        {
          "output_type": "execute_result",
          "data": {
            "text/html": [
              "<div>\n",
              "<style scoped>\n",
              "    .dataframe tbody tr th:only-of-type {\n",
              "        vertical-align: middle;\n",
              "    }\n",
              "\n",
              "    .dataframe tbody tr th {\n",
              "        vertical-align: top;\n",
              "    }\n",
              "\n",
              "    .dataframe thead th {\n",
              "        text-align: right;\n",
              "    }\n",
              "</style>\n",
              "<table border=\"1\" class=\"dataframe\">\n",
              "  <thead>\n",
              "    <tr style=\"text-align: right;\">\n",
              "      <th></th>\n",
              "      <th>Date</th>\n",
              "      <th>Country</th>\n",
              "      <th>Local</th>\n",
              "      <th>Industry_Sector</th>\n",
              "      <th>Accident_Level</th>\n",
              "      <th>Potential_Accident_Level</th>\n",
              "      <th>Gender</th>\n",
              "      <th>Employee_type</th>\n",
              "      <th>Critical_Risk</th>\n",
              "      <th>Description</th>\n",
              "    </tr>\n",
              "  </thead>\n",
              "  <tbody>\n",
              "    <tr>\n",
              "      <th>count</th>\n",
              "      <td>411</td>\n",
              "      <td>411</td>\n",
              "      <td>411</td>\n",
              "      <td>411</td>\n",
              "      <td>411</td>\n",
              "      <td>411</td>\n",
              "      <td>411</td>\n",
              "      <td>411</td>\n",
              "      <td>411</td>\n",
              "      <td>411</td>\n",
              "    </tr>\n",
              "    <tr>\n",
              "      <th>unique</th>\n",
              "      <td>287</td>\n",
              "      <td>3</td>\n",
              "      <td>12</td>\n",
              "      <td>3</td>\n",
              "      <td>5</td>\n",
              "      <td>5</td>\n",
              "      <td>2</td>\n",
              "      <td>3</td>\n",
              "      <td>33</td>\n",
              "      <td>411</td>\n",
              "    </tr>\n",
              "    <tr>\n",
              "      <th>top</th>\n",
              "      <td>2017-02-08 00:00:00</td>\n",
              "      <td>Country_01</td>\n",
              "      <td>Local_03</td>\n",
              "      <td>Mining</td>\n",
              "      <td>I</td>\n",
              "      <td>IV</td>\n",
              "      <td>Male</td>\n",
              "      <td>Third Party</td>\n",
              "      <td>Others</td>\n",
              "      <td>In the activity of loading of explosives in fr...</td>\n",
              "    </tr>\n",
              "    <tr>\n",
              "      <th>freq</th>\n",
              "      <td>6</td>\n",
              "      <td>245</td>\n",
              "      <td>87</td>\n",
              "      <td>232</td>\n",
              "      <td>303</td>\n",
              "      <td>138</td>\n",
              "      <td>390</td>\n",
              "      <td>180</td>\n",
              "      <td>223</td>\n",
              "      <td>1</td>\n",
              "    </tr>\n",
              "  </tbody>\n",
              "</table>\n",
              "</div>"
            ],
            "text/plain": [
              "                       Date  ...                                        Description\n",
              "count                   411  ...                                                411\n",
              "unique                  287  ...                                                411\n",
              "top     2017-02-08 00:00:00  ...  In the activity of loading of explosives in fr...\n",
              "freq                      6  ...                                                  1\n",
              "\n",
              "[4 rows x 10 columns]"
            ]
          },
          "metadata": {},
          "execution_count": 98
        }
      ]
    },
    {
      "cell_type": "markdown",
      "metadata": {
        "id": "ez6_1CtpsIeG"
      },
      "source": [
        "We have 411 unique descriptions in the dataset."
      ]
    },
    {
      "cell_type": "code",
      "metadata": {
        "id": "tneODFgN4cxg",
        "colab": {
          "base_uri": "https://localhost:8080/"
        },
        "outputId": "6196ce7e-e4bc-4279-c3aa-3f653a5a765f"
      },
      "source": [
        "print(industry_df.Date.min())\n",
        "print(industry_df.Date.max())"
      ],
      "execution_count": 99,
      "outputs": [
        {
          "output_type": "stream",
          "name": "stdout",
          "text": [
            "2016-01-01 00:00:00\n",
            "2017-07-09 00:00:00\n"
          ]
        }
      ]
    },
    {
      "cell_type": "markdown",
      "metadata": {
        "id": "37HBEGkcsMcE"
      },
      "source": [
        "The Accidents are captured in the year 2016- January to 2017 July. ~ 19 months of data.\n",
        "\n",
        "Let us split the date value into year, month, day, name of the day and week of the year."
      ]
    },
    {
      "cell_type": "code",
      "metadata": {
        "id": "4HojFqRv4cxg",
        "colab": {
          "base_uri": "https://localhost:8080/",
          "height": 372
        },
        "outputId": "3ea8f878-b6be-43a6-eeb6-6be0d40a0db2"
      },
      "source": [
        "industry_df['Date'] = pd.to_datetime(industry_df['Date'])\n",
        "industry_df['Year'] = industry_df['Date'].apply(lambda x : x.year)\n",
        "industry_df['Month'] = industry_df['Date'].apply(lambda x : x.month)\n",
        "industry_df['Day'] = industry_df['Date'].apply(lambda x : x.day)\n",
        "industry_df['Weekday'] = industry_df['Date'].apply(lambda x : x.day_name())\n",
        "industry_df['WeekofYear'] = industry_df['Date'].apply(lambda x : x.weekofyear)\n",
        "industry_df.head(3)"
      ],
      "execution_count": 100,
      "outputs": [
        {
          "output_type": "execute_result",
          "data": {
            "text/html": [
              "<div>\n",
              "<style scoped>\n",
              "    .dataframe tbody tr th:only-of-type {\n",
              "        vertical-align: middle;\n",
              "    }\n",
              "\n",
              "    .dataframe tbody tr th {\n",
              "        vertical-align: top;\n",
              "    }\n",
              "\n",
              "    .dataframe thead th {\n",
              "        text-align: right;\n",
              "    }\n",
              "</style>\n",
              "<table border=\"1\" class=\"dataframe\">\n",
              "  <thead>\n",
              "    <tr style=\"text-align: right;\">\n",
              "      <th></th>\n",
              "      <th>Date</th>\n",
              "      <th>Country</th>\n",
              "      <th>Local</th>\n",
              "      <th>Industry_Sector</th>\n",
              "      <th>Accident_Level</th>\n",
              "      <th>Potential_Accident_Level</th>\n",
              "      <th>Gender</th>\n",
              "      <th>Employee_type</th>\n",
              "      <th>Critical_Risk</th>\n",
              "      <th>Description</th>\n",
              "      <th>Year</th>\n",
              "      <th>Month</th>\n",
              "      <th>Day</th>\n",
              "      <th>Weekday</th>\n",
              "      <th>WeekofYear</th>\n",
              "    </tr>\n",
              "  </thead>\n",
              "  <tbody>\n",
              "    <tr>\n",
              "      <th>0</th>\n",
              "      <td>2016-01-01</td>\n",
              "      <td>Country_01</td>\n",
              "      <td>Local_01</td>\n",
              "      <td>Mining</td>\n",
              "      <td>I</td>\n",
              "      <td>IV</td>\n",
              "      <td>Male</td>\n",
              "      <td>Third Party</td>\n",
              "      <td>Pressed</td>\n",
              "      <td>While removing the drill rod of the Jumbo 08 f...</td>\n",
              "      <td>2016</td>\n",
              "      <td>1</td>\n",
              "      <td>1</td>\n",
              "      <td>Friday</td>\n",
              "      <td>53</td>\n",
              "    </tr>\n",
              "    <tr>\n",
              "      <th>1</th>\n",
              "      <td>2016-01-02</td>\n",
              "      <td>Country_02</td>\n",
              "      <td>Local_02</td>\n",
              "      <td>Mining</td>\n",
              "      <td>I</td>\n",
              "      <td>IV</td>\n",
              "      <td>Male</td>\n",
              "      <td>Employee</td>\n",
              "      <td>Pressurized Systems</td>\n",
              "      <td>During the activation of a sodium sulphide pum...</td>\n",
              "      <td>2016</td>\n",
              "      <td>1</td>\n",
              "      <td>2</td>\n",
              "      <td>Saturday</td>\n",
              "      <td>53</td>\n",
              "    </tr>\n",
              "    <tr>\n",
              "      <th>2</th>\n",
              "      <td>2016-01-06</td>\n",
              "      <td>Country_01</td>\n",
              "      <td>Local_03</td>\n",
              "      <td>Mining</td>\n",
              "      <td>I</td>\n",
              "      <td>III</td>\n",
              "      <td>Male</td>\n",
              "      <td>Third Party (Remote)</td>\n",
              "      <td>Manual Tools</td>\n",
              "      <td>In the sub-station MILPO located at level +170...</td>\n",
              "      <td>2016</td>\n",
              "      <td>1</td>\n",
              "      <td>6</td>\n",
              "      <td>Wednesday</td>\n",
              "      <td>1</td>\n",
              "    </tr>\n",
              "  </tbody>\n",
              "</table>\n",
              "</div>"
            ],
            "text/plain": [
              "        Date     Country     Local  ... Day    Weekday WeekofYear\n",
              "0 2016-01-01  Country_01  Local_01  ...   1     Friday         53\n",
              "1 2016-01-02  Country_02  Local_02  ...   2   Saturday         53\n",
              "2 2016-01-06  Country_01  Local_03  ...   6  Wednesday          1\n",
              "\n",
              "[3 rows x 15 columns]"
            ]
          },
          "metadata": {},
          "execution_count": 100
        }
      ]
    },
    {
      "cell_type": "markdown",
      "metadata": {
        "id": "GAJL1QJ_srbh"
      },
      "source": [
        "Accordin to this discussion, countries where the dataset was collected is anonymized but they are all located in South America. So in this analysis, let's assume the dataset was collected in Brazil.\n",
        "It is said in this web page that Brazil has four climatological seasons as below.\n",
        "\n",
        "*   Spring : September to November\n",
        "*   Summer : December to February\n",
        "*   Autumn : March to May\n",
        "*   Winter : June to August\n",
        "\n",
        "We can create seasonal variable based on month variable.\n"
      ]
    },
    {
      "cell_type": "code",
      "metadata": {
        "id": "2_9VLApY4cxg"
      },
      "source": [
        "def month2seasons(x):\n",
        "    if x in [9, 10, 11]:\n",
        "        season = 'Spring'\n",
        "    elif x in [12, 1, 2]:\n",
        "        season = 'Summer'\n",
        "    elif x in [3, 4, 5]:\n",
        "        season = 'Autumn'\n",
        "    elif x in [6, 7, 8]:\n",
        "        season = 'Winter'\n",
        "    return season"
      ],
      "execution_count": 101,
      "outputs": []
    },
    {
      "cell_type": "code",
      "metadata": {
        "id": "QSezsoyk4cxh",
        "colab": {
          "base_uri": "https://localhost:8080/",
          "height": 372
        },
        "outputId": "133e9be2-26d0-4ce3-ee04-65d23983604e"
      },
      "source": [
        "industry_df['Season'] = industry_df['Month'].apply(month2seasons)\n",
        "industry_df.head(3)"
      ],
      "execution_count": 102,
      "outputs": [
        {
          "output_type": "execute_result",
          "data": {
            "text/html": [
              "<div>\n",
              "<style scoped>\n",
              "    .dataframe tbody tr th:only-of-type {\n",
              "        vertical-align: middle;\n",
              "    }\n",
              "\n",
              "    .dataframe tbody tr th {\n",
              "        vertical-align: top;\n",
              "    }\n",
              "\n",
              "    .dataframe thead th {\n",
              "        text-align: right;\n",
              "    }\n",
              "</style>\n",
              "<table border=\"1\" class=\"dataframe\">\n",
              "  <thead>\n",
              "    <tr style=\"text-align: right;\">\n",
              "      <th></th>\n",
              "      <th>Date</th>\n",
              "      <th>Country</th>\n",
              "      <th>Local</th>\n",
              "      <th>Industry_Sector</th>\n",
              "      <th>Accident_Level</th>\n",
              "      <th>Potential_Accident_Level</th>\n",
              "      <th>Gender</th>\n",
              "      <th>Employee_type</th>\n",
              "      <th>Critical_Risk</th>\n",
              "      <th>Description</th>\n",
              "      <th>Year</th>\n",
              "      <th>Month</th>\n",
              "      <th>Day</th>\n",
              "      <th>Weekday</th>\n",
              "      <th>WeekofYear</th>\n",
              "      <th>Season</th>\n",
              "    </tr>\n",
              "  </thead>\n",
              "  <tbody>\n",
              "    <tr>\n",
              "      <th>0</th>\n",
              "      <td>2016-01-01</td>\n",
              "      <td>Country_01</td>\n",
              "      <td>Local_01</td>\n",
              "      <td>Mining</td>\n",
              "      <td>I</td>\n",
              "      <td>IV</td>\n",
              "      <td>Male</td>\n",
              "      <td>Third Party</td>\n",
              "      <td>Pressed</td>\n",
              "      <td>While removing the drill rod of the Jumbo 08 f...</td>\n",
              "      <td>2016</td>\n",
              "      <td>1</td>\n",
              "      <td>1</td>\n",
              "      <td>Friday</td>\n",
              "      <td>53</td>\n",
              "      <td>Summer</td>\n",
              "    </tr>\n",
              "    <tr>\n",
              "      <th>1</th>\n",
              "      <td>2016-01-02</td>\n",
              "      <td>Country_02</td>\n",
              "      <td>Local_02</td>\n",
              "      <td>Mining</td>\n",
              "      <td>I</td>\n",
              "      <td>IV</td>\n",
              "      <td>Male</td>\n",
              "      <td>Employee</td>\n",
              "      <td>Pressurized Systems</td>\n",
              "      <td>During the activation of a sodium sulphide pum...</td>\n",
              "      <td>2016</td>\n",
              "      <td>1</td>\n",
              "      <td>2</td>\n",
              "      <td>Saturday</td>\n",
              "      <td>53</td>\n",
              "      <td>Summer</td>\n",
              "    </tr>\n",
              "    <tr>\n",
              "      <th>2</th>\n",
              "      <td>2016-01-06</td>\n",
              "      <td>Country_01</td>\n",
              "      <td>Local_03</td>\n",
              "      <td>Mining</td>\n",
              "      <td>I</td>\n",
              "      <td>III</td>\n",
              "      <td>Male</td>\n",
              "      <td>Third Party (Remote)</td>\n",
              "      <td>Manual Tools</td>\n",
              "      <td>In the sub-station MILPO located at level +170...</td>\n",
              "      <td>2016</td>\n",
              "      <td>1</td>\n",
              "      <td>6</td>\n",
              "      <td>Wednesday</td>\n",
              "      <td>1</td>\n",
              "      <td>Summer</td>\n",
              "    </tr>\n",
              "  </tbody>\n",
              "</table>\n",
              "</div>"
            ],
            "text/plain": [
              "        Date     Country     Local  ...    Weekday WeekofYear  Season\n",
              "0 2016-01-01  Country_01  Local_01  ...     Friday         53  Summer\n",
              "1 2016-01-02  Country_02  Local_02  ...   Saturday         53  Summer\n",
              "2 2016-01-06  Country_01  Local_03  ...  Wednesday          1  Summer\n",
              "\n",
              "[3 rows x 16 columns]"
            ]
          },
          "metadata": {},
          "execution_count": 102
        }
      ]
    },
    {
      "cell_type": "markdown",
      "metadata": {
        "id": "SkimxZVFtkQu"
      },
      "source": [
        "Let us check the time date and the spread of data across time."
      ]
    },
    {
      "cell_type": "code",
      "metadata": {
        "id": "SsZyEH6Q4cxh",
        "colab": {
          "base_uri": "https://localhost:8080/",
          "height": 238
        },
        "outputId": "f84031f0-3e3d-4426-cb1c-42f67e8716de"
      },
      "source": [
        "year_data = pd.DataFrame(industry_df.dtypes)\n",
        "year_data['NUnique']=industry_df.nunique()\n",
        "year_data.iloc[10:16]"
      ],
      "execution_count": 103,
      "outputs": [
        {
          "output_type": "execute_result",
          "data": {
            "text/html": [
              "<div>\n",
              "<style scoped>\n",
              "    .dataframe tbody tr th:only-of-type {\n",
              "        vertical-align: middle;\n",
              "    }\n",
              "\n",
              "    .dataframe tbody tr th {\n",
              "        vertical-align: top;\n",
              "    }\n",
              "\n",
              "    .dataframe thead th {\n",
              "        text-align: right;\n",
              "    }\n",
              "</style>\n",
              "<table border=\"1\" class=\"dataframe\">\n",
              "  <thead>\n",
              "    <tr style=\"text-align: right;\">\n",
              "      <th></th>\n",
              "      <th>0</th>\n",
              "      <th>NUnique</th>\n",
              "    </tr>\n",
              "  </thead>\n",
              "  <tbody>\n",
              "    <tr>\n",
              "      <th>Year</th>\n",
              "      <td>int64</td>\n",
              "      <td>2</td>\n",
              "    </tr>\n",
              "    <tr>\n",
              "      <th>Month</th>\n",
              "      <td>int64</td>\n",
              "      <td>12</td>\n",
              "    </tr>\n",
              "    <tr>\n",
              "      <th>Day</th>\n",
              "      <td>int64</td>\n",
              "      <td>31</td>\n",
              "    </tr>\n",
              "    <tr>\n",
              "      <th>Weekday</th>\n",
              "      <td>object</td>\n",
              "      <td>7</td>\n",
              "    </tr>\n",
              "    <tr>\n",
              "      <th>WeekofYear</th>\n",
              "      <td>int64</td>\n",
              "      <td>53</td>\n",
              "    </tr>\n",
              "    <tr>\n",
              "      <th>Season</th>\n",
              "      <td>object</td>\n",
              "      <td>4</td>\n",
              "    </tr>\n",
              "  </tbody>\n",
              "</table>\n",
              "</div>"
            ],
            "text/plain": [
              "                 0  NUnique\n",
              "Year         int64        2\n",
              "Month        int64       12\n",
              "Day          int64       31\n",
              "Weekday     object        7\n",
              "WeekofYear   int64       53\n",
              "Season      object        4"
            ]
          },
          "metadata": {},
          "execution_count": 103
        }
      ]
    },
    {
      "cell_type": "code",
      "metadata": {
        "id": "U2S2qqhC4cxi",
        "colab": {
          "base_uri": "https://localhost:8080/"
        },
        "outputId": "18d1a3e5-e3e9-4773-cf22-f466d29d27cc"
      },
      "source": [
        "datelist = ['Year','Month','Day','Weekday','Season']\n",
        "for x in datelist:\n",
        "    print('--'*30); print(f'Unique values of \"{x}\" column'); print('--'*30)\n",
        "    print(industry_df[x].unique())\n",
        "    print(\"\\n\")"
      ],
      "execution_count": 104,
      "outputs": [
        {
          "output_type": "stream",
          "name": "stdout",
          "text": [
            "------------------------------------------------------------\n",
            "Unique values of \"Year\" column\n",
            "------------------------------------------------------------\n",
            "[2016 2017]\n",
            "\n",
            "\n",
            "------------------------------------------------------------\n",
            "Unique values of \"Month\" column\n",
            "------------------------------------------------------------\n",
            "[ 1  2  3  4  5  6  7  8  9 10 11 12]\n",
            "\n",
            "\n",
            "------------------------------------------------------------\n",
            "Unique values of \"Day\" column\n",
            "------------------------------------------------------------\n",
            "[ 1  2  6  8 10 12 16 17 19 26 28 30  4  7 21 25  9 15 14 13 20 18 22 24\n",
            " 29 27  3  5 11 31 23]\n",
            "\n",
            "\n",
            "------------------------------------------------------------\n",
            "Unique values of \"Weekday\" column\n",
            "------------------------------------------------------------\n",
            "['Friday' 'Saturday' 'Wednesday' 'Sunday' 'Tuesday' 'Thursday' 'Monday']\n",
            "\n",
            "\n",
            "------------------------------------------------------------\n",
            "Unique values of \"Season\" column\n",
            "------------------------------------------------------------\n",
            "['Summer' 'Autumn' 'Winter' 'Spring']\n",
            "\n",
            "\n"
          ]
        }
      ]
    },
    {
      "cell_type": "markdown",
      "metadata": {
        "id": "-478UaJhtyPi"
      },
      "source": [
        "* We have accidents happened between 2016 to 2017 as per year column.\n",
        "* The accidents is spread across all months, days and weekday."
      ]
    },
    {
      "cell_type": "markdown",
      "metadata": {
        "id": "rtReqZ8_uEaP"
      },
      "source": [
        "Install pyspellchecker library for spell check."
      ]
    },
    {
      "cell_type": "code",
      "metadata": {
        "colab": {
          "base_uri": "https://localhost:8080/"
        },
        "id": "soP_mQjZuFF0",
        "outputId": "78b3c97a-b2ae-40f0-85af-cac2e78839eb"
      },
      "source": [
        "!pip install contractions\n",
        "!pip install pyspellchecker\n",
        "verbose= False"
      ],
      "execution_count": 105,
      "outputs": [
        {
          "output_type": "stream",
          "name": "stdout",
          "text": [
            "Requirement already satisfied: contractions in /usr/local/lib/python3.7/dist-packages (0.0.58)\n",
            "Requirement already satisfied: textsearch>=0.0.21 in /usr/local/lib/python3.7/dist-packages (from contractions) (0.0.21)\n",
            "Requirement already satisfied: pyahocorasick in /usr/local/lib/python3.7/dist-packages (from textsearch>=0.0.21->contractions) (1.4.2)\n",
            "Requirement already satisfied: anyascii in /usr/local/lib/python3.7/dist-packages (from textsearch>=0.0.21->contractions) (0.3.0)\n",
            "Requirement already satisfied: pyspellchecker in /usr/local/lib/python3.7/dist-packages (0.6.2)\n"
          ]
        }
      ]
    },
    {
      "cell_type": "markdown",
      "metadata": {
        "id": "iJ4uEJZavocE"
      },
      "source": [
        "We created a NLP_text_preprocess.py file and added all our preprocess steps there, from the config file we are passing the flags to our class PreProcessing in our python file.\n",
        "\n",
        "We are doing the following steps for our preprocessing.\n",
        "\n",
        "* Convert into Lower case\n",
        "* Removing the URl\n",
        "* Removing the Special characters\n",
        "* Removing Punctuation\n",
        "* Removing Whitespaces\n",
        "* Check the spelling mistakes\n",
        "* Removing the stopwords\n",
        "* Convert the words into lemma form"
      ]
    },
    {
      "cell_type": "code",
      "metadata": {
        "id": "kxYYz8yepOev"
      },
      "source": [
        "from NLP_text_preprocess import PreProcessing"
      ],
      "execution_count": 106,
      "outputs": []
    },
    {
      "cell_type": "code",
      "metadata": {
        "colab": {
          "base_uri": "https://localhost:8080/",
          "height": 52
        },
        "id": "dWNmRCKcu6mr",
        "outputId": "06d2bf32-2b76-4fde-e788-d1a1a42379c5"
      },
      "source": [
        "pp = PreProcessing(to_lower = config.to_lower,remove_url=config.remove_url,\n",
        "                   remove_time = config.remove_time,expand_contraction =config.expand_contraction,\n",
        "                   remove_special_character=config.remove_special_character,\n",
        "                   remove_punctuation=config.remove_punctuation,\n",
        "                   remove_whitespace=config.remove_whitespace,\n",
        "                   keep_alpha_numeric = False,\n",
        "                   check_spelling=config.check_spelling,\n",
        "                   remove_stopword=False,\n",
        "                   lemmatize_word=config.lemmatize_word)\n",
        "\n",
        "pp.preprocess(industry_df.Description[1])"
      ],
      "execution_count": 111,
      "outputs": [
        {
          "output_type": "execute_result",
          "data": {
            "application/vnd.google.colaboratory.intrinsic+json": {
              "type": "string"
            },
            "text/plain": [
              "'activation sodium sulphide pump piping uncoupled sulfide solution designed area reach maid immediately made use emergency shower directed ambulatory doctor later hospital note sulphide solution 48 gram liter'"
            ]
          },
          "metadata": {},
          "execution_count": 111
        }
      ]
    },
    {
      "cell_type": "markdown",
      "metadata": {
        "id": "reLEhzoouhdN"
      },
      "source": [
        "We Preprocess the entire description column and save it in Description_preprocessed."
      ]
    },
    {
      "cell_type": "code",
      "metadata": {
        "id": "fsxA5EwCx_Zm",
        "collapsed": true
      },
      "source": [
        "industry_df['Description_preprocessed'] = industry_df.Description.apply(lambda x: pp.preprocess(x))"
      ],
      "execution_count": 108,
      "outputs": []
    },
    {
      "cell_type": "code",
      "metadata": {
        "id": "hXR6daNf--qx",
        "colab": {
          "base_uri": "https://localhost:8080/",
          "height": 538
        },
        "outputId": "e1a9d088-0821-48d1-8192-146417719057"
      },
      "source": [
        "industry_df.head()"
      ],
      "execution_count": 109,
      "outputs": [
        {
          "output_type": "execute_result",
          "data": {
            "text/html": [
              "<div>\n",
              "<style scoped>\n",
              "    .dataframe tbody tr th:only-of-type {\n",
              "        vertical-align: middle;\n",
              "    }\n",
              "\n",
              "    .dataframe tbody tr th {\n",
              "        vertical-align: top;\n",
              "    }\n",
              "\n",
              "    .dataframe thead th {\n",
              "        text-align: right;\n",
              "    }\n",
              "</style>\n",
              "<table border=\"1\" class=\"dataframe\">\n",
              "  <thead>\n",
              "    <tr style=\"text-align: right;\">\n",
              "      <th></th>\n",
              "      <th>Date</th>\n",
              "      <th>Country</th>\n",
              "      <th>Local</th>\n",
              "      <th>Industry_Sector</th>\n",
              "      <th>Accident_Level</th>\n",
              "      <th>Potential_Accident_Level</th>\n",
              "      <th>Gender</th>\n",
              "      <th>Employee_type</th>\n",
              "      <th>Critical_Risk</th>\n",
              "      <th>Description</th>\n",
              "      <th>Year</th>\n",
              "      <th>Month</th>\n",
              "      <th>Day</th>\n",
              "      <th>Weekday</th>\n",
              "      <th>WeekofYear</th>\n",
              "      <th>Season</th>\n",
              "      <th>Description_preprocessed</th>\n",
              "    </tr>\n",
              "  </thead>\n",
              "  <tbody>\n",
              "    <tr>\n",
              "      <th>0</th>\n",
              "      <td>2016-01-01</td>\n",
              "      <td>Country_01</td>\n",
              "      <td>Local_01</td>\n",
              "      <td>Mining</td>\n",
              "      <td>I</td>\n",
              "      <td>IV</td>\n",
              "      <td>Male</td>\n",
              "      <td>Third Party</td>\n",
              "      <td>Pressed</td>\n",
              "      <td>While removing the drill rod of the Jumbo 08 f...</td>\n",
              "      <td>2016</td>\n",
              "      <td>1</td>\n",
              "      <td>1</td>\n",
              "      <td>Friday</td>\n",
              "      <td>53</td>\n",
              "      <td>Summer</td>\n",
              "      <td>removing drill rod jumbo 08 maintenance superv...</td>\n",
              "    </tr>\n",
              "    <tr>\n",
              "      <th>1</th>\n",
              "      <td>2016-01-02</td>\n",
              "      <td>Country_02</td>\n",
              "      <td>Local_02</td>\n",
              "      <td>Mining</td>\n",
              "      <td>I</td>\n",
              "      <td>IV</td>\n",
              "      <td>Male</td>\n",
              "      <td>Employee</td>\n",
              "      <td>Pressurized Systems</td>\n",
              "      <td>During the activation of a sodium sulphide pum...</td>\n",
              "      <td>2016</td>\n",
              "      <td>1</td>\n",
              "      <td>2</td>\n",
              "      <td>Saturday</td>\n",
              "      <td>53</td>\n",
              "      <td>Summer</td>\n",
              "      <td>activation sodium sulphide pump piping uncoupl...</td>\n",
              "    </tr>\n",
              "    <tr>\n",
              "      <th>2</th>\n",
              "      <td>2016-01-06</td>\n",
              "      <td>Country_01</td>\n",
              "      <td>Local_03</td>\n",
              "      <td>Mining</td>\n",
              "      <td>I</td>\n",
              "      <td>III</td>\n",
              "      <td>Male</td>\n",
              "      <td>Third Party (Remote)</td>\n",
              "      <td>Manual Tools</td>\n",
              "      <td>In the sub-station MILPO located at level +170...</td>\n",
              "      <td>2016</td>\n",
              "      <td>1</td>\n",
              "      <td>6</td>\n",
              "      <td>Wednesday</td>\n",
              "      <td>1</td>\n",
              "      <td>Summer</td>\n",
              "      <td>substation milo located level 170 collaborator...</td>\n",
              "    </tr>\n",
              "    <tr>\n",
              "      <th>3</th>\n",
              "      <td>2016-01-08</td>\n",
              "      <td>Country_01</td>\n",
              "      <td>Local_04</td>\n",
              "      <td>Mining</td>\n",
              "      <td>I</td>\n",
              "      <td>I</td>\n",
              "      <td>Male</td>\n",
              "      <td>Third Party</td>\n",
              "      <td>Others</td>\n",
              "      <td>Being 9:45 am. approximately in the Nv. 1880 C...</td>\n",
              "      <td>2016</td>\n",
              "      <td>1</td>\n",
              "      <td>8</td>\n",
              "      <td>Friday</td>\n",
              "      <td>1</td>\n",
              "      <td>Summer</td>\n",
              "      <td>approximately 1880 cx695 ob personnel begin ta...</td>\n",
              "    </tr>\n",
              "    <tr>\n",
              "      <th>4</th>\n",
              "      <td>2016-01-10</td>\n",
              "      <td>Country_01</td>\n",
              "      <td>Local_04</td>\n",
              "      <td>Mining</td>\n",
              "      <td>IV</td>\n",
              "      <td>IV</td>\n",
              "      <td>Male</td>\n",
              "      <td>Third Party</td>\n",
              "      <td>Others</td>\n",
              "      <td>Approximately at 11:45 a.m. in circumstances t...</td>\n",
              "      <td>2016</td>\n",
              "      <td>1</td>\n",
              "      <td>10</td>\n",
              "      <td>Sunday</td>\n",
              "      <td>1</td>\n",
              "      <td>Summer</td>\n",
              "      <td>approximately circumstance mechanic anthony gr...</td>\n",
              "    </tr>\n",
              "  </tbody>\n",
              "</table>\n",
              "</div>"
            ],
            "text/plain": [
              "        Date  ...                           Description_preprocessed\n",
              "0 2016-01-01  ...  removing drill rod jumbo 08 maintenance superv...\n",
              "1 2016-01-02  ...  activation sodium sulphide pump piping uncoupl...\n",
              "2 2016-01-06  ...  substation milo located level 170 collaborator...\n",
              "3 2016-01-08  ...  approximately 1880 cx695 ob personnel begin ta...\n",
              "4 2016-01-10  ...  approximately circumstance mechanic anthony gr...\n",
              "\n",
              "[5 rows x 17 columns]"
            ]
          },
          "metadata": {},
          "execution_count": 109
        }
      ]
    },
    {
      "cell_type": "code",
      "metadata": {
        "id": "XblrayvwKhXK"
      },
      "source": [
        "industry_df.to_csv('industry_df_preprocessed.csv', index=False)"
      ],
      "execution_count": 53,
      "outputs": []
    },
    {
      "cell_type": "code",
      "metadata": {
        "id": "h5sQ-rKcCO5i"
      },
      "source": [
        "industry_df = pd.read_csv(\"industry_df_preprocessed.csv\")"
      ],
      "execution_count": 76,
      "outputs": []
    },
    {
      "cell_type": "code",
      "metadata": {
        "id": "D8wsZWvISbRs",
        "outputId": "2903c48f-afbf-4f97-92a3-9ca4d5c6a710",
        "colab": {
          "base_uri": "https://localhost:8080/",
          "height": 238
        }
      },
      "source": [
        "pd.crosstab(industry_df['Accident_Level'],industry_df['Potential_Accident_Level'])"
      ],
      "execution_count": 80,
      "outputs": [
        {
          "output_type": "execute_result",
          "data": {
            "text/html": [
              "<div>\n",
              "<style scoped>\n",
              "    .dataframe tbody tr th:only-of-type {\n",
              "        vertical-align: middle;\n",
              "    }\n",
              "\n",
              "    .dataframe tbody tr th {\n",
              "        vertical-align: top;\n",
              "    }\n",
              "\n",
              "    .dataframe thead th {\n",
              "        text-align: right;\n",
              "    }\n",
              "</style>\n",
              "<table border=\"1\" class=\"dataframe\">\n",
              "  <thead>\n",
              "    <tr style=\"text-align: right;\">\n",
              "      <th>Potential_Accident_Level</th>\n",
              "      <th>I</th>\n",
              "      <th>II</th>\n",
              "      <th>III</th>\n",
              "      <th>IV</th>\n",
              "      <th>V</th>\n",
              "    </tr>\n",
              "    <tr>\n",
              "      <th>Accident_Level</th>\n",
              "      <th></th>\n",
              "      <th></th>\n",
              "      <th></th>\n",
              "      <th></th>\n",
              "      <th></th>\n",
              "    </tr>\n",
              "  </thead>\n",
              "  <tbody>\n",
              "    <tr>\n",
              "      <th>I</th>\n",
              "      <td>43</td>\n",
              "      <td>88</td>\n",
              "      <td>89</td>\n",
              "      <td>75</td>\n",
              "      <td>8</td>\n",
              "    </tr>\n",
              "    <tr>\n",
              "      <th>II</th>\n",
              "      <td>0</td>\n",
              "      <td>7</td>\n",
              "      <td>14</td>\n",
              "      <td>16</td>\n",
              "      <td>2</td>\n",
              "    </tr>\n",
              "    <tr>\n",
              "      <th>III</th>\n",
              "      <td>0</td>\n",
              "      <td>0</td>\n",
              "      <td>3</td>\n",
              "      <td>26</td>\n",
              "      <td>2</td>\n",
              "    </tr>\n",
              "    <tr>\n",
              "      <th>IV</th>\n",
              "      <td>0</td>\n",
              "      <td>0</td>\n",
              "      <td>0</td>\n",
              "      <td>21</td>\n",
              "      <td>9</td>\n",
              "    </tr>\n",
              "    <tr>\n",
              "      <th>V</th>\n",
              "      <td>0</td>\n",
              "      <td>0</td>\n",
              "      <td>0</td>\n",
              "      <td>0</td>\n",
              "      <td>8</td>\n",
              "    </tr>\n",
              "  </tbody>\n",
              "</table>\n",
              "</div>"
            ],
            "text/plain": [
              "Potential_Accident_Level   I  II  III  IV  V\n",
              "Accident_Level                              \n",
              "I                         43  88   89  75  8\n",
              "II                         0   7   14  16  2\n",
              "III                        0   0    3  26  2\n",
              "IV                         0   0    0  21  9\n",
              "V                          0   0    0   0  8"
            ]
          },
          "metadata": {},
          "execution_count": 80
        }
      ]
    },
    {
      "cell_type": "code",
      "metadata": {
        "id": "kEI76-c5TMN1",
        "outputId": "fdcad340-f7fb-4748-abb1-5195540f4355",
        "colab": {
          "base_uri": "https://localhost:8080/"
        }
      },
      "source": [
        "industry_df['Potential_Accident_Level'].value_counts()"
      ],
      "execution_count": 81,
      "outputs": [
        {
          "output_type": "execute_result",
          "data": {
            "text/plain": [
              "IV     138\n",
              "III    106\n",
              "II      95\n",
              "I       43\n",
              "V       29\n",
              "Name: Potential_Accident_Level, dtype: int64"
            ]
          },
          "metadata": {},
          "execution_count": 81
        }
      ]
    },
    {
      "cell_type": "code",
      "metadata": {
        "id": "NrTjL3jqSbgn",
        "outputId": "fa726896-ec27-44d5-9808-400c37561c5e",
        "colab": {
          "base_uri": "https://localhost:8080/"
        }
      },
      "source": [
        "industry_df['Accident_Level'].value_counts()"
      ],
      "execution_count": 82,
      "outputs": [
        {
          "output_type": "execute_result",
          "data": {
            "text/plain": [
              "I      303\n",
              "II      39\n",
              "III     31\n",
              "IV      30\n",
              "V        8\n",
              "Name: Accident_Level, dtype: int64"
            ]
          },
          "metadata": {},
          "execution_count": 82
        }
      ]
    },
    {
      "cell_type": "code",
      "metadata": {
        "id": "MGbUF-AE_TAL"
      },
      "source": [
        "from nltk.tokenize import word_tokenize\n",
        "from tqdm import tqdm\n",
        "\n",
        "from sklearn.model_selection import train_test_split\n",
        "from sklearn import metrics\n",
        "from sklearn.metrics import classification_report\n",
        "from sklearn.metrics import accuracy_score, f1_score, confusion_matrix, recall_score, precision_score, roc_auc_score\n",
        "from sklearn.preprocessing import LabelEncoder\n",
        "import pickle\n",
        "\n",
        "# Deep learning libraries\n",
        "import tensorflow as tf\n",
        "from tensorflow.keras.layers import Input\n",
        "from tensorflow.keras.models import Sequential\n",
        "from tensorflow.keras.models import Model\n",
        "from tensorflow.keras import optimizers\n",
        "from tensorflow.keras.layers import Dense, LSTM,  Embedding, Dropout, Bidirectional, GlobalMaxPool1D\n",
        "\n",
        "from keras.utils import np_utils\n",
        "from keras.layers.merge import Concatenate\n",
        "#from keras.utils import plot_model\n",
        "\n",
        "from tensorflow.keras.callbacks import ReduceLROnPlateau\n",
        "from tensorflow.keras.callbacks import EarlyStopping\n",
        "from tensorflow.keras.callbacks import ModelCheckpoint\n",
        "\n",
        "from tensorflow.keras.models import load_model\n",
        "from tensorflow.keras.models import model_from_json\n",
        "from tensorflow.keras.wrappers.scikit_learn import KerasClassifier\n",
        "\n",
        "# Keras pre-processing\n",
        "from tensorflow.keras.preprocessing.text import Tokenizer\n",
        "from tensorflow.keras.preprocessing.sequence import pad_sequences\n"
      ],
      "execution_count": 18,
      "outputs": []
    },
    {
      "cell_type": "code",
      "metadata": {
        "id": "2_D0_kFa-5RR"
      },
      "source": [
        "# Select input and output features\n",
        "\n",
        "X_text = industry_df['Description_preprocessed']\n",
        "y_text = industry_df['Accident_Level']"
      ],
      "execution_count": 58,
      "outputs": []
    },
    {
      "cell_type": "code",
      "metadata": {
        "id": "dT20xvR6_GK4"
      },
      "source": [
        "# Encode labels in column 'Potential Accident Level'and Convert into one-hot encoded vectors:\n",
        "y_text = LabelEncoder().fit_transform(y_text)\n",
        "y_text = np_utils.to_categorical(y_text)"
      ],
      "execution_count": 59,
      "outputs": []
    },
    {
      "cell_type": "code",
      "metadata": {
        "colab": {
          "base_uri": "https://localhost:8080/"
        },
        "id": "1BnKuI5z_PoB",
        "outputId": "53f3a55b-2073-439b-d2dc-88ca6c494f48"
      },
      "source": [
        "# Divide our data into testing and training sets:\n",
        "X_text_train, X_text_test, y_text_train, y_text_test = train_test_split(X_text, y_text, test_size = 0.30, random_state = 1)\n",
        "\n",
        "print('X_text_train shape : ({0})'.format(X_text_train.shape))\n",
        "print('y_text_train shape : ({0},)'.format(y_text_train.shape))\n",
        "print('X_text_test shape : ({0})'.format(X_text_test.shape))\n",
        "print('y_text_test shape : ({0},)'.format(y_text_test.shape))"
      ],
      "execution_count": 60,
      "outputs": [
        {
          "output_type": "stream",
          "name": "stdout",
          "text": [
            "X_text_train shape : ((328,))\n",
            "y_text_train shape : ((328, 5),)\n",
            "X_text_test shape : ((83,))\n",
            "y_text_test shape : ((83, 5),)\n"
          ]
        }
      ]
    },
    {
      "cell_type": "code",
      "metadata": {
        "colab": {
          "base_uri": "https://localhost:8080/"
        },
        "id": "R2RqnZb3dES4",
        "outputId": "af21da86-e2bb-4ce4-85da-17ab4cdefd98"
      },
      "source": [
        "y_text_train.shape,y_text_test.shape"
      ],
      "execution_count": 61,
      "outputs": [
        {
          "output_type": "execute_result",
          "data": {
            "text/plain": [
              "((328, 5), (83, 5))"
            ]
          },
          "metadata": {},
          "execution_count": 61
        }
      ]
    },
    {
      "cell_type": "code",
      "metadata": {
        "colab": {
          "base_uri": "https://localhost:8080/"
        },
        "id": "TSsdsx9YNBvN",
        "outputId": "c3c6b613-46b9-40a9-bf4b-5b5824f590c0"
      },
      "source": [
        "industry_df['nb_words'] = industry_df['Description_preprocessed'].apply(lambda x: len(x.split(' ')))\n",
        "\n",
        "print('Minimum number of words: {}'.format(industry_df['nb_words'].min()))\n",
        "print('Maximum number of words: {}'.format(industry_df['nb_words'].max()))"
      ],
      "execution_count": 62,
      "outputs": [
        {
          "output_type": "stream",
          "name": "stdout",
          "text": [
            "Minimum number of words: 9\n",
            "Maximum number of words: 99\n"
          ]
        }
      ]
    },
    {
      "cell_type": "code",
      "metadata": {
        "id": "XXBzX8egDU2b"
      },
      "source": [
        "# The first step in word embeddings is to convert the words into thier corresponding numeric indexes.\n",
        "tokenizer = Tokenizer(num_words=3000)\n",
        "tokenizer.fit_on_texts(X_text_train)\n",
        "\n",
        "X_text_train = tokenizer.texts_to_sequences(X_text_train)\n",
        "X_text_test = tokenizer.texts_to_sequences(X_text_test)"
      ],
      "execution_count": 63,
      "outputs": []
    },
    {
      "cell_type": "code",
      "metadata": {
        "colab": {
          "base_uri": "https://localhost:8080/"
        },
        "id": "RkIWW1RFNeUP",
        "outputId": "255bff7c-95b0-4a32-eac9-f7988fc9cc5b"
      },
      "source": [
        "vocab_size = len(tokenizer.word_index) + 1\n",
        "print(\"vocab_size:\", vocab_size)\n",
        "\n",
        "maxlen = 100\n",
        "\n",
        "X_text_train = pad_sequences(X_text_train, padding='post', maxlen=maxlen)\n",
        "X_text_test = pad_sequences(X_text_test, padding='post', maxlen=maxlen)"
      ],
      "execution_count": 64,
      "outputs": [
        {
          "output_type": "stream",
          "name": "stdout",
          "text": [
            "vocab_size: 2744\n"
          ]
        }
      ]
    },
    {
      "cell_type": "code",
      "metadata": {
        "colab": {
          "base_uri": "https://localhost:8080/"
        },
        "id": "VpTBhyYyQ0pV",
        "outputId": "98b00968-8abf-4d33-c7e2-ede87343a456"
      },
      "source": [
        "!wget http://nlp.stanford.edu/data/glove.6B.zip\n",
        "!unzip glove*.zip"
      ],
      "execution_count": 48,
      "outputs": [
        {
          "output_type": "stream",
          "name": "stdout",
          "text": [
            "--2021-12-05 06:24:04--  http://nlp.stanford.edu/data/glove.6B.zip\n",
            "Resolving nlp.stanford.edu (nlp.stanford.edu)... 171.64.67.140\n",
            "Connecting to nlp.stanford.edu (nlp.stanford.edu)|171.64.67.140|:80... connected.\n",
            "HTTP request sent, awaiting response... 302 Found\n",
            "Location: https://nlp.stanford.edu/data/glove.6B.zip [following]\n",
            "--2021-12-05 06:24:04--  https://nlp.stanford.edu/data/glove.6B.zip\n",
            "Connecting to nlp.stanford.edu (nlp.stanford.edu)|171.64.67.140|:443... connected.\n",
            "HTTP request sent, awaiting response... 301 Moved Permanently\n",
            "Location: http://downloads.cs.stanford.edu/nlp/data/glove.6B.zip [following]\n",
            "--2021-12-05 06:24:05--  http://downloads.cs.stanford.edu/nlp/data/glove.6B.zip\n",
            "Resolving downloads.cs.stanford.edu (downloads.cs.stanford.edu)... 171.64.64.22\n",
            "Connecting to downloads.cs.stanford.edu (downloads.cs.stanford.edu)|171.64.64.22|:80... connected.\n",
            "HTTP request sent, awaiting response... 200 OK\n",
            "Length: 862182613 (822M) [application/zip]\n",
            "Saving to: ‘glove.6B.zip’\n",
            "\n",
            "glove.6B.zip        100%[===================>] 822.24M  5.04MB/s    in 2m 42s  \n",
            "\n",
            "2021-12-05 06:26:47 (5.08 MB/s) - ‘glove.6B.zip’ saved [862182613/862182613]\n",
            "\n",
            "Archive:  glove.6B.zip\n",
            "  inflating: glove.6B.50d.txt        \n",
            "  inflating: glove.6B.100d.txt       \n",
            "  inflating: glove.6B.200d.txt       \n",
            "  inflating: glove.6B.300d.txt       \n"
          ]
        }
      ]
    },
    {
      "cell_type": "code",
      "metadata": {
        "colab": {
          "base_uri": "https://localhost:8080/"
        },
        "id": "58Pks68CQ6ir",
        "outputId": "ef85c6b5-1128-45b4-ed59-1b8d8bbdafc2"
      },
      "source": [
        "!ls\n",
        "!pwd"
      ],
      "execution_count": 49,
      "outputs": [
        {
          "output_type": "stream",
          "name": "stdout",
          "text": [
            "'AIML Capstone Project - NLP chatbot.pdf'\n",
            " Capstone_NLP_Chatbot_Jan_A_G4.ipynb\n",
            " Chatbot.ipynb\n",
            " config.py\n",
            " data\n",
            "'Data Set - industrial_safety_and_health_database_with_accidents_description.csv'\n",
            "'GL Bot.json'\n",
            " glove.6B.100d.txt\n",
            " glove.6B.200d.txt\n",
            " glove.6B.300d.txt\n",
            " glove.6B.50d.txt\n",
            " glove.6B.zip\n",
            " industry_df_preprocessed.csv\n",
            " NLP_text_preprocess.py\n",
            " Pradeebha_Capstone_NLP_Chatbot_Jan_A_G4.ipynb\n",
            " __pycache__\n",
            " README.md\n",
            "/content/drive/My Drive/AIML/Capstone/Jan-G4---NLP-Chatbot\n"
          ]
        }
      ]
    },
    {
      "cell_type": "code",
      "metadata": {
        "colab": {
          "base_uri": "https://localhost:8080/"
        },
        "id": "ppsOlnwzQ9nP",
        "outputId": "b30299f8-c958-4384-d5c6-c91cc2ce754d"
      },
      "source": [
        "print('Indexing word vectors.')\n",
        "\n",
        "embeddings_dictionary = {}\n",
        "f = open('glove.6B.200d.txt', encoding='utf-8')\n",
        "for line in f:\n",
        "    values = line.split()\n",
        "    word = values[0]\n",
        "    coefs = np.asarray(values[1:], dtype='float32')\n",
        "    embeddings_dictionary[word] = coefs\n",
        "f.close()\n",
        "\n",
        "print('Found %s word vectors.' % len(embeddings_dictionary))"
      ],
      "execution_count": 50,
      "outputs": [
        {
          "output_type": "stream",
          "name": "stdout",
          "text": [
            "Indexing word vectors.\n",
            "Found 400000 word vectors.\n"
          ]
        }
      ]
    },
    {
      "cell_type": "code",
      "metadata": {
        "id": "bEfVsM7IRJOT"
      },
      "source": [
        "import pickle\n",
        "pickle.dump({'embeddings_dictionary' : embeddings_dictionary } , open('/content/drive/MyDrive/AIML/Capstone/embeddings_dictionary.pickle', 'wb'))"
      ],
      "execution_count": 55,
      "outputs": []
    },
    {
      "cell_type": "code",
      "metadata": {
        "id": "vaSid2m4TL94"
      },
      "source": [
        "import pickle\n",
        "infile = open('/content/drive/MyDrive/AIML/Capstone/embeddings_dictionary.pickle','rb')\n",
        "embeddings_dictionary = pickle.load(infile)"
      ],
      "execution_count": 27,
      "outputs": []
    },
    {
      "cell_type": "code",
      "metadata": {
        "colab": {
          "base_uri": "https://localhost:8080/"
        },
        "id": "62ApqzcCOESX",
        "outputId": "61b89176-f388-45d2-d149-15ba57b86329"
      },
      "source": [
        "embedding_size = 200\n",
        "\n",
        "embedding_matrix = np.zeros((vocab_size, embedding_size))\n",
        "\n",
        "for word, index in tokenizer.word_index.items():\n",
        "    embedding_vector = embeddings_dictionary.get(word)\n",
        "    if embedding_vector is not None:\n",
        "        embedding_matrix[index] = embedding_vector\n",
        "embedding_matrix.shape"
      ],
      "execution_count": 65,
      "outputs": [
        {
          "output_type": "execute_result",
          "data": {
            "text/plain": [
              "(2744, 200)"
            ]
          },
          "metadata": {},
          "execution_count": 65
        }
      ]
    },
    {
      "cell_type": "code",
      "metadata": {
        "id": "Md_bC5CAWUaO"
      },
      "source": [
        "base_model = Sequential()\n",
        "base_model.add(Embedding(vocab_size, output_dim=embedding_size, weights=[embedding_matrix], input_length=100, trainable=True))\n",
        "#LSTM \n",
        "base_model.add(Bidirectional(LSTM(units=128 , recurrent_dropout = 0.5 , dropout = 0.5)))\n",
        "base_model.add(Dense(5, activation='sigmoid'))\n",
        "base_model.compile(optimizer=optimizers.Adam(lr = 0.001), loss='binary_crossentropy', metrics=['acc'])"
      ],
      "execution_count": 66,
      "outputs": []
    },
    {
      "cell_type": "code",
      "metadata": {
        "colab": {
          "base_uri": "https://localhost:8080/"
        },
        "id": "bONs7fRRW8We",
        "outputId": "e4c515dd-885e-4f28-d3da-aba9f590dd9a"
      },
      "source": [
        "base_model.summary()"
      ],
      "execution_count": 33,
      "outputs": [
        {
          "output_type": "stream",
          "name": "stdout",
          "text": [
            "Model: \"sequential_1\"\n",
            "_________________________________________________________________\n",
            " Layer (type)                Output Shape              Param #   \n",
            "=================================================================\n",
            " embedding_1 (Embedding)     (None, 100, 200)          548800    \n",
            "                                                                 \n",
            " bidirectional_1 (Bidirectio  (None, 256)              336896    \n",
            " nal)                                                            \n",
            "                                                                 \n",
            " dense_1 (Dense)             (None, 5)                 1285      \n",
            "                                                                 \n",
            "=================================================================\n",
            "Total params: 886,981\n",
            "Trainable params: 886,981\n",
            "Non-trainable params: 0\n",
            "_________________________________________________________________\n"
          ]
        }
      ]
    },
    {
      "cell_type": "code",
      "metadata": {
        "colab": {
          "base_uri": "https://localhost:8080/"
        },
        "id": "Kve3a2dVcEDC",
        "outputId": "a8457324-a22d-43d3-e878-4824673914fe"
      },
      "source": [
        "X_text_train.shape,y_text_train.shape,X_text_test.shape, y_text_test.shape"
      ],
      "execution_count": 67,
      "outputs": [
        {
          "output_type": "execute_result",
          "data": {
            "text/plain": [
              "((328, 100), (328, 5), (83, 100), (83, 5))"
            ]
          },
          "metadata": {},
          "execution_count": 67
        }
      ]
    },
    {
      "cell_type": "code",
      "metadata": {
        "id": "NX7YiTqFSTD0",
        "outputId": "5da6a21b-2cf4-4be2-d751-f56509e5d153",
        "colab": {
          "base_uri": "https://localhost:8080/"
        }
      },
      "source": [
        "y_text_train"
      ],
      "execution_count": 75,
      "outputs": [
        {
          "output_type": "execute_result",
          "data": {
            "text/plain": [
              "array([[1., 0., 0., 0., 0.],\n",
              "       [1., 0., 0., 0., 0.],\n",
              "       [1., 0., 0., 0., 0.],\n",
              "       ...,\n",
              "       [0., 1., 0., 0., 0.],\n",
              "       [1., 0., 0., 0., 0.],\n",
              "       [1., 0., 0., 0., 0.]], dtype=float32)"
            ]
          },
          "metadata": {},
          "execution_count": 75
        }
      ]
    },
    {
      "cell_type": "code",
      "metadata": {
        "colab": {
          "base_uri": "https://localhost:8080/",
          "height": 712
        },
        "id": "NEo9P-nlYaQV",
        "outputId": "da035aae-bcc1-49f5-8378-86a9fe71dca1"
      },
      "source": [
        "callback = tf.keras.callbacks.EarlyStopping(monitor='loss', patience=3, min_delta=0.001)\n",
        "rlrp = ReduceLROnPlateau(monitor='val_loss', factor=0.001, patience=3, min_delta=1E-4)\n",
        "\n",
        "# fit the keras model on the dataset\n",
        "base_model_history = base_model.fit(X_text_train, y_text_train, epochs=20, batch_size=8, verbose=1, validation_data=(X_text_test, y_text_test), callbacks=[rlrp])"
      ],
      "execution_count": 68,
      "outputs": [
        {
          "output_type": "stream",
          "name": "stdout",
          "text": [
            "Epoch 1/20\n",
            "41/41 [==============================] - 25s 506ms/step - loss: 0.4043 - acc: 0.7317 - val_loss: 0.2861 - val_acc: 0.7590 - lr: 0.0010\n",
            "Epoch 2/20\n",
            "41/41 [==============================] - 20s 490ms/step - loss: 0.2949 - acc: 0.7317 - val_loss: 0.2790 - val_acc: 0.7590 - lr: 0.0010\n",
            "Epoch 3/20\n",
            "41/41 [==============================] - 20s 491ms/step - loss: 0.1916 - acc: 0.7622 - val_loss: 0.3502 - val_acc: 0.7108 - lr: 0.0010\n",
            "Epoch 4/20\n",
            "41/41 [==============================] - 20s 486ms/step - loss: 0.1471 - acc: 0.8384 - val_loss: 0.3653 - val_acc: 0.6867 - lr: 0.0010\n",
            "Epoch 5/20\n",
            "41/41 [==============================] - 20s 485ms/step - loss: 0.1257 - acc: 0.8628 - val_loss: 0.4179 - val_acc: 0.6747 - lr: 0.0010\n",
            "Epoch 6/20\n",
            "41/41 [==============================] - 20s 490ms/step - loss: 0.1088 - acc: 0.8963 - val_loss: 0.4180 - val_acc: 0.6747 - lr: 1.0000e-06\n",
            "Epoch 7/20\n",
            "41/41 [==============================] - 20s 489ms/step - loss: 0.1080 - acc: 0.8994 - val_loss: 0.4181 - val_acc: 0.6747 - lr: 1.0000e-06\n",
            "Epoch 8/20\n",
            "41/41 [==============================] - 20s 489ms/step - loss: 0.1081 - acc: 0.8872 - val_loss: 0.4183 - val_acc: 0.6747 - lr: 1.0000e-06\n",
            "Epoch 9/20\n",
            "13/41 [========>.....................] - ETA: 13s - loss: 0.0958 - acc: 0.9038"
          ]
        },
        {
          "output_type": "error",
          "ename": "KeyboardInterrupt",
          "evalue": "ignored",
          "traceback": [
            "\u001b[0;31m---------------------------------------------------------------------------\u001b[0m",
            "\u001b[0;31mKeyboardInterrupt\u001b[0m                         Traceback (most recent call last)",
            "\u001b[0;32m<ipython-input-68-5d5a33501011>\u001b[0m in \u001b[0;36m<module>\u001b[0;34m()\u001b[0m\n\u001b[1;32m      3\u001b[0m \u001b[0;34m\u001b[0m\u001b[0m\n\u001b[1;32m      4\u001b[0m \u001b[0;31m# fit the keras model on the dataset\u001b[0m\u001b[0;34m\u001b[0m\u001b[0;34m\u001b[0m\u001b[0;34m\u001b[0m\u001b[0m\n\u001b[0;32m----> 5\u001b[0;31m \u001b[0mbase_model_history\u001b[0m \u001b[0;34m=\u001b[0m \u001b[0mbase_model\u001b[0m\u001b[0;34m.\u001b[0m\u001b[0mfit\u001b[0m\u001b[0;34m(\u001b[0m\u001b[0mX_text_train\u001b[0m\u001b[0;34m,\u001b[0m \u001b[0my_text_train\u001b[0m\u001b[0;34m,\u001b[0m \u001b[0mepochs\u001b[0m\u001b[0;34m=\u001b[0m\u001b[0;36m20\u001b[0m\u001b[0;34m,\u001b[0m \u001b[0mbatch_size\u001b[0m\u001b[0;34m=\u001b[0m\u001b[0;36m8\u001b[0m\u001b[0;34m,\u001b[0m \u001b[0mverbose\u001b[0m\u001b[0;34m=\u001b[0m\u001b[0;36m1\u001b[0m\u001b[0;34m,\u001b[0m \u001b[0mvalidation_data\u001b[0m\u001b[0;34m=\u001b[0m\u001b[0;34m(\u001b[0m\u001b[0mX_text_test\u001b[0m\u001b[0;34m,\u001b[0m \u001b[0my_text_test\u001b[0m\u001b[0;34m)\u001b[0m\u001b[0;34m,\u001b[0m \u001b[0mcallbacks\u001b[0m\u001b[0;34m=\u001b[0m\u001b[0;34m[\u001b[0m\u001b[0mrlrp\u001b[0m\u001b[0;34m]\u001b[0m\u001b[0;34m)\u001b[0m\u001b[0;34m\u001b[0m\u001b[0;34m\u001b[0m\u001b[0m\n\u001b[0m",
            "\u001b[0;32m/usr/local/lib/python3.7/dist-packages/keras/utils/traceback_utils.py\u001b[0m in \u001b[0;36merror_handler\u001b[0;34m(*args, **kwargs)\u001b[0m\n\u001b[1;32m     62\u001b[0m     \u001b[0mfiltered_tb\u001b[0m \u001b[0;34m=\u001b[0m \u001b[0;32mNone\u001b[0m\u001b[0;34m\u001b[0m\u001b[0;34m\u001b[0m\u001b[0m\n\u001b[1;32m     63\u001b[0m     \u001b[0;32mtry\u001b[0m\u001b[0;34m:\u001b[0m\u001b[0;34m\u001b[0m\u001b[0;34m\u001b[0m\u001b[0m\n\u001b[0;32m---> 64\u001b[0;31m       \u001b[0;32mreturn\u001b[0m \u001b[0mfn\u001b[0m\u001b[0;34m(\u001b[0m\u001b[0;34m*\u001b[0m\u001b[0margs\u001b[0m\u001b[0;34m,\u001b[0m \u001b[0;34m**\u001b[0m\u001b[0mkwargs\u001b[0m\u001b[0;34m)\u001b[0m\u001b[0;34m\u001b[0m\u001b[0;34m\u001b[0m\u001b[0m\n\u001b[0m\u001b[1;32m     65\u001b[0m     \u001b[0;32mexcept\u001b[0m \u001b[0mException\u001b[0m \u001b[0;32mas\u001b[0m \u001b[0me\u001b[0m\u001b[0;34m:\u001b[0m  \u001b[0;31m# pylint: disable=broad-except\u001b[0m\u001b[0;34m\u001b[0m\u001b[0;34m\u001b[0m\u001b[0m\n\u001b[1;32m     66\u001b[0m       \u001b[0mfiltered_tb\u001b[0m \u001b[0;34m=\u001b[0m \u001b[0m_process_traceback_frames\u001b[0m\u001b[0;34m(\u001b[0m\u001b[0me\u001b[0m\u001b[0;34m.\u001b[0m\u001b[0m__traceback__\u001b[0m\u001b[0;34m)\u001b[0m\u001b[0;34m\u001b[0m\u001b[0;34m\u001b[0m\u001b[0m\n",
            "\u001b[0;32m/usr/local/lib/python3.7/dist-packages/keras/engine/training.py\u001b[0m in \u001b[0;36mfit\u001b[0;34m(self, x, y, batch_size, epochs, verbose, callbacks, validation_split, validation_data, shuffle, class_weight, sample_weight, initial_epoch, steps_per_epoch, validation_steps, validation_batch_size, validation_freq, max_queue_size, workers, use_multiprocessing)\u001b[0m\n\u001b[1;32m   1214\u001b[0m                 _r=1):\n\u001b[1;32m   1215\u001b[0m               \u001b[0mcallbacks\u001b[0m\u001b[0;34m.\u001b[0m\u001b[0mon_train_batch_begin\u001b[0m\u001b[0;34m(\u001b[0m\u001b[0mstep\u001b[0m\u001b[0;34m)\u001b[0m\u001b[0;34m\u001b[0m\u001b[0;34m\u001b[0m\u001b[0m\n\u001b[0;32m-> 1216\u001b[0;31m               \u001b[0mtmp_logs\u001b[0m \u001b[0;34m=\u001b[0m \u001b[0mself\u001b[0m\u001b[0;34m.\u001b[0m\u001b[0mtrain_function\u001b[0m\u001b[0;34m(\u001b[0m\u001b[0miterator\u001b[0m\u001b[0;34m)\u001b[0m\u001b[0;34m\u001b[0m\u001b[0;34m\u001b[0m\u001b[0m\n\u001b[0m\u001b[1;32m   1217\u001b[0m               \u001b[0;32mif\u001b[0m \u001b[0mdata_handler\u001b[0m\u001b[0;34m.\u001b[0m\u001b[0mshould_sync\u001b[0m\u001b[0;34m:\u001b[0m\u001b[0;34m\u001b[0m\u001b[0;34m\u001b[0m\u001b[0m\n\u001b[1;32m   1218\u001b[0m                 \u001b[0mcontext\u001b[0m\u001b[0;34m.\u001b[0m\u001b[0masync_wait\u001b[0m\u001b[0;34m(\u001b[0m\u001b[0;34m)\u001b[0m\u001b[0;34m\u001b[0m\u001b[0;34m\u001b[0m\u001b[0m\n",
            "\u001b[0;32m/usr/local/lib/python3.7/dist-packages/tensorflow/python/util/traceback_utils.py\u001b[0m in \u001b[0;36merror_handler\u001b[0;34m(*args, **kwargs)\u001b[0m\n\u001b[1;32m    148\u001b[0m     \u001b[0mfiltered_tb\u001b[0m \u001b[0;34m=\u001b[0m \u001b[0;32mNone\u001b[0m\u001b[0;34m\u001b[0m\u001b[0;34m\u001b[0m\u001b[0m\n\u001b[1;32m    149\u001b[0m     \u001b[0;32mtry\u001b[0m\u001b[0;34m:\u001b[0m\u001b[0;34m\u001b[0m\u001b[0;34m\u001b[0m\u001b[0m\n\u001b[0;32m--> 150\u001b[0;31m       \u001b[0;32mreturn\u001b[0m \u001b[0mfn\u001b[0m\u001b[0;34m(\u001b[0m\u001b[0;34m*\u001b[0m\u001b[0margs\u001b[0m\u001b[0;34m,\u001b[0m \u001b[0;34m**\u001b[0m\u001b[0mkwargs\u001b[0m\u001b[0;34m)\u001b[0m\u001b[0;34m\u001b[0m\u001b[0;34m\u001b[0m\u001b[0m\n\u001b[0m\u001b[1;32m    151\u001b[0m     \u001b[0;32mexcept\u001b[0m \u001b[0mException\u001b[0m \u001b[0;32mas\u001b[0m \u001b[0me\u001b[0m\u001b[0;34m:\u001b[0m\u001b[0;34m\u001b[0m\u001b[0;34m\u001b[0m\u001b[0m\n\u001b[1;32m    152\u001b[0m       \u001b[0mfiltered_tb\u001b[0m \u001b[0;34m=\u001b[0m \u001b[0m_process_traceback_frames\u001b[0m\u001b[0;34m(\u001b[0m\u001b[0me\u001b[0m\u001b[0;34m.\u001b[0m\u001b[0m__traceback__\u001b[0m\u001b[0;34m)\u001b[0m\u001b[0;34m\u001b[0m\u001b[0;34m\u001b[0m\u001b[0m\n",
            "\u001b[0;32m/usr/local/lib/python3.7/dist-packages/tensorflow/python/eager/def_function.py\u001b[0m in \u001b[0;36m__call__\u001b[0;34m(self, *args, **kwds)\u001b[0m\n\u001b[1;32m    908\u001b[0m \u001b[0;34m\u001b[0m\u001b[0m\n\u001b[1;32m    909\u001b[0m       \u001b[0;32mwith\u001b[0m \u001b[0mOptionalXlaContext\u001b[0m\u001b[0;34m(\u001b[0m\u001b[0mself\u001b[0m\u001b[0;34m.\u001b[0m\u001b[0m_jit_compile\u001b[0m\u001b[0;34m)\u001b[0m\u001b[0;34m:\u001b[0m\u001b[0;34m\u001b[0m\u001b[0;34m\u001b[0m\u001b[0m\n\u001b[0;32m--> 910\u001b[0;31m         \u001b[0mresult\u001b[0m \u001b[0;34m=\u001b[0m \u001b[0mself\u001b[0m\u001b[0;34m.\u001b[0m\u001b[0m_call\u001b[0m\u001b[0;34m(\u001b[0m\u001b[0;34m*\u001b[0m\u001b[0margs\u001b[0m\u001b[0;34m,\u001b[0m \u001b[0;34m**\u001b[0m\u001b[0mkwds\u001b[0m\u001b[0;34m)\u001b[0m\u001b[0;34m\u001b[0m\u001b[0;34m\u001b[0m\u001b[0m\n\u001b[0m\u001b[1;32m    911\u001b[0m \u001b[0;34m\u001b[0m\u001b[0m\n\u001b[1;32m    912\u001b[0m       \u001b[0mnew_tracing_count\u001b[0m \u001b[0;34m=\u001b[0m \u001b[0mself\u001b[0m\u001b[0;34m.\u001b[0m\u001b[0mexperimental_get_tracing_count\u001b[0m\u001b[0;34m(\u001b[0m\u001b[0;34m)\u001b[0m\u001b[0;34m\u001b[0m\u001b[0;34m\u001b[0m\u001b[0m\n",
            "\u001b[0;32m/usr/local/lib/python3.7/dist-packages/tensorflow/python/eager/def_function.py\u001b[0m in \u001b[0;36m_call\u001b[0;34m(self, *args, **kwds)\u001b[0m\n\u001b[1;32m    940\u001b[0m       \u001b[0;31m# In this case we have created variables on the first call, so we run the\u001b[0m\u001b[0;34m\u001b[0m\u001b[0;34m\u001b[0m\u001b[0;34m\u001b[0m\u001b[0m\n\u001b[1;32m    941\u001b[0m       \u001b[0;31m# defunned version which is guaranteed to never create variables.\u001b[0m\u001b[0;34m\u001b[0m\u001b[0;34m\u001b[0m\u001b[0;34m\u001b[0m\u001b[0m\n\u001b[0;32m--> 942\u001b[0;31m       \u001b[0;32mreturn\u001b[0m \u001b[0mself\u001b[0m\u001b[0;34m.\u001b[0m\u001b[0m_stateless_fn\u001b[0m\u001b[0;34m(\u001b[0m\u001b[0;34m*\u001b[0m\u001b[0margs\u001b[0m\u001b[0;34m,\u001b[0m \u001b[0;34m**\u001b[0m\u001b[0mkwds\u001b[0m\u001b[0;34m)\u001b[0m  \u001b[0;31m# pylint: disable=not-callable\u001b[0m\u001b[0;34m\u001b[0m\u001b[0;34m\u001b[0m\u001b[0m\n\u001b[0m\u001b[1;32m    943\u001b[0m     \u001b[0;32melif\u001b[0m \u001b[0mself\u001b[0m\u001b[0;34m.\u001b[0m\u001b[0m_stateful_fn\u001b[0m \u001b[0;32mis\u001b[0m \u001b[0;32mnot\u001b[0m \u001b[0;32mNone\u001b[0m\u001b[0;34m:\u001b[0m\u001b[0;34m\u001b[0m\u001b[0;34m\u001b[0m\u001b[0m\n\u001b[1;32m    944\u001b[0m       \u001b[0;31m# Release the lock early so that multiple threads can perform the call\u001b[0m\u001b[0;34m\u001b[0m\u001b[0;34m\u001b[0m\u001b[0;34m\u001b[0m\u001b[0m\n",
            "\u001b[0;32m/usr/local/lib/python3.7/dist-packages/tensorflow/python/eager/function.py\u001b[0m in \u001b[0;36m__call__\u001b[0;34m(self, *args, **kwargs)\u001b[0m\n\u001b[1;32m   3129\u001b[0m        filtered_flat_args) = self._maybe_define_function(args, kwargs)\n\u001b[1;32m   3130\u001b[0m     return graph_function._call_flat(\n\u001b[0;32m-> 3131\u001b[0;31m         filtered_flat_args, captured_inputs=graph_function.captured_inputs)  # pylint: disable=protected-access\n\u001b[0m\u001b[1;32m   3132\u001b[0m \u001b[0;34m\u001b[0m\u001b[0m\n\u001b[1;32m   3133\u001b[0m   \u001b[0;34m@\u001b[0m\u001b[0mproperty\u001b[0m\u001b[0;34m\u001b[0m\u001b[0;34m\u001b[0m\u001b[0m\n",
            "\u001b[0;32m/usr/local/lib/python3.7/dist-packages/tensorflow/python/eager/function.py\u001b[0m in \u001b[0;36m_call_flat\u001b[0;34m(self, args, captured_inputs, cancellation_manager)\u001b[0m\n\u001b[1;32m   1958\u001b[0m       \u001b[0;31m# No tape is watching; skip to running the function.\u001b[0m\u001b[0;34m\u001b[0m\u001b[0;34m\u001b[0m\u001b[0;34m\u001b[0m\u001b[0m\n\u001b[1;32m   1959\u001b[0m       return self._build_call_outputs(self._inference_function.call(\n\u001b[0;32m-> 1960\u001b[0;31m           ctx, args, cancellation_manager=cancellation_manager))\n\u001b[0m\u001b[1;32m   1961\u001b[0m     forward_backward = self._select_forward_and_backward_functions(\n\u001b[1;32m   1962\u001b[0m         \u001b[0margs\u001b[0m\u001b[0;34m,\u001b[0m\u001b[0;34m\u001b[0m\u001b[0;34m\u001b[0m\u001b[0m\n",
            "\u001b[0;32m/usr/local/lib/python3.7/dist-packages/tensorflow/python/eager/function.py\u001b[0m in \u001b[0;36mcall\u001b[0;34m(self, ctx, args, cancellation_manager)\u001b[0m\n\u001b[1;32m    601\u001b[0m               \u001b[0minputs\u001b[0m\u001b[0;34m=\u001b[0m\u001b[0margs\u001b[0m\u001b[0;34m,\u001b[0m\u001b[0;34m\u001b[0m\u001b[0;34m\u001b[0m\u001b[0m\n\u001b[1;32m    602\u001b[0m               \u001b[0mattrs\u001b[0m\u001b[0;34m=\u001b[0m\u001b[0mattrs\u001b[0m\u001b[0;34m,\u001b[0m\u001b[0;34m\u001b[0m\u001b[0;34m\u001b[0m\u001b[0m\n\u001b[0;32m--> 603\u001b[0;31m               ctx=ctx)\n\u001b[0m\u001b[1;32m    604\u001b[0m         \u001b[0;32melse\u001b[0m\u001b[0;34m:\u001b[0m\u001b[0;34m\u001b[0m\u001b[0;34m\u001b[0m\u001b[0m\n\u001b[1;32m    605\u001b[0m           outputs = execute.execute_with_cancellation(\n",
            "\u001b[0;32m/usr/local/lib/python3.7/dist-packages/tensorflow/python/eager/execute.py\u001b[0m in \u001b[0;36mquick_execute\u001b[0;34m(op_name, num_outputs, inputs, attrs, ctx, name)\u001b[0m\n\u001b[1;32m     57\u001b[0m     \u001b[0mctx\u001b[0m\u001b[0;34m.\u001b[0m\u001b[0mensure_initialized\u001b[0m\u001b[0;34m(\u001b[0m\u001b[0;34m)\u001b[0m\u001b[0;34m\u001b[0m\u001b[0;34m\u001b[0m\u001b[0m\n\u001b[1;32m     58\u001b[0m     tensors = pywrap_tfe.TFE_Py_Execute(ctx._handle, device_name, op_name,\n\u001b[0;32m---> 59\u001b[0;31m                                         inputs, attrs, num_outputs)\n\u001b[0m\u001b[1;32m     60\u001b[0m   \u001b[0;32mexcept\u001b[0m \u001b[0mcore\u001b[0m\u001b[0;34m.\u001b[0m\u001b[0m_NotOkStatusException\u001b[0m \u001b[0;32mas\u001b[0m \u001b[0me\u001b[0m\u001b[0;34m:\u001b[0m\u001b[0;34m\u001b[0m\u001b[0;34m\u001b[0m\u001b[0m\n\u001b[1;32m     61\u001b[0m     \u001b[0;32mif\u001b[0m \u001b[0mname\u001b[0m \u001b[0;32mis\u001b[0m \u001b[0;32mnot\u001b[0m \u001b[0;32mNone\u001b[0m\u001b[0;34m:\u001b[0m\u001b[0;34m\u001b[0m\u001b[0;34m\u001b[0m\u001b[0m\n",
            "\u001b[0;31mKeyboardInterrupt\u001b[0m: "
          ]
        }
      ]
    },
    {
      "cell_type": "code",
      "metadata": {
        "colab": {
          "base_uri": "https://localhost:8080/"
        },
        "id": "OI1WcDNi15qy",
        "outputId": "bba1cbb9-0e51-47e3-a1a2-50ee94243099"
      },
      "source": [
        "_, train_accuracy = base_model.evaluate(X_text_train, y_text_train, batch_size=8, verbose=0)\n",
        "_, test_accuracy = base_model.evaluate(X_text_test, y_text_test, batch_size=8, verbose=0)\n",
        "\n",
        "print('Train accuracy: %.2f' % (train_accuracy*100))\n",
        "print('Test accuracy: %.2f' % (test_accuracy*100))"
      ],
      "execution_count": 69,
      "outputs": [
        {
          "output_type": "stream",
          "name": "stdout",
          "text": [
            "Train accuracy: 89.94\n",
            "Test accuracy: 67.47\n"
          ]
        }
      ]
    },
    {
      "cell_type": "code",
      "metadata": {
        "id": "FgVKbLQh1ksZ"
      },
      "source": [
        "# get the accuracy, precision, recall, f1 score from model\n",
        "def get_classification_metrics(model, X_test, y_test, target_type):\n",
        "  \n",
        "  # predict probabilities for test set\n",
        "  yhat_probs = model.predict(X_test, verbose=0) # Multiclass\n",
        "\n",
        "  # predict crisp classes for test set\n",
        "  if target_type == 'multi_class':\n",
        "    yhat_classes = model.predict_classes(X_test, verbose=0) # Multiclass\n",
        "  else:\n",
        "    yhat_classes = (np.asarray(model.predict(X_test))).round() # Multilabel\n",
        "\n",
        "  # reduce to 1d array\n",
        "  yhat_probs = yhat_probs[:, 0]\n",
        "\n",
        "  # accuracy: (tp + tn) / (p + n)\n",
        "  accuracy = accuracy_score(y_test, yhat_classes)\n",
        "\n",
        "  # precision tp / (tp + fp)\n",
        "  precision = precision_score(y_test, yhat_classes, average='micro')\n",
        "\n",
        "  # recall: tp / (tp + fn)\n",
        "  recall = recall_score(y_test, yhat_classes, average='micro')\n",
        "\n",
        "  # f1: 2 tp / (2 tp + fp + fn)\n",
        "  f1 = f1_score(y_test, yhat_classes, average='micro')\n",
        "\n",
        "  return accuracy, precision, recall, f1"
      ],
      "execution_count": 70,
      "outputs": []
    },
    {
      "cell_type": "code",
      "metadata": {
        "id": "KXog2DVW9Y-5"
      },
      "source": [
        "class Metrics(tf.keras.callbacks.Callback):\n",
        "\n",
        "    def __init__(self, validation_data=()):\n",
        "        super().__init__()\n",
        "        self.validation_data = validation_data\n",
        "\n",
        "    def on_train_begin(self, logs={}):\n",
        "        self.val_f1s = []\n",
        "        self.val_recalls = []\n",
        "        self.val_precisions = []\n",
        "\n",
        "    def on_epoch_end(self, epoch, logs={}):\n",
        "        xVal, yVal, target_type = self.validation_data\n",
        "        if target_type == 'multi_class':\n",
        "          val_predict_classes = model.predict_classes(xVal, verbose=0) # Multiclass\n",
        "        else:\n",
        "          val_predict_classes = (np.asarray(self.model.predict(xVal))).round() # Multilabel\n",
        "        \n",
        "        \n",
        "        val_targ = yVal\n",
        "\n",
        "        _val_f1 = f1_score(val_targ, val_predict_classes, average='micro')\n",
        "        _val_recall = recall_score(val_targ, val_predict_classes, average='micro')\n",
        "        _val_precision = precision_score(val_targ, val_predict_classes, average='micro')\n",
        "        self.val_f1s.append(_val_f1)\n",
        "        self.val_recalls.append(_val_recall)\n",
        "        self.val_precisions.append(_val_precision)\n",
        "        #print(\"— train_f1: %f — train_precision: %f — train_recall %f\" % (_val_f1, _val_precision, _val_recall))\n",
        "        return"
      ],
      "execution_count": 71,
      "outputs": []
    },
    {
      "cell_type": "code",
      "metadata": {
        "id": "PbKLrQl7UC7V"
      },
      "source": [
        "\n",
        "# Build a LSTM Neural Network\n",
        "deep_inputs = Input(shape=(maxlen,))\n",
        "embedding_layer = Embedding(vocab_size, embedding_size, weights=[embedding_matrix], trainable=True)(deep_inputs)\n",
        "\n",
        "LSTM_Layer_1 = Bidirectional(LSTM(128, return_sequences = True))(embedding_layer)\n",
        "max_pool_layer_1 = GlobalMaxPool1D()(LSTM_Layer_1)\n",
        "drop_out_layer_1 = Dropout(0.5, input_shape = (256,))(max_pool_layer_1)\n",
        "dense_layer_1 = Dense(128, activation = 'relu')(drop_out_layer_1)\n",
        "drop_out_layer_2 = Dropout(0.5, input_shape = (128,))(dense_layer_1)\n",
        "dense_layer_2 = Dense(64, activation = 'relu')(drop_out_layer_2)\n",
        "drop_out_layer_3 = Dropout(0.5, input_shape = (64,))(dense_layer_2)\n",
        "\n",
        "dense_layer_3 = Dense(32, activation = 'relu')(drop_out_layer_3)\n",
        "drop_out_layer_4 = Dropout(0.5, input_shape = (32,))(dense_layer_3)\n",
        "\n",
        "dense_layer_4 = Dense(10, activation = 'relu')(drop_out_layer_4)\n",
        "drop_out_layer_5 = Dropout(0.5, input_shape = (10,))(dense_layer_4)\n",
        "\n",
        "dense_layer_5 = Dense(5, activation='softmax')(drop_out_layer_5)\n",
        "\n",
        "lstm_model = Model(inputs=deep_inputs, outputs=dense_layer_5)\n",
        "\n",
        "opt = optimizers.SGD(lr=0.001, momentum=0.9)\n",
        "lstm_model.compile(loss='categorical_crossentropy', optimizer=opt, metrics=['acc'])"
      ],
      "execution_count": 72,
      "outputs": []
    },
    {
      "cell_type": "code",
      "metadata": {
        "colab": {
          "base_uri": "https://localhost:8080/"
        },
        "id": "ZNveGLwn-cf7",
        "outputId": "91796386-ced8-43a8-f3ed-107abddaa46b"
      },
      "source": [
        "print(lstm_model.summary())"
      ],
      "execution_count": 55,
      "outputs": [
        {
          "output_type": "stream",
          "name": "stdout",
          "text": [
            "Model: \"model_4\"\n",
            "_________________________________________________________________\n",
            " Layer (type)                Output Shape              Param #   \n",
            "=================================================================\n",
            " input_5 (InputLayer)        [(None, 100)]             0         \n",
            "                                                                 \n",
            " embedding_6 (Embedding)     (None, 100, 200)          548800    \n",
            "                                                                 \n",
            " bidirectional_6 (Bidirectio  (None, 100, 256)         336896    \n",
            " nal)                                                            \n",
            "                                                                 \n",
            " global_max_pooling1d_4 (Glo  (None, 256)              0         \n",
            " balMaxPooling1D)                                                \n",
            "                                                                 \n",
            " dropout_20 (Dropout)        (None, 256)               0         \n",
            "                                                                 \n",
            " dense_22 (Dense)            (None, 128)               32896     \n",
            "                                                                 \n",
            " dropout_21 (Dropout)        (None, 128)               0         \n",
            "                                                                 \n",
            " dense_23 (Dense)            (None, 64)                8256      \n",
            "                                                                 \n",
            " dropout_22 (Dropout)        (None, 64)                0         \n",
            "                                                                 \n",
            " dense_24 (Dense)            (None, 32)                2080      \n",
            "                                                                 \n",
            " dropout_23 (Dropout)        (None, 32)                0         \n",
            "                                                                 \n",
            " dense_25 (Dense)            (None, 10)                330       \n",
            "                                                                 \n",
            " dropout_24 (Dropout)        (None, 10)                0         \n",
            "                                                                 \n",
            " dense_26 (Dense)            (None, 5)                 55        \n",
            "                                                                 \n",
            "=================================================================\n",
            "Total params: 929,313\n",
            "Trainable params: 929,313\n",
            "Non-trainable params: 0\n",
            "_________________________________________________________________\n",
            "None\n"
          ]
        }
      ]
    },
    {
      "cell_type": "code",
      "metadata": {
        "colab": {
          "base_uri": "https://localhost:8080/"
        },
        "id": "uG0N_BLE97Fy",
        "outputId": "598200e1-8c0f-4b38-bd60-b478234dc886"
      },
      "source": [
        "!pip install plot_model"
      ],
      "execution_count": 46,
      "outputs": [
        {
          "output_type": "stream",
          "name": "stdout",
          "text": [
            "Requirement already satisfied: plot_model in /usr/local/lib/python3.7/dist-packages (0.20)\n"
          ]
        }
      ]
    },
    {
      "cell_type": "code",
      "metadata": {
        "colab": {
          "base_uri": "https://localhost:8080/",
          "height": 1000
        },
        "id": "x_0CjlGG9Wur",
        "outputId": "ce9fa61c-6f4f-4b22-d9d1-98ffa7576648"
      },
      "source": [
        "from keras.utils.vis_utils import plot_model\n",
        "tf.keras.utils.plot_model(lstm_model, to_file='model.png', show_shapes=True, show_dtype=True,\n",
        "show_layer_names=True, rankdir='TB', expand_nested=False, dpi=96)"
      ],
      "execution_count": 56,
      "outputs": [
        {
          "output_type": "execute_result",
          "data": {
            "image/png": "[encoded data removed]",
            "text/plain": [
              "<IPython.core.display.Image object>"
            ]
          },
          "metadata": {},
          "execution_count": 56
        }
      ]
    },
    {
      "cell_type": "code",
      "metadata": {
        "colab": {
          "base_uri": "https://localhost:8080/",
          "height": 921
        },
        "id": "FWj2rSUf9wfZ",
        "outputId": "8d84cddd-1ecb-4e7f-e8ab-80a90f83e638"
      },
      "source": [
        "callback = tf.keras.callbacks.EarlyStopping(monitor='loss', patience=7, min_delta=1E-3)\n",
        "rlrp = ReduceLROnPlateau(monitor='val_loss', factor=0.001, patience=5, min_delta=1E-4)\n",
        "\n",
        "target_type = 'multi_label'\n",
        "metrics = Metrics(validation_data=(X_text_train, y_text_train, target_type))\n",
        "\n",
        "# fit the keras model on the dataset\n",
        "training_history = lstm_model.fit(X_text_train, y_text_train, epochs=100, batch_size=8, verbose=1, validation_data=(X_text_test, y_text_test), callbacks=[rlrp, metrics])"
      ],
      "execution_count": 73,
      "outputs": [
        {
          "output_type": "stream",
          "name": "stdout",
          "text": [
            "Epoch 1/100\n",
            "41/41 [==============================] - 15s 272ms/step - loss: 1.5640 - acc: 0.7317 - val_loss: 1.4990 - val_acc: 0.7590 - lr: 0.0010\n",
            "Epoch 2/100\n",
            "41/41 [==============================] - 9s 228ms/step - loss: 1.4422 - acc: 0.7317 - val_loss: 1.3718 - val_acc: 0.7590 - lr: 0.0010\n",
            "Epoch 3/100\n",
            "41/41 [==============================] - 9s 229ms/step - loss: 1.3356 - acc: 0.7317 - val_loss: 1.2657 - val_acc: 0.7590 - lr: 0.0010\n",
            "Epoch 4/100\n",
            "41/41 [==============================] - 9s 227ms/step - loss: 1.2478 - acc: 0.7317 - val_loss: 1.1870 - val_acc: 0.7590 - lr: 0.0010\n",
            "Epoch 5/100\n",
            "41/41 [==============================] - 9s 227ms/step - loss: 1.1803 - acc: 0.7317 - val_loss: 1.1219 - val_acc: 0.7590 - lr: 0.0010\n",
            "Epoch 6/100\n",
            "41/41 [==============================] - 9s 226ms/step - loss: 1.1273 - acc: 0.7317 - val_loss: 1.0706 - val_acc: 0.7590 - lr: 0.0010\n",
            "Epoch 7/100\n",
            "41/41 [==============================] - 9s 227ms/step - loss: 1.0864 - acc: 0.7317 - val_loss: 1.0299 - val_acc: 0.7590 - lr: 0.0010\n",
            "Epoch 8/100\n",
            "41/41 [==============================] - 9s 228ms/step - loss: 1.0546 - acc: 0.7317 - val_loss: 0.9986 - val_acc: 0.7590 - lr: 0.0010\n",
            "Epoch 9/100\n",
            "41/41 [==============================] - 9s 226ms/step - loss: 1.0294 - acc: 0.7317 - val_loss: 0.9763 - val_acc: 0.7590 - lr: 0.0010\n",
            "Epoch 10/100\n",
            "41/41 [==============================] - 9s 229ms/step - loss: 1.0109 - acc: 0.7317 - val_loss: 0.9564 - val_acc: 0.7590 - lr: 0.0010\n",
            "Epoch 11/100\n",
            "41/41 [==============================] - 9s 229ms/step - loss: 0.9958 - acc: 0.7317 - val_loss: 0.9413 - val_acc: 0.7590 - lr: 0.0010\n",
            "Epoch 12/100\n",
            "41/41 [==============================] - 9s 227ms/step - loss: 0.9844 - acc: 0.7317 - val_loss: 0.9288 - val_acc: 0.7590 - lr: 0.0010\n",
            "Epoch 13/100\n",
            "41/41 [==============================] - 9s 226ms/step - loss: 0.9753 - acc: 0.7317 - val_loss: 0.9184 - val_acc: 0.7590 - lr: 0.0010\n",
            "Epoch 14/100\n",
            "41/41 [==============================] - 9s 226ms/step - loss: 0.9679 - acc: 0.7317 - val_loss: 0.9107 - val_acc: 0.7590 - lr: 0.0010\n",
            "Epoch 15/100\n",
            "26/41 [==================>...........] - ETA: 2s - loss: 0.9363 - acc: 0.7452"
          ]
        },
        {
          "output_type": "error",
          "ename": "KeyboardInterrupt",
          "evalue": "ignored",
          "traceback": [
            "\u001b[0;31m---------------------------------------------------------------------------\u001b[0m",
            "\u001b[0;31mKeyboardInterrupt\u001b[0m                         Traceback (most recent call last)",
            "\u001b[0;32m<ipython-input-73-ea1531d941cf>\u001b[0m in \u001b[0;36m<module>\u001b[0;34m()\u001b[0m\n\u001b[1;32m      6\u001b[0m \u001b[0;34m\u001b[0m\u001b[0m\n\u001b[1;32m      7\u001b[0m \u001b[0;31m# fit the keras model on the dataset\u001b[0m\u001b[0;34m\u001b[0m\u001b[0;34m\u001b[0m\u001b[0;34m\u001b[0m\u001b[0m\n\u001b[0;32m----> 8\u001b[0;31m \u001b[0mtraining_history\u001b[0m \u001b[0;34m=\u001b[0m \u001b[0mlstm_model\u001b[0m\u001b[0;34m.\u001b[0m\u001b[0mfit\u001b[0m\u001b[0;34m(\u001b[0m\u001b[0mX_text_train\u001b[0m\u001b[0;34m,\u001b[0m \u001b[0my_text_train\u001b[0m\u001b[0;34m,\u001b[0m \u001b[0mepochs\u001b[0m\u001b[0;34m=\u001b[0m\u001b[0;36m100\u001b[0m\u001b[0;34m,\u001b[0m \u001b[0mbatch_size\u001b[0m\u001b[0;34m=\u001b[0m\u001b[0;36m8\u001b[0m\u001b[0;34m,\u001b[0m \u001b[0mverbose\u001b[0m\u001b[0;34m=\u001b[0m\u001b[0;36m1\u001b[0m\u001b[0;34m,\u001b[0m \u001b[0mvalidation_data\u001b[0m\u001b[0;34m=\u001b[0m\u001b[0;34m(\u001b[0m\u001b[0mX_text_test\u001b[0m\u001b[0;34m,\u001b[0m \u001b[0my_text_test\u001b[0m\u001b[0;34m)\u001b[0m\u001b[0;34m,\u001b[0m \u001b[0mcallbacks\u001b[0m\u001b[0;34m=\u001b[0m\u001b[0;34m[\u001b[0m\u001b[0mrlrp\u001b[0m\u001b[0;34m,\u001b[0m \u001b[0mmetrics\u001b[0m\u001b[0;34m]\u001b[0m\u001b[0;34m)\u001b[0m\u001b[0;34m\u001b[0m\u001b[0;34m\u001b[0m\u001b[0m\n\u001b[0m",
            "\u001b[0;32m/usr/local/lib/python3.7/dist-packages/keras/utils/traceback_utils.py\u001b[0m in \u001b[0;36merror_handler\u001b[0;34m(*args, **kwargs)\u001b[0m\n\u001b[1;32m     62\u001b[0m     \u001b[0mfiltered_tb\u001b[0m \u001b[0;34m=\u001b[0m \u001b[0;32mNone\u001b[0m\u001b[0;34m\u001b[0m\u001b[0;34m\u001b[0m\u001b[0m\n\u001b[1;32m     63\u001b[0m     \u001b[0;32mtry\u001b[0m\u001b[0;34m:\u001b[0m\u001b[0;34m\u001b[0m\u001b[0;34m\u001b[0m\u001b[0m\n\u001b[0;32m---> 64\u001b[0;31m       \u001b[0;32mreturn\u001b[0m \u001b[0mfn\u001b[0m\u001b[0;34m(\u001b[0m\u001b[0;34m*\u001b[0m\u001b[0margs\u001b[0m\u001b[0;34m,\u001b[0m \u001b[0;34m**\u001b[0m\u001b[0mkwargs\u001b[0m\u001b[0;34m)\u001b[0m\u001b[0;34m\u001b[0m\u001b[0;34m\u001b[0m\u001b[0m\n\u001b[0m\u001b[1;32m     65\u001b[0m     \u001b[0;32mexcept\u001b[0m \u001b[0mException\u001b[0m \u001b[0;32mas\u001b[0m \u001b[0me\u001b[0m\u001b[0;34m:\u001b[0m  \u001b[0;31m# pylint: disable=broad-except\u001b[0m\u001b[0;34m\u001b[0m\u001b[0;34m\u001b[0m\u001b[0m\n\u001b[1;32m     66\u001b[0m       \u001b[0mfiltered_tb\u001b[0m \u001b[0;34m=\u001b[0m \u001b[0m_process_traceback_frames\u001b[0m\u001b[0;34m(\u001b[0m\u001b[0me\u001b[0m\u001b[0;34m.\u001b[0m\u001b[0m__traceback__\u001b[0m\u001b[0;34m)\u001b[0m\u001b[0;34m\u001b[0m\u001b[0;34m\u001b[0m\u001b[0m\n",
            "\u001b[0;32m/usr/local/lib/python3.7/dist-packages/keras/engine/training.py\u001b[0m in \u001b[0;36mfit\u001b[0;34m(self, x, y, batch_size, epochs, verbose, callbacks, validation_split, validation_data, shuffle, class_weight, sample_weight, initial_epoch, steps_per_epoch, validation_steps, validation_batch_size, validation_freq, max_queue_size, workers, use_multiprocessing)\u001b[0m\n\u001b[1;32m   1214\u001b[0m                 _r=1):\n\u001b[1;32m   1215\u001b[0m               \u001b[0mcallbacks\u001b[0m\u001b[0;34m.\u001b[0m\u001b[0mon_train_batch_begin\u001b[0m\u001b[0;34m(\u001b[0m\u001b[0mstep\u001b[0m\u001b[0;34m)\u001b[0m\u001b[0;34m\u001b[0m\u001b[0;34m\u001b[0m\u001b[0m\n\u001b[0;32m-> 1216\u001b[0;31m               \u001b[0mtmp_logs\u001b[0m \u001b[0;34m=\u001b[0m \u001b[0mself\u001b[0m\u001b[0;34m.\u001b[0m\u001b[0mtrain_function\u001b[0m\u001b[0;34m(\u001b[0m\u001b[0miterator\u001b[0m\u001b[0;34m)\u001b[0m\u001b[0;34m\u001b[0m\u001b[0;34m\u001b[0m\u001b[0m\n\u001b[0m\u001b[1;32m   1217\u001b[0m               \u001b[0;32mif\u001b[0m \u001b[0mdata_handler\u001b[0m\u001b[0;34m.\u001b[0m\u001b[0mshould_sync\u001b[0m\u001b[0;34m:\u001b[0m\u001b[0;34m\u001b[0m\u001b[0;34m\u001b[0m\u001b[0m\n\u001b[1;32m   1218\u001b[0m                 \u001b[0mcontext\u001b[0m\u001b[0;34m.\u001b[0m\u001b[0masync_wait\u001b[0m\u001b[0;34m(\u001b[0m\u001b[0;34m)\u001b[0m\u001b[0;34m\u001b[0m\u001b[0;34m\u001b[0m\u001b[0m\n",
            "\u001b[0;32m/usr/local/lib/python3.7/dist-packages/tensorflow/python/util/traceback_utils.py\u001b[0m in \u001b[0;36merror_handler\u001b[0;34m(*args, **kwargs)\u001b[0m\n\u001b[1;32m    148\u001b[0m     \u001b[0mfiltered_tb\u001b[0m \u001b[0;34m=\u001b[0m \u001b[0;32mNone\u001b[0m\u001b[0;34m\u001b[0m\u001b[0;34m\u001b[0m\u001b[0m\n\u001b[1;32m    149\u001b[0m     \u001b[0;32mtry\u001b[0m\u001b[0;34m:\u001b[0m\u001b[0;34m\u001b[0m\u001b[0;34m\u001b[0m\u001b[0m\n\u001b[0;32m--> 150\u001b[0;31m       \u001b[0;32mreturn\u001b[0m \u001b[0mfn\u001b[0m\u001b[0;34m(\u001b[0m\u001b[0;34m*\u001b[0m\u001b[0margs\u001b[0m\u001b[0;34m,\u001b[0m \u001b[0;34m**\u001b[0m\u001b[0mkwargs\u001b[0m\u001b[0;34m)\u001b[0m\u001b[0;34m\u001b[0m\u001b[0;34m\u001b[0m\u001b[0m\n\u001b[0m\u001b[1;32m    151\u001b[0m     \u001b[0;32mexcept\u001b[0m \u001b[0mException\u001b[0m \u001b[0;32mas\u001b[0m \u001b[0me\u001b[0m\u001b[0;34m:\u001b[0m\u001b[0;34m\u001b[0m\u001b[0;34m\u001b[0m\u001b[0m\n\u001b[1;32m    152\u001b[0m       \u001b[0mfiltered_tb\u001b[0m \u001b[0;34m=\u001b[0m \u001b[0m_process_traceback_frames\u001b[0m\u001b[0;34m(\u001b[0m\u001b[0me\u001b[0m\u001b[0;34m.\u001b[0m\u001b[0m__traceback__\u001b[0m\u001b[0;34m)\u001b[0m\u001b[0;34m\u001b[0m\u001b[0;34m\u001b[0m\u001b[0m\n",
            "\u001b[0;32m/usr/local/lib/python3.7/dist-packages/tensorflow/python/eager/def_function.py\u001b[0m in \u001b[0;36m__call__\u001b[0;34m(self, *args, **kwds)\u001b[0m\n\u001b[1;32m    908\u001b[0m \u001b[0;34m\u001b[0m\u001b[0m\n\u001b[1;32m    909\u001b[0m       \u001b[0;32mwith\u001b[0m \u001b[0mOptionalXlaContext\u001b[0m\u001b[0;34m(\u001b[0m\u001b[0mself\u001b[0m\u001b[0;34m.\u001b[0m\u001b[0m_jit_compile\u001b[0m\u001b[0;34m)\u001b[0m\u001b[0;34m:\u001b[0m\u001b[0;34m\u001b[0m\u001b[0;34m\u001b[0m\u001b[0m\n\u001b[0;32m--> 910\u001b[0;31m         \u001b[0mresult\u001b[0m \u001b[0;34m=\u001b[0m \u001b[0mself\u001b[0m\u001b[0;34m.\u001b[0m\u001b[0m_call\u001b[0m\u001b[0;34m(\u001b[0m\u001b[0;34m*\u001b[0m\u001b[0margs\u001b[0m\u001b[0;34m,\u001b[0m \u001b[0;34m**\u001b[0m\u001b[0mkwds\u001b[0m\u001b[0;34m)\u001b[0m\u001b[0;34m\u001b[0m\u001b[0;34m\u001b[0m\u001b[0m\n\u001b[0m\u001b[1;32m    911\u001b[0m \u001b[0;34m\u001b[0m\u001b[0m\n\u001b[1;32m    912\u001b[0m       \u001b[0mnew_tracing_count\u001b[0m \u001b[0;34m=\u001b[0m \u001b[0mself\u001b[0m\u001b[0;34m.\u001b[0m\u001b[0mexperimental_get_tracing_count\u001b[0m\u001b[0;34m(\u001b[0m\u001b[0;34m)\u001b[0m\u001b[0;34m\u001b[0m\u001b[0;34m\u001b[0m\u001b[0m\n",
            "\u001b[0;32m/usr/local/lib/python3.7/dist-packages/tensorflow/python/eager/def_function.py\u001b[0m in \u001b[0;36m_call\u001b[0;34m(self, *args, **kwds)\u001b[0m\n\u001b[1;32m    940\u001b[0m       \u001b[0;31m# In this case we have created variables on the first call, so we run the\u001b[0m\u001b[0;34m\u001b[0m\u001b[0;34m\u001b[0m\u001b[0;34m\u001b[0m\u001b[0m\n\u001b[1;32m    941\u001b[0m       \u001b[0;31m# defunned version which is guaranteed to never create variables.\u001b[0m\u001b[0;34m\u001b[0m\u001b[0;34m\u001b[0m\u001b[0;34m\u001b[0m\u001b[0m\n\u001b[0;32m--> 942\u001b[0;31m       \u001b[0;32mreturn\u001b[0m \u001b[0mself\u001b[0m\u001b[0;34m.\u001b[0m\u001b[0m_stateless_fn\u001b[0m\u001b[0;34m(\u001b[0m\u001b[0;34m*\u001b[0m\u001b[0margs\u001b[0m\u001b[0;34m,\u001b[0m \u001b[0;34m**\u001b[0m\u001b[0mkwds\u001b[0m\u001b[0;34m)\u001b[0m  \u001b[0;31m# pylint: disable=not-callable\u001b[0m\u001b[0;34m\u001b[0m\u001b[0;34m\u001b[0m\u001b[0m\n\u001b[0m\u001b[1;32m    943\u001b[0m     \u001b[0;32melif\u001b[0m \u001b[0mself\u001b[0m\u001b[0;34m.\u001b[0m\u001b[0m_stateful_fn\u001b[0m \u001b[0;32mis\u001b[0m \u001b[0;32mnot\u001b[0m \u001b[0;32mNone\u001b[0m\u001b[0;34m:\u001b[0m\u001b[0;34m\u001b[0m\u001b[0;34m\u001b[0m\u001b[0m\n\u001b[1;32m    944\u001b[0m       \u001b[0;31m# Release the lock early so that multiple threads can perform the call\u001b[0m\u001b[0;34m\u001b[0m\u001b[0;34m\u001b[0m\u001b[0;34m\u001b[0m\u001b[0m\n",
            "\u001b[0;32m/usr/local/lib/python3.7/dist-packages/tensorflow/python/eager/function.py\u001b[0m in \u001b[0;36m__call__\u001b[0;34m(self, *args, **kwargs)\u001b[0m\n\u001b[1;32m   3129\u001b[0m        filtered_flat_args) = self._maybe_define_function(args, kwargs)\n\u001b[1;32m   3130\u001b[0m     return graph_function._call_flat(\n\u001b[0;32m-> 3131\u001b[0;31m         filtered_flat_args, captured_inputs=graph_function.captured_inputs)  # pylint: disable=protected-access\n\u001b[0m\u001b[1;32m   3132\u001b[0m \u001b[0;34m\u001b[0m\u001b[0m\n\u001b[1;32m   3133\u001b[0m   \u001b[0;34m@\u001b[0m\u001b[0mproperty\u001b[0m\u001b[0;34m\u001b[0m\u001b[0;34m\u001b[0m\u001b[0m\n",
            "\u001b[0;32m/usr/local/lib/python3.7/dist-packages/tensorflow/python/eager/function.py\u001b[0m in \u001b[0;36m_call_flat\u001b[0;34m(self, args, captured_inputs, cancellation_manager)\u001b[0m\n\u001b[1;32m   1958\u001b[0m       \u001b[0;31m# No tape is watching; skip to running the function.\u001b[0m\u001b[0;34m\u001b[0m\u001b[0;34m\u001b[0m\u001b[0;34m\u001b[0m\u001b[0m\n\u001b[1;32m   1959\u001b[0m       return self._build_call_outputs(self._inference_function.call(\n\u001b[0;32m-> 1960\u001b[0;31m           ctx, args, cancellation_manager=cancellation_manager))\n\u001b[0m\u001b[1;32m   1961\u001b[0m     forward_backward = self._select_forward_and_backward_functions(\n\u001b[1;32m   1962\u001b[0m         \u001b[0margs\u001b[0m\u001b[0;34m,\u001b[0m\u001b[0;34m\u001b[0m\u001b[0;34m\u001b[0m\u001b[0m\n",
            "\u001b[0;32m/usr/local/lib/python3.7/dist-packages/tensorflow/python/eager/function.py\u001b[0m in \u001b[0;36mcall\u001b[0;34m(self, ctx, args, cancellation_manager)\u001b[0m\n\u001b[1;32m    601\u001b[0m               \u001b[0minputs\u001b[0m\u001b[0;34m=\u001b[0m\u001b[0margs\u001b[0m\u001b[0;34m,\u001b[0m\u001b[0;34m\u001b[0m\u001b[0;34m\u001b[0m\u001b[0m\n\u001b[1;32m    602\u001b[0m               \u001b[0mattrs\u001b[0m\u001b[0;34m=\u001b[0m\u001b[0mattrs\u001b[0m\u001b[0;34m,\u001b[0m\u001b[0;34m\u001b[0m\u001b[0;34m\u001b[0m\u001b[0m\n\u001b[0;32m--> 603\u001b[0;31m               ctx=ctx)\n\u001b[0m\u001b[1;32m    604\u001b[0m         \u001b[0;32melse\u001b[0m\u001b[0;34m:\u001b[0m\u001b[0;34m\u001b[0m\u001b[0;34m\u001b[0m\u001b[0m\n\u001b[1;32m    605\u001b[0m           outputs = execute.execute_with_cancellation(\n",
            "\u001b[0;32m/usr/local/lib/python3.7/dist-packages/tensorflow/python/eager/execute.py\u001b[0m in \u001b[0;36mquick_execute\u001b[0;34m(op_name, num_outputs, inputs, attrs, ctx, name)\u001b[0m\n\u001b[1;32m     57\u001b[0m     \u001b[0mctx\u001b[0m\u001b[0;34m.\u001b[0m\u001b[0mensure_initialized\u001b[0m\u001b[0;34m(\u001b[0m\u001b[0;34m)\u001b[0m\u001b[0;34m\u001b[0m\u001b[0;34m\u001b[0m\u001b[0m\n\u001b[1;32m     58\u001b[0m     tensors = pywrap_tfe.TFE_Py_Execute(ctx._handle, device_name, op_name,\n\u001b[0;32m---> 59\u001b[0;31m                                         inputs, attrs, num_outputs)\n\u001b[0m\u001b[1;32m     60\u001b[0m   \u001b[0;32mexcept\u001b[0m \u001b[0mcore\u001b[0m\u001b[0;34m.\u001b[0m\u001b[0m_NotOkStatusException\u001b[0m \u001b[0;32mas\u001b[0m \u001b[0me\u001b[0m\u001b[0;34m:\u001b[0m\u001b[0;34m\u001b[0m\u001b[0;34m\u001b[0m\u001b[0m\n\u001b[1;32m     61\u001b[0m     \u001b[0;32mif\u001b[0m \u001b[0mname\u001b[0m \u001b[0;32mis\u001b[0m \u001b[0;32mnot\u001b[0m \u001b[0;32mNone\u001b[0m\u001b[0;34m:\u001b[0m\u001b[0;34m\u001b[0m\u001b[0;34m\u001b[0m\u001b[0m\n",
            "\u001b[0;31mKeyboardInterrupt\u001b[0m: "
          ]
        }
      ]
    },
    {
      "cell_type": "code",
      "metadata": {
        "colab": {
          "base_uri": "https://localhost:8080/"
        },
        "id": "20S3OKij-xry",
        "outputId": "046751cb-fda2-4197-9111-465f1719ddce"
      },
      "source": [
        "# evaluate the keras model\n",
        "_, train_accuracy = lstm_model.evaluate(X_text_train, y_text_train, batch_size=8, verbose=0)\n",
        "_, test_accuracy = lstm_model.evaluate(X_text_test, y_text_test, batch_size=8, verbose=0)\n",
        "\n",
        "print('Train accuracy: %.2f' % (train_accuracy*100))\n",
        "print('Test accuracy: %.2f' % (test_accuracy*100))"
      ],
      "execution_count": 71,
      "outputs": [
        {
          "output_type": "stream",
          "name": "stdout",
          "text": [
            "Train accuracy: 33.23\n",
            "Test accuracy: 35.71\n"
          ]
        }
      ]
    },
    {
      "cell_type": "code",
      "metadata": {
        "colab": {
          "base_uri": "https://localhost:8080/"
        },
        "id": "dgUWFwX9_4Hn",
        "outputId": "35e3c587-dfef-4428-a725-1524ed8de347"
      },
      "source": [
        "accuracy, precision, recall, f1 = get_classification_metrics(lstm_model, X_text_test, y_text_test, target_type)\n",
        "print('Accuracy: %f' % accuracy)\n",
        "print('Precision: %f' % precision)\n",
        "print('Recall: %f' % recall)\n",
        "print('F1 score: %f' % f1)"
      ],
      "execution_count": 73,
      "outputs": [
        {
          "output_type": "stream",
          "name": "stdout",
          "text": [
            "Accuracy: 0.000000\n",
            "Precision: 0.000000\n",
            "Recall: 0.000000\n",
            "F1 score: 0.000000\n"
          ]
        }
      ]
    },
    {
      "cell_type": "code",
      "metadata": {
        "colab": {
          "base_uri": "https://localhost:8080/",
          "height": 298
        },
        "id": "j-1Nu-OQAFq3",
        "outputId": "7b5eac9b-8ddd-47dc-c0dd-8c32ac819b07"
      },
      "source": [
        "epochs = range(len(training_history.history['loss'])) # Get number of epochs\n",
        "\n",
        "# plot loss learning curves\n",
        "plt.plot(epochs, training_history.history['loss'], label = 'train')\n",
        "plt.plot(epochs, training_history.history['val_loss'], label = 'test')\n",
        "plt.legend(loc = 'upper right')\n",
        "plt.title ('Training and validation loss')"
      ],
      "execution_count": 67,
      "outputs": [
        {
          "output_type": "execute_result",
          "data": {
            "text/plain": [
              "Text(0.5, 1.0, 'Training and validation loss')"
            ]
          },
          "metadata": {},
          "execution_count": 67
        },
        {
          "output_type": "display_data",
          "data": {
            "image/png": "[encoded data removed]",
            "text/plain": [
              "<Figure size 432x288 with 1 Axes>"
            ]
          },
          "metadata": {
            "needs_background": "light"
          }
        }
      ]
    },
    {
      "cell_type": "code",
      "metadata": {
        "colab": {
          "base_uri": "https://localhost:8080/",
          "height": 298
        },
        "id": "5JMtMAgMAGUa",
        "outputId": "90b40e31-40d0-4b41-ba1e-f9c1a50ced2f"
      },
      "source": [
        "# plot accuracy learning curves\n",
        "plt.plot(epochs, training_history.history['acc'], label = 'train')\n",
        "plt.plot(epochs, training_history.history['val_acc'], label = 'test')\n",
        "plt.legend(loc = 'upper right')\n",
        "plt.title ('Training and validation accuracy')"
      ],
      "execution_count": 68,
      "outputs": [
        {
          "output_type": "execute_result",
          "data": {
            "text/plain": [
              "Text(0.5, 1.0, 'Training and validation accuracy')"
            ]
          },
          "metadata": {},
          "execution_count": 68
        },
        {
          "output_type": "display_data",
          "data": {
            "image/png": "[encoded data removed]",
            "text/plain": [
              "<Figure size 432x288 with 1 Axes>"
            ]
          },
          "metadata": {
            "needs_background": "light"
          }
        }
      ]
    },
    {
      "cell_type": "code",
      "metadata": {
        "colab": {
          "base_uri": "https://localhost:8080/",
          "height": 235
        },
        "id": "_5DsRYHVARI_",
        "outputId": "87573b12-0c35-47c7-f88a-f676b4700eae"
      },
      "source": [
        "lstm_model_json = lstm_model.to_json()\n",
        "with open(\"model.json\", \"w\") as json_file:\n",
        "    json_file.write(model_json)\n",
        "    \n",
        "# serialize weights to HDF5\n",
        "model.save_weights(\"model.h5\")\n",
        "print(\"Saved model weights to disk\")\n",
        "\n",
        "# Save the model in h5 format \n",
        "model.save(\"finalized_keras_model.h5\")\n",
        "print(\"Saved model to disk\")"
      ],
      "execution_count": 69,
      "outputs": [
        {
          "output_type": "error",
          "ename": "NameError",
          "evalue": "ignored",
          "traceback": [
            "\u001b[0;31m---------------------------------------------------------------------------\u001b[0m",
            "\u001b[0;31mNameError\u001b[0m                                 Traceback (most recent call last)",
            "\u001b[0;32m<ipython-input-69-9af1a35c2131>\u001b[0m in \u001b[0;36m<module>\u001b[0;34m()\u001b[0m\n\u001b[1;32m      1\u001b[0m \u001b[0mlstm_model_json\u001b[0m \u001b[0;34m=\u001b[0m \u001b[0mlstm_model\u001b[0m\u001b[0;34m.\u001b[0m\u001b[0mto_json\u001b[0m\u001b[0;34m(\u001b[0m\u001b[0;34m)\u001b[0m\u001b[0;34m\u001b[0m\u001b[0;34m\u001b[0m\u001b[0m\n\u001b[1;32m      2\u001b[0m \u001b[0;32mwith\u001b[0m \u001b[0mopen\u001b[0m\u001b[0;34m(\u001b[0m\u001b[0;34m\"model.json\"\u001b[0m\u001b[0;34m,\u001b[0m \u001b[0;34m\"w\"\u001b[0m\u001b[0;34m)\u001b[0m \u001b[0;32mas\u001b[0m \u001b[0mjson_file\u001b[0m\u001b[0;34m:\u001b[0m\u001b[0;34m\u001b[0m\u001b[0;34m\u001b[0m\u001b[0m\n\u001b[0;32m----> 3\u001b[0;31m     \u001b[0mjson_file\u001b[0m\u001b[0;34m.\u001b[0m\u001b[0mwrite\u001b[0m\u001b[0;34m(\u001b[0m\u001b[0mmodel_json\u001b[0m\u001b[0;34m)\u001b[0m\u001b[0;34m\u001b[0m\u001b[0;34m\u001b[0m\u001b[0m\n\u001b[0m\u001b[1;32m      4\u001b[0m \u001b[0;34m\u001b[0m\u001b[0m\n\u001b[1;32m      5\u001b[0m \u001b[0;31m# serialize weights to HDF5\u001b[0m\u001b[0;34m\u001b[0m\u001b[0;34m\u001b[0m\u001b[0;34m\u001b[0m\u001b[0m\n",
            "\u001b[0;31mNameError\u001b[0m: name 'model_json' is not defined"
          ]
        }
      ]
    },
    {
      "cell_type": "code",
      "metadata": {
        "id": "6OF1ccHuC8rt"
      },
      "source": [
        ""
      ],
      "execution_count": null,
      "outputs": []
    }
  ]
}