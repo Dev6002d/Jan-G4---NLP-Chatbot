{
  "cells": [
    {
      "cell_type": "markdown",
      "metadata": {
        "id": "view-in-github",
        "colab_type": "text"
      },
      "source": [
        "<a href=\"https://colab.research.google.com/github/shyamsparrow/Jan-G4---NLP-Chatbot/blob/Models/Hybrid_CNN_LSTM.ipynb\" target=\"_parent\"><img src=\"https://colab.research.google.com/assets/colab-badge.svg\" alt=\"Open In Colab\"/></a>"
      ]
    },
    {
      "cell_type": "markdown",
      "metadata": {
        "id": "9Yj3kJll4cxT"
      },
      "source": [
        "# Capstone Project - NLP Chatbot\n",
        "\n",
        "### DOMAIN: \n",
        "Industrial safety. NLP based Chatbot.\n",
        "\n",
        "### CONTEXT:\n",
        "The database comes from one of the biggest industry in Brazil and in the world. It is an urgent need for industries/companies around the globe to understand why employees still suffer some injuries/accidents in plants. Sometimes they also die in such environment.\n",
        "\n",
        "### DATA DESCRIPTION:\n",
        "This The database is basically records of accidents from 12 different plants in 03 different countries which every line in the data is an occurrence of an accident.\n",
        "\n",
        "### Columns description:\n",
        "* Data: timestamp or time/date information\n",
        "* Countries: which country the accident occurred (anonymised)\n",
        "* Local: the city where the manufacturing plant is located (anonymised)\n",
        "* Industry sector: which sector the plant belongs to\n",
        "* Accident level: from I to VI, it registers how severe was the accident (I means not severe but VI means very severe)\n",
        "* Potential Accident Level: Depending on the Accident Level, the database also registers how severe the accident could have   been (due to other factors involved in the accident)\n",
        "* Gender: if the person is male of female\n",
        "* Employee or Third Party: if the injured person is an employee or a third party\n",
        "* Critical Risk: some description of the risk involved in the accident\n",
        "* Description: Detailed description of how the accident happened.\n",
        "\n",
        "Link to download the dataset: https://drive.google.com/file/d/1_GmrRP1S2OIa02KlfOBNkYa8uxazGbfE/view?usp=sharing,\n",
        "Original dataset link: https://www.kaggle.com/ihmstefanini/industrial-safety-and-health-analytics-database\n",
        "\n",
        "### PROJECT OBJECTIVE:\n",
        "Design a ML/DL based chatbot utility which can help the professionals to highlight the safety risk as per the incident description."
      ]
    },
    {
      "cell_type": "markdown",
      "metadata": {
        "id": "bANtX5rQzTqh"
      },
      "source": [
        "# Connecting to Git"
      ]
    },
    {
      "cell_type": "code",
      "execution_count": null,
      "metadata": {
        "colab": {
          "base_uri": "https://localhost:8080/"
        },
        "id": "UXY9aXj-FwOg",
        "outputId": "7d2d6339-a200-4138-b54a-2df481408a0b"
      },
      "outputs": [
        {
          "name": "stdout",
          "output_type": "stream",
          "text": [
            "Mounted at /content/drive\n"
          ]
        }
      ],
      "source": [
        "from google.colab import drive\n",
        "drive.mount('/content/drive')"
      ]
    },
    {
      "cell_type": "markdown",
      "metadata": {
        "id": "yJ3cY1PPaSlS"
      },
      "source": [
        "Replace the folder path with your drive folder path and clone the githb repo"
      ]
    },
    {
      "cell_type": "code",
      "execution_count": null,
      "metadata": {
        "colab": {
          "base_uri": "https://localhost:8080/"
        },
        "id": "wwhw9SyePdXo",
        "outputId": "64b033a0-ddd9-4660-f17a-4402589c1e01"
      },
      "outputs": [
        {
          "name": "stdout",
          "output_type": "stream",
          "text": [
            "/content/drive/MyDrive/AIML/Capstone\n"
          ]
        }
      ],
      "source": [
        "%cd /content/drive/MyDrive/AIML/Capstone"
      ]
    },
    {
      "cell_type": "markdown",
      "metadata": {
        "id": "zb2bSd4Qa6sd"
      },
      "source": [
        "Run the below code for clone the repo in our Googele drive for first time"
      ]
    },
    {
      "cell_type": "code",
      "execution_count": null,
      "metadata": {
        "colab": {
          "base_uri": "https://localhost:8080/"
        },
        "id": "02mIR5BkLrQM",
        "outputId": "8c87d26d-5521-459a-c6dc-12c1689448f2"
      },
      "outputs": [
        {
          "name": "stdout",
          "output_type": "stream",
          "text": [
            "fatal: destination path 'Jan-G4---NLP-Chatbot' already exists and is not an empty directory.\n"
          ]
        }
      ],
      "source": [
        "! git clone https://github.com/shyamsparrow/Jan-G4---NLP-Chatbot.git"
      ]
    },
    {
      "cell_type": "markdown",
      "metadata": {
        "id": "DE4JYNESXKDx"
      },
      "source": [
        "Change the Current folder into Github repo main folder, all the functions we are calling has to be in this repo."
      ]
    },
    {
      "cell_type": "code",
      "execution_count": null,
      "metadata": {
        "colab": {
          "base_uri": "https://localhost:8080/"
        },
        "id": "OigsCtatbCvx",
        "outputId": "b1fdb3ff-f832-4105-af9d-53080287b63e"
      },
      "outputs": [
        {
          "name": "stdout",
          "output_type": "stream",
          "text": [
            "/content/drive/MyDrive/AIML/Capstone/Jan-G4---NLP-Chatbot\n"
          ]
        }
      ],
      "source": [
        "%cd /content/drive/MyDrive/AIML/Capstone/Jan-G4---NLP-Chatbot"
      ]
    },
    {
      "cell_type": "code",
      "execution_count": null,
      "metadata": {
        "colab": {
          "base_uri": "https://localhost:8080/"
        },
        "id": "6JNGVA-8jnlt",
        "outputId": "5ce27eb5-68b1-4399-e705-52e8329a8c14"
      },
      "outputs": [
        {
          "name": "stdout",
          "output_type": "stream",
          "text": [
            "Already on 'main'\n",
            "Your branch is up to date with 'origin/main'.\n"
          ]
        }
      ],
      "source": [
        "!git checkout main"
      ]
    },
    {
      "cell_type": "code",
      "execution_count": null,
      "metadata": {
        "colab": {
          "base_uri": "https://localhost:8080/"
        },
        "id": "8PhoCLs1lgn5",
        "outputId": "aaeb7519-c220-41a9-b818-ce08a4870ebb"
      },
      "outputs": [
        {
          "name": "stdout",
          "output_type": "stream",
          "text": [
            "Already up to date.\n"
          ]
        }
      ],
      "source": [
        "!git pull"
      ]
    },
    {
      "cell_type": "markdown",
      "metadata": {
        "id": "fuZqYC2yXV1e"
      },
      "source": [
        "Run this code to update the changes in repo to our drive"
      ]
    },
    {
      "cell_type": "markdown",
      "metadata": {
        "id": "KE437Z3fzYI8"
      },
      "source": [
        "# Data Preprocessing"
      ]
    },
    {
      "cell_type": "code",
      "execution_count": null,
      "metadata": {
        "id": "d4CkHgK24cxV"
      },
      "outputs": [],
      "source": [
        "import warnings\n",
        "warnings.filterwarnings('ignore')\n",
        "\n",
        "import config\n",
        "from wordcloud import WordCloud,STOPWORDS\n",
        "import nltk\n",
        "from nltk.corpus import stopwords\n",
        "from bs4 import BeautifulSoup\n",
        "import string\n",
        "import numpy as np\n",
        "import pandas as pd\n",
        "import seaborn as sns\n",
        "import matplotlib.pyplot as plt\n",
        "import re"
      ]
    },
    {
      "cell_type": "code",
      "execution_count": null,
      "metadata": {
        "id": "mGwbVlzQvkIi"
      },
      "outputs": [],
      "source": [
        "industry_df = pd.read_csv(\"industry_df_preprocessed.csv\")"
      ]
    },
    {
      "cell_type": "markdown",
      "metadata": {
        "id": "W8JLRB7YzhQ_"
      },
      "source": [
        "# Model Building"
      ]
    },
    {
      "cell_type": "markdown",
      "metadata": {
        "id": "xcgT_5zg1G7o"
      },
      "source": [
        "## Machine Learning Models"
      ]
    },
    {
      "cell_type": "code",
      "execution_count": null,
      "metadata": {
        "id": "_ry6hLzh1KXl"
      },
      "outputs": [],
      "source": [
        "import seaborn as sns\n",
        "from sklearn.feature_extraction.text import TfidfVectorizer\n",
        "from sklearn.feature_extraction.text import CountVectorizer\n",
        "\n",
        "from sklearn.model_selection import train_test_split\n",
        "from sklearn.linear_model import LogisticRegression\n",
        "from sklearn.naive_bayes import GaussianNB\n",
        "from sklearn.neighbors import KNeighborsClassifier\n",
        "from sklearn.svm import SVC\n",
        "from sklearn.tree import DecisionTreeClassifier\n",
        "from sklearn.ensemble import RandomForestClassifier, BaggingClassifier, AdaBoostClassifier, GradientBoostingClassifier\n",
        "#from xgboost import XGBClassifier\n",
        "\n",
        "from sklearn.metrics import accuracy_score, confusion_matrix, classification_report, f1_score,plot_confusion_matrix\n"
      ]
    },
    {
      "cell_type": "code",
      "execution_count": null,
      "metadata": {
        "id": "cz7hYWfED0gN"
      },
      "outputs": [],
      "source": [
        "industry_df = pd.read_csv(\"industry_df_preprocessed.csv\")"
      ]
    },
    {
      "cell_type": "markdown",
      "metadata": {
        "id": "TWIGtzC_vj5P"
      },
      "source": [
        "We will build ML models using different alogirthms. The target variable is 'Desription_prepocessed' Vs 'Potential Accident Level'"
      ]
    },
    {
      "cell_type": "code",
      "execution_count": null,
      "metadata": {
        "id": "JWJygL6Cz0ea"
      },
      "outputs": [],
      "source": [
        "X_train, X_test, y_train, y_test = train_test_split(industry_df['Description_preprocessed'], industry_df['Potential_Accident_Level'].values, test_size=0.2, random_state=42)"
      ]
    },
    {
      "cell_type": "code",
      "execution_count": null,
      "metadata": {
        "colab": {
          "base_uri": "https://localhost:8080/"
        },
        "id": "8XURiVVJ0yxz",
        "outputId": "d0f44773-6fa6-435a-d3da-5a5012c781e5"
      },
      "outputs": [
        {
          "name": "stdout",
          "output_type": "stream",
          "text": [
            "Training utterances: 328\n",
            "Validation utterances: 83\n"
          ]
        }
      ],
      "source": [
        "print('Training utterances: {}'.format(X_train.shape[0]))\n",
        "print('Validation utterances: {}'.format(X_test.shape[0]))"
      ]
    },
    {
      "cell_type": "code",
      "execution_count": null,
      "metadata": {
        "id": "oED_mhDp0zEP"
      },
      "outputs": [],
      "source": [
        "# Defining a function which quickly test the fit of 6 different models on the dataset\n",
        "def ml_models(X_train , y_train, X_test, y_test):\n",
        "\n",
        "    # creating a dictionary with different ML models\n",
        "    models = {\n",
        "        'LogReg': LogisticRegression(), \n",
        "        'Naive Bayes': GaussianNB(),        \n",
        "        'KNN': KNeighborsClassifier(),\n",
        "        'SVM': SVC(), \n",
        "        'Decision Tree': DecisionTreeClassifier(criterion='entropy',max_depth=6,random_state=100,min_samples_leaf=5),          \n",
        "        'RandomForest': RandomForestClassifier(n_estimators=100, max_depth=7),\n",
        "        'Bagging': BaggingClassifier(n_estimators=50, max_samples=.7),\n",
        "        'AdaBoost': AdaBoostClassifier(n_estimators= 50),\n",
        "        'Gradient Boost': GradientBoostingClassifier(n_estimators = 50, learning_rate = 0.05),\n",
        "        'XGBoost': XGBClassifier()\n",
        "    }\n",
        "    \n",
        "    names = []\n",
        "    train_accuracy = []\n",
        "    test_accuracy = []\n",
        "    F1_score = []\n",
        "\n",
        "    for name, model in models.items(): # Looping through each and every model\n",
        "        clf = model.fit(X_train, y_train) # Fit the models one by one\n",
        "        tr_accuracy = clf.score(X_train,y_train) \n",
        "        te_accuracy = clf.score(X_test,y_test) \n",
        "        y_ped = clf.predict(X_test) \n",
        "        F1_sre= f1_score(y_test,y_ped, average='micro')\n",
        "        print(name)\n",
        "        print(classification_report(y_test, y_ped)) \n",
        "        #pickle.dump(model, open('/content/drive/MyDrive/AIML/Capstone/Jan-G4---NLP-Chatbot/'+ name +'.pickle', 'wb'))\n",
        "\n",
        "        plot_confusion_matrix(model,X_test,y_test);\n",
        "        names.append(name)\n",
        "        train_accuracy.append(tr_accuracy)\n",
        "        test_accuracy.append(tr_accuracy) \n",
        "        F1_score.append(F1_sre)\n",
        "        result_df =  pd.DataFrame({'Model': names, 'Train_accuracy': train_accuracy,'Test_accuracy':test_accuracy,'F1_score':F1_score }) # Creating the dataframe using the model scores\n",
        "      \n",
        "    return result_df # Returns the dataframe"
      ]
    },
    {
      "cell_type": "markdown",
      "metadata": {
        "id": "J0zbvYav1LHl"
      },
      "source": [
        "TF-IDF"
      ]
    },
    {
      "cell_type": "markdown",
      "metadata": {
        "id": "sHFRB36R1NFn"
      },
      "source": [
        "TF-IDF is a statistical measure that evaluates how relevant a word is to a document in a collection of documents. This is done by multiplying two metrics: how many times a word appears in a document, and the inverse document frequency of the word across a set of documents."
      ]
    },
    {
      "cell_type": "markdown",
      "metadata": {
        "id": "kqRjWbyBwbu7"
      },
      "source": [
        "We will display the Classification report, Confusion Matrix and table that displays the outcome of each of the models."
      ]
    },
    {
      "cell_type": "code",
      "execution_count": null,
      "metadata": {
        "id": "CzLPJnPC0zHJ"
      },
      "outputs": [],
      "source": [
        "# Initializing TfidfVectorizer object\n",
        "tfIdfVectorizer = TfidfVectorizer()\n",
        "X_train_tf = tfIdfVectorizer.fit_transform(X_train)\n",
        "X_test_tf = tfIdfVectorizer.transform(X_test)"
      ]
    },
    {
      "cell_type": "code",
      "execution_count": null,
      "metadata": {
        "colab": {
          "base_uri": "https://localhost:8080/",
          "height": 1000
        },
        "id": "T49cy1Br0zM0",
        "outputId": "b015daa1-42f4-4d4a-ca08-9aa718ab7e19"
      },
      "outputs": [
        {
          "name": "stdout",
          "output_type": "stream",
          "text": [
            "LogReg\n",
            "              precision    recall  f1-score   support\n",
            "\n",
            "           I       1.00      0.50      0.67         4\n",
            "          II       0.44      0.19      0.27        21\n",
            "         III       0.42      0.23      0.29        22\n",
            "          IV       0.33      0.74      0.46        27\n",
            "           V       0.00      0.00      0.00         9\n",
            "\n",
            "    accuracy                           0.37        83\n",
            "   macro avg       0.44      0.33      0.34        83\n",
            "weighted avg       0.38      0.37      0.33        83\n",
            "\n",
            "Naive Bayes\n",
            "              precision    recall  f1-score   support\n",
            "\n",
            "           I       0.67      0.50      0.57         4\n",
            "          II       0.45      0.24      0.31        21\n",
            "         III       0.55      0.27      0.36        22\n",
            "          IV       0.38      0.81      0.52        27\n",
            "           V       0.00      0.00      0.00         9\n",
            "\n",
            "    accuracy                           0.42        83\n",
            "   macro avg       0.41      0.37      0.35        83\n",
            "weighted avg       0.42      0.42      0.37        83\n",
            "\n",
            "KNN\n",
            "              precision    recall  f1-score   support\n",
            "\n",
            "           I       0.33      0.50      0.40         4\n",
            "          II       0.32      0.43      0.37        21\n",
            "         III       0.36      0.36      0.36        22\n",
            "          IV       0.41      0.41      0.41        27\n",
            "           V       0.00      0.00      0.00         9\n",
            "\n",
            "    accuracy                           0.36        83\n",
            "   macro avg       0.29      0.34      0.31        83\n",
            "weighted avg       0.33      0.36      0.34        83\n",
            "\n",
            "SVM\n",
            "              precision    recall  f1-score   support\n",
            "\n",
            "           I       1.00      0.25      0.40         4\n",
            "          II       0.67      0.10      0.17        21\n",
            "         III       0.50      0.05      0.08        22\n",
            "          IV       0.34      0.96      0.50        27\n",
            "           V       0.00      0.00      0.00         9\n",
            "\n",
            "    accuracy                           0.36        83\n",
            "   macro avg       0.50      0.27      0.23        83\n",
            "weighted avg       0.46      0.36      0.25        83\n",
            "\n",
            "Decision Tree\n",
            "              precision    recall  f1-score   support\n",
            "\n",
            "           I       0.50      0.25      0.33         4\n",
            "          II       0.00      0.00      0.00        21\n",
            "         III       0.29      0.23      0.26        22\n",
            "          IV       0.33      0.74      0.46        27\n",
            "           V       0.00      0.00      0.00         9\n",
            "\n",
            "    accuracy                           0.31        83\n",
            "   macro avg       0.23      0.24      0.21        83\n",
            "weighted avg       0.21      0.31      0.23        83\n",
            "\n",
            "RandomForest\n",
            "              precision    recall  f1-score   support\n",
            "\n",
            "           I       1.00      0.50      0.67         4\n",
            "          II       1.00      0.10      0.17        21\n",
            "         III       0.25      0.05      0.08        22\n",
            "          IV       0.35      0.96      0.51        27\n",
            "           V       0.00      0.00      0.00         9\n",
            "\n",
            "    accuracy                           0.37        83\n",
            "   macro avg       0.52      0.32      0.29        83\n",
            "weighted avg       0.48      0.37      0.26        83\n",
            "\n",
            "Bagging\n",
            "              precision    recall  f1-score   support\n",
            "\n",
            "           I       1.00      0.25      0.40         4\n",
            "          II       0.46      0.29      0.35        21\n",
            "         III       0.25      0.18      0.21        22\n",
            "          IV       0.34      0.67      0.45        27\n",
            "           V       0.00      0.00      0.00         9\n",
            "\n",
            "    accuracy                           0.35        83\n",
            "   macro avg       0.41      0.28      0.28        83\n",
            "weighted avg       0.34      0.35      0.31        83\n",
            "\n",
            "AdaBoost\n",
            "              precision    recall  f1-score   support\n",
            "\n",
            "           I       0.25      0.25      0.25         4\n",
            "          II       0.50      0.14      0.22        21\n",
            "         III       0.40      0.36      0.38        22\n",
            "          IV       0.33      0.63      0.43        27\n",
            "           V       0.00      0.00      0.00         9\n",
            "\n",
            "    accuracy                           0.35        83\n",
            "   macro avg       0.30      0.28      0.26        83\n",
            "weighted avg       0.35      0.35      0.31        83\n",
            "\n",
            "Gradient Boost\n",
            "              precision    recall  f1-score   support\n",
            "\n",
            "           I       0.50      0.50      0.50         4\n",
            "          II       0.24      0.19      0.21        21\n",
            "         III       0.29      0.23      0.26        22\n",
            "          IV       0.36      0.59      0.44        27\n",
            "           V       0.00      0.00      0.00         9\n",
            "\n",
            "    accuracy                           0.33        83\n",
            "   macro avg       0.28      0.30      0.28        83\n",
            "weighted avg       0.28      0.33      0.29        83\n",
            "\n",
            "XGBoost\n",
            "              precision    recall  f1-score   support\n",
            "\n",
            "           I       1.00      0.50      0.67         4\n",
            "          II       0.33      0.33      0.33        21\n",
            "         III       0.17      0.09      0.12        22\n",
            "          IV       0.30      0.52      0.38        27\n",
            "           V       0.50      0.11      0.18         9\n",
            "\n",
            "    accuracy                           0.31        83\n",
            "   macro avg       0.46      0.31      0.34        83\n",
            "weighted avg       0.33      0.31      0.29        83\n",
            "\n"
          ]
        },
        {
          "data": {
            "image/png": "[encoded data removed]",
            "text/plain": [
              "<Figure size 432x288 with 2 Axes>"
            ]
          },
          "metadata": {
            "needs_background": "light"
          },
          "output_type": "display_data"
        },
        {
          "data": {
            "image/png": "[encoded data removed]",
            "text/plain": [
              "<Figure size 432x288 with 2 Axes>"
            ]
          },
          "metadata": {
            "needs_background": "light"
          },
          "output_type": "display_data"
        },
        {
          "data": {
            "image/png": "[encoded data removed]",
            "text/plain": [
              "<Figure size 432x288 with 2 Axes>"
            ]
          },
          "metadata": {
            "needs_background": "light"
          },
          "output_type": "display_data"
        },
        {
          "data": {
            "image/png": "[encoded data removed]",
            "text/plain": [
              "<Figure size 432x288 with 2 Axes>"
            ]
          },
          "metadata": {
            "needs_background": "light"
          },
          "output_type": "display_data"
        },
        {
          "data": {
            "image/png": "[encoded data removed]",
            "text/plain": [
              "<Figure size 432x288 with 2 Axes>"
            ]
          },
          "metadata": {
            "needs_background": "light"
          },
          "output_type": "display_data"
        },
        {
          "data": {
            "image/png": "[encoded data removed]",
            "text/plain": [
              "<Figure size 432x288 with 2 Axes>"
            ]
          },
          "metadata": {
            "needs_background": "light"
          },
          "output_type": "display_data"
        },
        {
          "data": {
            "image/png": "[encoded data removed]",
            "text/plain": [
              "<Figure size 432x288 with 2 Axes>"
            ]
          },
          "metadata": {
            "needs_background": "light"
          },
          "output_type": "display_data"
        },
        {
          "data": {
            "image/png": "[encoded data removed]",
            "text/plain": [
              "<Figure size 432x288 with 2 Axes>"
            ]
          },
          "metadata": {
            "needs_background": "light"
          },
          "output_type": "display_data"
        },
        {
          "data": {
            "image/png": "[encoded data removed]",
            "text/plain": [
              "<Figure size 432x288 with 2 Axes>"
            ]
          },
          "metadata": {
            "needs_background": "light"
          },
          "output_type": "display_data"
        },
        {
          "data": {
            "image/png": "[encoded data removed]",
            "text/plain": [
              "<Figure size 432x288 with 2 Axes>"
            ]
          },
          "metadata": {
            "needs_background": "light"
          },
          "output_type": "display_data"
        }
      ],
      "source": [
        "result_df = ml_models(X_train_tf.toarray(), y_train, X_test_tf.toarray(), y_test)"
      ]
    },
    {
      "cell_type": "markdown",
      "metadata": {
        "id": "YUUs_s-j2iUg"
      },
      "source": [
        "For TF-IDF vectorization, the accuracy is quite less. Though Logistic Regression performs better than the rest, The accuracy is not upto the mark. Next better accuracy comes with Naive Bayes clasifier"
      ]
    },
    {
      "cell_type": "code",
      "execution_count": null,
      "metadata": {
        "colab": {
          "base_uri": "https://localhost:8080/",
          "height": 363
        },
        "id": "r-I_TjxlQU4b",
        "outputId": "3730c083-e869-4bd8-c506-9be09521ede5"
      },
      "outputs": [
        {
          "data": {
            "text/html": [
              "<div>\n",
              "<style scoped>\n",
              "    .dataframe tbody tr th:only-of-type {\n",
              "        vertical-align: middle;\n",
              "    }\n",
              "\n",
              "    .dataframe tbody tr th {\n",
              "        vertical-align: top;\n",
              "    }\n",
              "\n",
              "    .dataframe thead th {\n",
              "        text-align: right;\n",
              "    }\n",
              "</style>\n",
              "<table border=\"1\" class=\"dataframe\">\n",
              "  <thead>\n",
              "    <tr style=\"text-align: right;\">\n",
              "      <th></th>\n",
              "      <th>Model</th>\n",
              "      <th>Train_accuracy</th>\n",
              "      <th>Test_accuracy</th>\n",
              "      <th>F1_score</th>\n",
              "    </tr>\n",
              "  </thead>\n",
              "  <tbody>\n",
              "    <tr>\n",
              "      <th>0</th>\n",
              "      <td>LogReg</td>\n",
              "      <td>0.890244</td>\n",
              "      <td>0.890244</td>\n",
              "      <td>0.373494</td>\n",
              "    </tr>\n",
              "    <tr>\n",
              "      <th>1</th>\n",
              "      <td>Naive Bayes</td>\n",
              "      <td>1.000000</td>\n",
              "      <td>1.000000</td>\n",
              "      <td>0.421687</td>\n",
              "    </tr>\n",
              "    <tr>\n",
              "      <th>2</th>\n",
              "      <td>KNN</td>\n",
              "      <td>0.591463</td>\n",
              "      <td>0.591463</td>\n",
              "      <td>0.361446</td>\n",
              "    </tr>\n",
              "    <tr>\n",
              "      <th>3</th>\n",
              "      <td>SVM</td>\n",
              "      <td>0.990854</td>\n",
              "      <td>0.990854</td>\n",
              "      <td>0.361446</td>\n",
              "    </tr>\n",
              "    <tr>\n",
              "      <th>4</th>\n",
              "      <td>Decision Tree</td>\n",
              "      <td>0.512195</td>\n",
              "      <td>0.512195</td>\n",
              "      <td>0.313253</td>\n",
              "    </tr>\n",
              "    <tr>\n",
              "      <th>5</th>\n",
              "      <td>RandomForest</td>\n",
              "      <td>0.612805</td>\n",
              "      <td>0.612805</td>\n",
              "      <td>0.373494</td>\n",
              "    </tr>\n",
              "    <tr>\n",
              "      <th>6</th>\n",
              "      <td>Bagging</td>\n",
              "      <td>1.000000</td>\n",
              "      <td>1.000000</td>\n",
              "      <td>0.373494</td>\n",
              "    </tr>\n",
              "    <tr>\n",
              "      <th>7</th>\n",
              "      <td>AdaBoost</td>\n",
              "      <td>0.393293</td>\n",
              "      <td>0.393293</td>\n",
              "      <td>0.349398</td>\n",
              "    </tr>\n",
              "    <tr>\n",
              "      <th>8</th>\n",
              "      <td>Gradient Boost</td>\n",
              "      <td>0.920732</td>\n",
              "      <td>0.920732</td>\n",
              "      <td>0.325301</td>\n",
              "    </tr>\n",
              "    <tr>\n",
              "      <th>9</th>\n",
              "      <td>XGBoost</td>\n",
              "      <td>0.951220</td>\n",
              "      <td>0.951220</td>\n",
              "      <td>0.313253</td>\n",
              "    </tr>\n",
              "  </tbody>\n",
              "</table>\n",
              "</div>"
            ],
            "text/plain": [
              "            Model  Train_accuracy  Test_accuracy  F1_score\n",
              "0          LogReg        0.890244       0.890244  0.373494\n",
              "1     Naive Bayes        1.000000       1.000000  0.421687\n",
              "2             KNN        0.591463       0.591463  0.361446\n",
              "3             SVM        0.990854       0.990854  0.361446\n",
              "4   Decision Tree        0.512195       0.512195  0.313253\n",
              "5    RandomForest        0.612805       0.612805  0.373494\n",
              "6         Bagging        1.000000       1.000000  0.373494\n",
              "7        AdaBoost        0.393293       0.393293  0.349398\n",
              "8  Gradient Boost        0.920732       0.920732  0.325301\n",
              "9         XGBoost        0.951220       0.951220  0.313253"
            ]
          },
          "execution_count": 124,
          "metadata": {},
          "output_type": "execute_result"
        }
      ],
      "source": [
        "result_df"
      ]
    },
    {
      "cell_type": "markdown",
      "metadata": {
        "id": "F66cB89v3Fkv"
      },
      "source": [
        "Using Bag of words"
      ]
    },
    {
      "cell_type": "markdown",
      "metadata": {
        "id": "QEsqL8I13IM7"
      },
      "source": [
        "A bag-of-words is a representation of text that describes the occurrence of words within a document."
      ]
    },
    {
      "cell_type": "code",
      "execution_count": null,
      "metadata": {
        "id": "bFhmXOgO0zR7"
      },
      "outputs": [],
      "source": [
        "vectorizer = CountVectorizer(binary=True, ngram_range=(1, 2))\n",
        "X_train_bow = vectorizer.fit_transform(X_train)\n",
        "X_test_bow = vectorizer.transform(X_test)"
      ]
    },
    {
      "cell_type": "code",
      "execution_count": null,
      "metadata": {
        "colab": {
          "base_uri": "https://localhost:8080/"
        },
        "id": "AmSqqb3fbUfo",
        "outputId": "67d983ef-16ac-462e-c5f0-174857453596"
      },
      "outputs": [
        {
          "name": "stdout",
          "output_type": "stream",
          "text": [
            "/content/drive/MyDrive/AIML/Capstone/Jan-G4---NLP-Chatbot\n"
          ]
        }
      ],
      "source": [
        "!pwd"
      ]
    },
    {
      "cell_type": "markdown",
      "metadata": {
        "id": "9jk2uPT93bDy"
      },
      "source": [
        "ML Classifiers"
      ]
    },
    {
      "cell_type": "code",
      "execution_count": null,
      "metadata": {
        "colab": {
          "base_uri": "https://localhost:8080/",
          "height": 1000
        },
        "id": "Bb93wOOI3WSr",
        "outputId": "d753db50-9215-412a-d455-b4a4aa88452a"
      },
      "outputs": [
        {
          "name": "stdout",
          "output_type": "stream",
          "text": [
            "LogReg\n",
            "              precision    recall  f1-score   support\n",
            "\n",
            "           I       1.00      0.50      0.67         4\n",
            "          II       0.50      0.48      0.49        21\n",
            "         III       0.38      0.36      0.37        22\n",
            "          IV       0.42      0.63      0.51        27\n",
            "           V       0.00      0.00      0.00         9\n",
            "\n",
            "    accuracy                           0.45        83\n",
            "   macro avg       0.46      0.39      0.41        83\n",
            "weighted avg       0.41      0.45      0.42        83\n",
            "\n",
            "Naive Bayes\n",
            "              precision    recall  f1-score   support\n",
            "\n",
            "           I       0.60      0.75      0.67         4\n",
            "          II       0.33      0.19      0.24        21\n",
            "         III       0.62      0.23      0.33        22\n",
            "          IV       0.38      0.81      0.52        27\n",
            "           V       0.00      0.00      0.00         9\n",
            "\n",
            "    accuracy                           0.41        83\n",
            "   macro avg       0.39      0.40      0.35        83\n",
            "weighted avg       0.40      0.41      0.35        83\n",
            "\n",
            "KNN\n",
            "              precision    recall  f1-score   support\n",
            "\n",
            "           I       0.00      0.00      0.00         4\n",
            "          II       0.27      0.95      0.42        21\n",
            "         III       0.33      0.14      0.19        22\n",
            "          IV       0.00      0.00      0.00        27\n",
            "           V       0.00      0.00      0.00         9\n",
            "\n",
            "    accuracy                           0.28        83\n",
            "   macro avg       0.12      0.22      0.12        83\n",
            "weighted avg       0.16      0.28      0.16        83\n",
            "\n",
            "SVM\n",
            "              precision    recall  f1-score   support\n",
            "\n",
            "           I       1.00      0.25      0.40         4\n",
            "          II       0.57      0.19      0.29        21\n",
            "         III       0.31      0.91      0.47        22\n",
            "          IV       0.64      0.26      0.37        27\n",
            "           V       0.00      0.00      0.00         9\n",
            "\n",
            "    accuracy                           0.39        83\n",
            "   macro avg       0.50      0.32      0.30        83\n",
            "weighted avg       0.48      0.39      0.33        83\n",
            "\n",
            "Decision Tree\n",
            "              precision    recall  f1-score   support\n",
            "\n",
            "           I       1.00      0.75      0.86         4\n",
            "          II       0.33      0.05      0.08        21\n",
            "         III       0.25      0.09      0.13        22\n",
            "          IV       0.35      0.85      0.50        27\n",
            "           V       0.00      0.00      0.00         9\n",
            "\n",
            "    accuracy                           0.35        83\n",
            "   macro avg       0.39      0.35      0.31        83\n",
            "weighted avg       0.31      0.35      0.26        83\n",
            "\n",
            "RandomForest\n",
            "              precision    recall  f1-score   support\n",
            "\n",
            "           I       1.00      0.25      0.40         4\n",
            "          II       0.00      0.00      0.00        21\n",
            "         III       0.00      0.00      0.00        22\n",
            "          IV       0.33      1.00      0.50        27\n",
            "           V       0.00      0.00      0.00         9\n",
            "\n",
            "    accuracy                           0.34        83\n",
            "   macro avg       0.27      0.25      0.18        83\n",
            "weighted avg       0.16      0.34      0.18        83\n",
            "\n",
            "Bagging\n",
            "              precision    recall  f1-score   support\n",
            "\n",
            "           I       1.00      0.50      0.67         4\n",
            "          II       0.38      0.38      0.38        21\n",
            "         III       0.38      0.23      0.29        22\n",
            "          IV       0.38      0.67      0.49        27\n",
            "           V       0.00      0.00      0.00         9\n",
            "\n",
            "    accuracy                           0.40        83\n",
            "   macro avg       0.43      0.35      0.36        83\n",
            "weighted avg       0.37      0.40      0.36        83\n",
            "\n",
            "AdaBoost\n",
            "              precision    recall  f1-score   support\n",
            "\n",
            "           I       0.33      0.25      0.29         4\n",
            "          II       0.35      0.71      0.47        21\n",
            "         III       0.00      0.00      0.00        22\n",
            "          IV       0.25      0.30      0.27        27\n",
            "           V       0.50      0.11      0.18         9\n",
            "\n",
            "    accuracy                           0.30        83\n",
            "   macro avg       0.29      0.27      0.24        83\n",
            "weighted avg       0.24      0.30      0.24        83\n",
            "\n",
            "Gradient Boost\n",
            "              precision    recall  f1-score   support\n",
            "\n",
            "           I       0.60      0.75      0.67         4\n",
            "          II       0.38      0.24      0.29        21\n",
            "         III       0.18      0.09      0.12        22\n",
            "          IV       0.35      0.70      0.47        27\n",
            "           V       0.00      0.00      0.00         9\n",
            "\n",
            "    accuracy                           0.35        83\n",
            "   macro avg       0.30      0.36      0.31        83\n",
            "weighted avg       0.29      0.35      0.29        83\n",
            "\n",
            "XGBoost\n",
            "              precision    recall  f1-score   support\n",
            "\n",
            "           I       1.00      0.75      0.86         4\n",
            "          II       0.38      0.29      0.32        21\n",
            "         III       0.27      0.18      0.22        22\n",
            "          IV       0.39      0.70      0.50        27\n",
            "           V       0.00      0.00      0.00         9\n",
            "\n",
            "    accuracy                           0.39        83\n",
            "   macro avg       0.41      0.38      0.38        83\n",
            "weighted avg       0.34      0.39      0.34        83\n",
            "\n"
          ]
        },
        {
          "data": {
            "text/html": [
              "<div>\n",
              "<style scoped>\n",
              "    .dataframe tbody tr th:only-of-type {\n",
              "        vertical-align: middle;\n",
              "    }\n",
              "\n",
              "    .dataframe tbody tr th {\n",
              "        vertical-align: top;\n",
              "    }\n",
              "\n",
              "    .dataframe thead th {\n",
              "        text-align: right;\n",
              "    }\n",
              "</style>\n",
              "<table border=\"1\" class=\"dataframe\">\n",
              "  <thead>\n",
              "    <tr style=\"text-align: right;\">\n",
              "      <th></th>\n",
              "      <th>model</th>\n",
              "      <th>Train_accuracy</th>\n",
              "      <th>Test_accuracy</th>\n",
              "      <th>F1_score</th>\n",
              "    </tr>\n",
              "  </thead>\n",
              "  <tbody>\n",
              "    <tr>\n",
              "      <th>0</th>\n",
              "      <td>LogReg</td>\n",
              "      <td>1.000000</td>\n",
              "      <td>1.000000</td>\n",
              "      <td>0.445783</td>\n",
              "    </tr>\n",
              "    <tr>\n",
              "      <th>1</th>\n",
              "      <td>Naive Bayes</td>\n",
              "      <td>1.000000</td>\n",
              "      <td>1.000000</td>\n",
              "      <td>0.409639</td>\n",
              "    </tr>\n",
              "    <tr>\n",
              "      <th>2</th>\n",
              "      <td>KNN</td>\n",
              "      <td>0.356707</td>\n",
              "      <td>0.356707</td>\n",
              "      <td>0.277108</td>\n",
              "    </tr>\n",
              "    <tr>\n",
              "      <th>3</th>\n",
              "      <td>SVM</td>\n",
              "      <td>0.966463</td>\n",
              "      <td>0.966463</td>\n",
              "      <td>0.385542</td>\n",
              "    </tr>\n",
              "    <tr>\n",
              "      <th>4</th>\n",
              "      <td>Decision Tree</td>\n",
              "      <td>0.463415</td>\n",
              "      <td>0.463415</td>\n",
              "      <td>0.349398</td>\n",
              "    </tr>\n",
              "    <tr>\n",
              "      <th>5</th>\n",
              "      <td>RandomForest</td>\n",
              "      <td>0.448171</td>\n",
              "      <td>0.448171</td>\n",
              "      <td>0.337349</td>\n",
              "    </tr>\n",
              "    <tr>\n",
              "      <th>6</th>\n",
              "      <td>Bagging</td>\n",
              "      <td>1.000000</td>\n",
              "      <td>1.000000</td>\n",
              "      <td>0.397590</td>\n",
              "    </tr>\n",
              "    <tr>\n",
              "      <th>7</th>\n",
              "      <td>AdaBoost</td>\n",
              "      <td>0.420732</td>\n",
              "      <td>0.420732</td>\n",
              "      <td>0.301205</td>\n",
              "    </tr>\n",
              "    <tr>\n",
              "      <th>8</th>\n",
              "      <td>Gradient Boost</td>\n",
              "      <td>0.841463</td>\n",
              "      <td>0.841463</td>\n",
              "      <td>0.349398</td>\n",
              "    </tr>\n",
              "    <tr>\n",
              "      <th>9</th>\n",
              "      <td>XGBoost</td>\n",
              "      <td>0.929878</td>\n",
              "      <td>0.929878</td>\n",
              "      <td>0.385542</td>\n",
              "    </tr>\n",
              "  </tbody>\n",
              "</table>\n",
              "</div>"
            ],
            "text/plain": [
              "            model  Train_accuracy  Test_accuracy  F1_score\n",
              "0          LogReg        1.000000       1.000000  0.445783\n",
              "1     Naive Bayes        1.000000       1.000000  0.409639\n",
              "2             KNN        0.356707       0.356707  0.277108\n",
              "3             SVM        0.966463       0.966463  0.385542\n",
              "4   Decision Tree        0.463415       0.463415  0.349398\n",
              "5    RandomForest        0.448171       0.448171  0.337349\n",
              "6         Bagging        1.000000       1.000000  0.397590\n",
              "7        AdaBoost        0.420732       0.420732  0.301205\n",
              "8  Gradient Boost        0.841463       0.841463  0.349398\n",
              "9         XGBoost        0.929878       0.929878  0.385542"
            ]
          },
          "execution_count": 41,
          "metadata": {},
          "output_type": "execute_result"
        },
        {
          "data": {
            "image/png": "[encoded data removed]",
            "text/plain": [
              "<Figure size 432x288 with 2 Axes>"
            ]
          },
          "metadata": {
            "needs_background": "light"
          },
          "output_type": "display_data"
        },
        {
          "data": {
            "image/png": "[encoded data removed]",
            "text/plain": [
              "<Figure size 432x288 with 2 Axes>"
            ]
          },
          "metadata": {
            "needs_background": "light"
          },
          "output_type": "display_data"
        },
        {
          "data": {
            "image/png": "[encoded data removed]",
            "text/plain": [
              "<Figure size 432x288 with 2 Axes>"
            ]
          },
          "metadata": {
            "needs_background": "light"
          },
          "output_type": "display_data"
        },
        {
          "data": {
            "image/png": "[encoded data removed]",
            "text/plain": [
              "<Figure size 432x288 with 2 Axes>"
            ]
          },
          "metadata": {
            "needs_background": "light"
          },
          "output_type": "display_data"
        },
        {
          "data": {
            "image/png": "[encoded data removed]",
            "text/plain": [
              "<Figure size 432x288 with 2 Axes>"
            ]
          },
          "metadata": {
            "needs_background": "light"
          },
          "output_type": "display_data"
        },
        {
          "data": {
            "image/png": "[encoded data removed]",
            "text/plain": [
              "<Figure size 432x288 with 2 Axes>"
            ]
          },
          "metadata": {
            "needs_background": "light"
          },
          "output_type": "display_data"
        },
        {
          "data": {
            "image/png": "[encoded data removed]",
            "text/plain": [
              "<Figure size 432x288 with 2 Axes>"
            ]
          },
          "metadata": {
            "needs_background": "light"
          },
          "output_type": "display_data"
        },
        {
          "data": {
            "image/png": "[encoded data removed]",
            "text/plain": [
              "<Figure size 432x288 with 2 Axes>"
            ]
          },
          "metadata": {
            "needs_background": "light"
          },
          "output_type": "display_data"
        },
        {
          "data": {
            "image/png": "[encoded data removed]",
            "text/plain": [
              "<Figure size 432x288 with 2 Axes>"
            ]
          },
          "metadata": {
            "needs_background": "light"
          },
          "output_type": "display_data"
        },
        {
          "data": {
            "image/png": "[encoded data removed]",
            "text/plain": [
              "<Figure size 432x288 with 2 Axes>"
            ]
          },
          "metadata": {
            "needs_background": "light"
          },
          "output_type": "display_data"
        }
      ],
      "source": [
        "ml_models(X_train_bow.toarray(), y_train, X_test_bow.toarray(), y_test)"
      ]
    },
    {
      "cell_type": "markdown",
      "metadata": {
        "id": "IS3ucWe14DNw"
      },
      "source": [
        "The accuracy using BOW is more or less similar to those we got using TF-IDF"
      ]
    },
    {
      "cell_type": "markdown",
      "metadata": {
        "id": "L6CxFRNn1mQi"
      },
      "source": [
        "## ANN Models"
      ]
    },
    {
      "cell_type": "code",
      "execution_count": null,
      "metadata": {
        "id": "MGbUF-AE_TAL"
      },
      "outputs": [],
      "source": [
        "from nltk.tokenize import word_tokenize\n",
        "from tqdm import tqdm\n",
        "\n",
        "from sklearn.model_selection import train_test_split\n",
        "from sklearn import metrics\n",
        "from sklearn.metrics import classification_report\n",
        "from sklearn.metrics import accuracy_score, f1_score, confusion_matrix, recall_score, precision_score, roc_auc_score\n",
        "from sklearn.preprocessing import LabelEncoder\n",
        "import pickle\n",
        "from sklearn.feature_extraction.text import TfidfVectorizer\n",
        "\n",
        "# Deep learning libraries\n",
        "import tensorflow as tf\n",
        "from tensorflow.keras.layers import Input\n",
        "from tensorflow.keras.models import Sequential\n",
        "from tensorflow.keras.models import Model\n",
        "from tensorflow.keras import optimizers\n",
        "from tensorflow.keras.layers import Dense, LSTM,  Embedding, Dropout, Bidirectional, GlobalMaxPool1D, BatchNormalization\n",
        "\n",
        "#from keras.utils import np_utils\n",
        "#from keras.layers.merge import Concatenate\n",
        "#from keras.utils import plot_model\n",
        "\n",
        "\n",
        "from tensorflow.keras.callbacks import ReduceLROnPlateau\n",
        "from tensorflow.keras.callbacks import EarlyStopping\n",
        "from tensorflow.keras.callbacks import ModelCheckpoint\n",
        "\n",
        "from tensorflow.keras.models import load_model\n",
        "from tensorflow.keras.models import model_from_json\n",
        "from tensorflow.keras.wrappers.scikit_learn import KerasClassifier\n",
        "\n",
        "# Keras pre-processing\n",
        "from tensorflow.keras.preprocessing.text import Tokenizer\n",
        "from tensorflow.keras.preprocessing.sequence import pad_sequences\n"
      ]
    },
    {
      "cell_type": "code",
      "execution_count": null,
      "metadata": {
        "id": "4-yzNS7h3KF3"
      },
      "outputs": [],
      "source": [
        "X_train, X_test, y_train, y_test = train_test_split(industry_df['Description_preprocessed'], industry_df['Potential_Accident_Level'].values, test_size=0.2, random_state=42)"
      ]
    },
    {
      "cell_type": "code",
      "execution_count": null,
      "metadata": {
        "id": "8VfTM83r3V_Z"
      },
      "outputs": [],
      "source": [
        "# Initializing TfidfVectorizer object\n",
        "tfIdfVectorizer = TfidfVectorizer()\n",
        "X_train_tf = tfIdfVectorizer.fit_transform(X_train)\n",
        "X_test_tf = tfIdfVectorizer.transform(X_test)"
      ]
    },
    {
      "cell_type": "code",
      "execution_count": null,
      "metadata": {
        "id": "U3jW2ttVl7yO"
      },
      "outputs": [],
      "source": [
        "# Converting the categorical values to one-hot encoding\n",
        "y_train_new = pd.get_dummies(y_train)\n",
        "y_test_new = pd.get_dummies(y_test)"
      ]
    },
    {
      "cell_type": "code",
      "execution_count": null,
      "metadata": {
        "id": "ICBXwvCZktRQ"
      },
      "outputs": [],
      "source": [
        "epochs = 10\n",
        "batch_size = 12\n",
        "loss = \"categorical_crossentropy\"\n",
        "optimizer = \"adam\"\n",
        "metrics = [\"accuracy\"]\n",
        "\n",
        "early_stopping = EarlyStopping(monitor='val_loss', mode='min', verbose=0, patience=3)\n",
        "\n",
        "# Build neural network\n",
        "tfidf_model = Sequential()\n",
        "tfidf_model.add(Dense(512, activation='relu'))\n",
        "tfidf_model.add(Dense(256, activation='relu'))\n",
        "tfidf_model.add(Dense(5, activation='softmax'))\n",
        "tfidf_model.compile(loss=loss, optimizer=optimizer, metrics= metrics)"
      ]
    },
    {
      "cell_type": "code",
      "execution_count": null,
      "metadata": {
        "colab": {
          "base_uri": "https://localhost:8080/"
        },
        "id": "exu8mIVeV6AW",
        "outputId": "f0b5dc9c-cc17-4d02-b014-fbc2ffe6d338"
      },
      "outputs": [
        {
          "name": "stdout",
          "output_type": "stream",
          "text": [
            "Epoch 1/10\n",
            "22/22 [==============================] - 0s 18ms/step - loss: 5.7480e-04 - accuracy: 1.0000 - val_loss: 1.5567 - val_accuracy: 0.5152\n",
            "Epoch 2/10\n",
            "22/22 [==============================] - 0s 16ms/step - loss: 5.0372e-04 - accuracy: 1.0000 - val_loss: 1.5665 - val_accuracy: 0.5152\n",
            "Epoch 3/10\n",
            "22/22 [==============================] - 0s 14ms/step - loss: 4.4456e-04 - accuracy: 1.0000 - val_loss: 1.5759 - val_accuracy: 0.5152\n",
            "Epoch 4/10\n",
            "22/22 [==============================] - 0s 14ms/step - loss: 3.9434e-04 - accuracy: 1.0000 - val_loss: 1.5875 - val_accuracy: 0.5152\n"
          ]
        }
      ],
      "source": [
        "history_nn = tfidf_model.fit(X_train_tf.toarray(), y_train_new, validation_split = 0.2, epochs=epochs, batch_size=batch_size, callbacks=[early_stopping])"
      ]
    },
    {
      "cell_type": "code",
      "execution_count": null,
      "metadata": {
        "colab": {
          "base_uri": "https://localhost:8080/",
          "height": 422
        },
        "id": "PcNluPEOmcmL",
        "outputId": "8ad826f2-fdcb-4775-a19c-316479a71939"
      },
      "outputs": [
        {
          "data": {
            "image/png": "[encoded data removed]",
            "text/plain": [
              "<IPython.core.display.Image object>"
            ]
          },
          "execution_count": 33,
          "metadata": {},
          "output_type": "execute_result"
        }
      ],
      "source": [
        "# ann_viz(tfidf_model, view=True, filename=\"tfidf_model\")\n",
        "tf.keras.utils.plot_model(tfidf_model, to_file='tfidf_model.png', show_shapes=True, show_layer_names=True)"
      ]
    },
    {
      "cell_type": "code",
      "execution_count": null,
      "metadata": {
        "colab": {
          "base_uri": "https://localhost:8080/"
        },
        "id": "LigNC9XxmNPQ",
        "outputId": "2dfb3f26-0c31-402d-cc61-56fb36d6a245"
      },
      "outputs": [
        {
          "data": {
            "text/plain": [
              "(2.0812718868255615, 0.4337349534034729)"
            ]
          },
          "execution_count": 34,
          "metadata": {},
          "output_type": "execute_result"
        }
      ],
      "source": [
        "# Validating the model on test set\n",
        "loss, accuracy = tfidf_model.evaluate(X_test_tf.toarray(), y_test_new, verbose = 0)\n",
        "loss, accuracy"
      ]
    },
    {
      "cell_type": "code",
      "execution_count": null,
      "metadata": {
        "colab": {
          "base_uri": "https://localhost:8080/"
        },
        "id": "GuHj4GaeLezl",
        "outputId": "141c9a39-3356-4496-f360-c97147081cd8"
      },
      "outputs": [
        {
          "name": "stdout",
          "output_type": "stream",
          "text": [
            "11/11 [==============================] - 0s 6ms/step - loss: 0.3197 - accuracy: 0.9024\n",
            "3/3 [==============================] - 0s 8ms/step - loss: 2.0813 - accuracy: 0.4337\n"
          ]
        },
        {
          "data": {
            "text/plain": [
              "(0.9024389982223511, 0.4337349534034729, 0.43373493975903615)"
            ]
          },
          "execution_count": 37,
          "metadata": {},
          "output_type": "execute_result"
        }
      ],
      "source": [
        "_,tr_accuracy = tfidf_model.evaluate(X_train_tf.toarray(),y_train_new) \n",
        "_,te_accuracy = tfidf_model.evaluate(X_test_tf.toarray(),y_test_new) \n",
        "\n",
        "y_pred = tfidf_model.predict(X_test_tf.toarray())\n",
        "y_pred_index = np.argmax(y_pred,axis=1)\n",
        "y_original = np.argmax(np.array(y_test_new), axis =1) \n",
        "\n",
        "F1_sre= f1_score(y_original,y_pred_index, average='micro')\n",
        "tr_accuracy,te_accuracy,F1_sre"
      ]
    },
    {
      "cell_type": "code",
      "execution_count": null,
      "metadata": {
        "colab": {
          "base_uri": "https://localhost:8080/",
          "height": 394
        },
        "id": "OF4jRYJlK5cZ",
        "outputId": "418b3dd6-d95a-4094-f4e2-70f33e56793c"
      },
      "outputs": [
        {
          "data": {
            "text/html": [
              "<div>\n",
              "<style scoped>\n",
              "    .dataframe tbody tr th:only-of-type {\n",
              "        vertical-align: middle;\n",
              "    }\n",
              "\n",
              "    .dataframe tbody tr th {\n",
              "        vertical-align: top;\n",
              "    }\n",
              "\n",
              "    .dataframe thead th {\n",
              "        text-align: right;\n",
              "    }\n",
              "</style>\n",
              "<table border=\"1\" class=\"dataframe\">\n",
              "  <thead>\n",
              "    <tr style=\"text-align: right;\">\n",
              "      <th></th>\n",
              "      <th>Model</th>\n",
              "      <th>Train_accuracy</th>\n",
              "      <th>Test_accuracy</th>\n",
              "      <th>F1_score</th>\n",
              "    </tr>\n",
              "  </thead>\n",
              "  <tbody>\n",
              "    <tr>\n",
              "      <th>0</th>\n",
              "      <td>LogReg</td>\n",
              "      <td>0.890244</td>\n",
              "      <td>0.890244</td>\n",
              "      <td>0.373494</td>\n",
              "    </tr>\n",
              "    <tr>\n",
              "      <th>1</th>\n",
              "      <td>Naive Bayes</td>\n",
              "      <td>1.000000</td>\n",
              "      <td>1.000000</td>\n",
              "      <td>0.421687</td>\n",
              "    </tr>\n",
              "    <tr>\n",
              "      <th>2</th>\n",
              "      <td>KNN</td>\n",
              "      <td>0.591463</td>\n",
              "      <td>0.591463</td>\n",
              "      <td>0.361446</td>\n",
              "    </tr>\n",
              "    <tr>\n",
              "      <th>3</th>\n",
              "      <td>SVM</td>\n",
              "      <td>0.990854</td>\n",
              "      <td>0.990854</td>\n",
              "      <td>0.361446</td>\n",
              "    </tr>\n",
              "    <tr>\n",
              "      <th>4</th>\n",
              "      <td>Decision Tree</td>\n",
              "      <td>0.512195</td>\n",
              "      <td>0.512195</td>\n",
              "      <td>0.313253</td>\n",
              "    </tr>\n",
              "    <tr>\n",
              "      <th>5</th>\n",
              "      <td>RandomForest</td>\n",
              "      <td>0.612805</td>\n",
              "      <td>0.612805</td>\n",
              "      <td>0.373494</td>\n",
              "    </tr>\n",
              "    <tr>\n",
              "      <th>6</th>\n",
              "      <td>Bagging</td>\n",
              "      <td>1.000000</td>\n",
              "      <td>1.000000</td>\n",
              "      <td>0.373494</td>\n",
              "    </tr>\n",
              "    <tr>\n",
              "      <th>7</th>\n",
              "      <td>AdaBoost</td>\n",
              "      <td>0.393293</td>\n",
              "      <td>0.393293</td>\n",
              "      <td>0.349398</td>\n",
              "    </tr>\n",
              "    <tr>\n",
              "      <th>8</th>\n",
              "      <td>Gradient Boost</td>\n",
              "      <td>0.920732</td>\n",
              "      <td>0.920732</td>\n",
              "      <td>0.325301</td>\n",
              "    </tr>\n",
              "    <tr>\n",
              "      <th>9</th>\n",
              "      <td>XGBoost</td>\n",
              "      <td>0.951220</td>\n",
              "      <td>0.951220</td>\n",
              "      <td>0.313253</td>\n",
              "    </tr>\n",
              "    <tr>\n",
              "      <th>10</th>\n",
              "      <td>ANN_Model</td>\n",
              "      <td>0.905488</td>\n",
              "      <td>0.409639</td>\n",
              "      <td>0.409639</td>\n",
              "    </tr>\n",
              "  </tbody>\n",
              "</table>\n",
              "</div>"
            ],
            "text/plain": [
              "             Model  Train_accuracy  Test_accuracy  F1_score\n",
              "0           LogReg        0.890244       0.890244  0.373494\n",
              "1      Naive Bayes        1.000000       1.000000  0.421687\n",
              "2              KNN        0.591463       0.591463  0.361446\n",
              "3              SVM        0.990854       0.990854  0.361446\n",
              "4    Decision Tree        0.512195       0.512195  0.313253\n",
              "5     RandomForest        0.612805       0.612805  0.373494\n",
              "6          Bagging        1.000000       1.000000  0.373494\n",
              "7         AdaBoost        0.393293       0.393293  0.349398\n",
              "8   Gradient Boost        0.920732       0.920732  0.325301\n",
              "9          XGBoost        0.951220       0.951220  0.313253\n",
              "10       ANN_Model        0.905488       0.409639  0.409639"
            ]
          },
          "execution_count": 126,
          "metadata": {},
          "output_type": "execute_result"
        }
      ],
      "source": [
        "result_df.loc[len(result_df.index)] = ['ANN_Model', tr_accuracy, te_accuracy,F1_sre] \n",
        "result_df"
      ]
    },
    {
      "cell_type": "code",
      "execution_count": null,
      "metadata": {
        "id": "IavFFhWeHQlt"
      },
      "outputs": [],
      "source": [
        "# define a function for plotting the progress of training\n",
        "def plot_history(history):\n",
        "\n",
        "  hist = pd.DataFrame(history.history)\n",
        "\n",
        "  plt.figure()\n",
        "  plt.xlabel('Epochs')\n",
        "  plt.ylabel('loss')\n",
        "  plt.plot(hist['loss'],label= 'Train error')\n",
        "  plt.plot(hist['val_loss'],label='Val error')\n",
        "  plt.legend()\n",
        "  plt.ylim([0,5])\n",
        "  \n",
        "  plt.figure()\n",
        "  plt.xlabel('Epochs')\n",
        "  plt.ylabel('accuracy')\n",
        "  plt.plot(hist['accuracy'],label = 'Train accuracy')\n",
        "  plt.plot(hist['val_accuracy'],label='Val_accuracy')\n",
        "  plt.legend()\n",
        "  plt.ylim([0,5])"
      ]
    },
    {
      "cell_type": "code",
      "execution_count": null,
      "metadata": {
        "colab": {
          "base_uri": "https://localhost:8080/",
          "height": 548
        },
        "id": "zbX16Ru3H0Rj",
        "outputId": "9a583cfb-aa58-4caf-cc85-e554fb30d1c1"
      },
      "outputs": [
        {
          "data": {
            "image/png": "[encoded data removed]",
            "text/plain": [
              "<Figure size 432x288 with 1 Axes>"
            ]
          },
          "metadata": {
            "needs_background": "light"
          },
          "output_type": "display_data"
        },
        {
          "data": {
            "image/png": "[encoded data removed]",
            "text/plain": [
              "<Figure size 432x288 with 1 Axes>"
            ]
          },
          "metadata": {
            "needs_background": "light"
          },
          "output_type": "display_data"
        }
      ],
      "source": [
        "plot_history(history_nn)"
      ]
    },
    {
      "cell_type": "code",
      "execution_count": null,
      "metadata": {
        "colab": {
          "base_uri": "https://localhost:8080/"
        },
        "id": "fpXPjSCnkcGM",
        "outputId": "bbc44117-2eca-4dd1-865d-b75a218b6311"
      },
      "outputs": [
        {
          "name": "stdout",
          "output_type": "stream",
          "text": [
            "              precision    recall  f1-score   support\n",
            "\n",
            "           0       0.75      0.75      0.75         4\n",
            "           1       0.44      0.38      0.41        21\n",
            "           2       0.43      0.45      0.44        22\n",
            "           3       0.41      0.56      0.47        27\n",
            "           4       0.00      0.00      0.00         9\n",
            "\n",
            "    accuracy                           0.43        83\n",
            "   macro avg       0.41      0.43      0.41        83\n",
            "weighted avg       0.40      0.43      0.41        83\n",
            "\n"
          ]
        }
      ],
      "source": [
        "print(classification_report(y_original, y_pred_index))"
      ]
    },
    {
      "cell_type": "code",
      "execution_count": null,
      "metadata": {
        "colab": {
          "base_uri": "https://localhost:8080/",
          "height": 265
        },
        "id": "62KiNLFikiqB",
        "outputId": "93138f8d-11af-4537-a3ad-4b2db0a719a3"
      },
      "outputs": [
        {
          "data": {
            "image/png": "[encoded data removed]",
            "text/plain": [
              "<Figure size 432x288 with 2 Axes>"
            ]
          },
          "metadata": {
            "needs_background": "light"
          },
          "output_type": "display_data"
        }
      ],
      "source": [
        "sns.heatmap(confusion_matrix(y_original,y_pred_index),annot = True);"
      ]
    },
    {
      "cell_type": "markdown",
      "metadata": {
        "id": "17TIco8Zy51a"
      },
      "source": [
        "## LSTM Model"
      ]
    },
    {
      "cell_type": "code",
      "execution_count": null,
      "metadata": {
        "id": "h5sQ-rKcCO5i"
      },
      "outputs": [],
      "source": [
        "industry_df = pd.read_csv(\"industry_df_with_stopwords.csv\")"
      ]
    },
    {
      "cell_type": "code",
      "execution_count": null,
      "metadata": {
        "colab": {
          "base_uri": "https://localhost:8080/",
          "height": 237
        },
        "id": "D8wsZWvISbRs",
        "outputId": "b15e58e8-b592-46dd-e550-732c9b446aef"
      },
      "outputs": [
        {
          "data": {
            "text/html": [
              "<div>\n",
              "<style scoped>\n",
              "    .dataframe tbody tr th:only-of-type {\n",
              "        vertical-align: middle;\n",
              "    }\n",
              "\n",
              "    .dataframe tbody tr th {\n",
              "        vertical-align: top;\n",
              "    }\n",
              "\n",
              "    .dataframe thead th {\n",
              "        text-align: right;\n",
              "    }\n",
              "</style>\n",
              "<table border=\"1\" class=\"dataframe\">\n",
              "  <thead>\n",
              "    <tr style=\"text-align: right;\">\n",
              "      <th>Potential_Accident_Level</th>\n",
              "      <th>I</th>\n",
              "      <th>II</th>\n",
              "      <th>III</th>\n",
              "      <th>IV</th>\n",
              "      <th>V</th>\n",
              "    </tr>\n",
              "    <tr>\n",
              "      <th>Accident_Level</th>\n",
              "      <th></th>\n",
              "      <th></th>\n",
              "      <th></th>\n",
              "      <th></th>\n",
              "      <th></th>\n",
              "    </tr>\n",
              "  </thead>\n",
              "  <tbody>\n",
              "    <tr>\n",
              "      <th>I</th>\n",
              "      <td>43</td>\n",
              "      <td>88</td>\n",
              "      <td>89</td>\n",
              "      <td>75</td>\n",
              "      <td>8</td>\n",
              "    </tr>\n",
              "    <tr>\n",
              "      <th>II</th>\n",
              "      <td>0</td>\n",
              "      <td>7</td>\n",
              "      <td>14</td>\n",
              "      <td>16</td>\n",
              "      <td>2</td>\n",
              "    </tr>\n",
              "    <tr>\n",
              "      <th>III</th>\n",
              "      <td>0</td>\n",
              "      <td>0</td>\n",
              "      <td>3</td>\n",
              "      <td>26</td>\n",
              "      <td>2</td>\n",
              "    </tr>\n",
              "    <tr>\n",
              "      <th>IV</th>\n",
              "      <td>0</td>\n",
              "      <td>0</td>\n",
              "      <td>0</td>\n",
              "      <td>21</td>\n",
              "      <td>9</td>\n",
              "    </tr>\n",
              "    <tr>\n",
              "      <th>V</th>\n",
              "      <td>0</td>\n",
              "      <td>0</td>\n",
              "      <td>0</td>\n",
              "      <td>0</td>\n",
              "      <td>8</td>\n",
              "    </tr>\n",
              "  </tbody>\n",
              "</table>\n",
              "</div>"
            ],
            "text/plain": [
              "Potential_Accident_Level   I  II  III  IV  V\n",
              "Accident_Level                              \n",
              "I                         43  88   89  75  8\n",
              "II                         0   7   14  16  2\n",
              "III                        0   0    3  26  2\n",
              "IV                         0   0    0  21  9\n",
              "V                          0   0    0   0  8"
            ]
          },
          "execution_count": 99,
          "metadata": {},
          "output_type": "execute_result"
        }
      ],
      "source": [
        "pd.crosstab(industry_df['Accident_Level'],industry_df['Potential_Accident_Level'])"
      ]
    },
    {
      "cell_type": "markdown",
      "metadata": {
        "id": "3E2hcj_FZcBZ"
      },
      "source": [
        "From the cross tab we can see that most of the potential accident level are categorsied under Accident level 'I\". Potential accident level 2,3 and 4 have more data compared to 1 and 5. Level 5 has least data."
      ]
    },
    {
      "cell_type": "code",
      "execution_count": null,
      "metadata": {
        "colab": {
          "base_uri": "https://localhost:8080/"
        },
        "id": "kEI76-c5TMN1",
        "outputId": "e792309f-a781-4c80-9f9e-9d7de6ff08c7"
      },
      "outputs": [
        {
          "data": {
            "text/plain": [
              "IV     138\n",
              "III    106\n",
              "II      95\n",
              "I       43\n",
              "V       29\n",
              "Name: Potential_Accident_Level, dtype: int64"
            ]
          },
          "execution_count": 100,
          "metadata": {},
          "output_type": "execute_result"
        }
      ],
      "source": [
        "industry_df['Potential_Accident_Level'].value_counts()"
      ]
    },
    {
      "cell_type": "code",
      "execution_count": null,
      "metadata": {
        "colab": {
          "base_uri": "https://localhost:8080/"
        },
        "id": "NrTjL3jqSbgn",
        "outputId": "ee30db88-3a65-4990-8a9c-5305f644e7e4"
      },
      "outputs": [
        {
          "data": {
            "text/plain": [
              "I      303\n",
              "II      39\n",
              "III     31\n",
              "IV      30\n",
              "V        8\n",
              "Name: Accident_Level, dtype: int64"
            ]
          },
          "execution_count": 101,
          "metadata": {},
          "output_type": "execute_result"
        }
      ],
      "source": [
        "industry_df['Accident_Level'].value_counts()"
      ]
    },
    {
      "cell_type": "markdown",
      "metadata": {
        "id": "qUEJrAPbaBla"
      },
      "source": [
        "The accident level data is not uniformly distributed. Most of the data is skewed to Level 1."
      ]
    },
    {
      "cell_type": "markdown",
      "metadata": {
        "id": "t8IxQl0-aJPp"
      },
      "source": [
        "We can take the Preprocessed description (texts) as our features and the Potential accident level as our Targets for LSTM Model."
      ]
    },
    {
      "cell_type": "code",
      "execution_count": null,
      "metadata": {
        "id": "2_D0_kFa-5RR"
      },
      "outputs": [],
      "source": [
        "# Select input and output features\n",
        "\n",
        "X_text = industry_df['Description_preprocessed']\n",
        "y_text = industry_df['Potential_Accident_Level']"
      ]
    },
    {
      "cell_type": "markdown",
      "metadata": {
        "id": "tgaj7GAWaYJW"
      },
      "source": [
        "Since the data is in string format we need to label encode it and to pass it to the deep learning model we need to one hot encode it."
      ]
    },
    {
      "cell_type": "code",
      "execution_count": null,
      "metadata": {
        "id": "dT20xvR6_GK4"
      },
      "outputs": [],
      "source": [
        "# Encode labels in column 'Potential Accident Level'and Convert into one-hot encoded vectors:\n",
        "y_text = LabelEncoder().fit_transform(y_text)\n",
        "y_text = to_categorical(y_text)"
      ]
    },
    {
      "cell_type": "code",
      "execution_count": null,
      "metadata": {
        "colab": {
          "base_uri": "https://localhost:8080/"
        },
        "id": "1BnKuI5z_PoB",
        "outputId": "d01fa4f4-5dca-415b-c5af-33db30f97f62"
      },
      "outputs": [
        {
          "name": "stdout",
          "output_type": "stream",
          "text": [
            "X_text_train shape : ((328,))\n",
            "y_text_train shape : ((328, 5),)\n",
            "X_text_test shape : ((83,))\n",
            "y_text_test shape : ((83, 5),)\n"
          ]
        }
      ],
      "source": [
        "# Divide our data into testing and training sets:\n",
        "X_text_train, X_text_test, y_text_train, y_text_test = train_test_split(X_text, y_text, test_size = 0.20, random_state = 1)\n",
        "\n",
        "print('X_text_train shape : ({0})'.format(X_text_train.shape))\n",
        "print('y_text_train shape : ({0},)'.format(y_text_train.shape))\n",
        "print('X_text_test shape : ({0})'.format(X_text_test.shape))\n",
        "print('y_text_test shape : ({0},)'.format(y_text_test.shape))"
      ]
    },
    {
      "cell_type": "markdown",
      "metadata": {
        "id": "TvbhNmaWakdD"
      },
      "source": [
        "We need to tokenise our data to convert the text data into numbers."
      ]
    },
    {
      "cell_type": "code",
      "execution_count": null,
      "metadata": {
        "id": "JEFdmm48Z5Ao"
      },
      "outputs": [],
      "source": [
        "# The first step in word embeddings is to convert the words into thier corresponding numeric indexes.\n",
        "tokenizer = Tokenizer(num_words=3000)\n",
        "tokenizer.fit_on_texts(X_text_train)\n",
        "\n",
        "X_text_train = tokenizer.texts_to_sequences(X_text_train)\n",
        "X_text_test = tokenizer.texts_to_sequences(X_text_test)"
      ]
    },
    {
      "cell_type": "code",
      "execution_count": null,
      "metadata": {
        "colab": {
          "base_uri": "https://localhost:8080/"
        },
        "id": "TSsdsx9YNBvN",
        "outputId": "dab7cc8b-1440-46dc-af21-5a0ae10b4365"
      },
      "outputs": [
        {
          "name": "stdout",
          "output_type": "stream",
          "text": [
            "Minimum number of words: 16\n",
            "Maximum number of words: 183\n"
          ]
        }
      ],
      "source": [
        "industry_df['nb_words'] = industry_df['Description_preprocessed'].apply(lambda x: len(x.split(' ')))\n",
        "\n",
        "print('Minimum number of words: {}'.format(industry_df['nb_words'].min()))\n",
        "print('Maximum number of words: {}'.format(industry_df['nb_words'].max()))"
      ]
    },
    {
      "cell_type": "markdown",
      "metadata": {
        "id": "FqkR4IWdatnA"
      },
      "source": [
        "The maximum number of words in our data including stopwords  is 183. Based on this we can fix our maximum length of our data will be 185."
      ]
    },
    {
      "cell_type": "code",
      "execution_count": null,
      "metadata": {
        "colab": {
          "base_uri": "https://localhost:8080/"
        },
        "id": "RkIWW1RFNeUP",
        "outputId": "1c6419f9-4da8-463b-fb28-78fe5bc884ed"
      },
      "outputs": [
        {
          "name": "stdout",
          "output_type": "stream",
          "text": [
            "vocab_size: 2841\n"
          ]
        }
      ],
      "source": [
        "vocab_size = len(tokenizer.word_index) + 1\n",
        "print(\"vocab_size:\", vocab_size)\n",
        "\n",
        "maxlen = 185\n",
        "\n",
        "X_text_train = pad_sequences(X_text_train, padding='post', maxlen=maxlen)\n",
        "X_text_test = pad_sequences(X_text_test, padding='post', maxlen=maxlen)"
      ]
    },
    {
      "cell_type": "markdown",
      "metadata": {
        "id": "t5HWBi1Na_ct"
      },
      "source": [
        "The Vocabulary size of the data is 2841. (Total number of words in our data)."
      ]
    },
    {
      "cell_type": "code",
      "execution_count": null,
      "metadata": {
        "colab": {
          "base_uri": "https://localhost:8080/"
        },
        "id": "lMTQy06_0RmH",
        "outputId": "4fe4f058-404d-40f6-d2d2-43ee33173dc8"
      },
      "outputs": [
        {
          "name": "stdout",
          "output_type": "stream",
          "text": [
            "/content/drive/MyDrive/AIML/Capstone\n"
          ]
        }
      ],
      "source": [
        "%cd /content/drive/MyDrive/AIML/Capstone"
      ]
    },
    {
      "cell_type": "markdown",
      "metadata": {
        "id": "b9Hks90T11kH"
      },
      "source": [
        "Glove 6B To 200D Embedding took from this source http://nlp.stanford.edu/data/glove.6B.zip, it saved in drive and convert it into dictionary file"
      ]
    },
    {
      "cell_type": "code",
      "execution_count": null,
      "metadata": {
        "colab": {
          "base_uri": "https://localhost:8080/"
        },
        "id": "VpTBhyYyQ0pV",
        "outputId": "98b00968-8abf-4d33-c7e2-ede87343a456"
      },
      "outputs": [
        {
          "name": "stderr",
          "output_type": "stream",
          "text": [
            "'wget' is not recognized as an internal or external command,\n",
            "operable program or batch file.\n",
            "'unzip' is not recognized as an internal or external command,\n",
            "operable program or batch file.\n"
          ]
        }
      ],
      "source": [
        "!wget http://nlp.stanford.edu/data/glove.6B.zip\n",
        "!unzip glove*.zip"
      ]
    },
    {
      "cell_type": "code",
      "execution_count": null,
      "metadata": {
        "colab": {
          "base_uri": "https://localhost:8080/"
        },
        "id": "ppsOlnwzQ9nP",
        "outputId": "0a985203-f8d3-4616-bd34-b7357ae1342b"
      },
      "outputs": [
        {
          "name": "stdout",
          "output_type": "stream",
          "text": [
            "Indexing word vectors.\n",
            "Found 400000 word vectors.\n"
          ]
        }
      ],
      "source": [
        "print('Indexing word vectors.')\n",
        "\n",
        "embeddings_dictionary = {}\n",
        "f = open('glove.6B.200d.txt', encoding='utf-8')\n",
        "for line in f:\n",
        "    values = line.split()\n",
        "    word = values[0]\n",
        "    coefs = np.asarray(values[1:], dtype='float32')\n",
        "    embeddings_dictionary[word] = coefs\n",
        "f.close()\n",
        "\n",
        "print('Found %s word vectors.' % len(embeddings_dictionary))"
      ]
    },
    {
      "cell_type": "code",
      "execution_count": null,
      "metadata": {
        "id": "bEfVsM7IRJOT"
      },
      "outputs": [],
      "source": [
        "import pickle\n",
        "pickle.dump(embeddings_dictionary, open('/content/drive/MyDrive/AIML/Capstone/embeddings.pickle', 'wb'))"
      ]
    },
    {
      "cell_type": "code",
      "execution_count": null,
      "metadata": {
        "id": "vaSid2m4TL94"
      },
      "outputs": [],
      "source": [
        "import pickle\n",
        "infile = open('/content/drive/MyDrive/AIML/Capstone/embeddings.pickle','rb')\n",
        "embeddings_dictionary = pickle.load(infile)"
      ]
    },
    {
      "cell_type": "markdown",
      "metadata": {
        "id": "SUsOiCP-bHMU"
      },
      "source": [
        "We Pickled the Glove Embedding dictionary file for future use."
      ]
    },
    {
      "cell_type": "code",
      "execution_count": null,
      "metadata": {
        "colab": {
          "base_uri": "https://localhost:8080/"
        },
        "id": "62ApqzcCOESX",
        "outputId": "da88d33e-01fc-4f0d-b47a-84bf1093fefb"
      },
      "outputs": [
        {
          "data": {
            "text/plain": [
              "(2841, 200)"
            ]
          },
          "execution_count": 113,
          "metadata": {},
          "output_type": "execute_result"
        }
      ],
      "source": [
        "embedding_size = 200\n",
        "\n",
        "embedding_matrix = np.zeros((vocab_size, embedding_size))\n",
        "\n",
        "for word, index in tokenizer.word_index.items():\n",
        "    embedding_vector = embeddings_dictionary.get(word)\n",
        "    if embedding_vector is not None:\n",
        "        embedding_matrix[index] = embedding_vector\n",
        "embedding_matrix.shape"
      ]
    },
    {
      "cell_type": "markdown",
      "metadata": {
        "id": "6LcqJ4fhbQ3L"
      },
      "source": [
        "The Created embedding matrix is of shape 2841 * 200"
      ]
    },
    {
      "cell_type": "code",
      "execution_count": null,
      "metadata": {
        "id": "Md_bC5CAWUaO"
      },
      "outputs": [],
      "source": [
        "base_model = Sequential()\n",
        "base_model.add(Embedding(vocab_size, output_dim=embedding_size, weights=[embedding_matrix], input_length=185, trainable=False))\n",
        "#LSTM \n",
        "base_model.add(Bidirectional(LSTM(units=128 , recurrent_dropout = 0.5 , dropout = 0.5)))\n",
        "base_model.add(Dense(5, activation='softmax'))\n",
        "base_model.compile(optimizer=optimizers.Adam(lr = 0.001), loss='binary_crossentropy', metrics=['acc'])"
      ]
    },
    {
      "cell_type": "code",
      "execution_count": null,
      "metadata": {
        "colab": {
          "base_uri": "https://localhost:8080/"
        },
        "id": "bONs7fRRW8We",
        "outputId": "f47b9fa3-64f9-4a09-aa9b-6e0ba71a1f83"
      },
      "outputs": [
        {
          "name": "stdout",
          "output_type": "stream",
          "text": [
            "Model: \"sequential\"\n",
            "_________________________________________________________________\n",
            "Layer (type)                 Output Shape              Param #   \n",
            "=================================================================\n",
            "embedding (Embedding)        (None, 185, 200)          568200    \n",
            "_________________________________________________________________\n",
            "bidirectional (Bidirectional (None, 256)               336896    \n",
            "_________________________________________________________________\n",
            "dense (Dense)                (None, 5)                 1285      \n",
            "=================================================================\n",
            "Total params: 906,381\n",
            "Trainable params: 338,181\n",
            "Non-trainable params: 568,200\n",
            "_________________________________________________________________\n"
          ]
        }
      ],
      "source": [
        "base_model.summary()"
      ]
    },
    {
      "cell_type": "code",
      "execution_count": null,
      "metadata": {
        "colab": {
          "base_uri": "https://localhost:8080/"
        },
        "id": "Kve3a2dVcEDC",
        "outputId": "254fe6cc-83cc-4cff-c4cb-a91ae967eb10"
      },
      "outputs": [
        {
          "data": {
            "text/plain": [
              "((328, 185), (328, 5), (83, 185), (83, 5))"
            ]
          },
          "execution_count": 116,
          "metadata": {},
          "output_type": "execute_result"
        }
      ],
      "source": [
        "X_text_train.shape,y_text_train.shape,X_text_test.shape, y_text_test.shape"
      ]
    },
    {
      "cell_type": "code",
      "execution_count": null,
      "metadata": {
        "id": "NEo9P-nlYaQV"
      },
      "outputs": [],
      "source": [
        "callback = tf.keras.callbacks.EarlyStopping(monitor='loss', patience=3, min_delta=0.001)\n",
        "rlrp = ReduceLROnPlateau(monitor='val_loss', factor=0.001, patience=3, min_delta=1E-4)\n",
        "\n",
        "# fit the keras model on the dataset\n",
        "base_model_history = base_model.fit(X_text_train, y_text_train, epochs=10, batch_size=8, verbose=1, validation_data=(X_text_test, y_text_test), callbacks=[rlrp])"
      ]
    },
    {
      "cell_type": "code",
      "execution_count": null,
      "metadata": {
        "colab": {
          "base_uri": "https://localhost:8080/"
        },
        "id": "OI1WcDNi15qy",
        "outputId": "831f7739-79a0-4660-a36d-fd31c60dd0c9"
      },
      "outputs": [
        {
          "name": "stdout",
          "output_type": "stream",
          "text": [
            "Train accuracy: 83.84\n",
            "Test accuracy: 38.55\n"
          ]
        }
      ],
      "source": [
        "_, train_accuracy = base_model.evaluate(X_text_train, y_text_train, batch_size=8, verbose=0)\n",
        "_, test_accuracy = base_model.evaluate(X_text_test, y_text_test, batch_size=8, verbose=0)\n",
        "\n",
        "print('Train accuracy: %.2f' % (train_accuracy*100))\n",
        "print('Test accuracy: %.2f' % (test_accuracy*100))"
      ]
    },
    {
      "cell_type": "markdown",
      "metadata": {
        "id": "StTvAgB2bZSr"
      },
      "source": [
        "Clearlt, the base model without dense layers overfit the data. Let us add more dense layers to our LSTM Layers."
      ]
    },
    {
      "cell_type": "code",
      "execution_count": null,
      "metadata": {
        "id": "KXog2DVW9Y-5"
      },
      "outputs": [],
      "source": [
        "class Metrics(tf.keras.callbacks.Callback):\n",
        "\n",
        "    def __init__(self, validation_data=()):\n",
        "        super().__init__()\n",
        "        self.validation_data = validation_data\n",
        "\n",
        "    def on_train_begin(self, logs={}):\n",
        "        self.val_f1s = []\n",
        "        self.val_recalls = []\n",
        "        self.val_precisions = []\n",
        "\n",
        "    def on_epoch_end(self, epoch, logs={}):\n",
        "        xVal, yVal = self.validation_data\n",
        "        val_predict_classes = (np.asarray(self.model.predict(xVal))).round() # Multilabel\n",
        "        \n",
        "        \n",
        "        val_targ = yVal\n",
        "\n",
        "        _val_f1 = f1_score(val_targ, val_predict_classes, average='micro')\n",
        "        _val_recall = recall_score(val_targ, val_predict_classes, average='micro')\n",
        "        _val_precision = precision_score(val_targ, val_predict_classes, average='micro')\n",
        "        self.val_f1s.append(_val_f1)\n",
        "        self.val_recalls.append(_val_recall)\n",
        "        self.val_precisions.append(_val_precision)\n",
        "        #print(\"— train_f1: %f — train_precision: %f — train_recall %f\" % (_val_f1, _val_precision, _val_recall))\n",
        "        return"
      ]
    },
    {
      "cell_type": "markdown",
      "metadata": {
        "id": "5Rkzh_-GbmQx"
      },
      "source": [
        "- We are Using Bidirectional LSTM model with 128 units.\n",
        "- A Embedding layer before the LSTM layer.\n",
        "- Global Max pool out layer.\n",
        "- 5 dense layers to gradually reduce the nodes and 5 drop out layers.\n",
        "- Optimiser - Adam, loss - Categorical Cross Entropy"
      ]
    },
    {
      "cell_type": "code",
      "execution_count": null,
      "metadata": {
        "id": "PbKLrQl7UC7V"
      },
      "outputs": [],
      "source": [
        "\n",
        "# Build a LSTM Neural Network\n",
        "deep_inputs = Input(shape=(maxlen,))\n",
        "embedding_layer = Embedding(vocab_size, embedding_size, weights=[embedding_matrix], trainable=False)(deep_inputs)\n",
        "\n",
        "LSTM_Layer_1 = Bidirectional(LSTM(128, return_sequences = True))(embedding_layer)\n",
        "max_pool_layer_1 = GlobalMaxPool1D()(LSTM_Layer_1)\n",
        "drop_out_layer_1 = Dropout(0.5, input_shape = (256,))(max_pool_layer_1)\n",
        "dense_layer_1 = Dense(128, activation = 'relu')(drop_out_layer_1)\n",
        "drop_out_layer_2 = Dropout(0.5, input_shape = (128,))(dense_layer_1)\n",
        "dense_layer_2 = Dense(64, activation = 'relu')(drop_out_layer_2)\n",
        "drop_out_layer_3 = Dropout(0.5, input_shape = (64,))(dense_layer_2)\n",
        "\n",
        "dense_layer_3 = Dense(32, activation = 'relu')(drop_out_layer_3)\n",
        "drop_out_layer_4 = Dropout(0.5, input_shape = (32,))(dense_layer_3)\n",
        "\n",
        "dense_layer_4 = Dense(10, activation = 'relu')(drop_out_layer_4)\n",
        "drop_out_layer_5 = Dropout(0.5, input_shape = (10,))(dense_layer_4)\n",
        "\n",
        "dense_layer_5 = Dense(5, activation='softmax')(drop_out_layer_5)\n",
        "\n",
        "lstm_model = Model(inputs=deep_inputs, outputs=dense_layer_5)\n",
        "\n",
        "opt = optimizers.Adam(lr=0.001)\n",
        "#opt = optimizers.SGD(lr=0.0001, momentum=0.9)\n",
        "lstm_model.compile(loss='categorical_crossentropy', optimizer=opt, metrics=['acc'])"
      ]
    },
    {
      "cell_type": "code",
      "execution_count": null,
      "metadata": {
        "colab": {
          "base_uri": "https://localhost:8080/"
        },
        "id": "ZNveGLwn-cf7",
        "outputId": "ece1545f-c938-4f68-d8d3-1e668742e55f"
      },
      "outputs": [
        {
          "name": "stdout",
          "output_type": "stream",
          "text": [
            "Model: \"model_8\"\n",
            "_________________________________________________________________\n",
            " Layer (type)                Output Shape              Param #   \n",
            "=================================================================\n",
            " input_10 (InputLayer)       [(None, 185)]             0         \n",
            "                                                                 \n",
            " embedding_17 (Embedding)    (None, 185, 200)          568200    \n",
            "                                                                 \n",
            " bidirectional_17 (Bidirecti  (None, 185, 256)         336896    \n",
            " onal)                                                           \n",
            "                                                                 \n",
            " global_max_pooling1d_8 (Glo  (None, 256)              0         \n",
            " balMaxPooling1D)                                                \n",
            "                                                                 \n",
            " dropout_40 (Dropout)        (None, 256)               0         \n",
            "                                                                 \n",
            " dense_49 (Dense)            (None, 128)               32896     \n",
            "                                                                 \n",
            " dropout_41 (Dropout)        (None, 128)               0         \n",
            "                                                                 \n",
            " dense_50 (Dense)            (None, 64)                8256      \n",
            "                                                                 \n",
            " dropout_42 (Dropout)        (None, 64)                0         \n",
            "                                                                 \n",
            " dense_51 (Dense)            (None, 32)                2080      \n",
            "                                                                 \n",
            " dropout_43 (Dropout)        (None, 32)                0         \n",
            "                                                                 \n",
            " dense_52 (Dense)            (None, 10)                330       \n",
            "                                                                 \n",
            " dropout_44 (Dropout)        (None, 10)                0         \n",
            "                                                                 \n",
            " dense_53 (Dense)            (None, 5)                 55        \n",
            "                                                                 \n",
            "=================================================================\n",
            "Total params: 948,713\n",
            "Trainable params: 380,513\n",
            "Non-trainable params: 568,200\n",
            "_________________________________________________________________\n",
            "None\n"
          ]
        }
      ],
      "source": [
        "print(lstm_model.summary())"
      ]
    },
    {
      "cell_type": "code",
      "execution_count": null,
      "metadata": {
        "colab": {
          "base_uri": "https://localhost:8080/"
        },
        "id": "uG0N_BLE97Fy",
        "outputId": "b9f17a86-1c53-442d-9a7f-59a9147fa102"
      },
      "outputs": [
        {
          "name": "stdout",
          "output_type": "stream",
          "text": [
            "Collecting plot_model\n",
            "  Downloading plot_model-0.20-py3-none-any.whl (6.9 kB)\n",
            "Installing collected packages: plot-model\n",
            "Successfully installed plot-model-0.20\n"
          ]
        }
      ],
      "source": [
        "!pip install plot_model"
      ]
    },
    {
      "cell_type": "code",
      "execution_count": null,
      "metadata": {
        "colab": {
          "base_uri": "https://localhost:8080/",
          "height": 1000
        },
        "id": "x_0CjlGG9Wur",
        "outputId": "5f9ae7bf-776c-4c5b-953a-6387bf67e994"
      },
      "outputs": [
        {
          "data": {
            "image/png": "[encoded data removed]",
            "text/plain": [
              "<IPython.core.display.Image object>"
            ]
          },
          "execution_count": 250,
          "metadata": {},
          "output_type": "execute_result"
        }
      ],
      "source": [
        "from keras.utils.vis_utils import plot_model\n",
        "tf.keras.utils.plot_model(lstm_model, to_file='model.png', show_shapes=True, show_dtype=True,\n",
        "show_layer_names=True, rankdir='TB', expand_nested=False, dpi=96)"
      ]
    },
    {
      "cell_type": "code",
      "execution_count": null,
      "metadata": {
        "colab": {
          "base_uri": "https://localhost:8080/"
        },
        "id": "FWj2rSUf9wfZ",
        "outputId": "7f2ae8a6-9521-4779-ccc2-62176eb1aa96"
      },
      "outputs": [
        {
          "name": "stdout",
          "output_type": "stream",
          "text": [
            "Epoch 1/30\n",
            "41/41 [==============================] - 17s 338ms/step - loss: 1.6385 - acc: 0.2530 - val_loss: 1.5722 - val_acc: 0.2530 - lr: 0.0010\n",
            "Epoch 2/30\n",
            "41/41 [==============================] - 13s 312ms/step - loss: 1.5835 - acc: 0.2988 - val_loss: 1.5423 - val_acc: 0.3735 - lr: 0.0010\n",
            "Epoch 3/30\n",
            "41/41 [==============================] - 13s 312ms/step - loss: 1.5904 - acc: 0.2866 - val_loss: 1.5536 - val_acc: 0.3735 - lr: 0.0010\n",
            "Epoch 4/30\n",
            "41/41 [==============================] - 13s 311ms/step - loss: 1.5711 - acc: 0.2713 - val_loss: 1.5196 - val_acc: 0.3012 - lr: 0.0010\n",
            "Epoch 5/30\n",
            "41/41 [==============================] - 13s 310ms/step - loss: 1.5650 - acc: 0.2957 - val_loss: 1.5334 - val_acc: 0.3735 - lr: 0.0010\n",
            "Epoch 6/30\n",
            "41/41 [==============================] - 13s 313ms/step - loss: 1.5292 - acc: 0.3323 - val_loss: 1.5261 - val_acc: 0.3735 - lr: 0.0010\n",
            "Epoch 7/30\n",
            "41/41 [==============================] - 13s 313ms/step - loss: 1.5601 - acc: 0.3079 - val_loss: 1.5258 - val_acc: 0.3735 - lr: 0.0010\n",
            "Epoch 8/30\n",
            "41/41 [==============================] - 13s 311ms/step - loss: 1.5640 - acc: 0.2622 - val_loss: 1.5258 - val_acc: 0.3735 - lr: 1.0000e-06\n",
            "Epoch 9/30\n",
            "41/41 [==============================] - 13s 312ms/step - loss: 1.5477 - acc: 0.2530 - val_loss: 1.5258 - val_acc: 0.3735 - lr: 1.0000e-06\n",
            "Epoch 10/30\n",
            "41/41 [==============================] - 13s 310ms/step - loss: 1.5547 - acc: 0.2866 - val_loss: 1.5258 - val_acc: 0.3735 - lr: 1.0000e-06\n",
            "Epoch 11/30\n",
            "41/41 [==============================] - 13s 308ms/step - loss: 1.5497 - acc: 0.3171 - val_loss: 1.5258 - val_acc: 0.3735 - lr: 1.0000e-09\n",
            "Epoch 12/30\n",
            "41/41 [==============================] - 13s 312ms/step - loss: 1.5627 - acc: 0.2805 - val_loss: 1.5258 - val_acc: 0.3735 - lr: 1.0000e-09\n",
            "Epoch 13/30\n",
            "41/41 [==============================] - 13s 310ms/step - loss: 1.5590 - acc: 0.2896 - val_loss: 1.5258 - val_acc: 0.3735 - lr: 1.0000e-09\n",
            "Epoch 14/30\n",
            "41/41 [==============================] - 13s 312ms/step - loss: 1.5433 - acc: 0.3232 - val_loss: 1.5258 - val_acc: 0.3735 - lr: 1.0000e-12\n",
            "Epoch 15/30\n",
            "41/41 [==============================] - 13s 311ms/step - loss: 1.5505 - acc: 0.2835 - val_loss: 1.5258 - val_acc: 0.3735 - lr: 1.0000e-12\n",
            "Epoch 16/30\n",
            "41/41 [==============================] - 13s 313ms/step - loss: 1.5593 - acc: 0.2591 - val_loss: 1.5258 - val_acc: 0.3735 - lr: 1.0000e-12\n",
            "Epoch 17/30\n",
            "41/41 [==============================] - 13s 316ms/step - loss: 1.5672 - acc: 0.2652 - val_loss: 1.5258 - val_acc: 0.3735 - lr: 1.0000e-15\n",
            "Epoch 18/30\n",
            "41/41 [==============================] - 13s 314ms/step - loss: 1.5554 - acc: 0.2561 - val_loss: 1.5258 - val_acc: 0.3735 - lr: 1.0000e-15\n",
            "Epoch 19/30\n",
            "41/41 [==============================] - 13s 311ms/step - loss: 1.5635 - acc: 0.3140 - val_loss: 1.5258 - val_acc: 0.3735 - lr: 1.0000e-15\n",
            "Epoch 20/30\n",
            "41/41 [==============================] - 13s 311ms/step - loss: 1.5236 - acc: 0.3232 - val_loss: 1.5258 - val_acc: 0.3735 - lr: 1.0000e-18\n",
            "Epoch 21/30\n",
            "41/41 [==============================] - 13s 313ms/step - loss: 1.5182 - acc: 0.3415 - val_loss: 1.5258 - val_acc: 0.3735 - lr: 1.0000e-18\n",
            "Epoch 22/30\n",
            "41/41 [==============================] - 13s 314ms/step - loss: 1.5253 - acc: 0.2835 - val_loss: 1.5258 - val_acc: 0.3735 - lr: 1.0000e-18\n",
            "Epoch 23/30\n",
            "41/41 [==============================] - 13s 314ms/step - loss: 1.5598 - acc: 0.2165 - val_loss: 1.5258 - val_acc: 0.3735 - lr: 1.0000e-21\n",
            "Epoch 24/30\n",
            "41/41 [==============================] - 13s 311ms/step - loss: 1.5976 - acc: 0.2774 - val_loss: 1.5258 - val_acc: 0.3735 - lr: 1.0000e-21\n",
            "Epoch 25/30\n",
            "41/41 [==============================] - 13s 312ms/step - loss: 1.5382 - acc: 0.2896 - val_loss: 1.5258 - val_acc: 0.3735 - lr: 1.0000e-21\n",
            "Epoch 26/30\n",
            "41/41 [==============================] - 13s 312ms/step - loss: 1.5433 - acc: 0.2652 - val_loss: 1.5258 - val_acc: 0.3735 - lr: 1.0000e-24\n",
            "Epoch 27/30\n",
            "41/41 [==============================] - 13s 310ms/step - loss: 1.5523 - acc: 0.3018 - val_loss: 1.5258 - val_acc: 0.3735 - lr: 1.0000e-24\n",
            "Epoch 28/30\n",
            "41/41 [==============================] - 13s 313ms/step - loss: 1.5620 - acc: 0.3079 - val_loss: 1.5258 - val_acc: 0.3735 - lr: 1.0000e-24\n",
            "Epoch 29/30\n",
            "41/41 [==============================] - 13s 309ms/step - loss: 1.5308 - acc: 0.2866 - val_loss: 1.5258 - val_acc: 0.3735 - lr: 1.0000e-27\n",
            "Epoch 30/30\n",
            "41/41 [==============================] - 13s 313ms/step - loss: 1.5364 - acc: 0.3018 - val_loss: 1.5258 - val_acc: 0.3735 - lr: 1.0000e-27\n"
          ]
        }
      ],
      "source": [
        "callback = tf.keras.callbacks.EarlyStopping(monitor='loss', patience=3, min_delta=1E-3)\n",
        "rlrp = ReduceLROnPlateau(monitor='val_loss', factor=0.001, patience=3, min_delta=1E-4)\n",
        "\n",
        "metrics = Metrics(validation_data=(X_text_train, y_text_train))\n",
        "\n",
        "# fit the keras model on the dataset\n",
        "training_history = lstm_model.fit(X_text_train, y_text_train, epochs=10, batch_size=8, verbose=1, validation_data=(X_text_test, y_text_test), callbacks=[rlrp])"
      ]
    },
    {
      "cell_type": "code",
      "execution_count": null,
      "metadata": {
        "colab": {
          "base_uri": "https://localhost:8080/"
        },
        "id": "20S3OKij-xry",
        "outputId": "533d51e2-ac18-443f-92ed-6bc5738e5891"
      },
      "outputs": [
        {
          "name": "stdout",
          "output_type": "stream",
          "text": [
            "Train accuracy: 32.62\n",
            "Test accuracy: 37.35\n"
          ]
        }
      ],
      "source": [
        "# evaluate the keras model\n",
        "_, train_accuracy = lstm_model.evaluate(X_text_train, y_text_train, batch_size=8, verbose=0)\n",
        "_, test_accuracy = lstm_model.evaluate(X_text_test, y_text_test, batch_size=8, verbose=0)\n",
        "\n",
        "print('Train accuracy: %.2f' % (train_accuracy*100))\n",
        "print('Test accuracy: %.2f' % (test_accuracy*100))"
      ]
    },
    {
      "cell_type": "markdown",
      "metadata": {
        "id": "XNIwrzdqcO62"
      },
      "source": [
        "This models have moreover same train and test accuracy but both the accuacy are the very low. We need to built moew complex models to increase the accuracy."
      ]
    },
    {
      "cell_type": "code",
      "execution_count": null,
      "metadata": {
        "colab": {
          "base_uri": "https://localhost:8080/"
        },
        "id": "C_9OnxTsDXbT",
        "outputId": "88349121-9036-4c74-863a-f168675f5598"
      },
      "outputs": [
        {
          "name": "stdout",
          "output_type": "stream",
          "text": [
            "Saved model weights to disk\n",
            "Saved model to disk\n"
          ]
        }
      ],
      "source": [
        "lstm_model_json = lstm_model.to_json()\n",
        "with open(\"LSTM_model.json\", \"w\") as json_file:\n",
        "    json_file.write(lstm_model_json)\n",
        "    \n",
        "# serialize weights to HDF5\n",
        "lstm_model.save_weights(\"LSTM_model.h5\")\n",
        "print(\"Saved model weights to disk\")\n",
        "\n",
        "# Save the model in h5 format \n",
        "lstm_model.save(\"finalized_LSTM_model.h5\")\n",
        "print(\"Saved model to disk\")"
      ]
    },
    {
      "cell_type": "code",
      "execution_count": null,
      "metadata": {
        "id": "pvNP4lE8RMdJ"
      },
      "outputs": [],
      "source": [
        "ls_model = load_model(r\"/content/drive/MyDrive/AIML/Capstone/Jan-G4---NLP-Chatbot/Models/LSTM_model.h5\")"
      ]
    },
    {
      "cell_type": "code",
      "execution_count": null,
      "metadata": {
        "id": "EIzmR3z565xw"
      },
      "outputs": [],
      "source": [
        "y_pred = ls_model.predict(X_text_test, verbose=0) # Multiclass\n",
        "y_pred_index = np.argmax(y_pred,axis=1)\n",
        "y_original = np.argmax(y_text_test, axis =1)"
      ]
    },
    {
      "cell_type": "code",
      "execution_count": null,
      "metadata": {
        "colab": {
          "base_uri": "https://localhost:8080/"
        },
        "id": "YSv4V0gPQ3yX",
        "outputId": "b4a4feed-2415-4a3a-d415-2eb62680ce56"
      },
      "outputs": [
        {
          "name": "stdout",
          "output_type": "stream",
          "text": [
            "11/11 [==============================] - 2s 211ms/step - loss: 1.5632 - acc: 0.3262\n",
            "3/3 [==============================] - 0s 151ms/step - loss: 1.5414 - acc: 0.3735\n"
          ]
        },
        {
          "data": {
            "text/plain": [
              "(0.32621949911117554, 0.3734939694404602, 0.3253012048192771)"
            ]
          },
          "execution_count": 128,
          "metadata": {},
          "output_type": "execute_result"
        }
      ],
      "source": [
        "_,tr_accuracy = ls_model.evaluate(X_text_train,y_text_train) \n",
        "_,te_accuracy = ls_model.evaluate(X_text_test,y_text_test) \n",
        "\n",
        "F1_sre= f1_score(y_orginal,y_pred_index, average='micro')\n",
        "tr_accuracy,te_accuracy,F1_sre"
      ]
    },
    {
      "cell_type": "code",
      "execution_count": null,
      "metadata": {
        "colab": {
          "base_uri": "https://localhost:8080/",
          "height": 426
        },
        "id": "OXZgB0uuRpKz",
        "outputId": "a6ab6186-175a-4683-d1e8-b535713b0c25"
      },
      "outputs": [
        {
          "data": {
            "text/html": [
              "<div>\n",
              "<style scoped>\n",
              "    .dataframe tbody tr th:only-of-type {\n",
              "        vertical-align: middle;\n",
              "    }\n",
              "\n",
              "    .dataframe tbody tr th {\n",
              "        vertical-align: top;\n",
              "    }\n",
              "\n",
              "    .dataframe thead th {\n",
              "        text-align: right;\n",
              "    }\n",
              "</style>\n",
              "<table border=\"1\" class=\"dataframe\">\n",
              "  <thead>\n",
              "    <tr style=\"text-align: right;\">\n",
              "      <th></th>\n",
              "      <th>Model</th>\n",
              "      <th>Train_accuracy</th>\n",
              "      <th>Test_accuracy</th>\n",
              "      <th>F1_score</th>\n",
              "    </tr>\n",
              "  </thead>\n",
              "  <tbody>\n",
              "    <tr>\n",
              "      <th>0</th>\n",
              "      <td>LogReg</td>\n",
              "      <td>0.890244</td>\n",
              "      <td>0.890244</td>\n",
              "      <td>0.373494</td>\n",
              "    </tr>\n",
              "    <tr>\n",
              "      <th>1</th>\n",
              "      <td>Naive Bayes</td>\n",
              "      <td>1.000000</td>\n",
              "      <td>1.000000</td>\n",
              "      <td>0.421687</td>\n",
              "    </tr>\n",
              "    <tr>\n",
              "      <th>2</th>\n",
              "      <td>KNN</td>\n",
              "      <td>0.591463</td>\n",
              "      <td>0.591463</td>\n",
              "      <td>0.361446</td>\n",
              "    </tr>\n",
              "    <tr>\n",
              "      <th>3</th>\n",
              "      <td>SVM</td>\n",
              "      <td>0.990854</td>\n",
              "      <td>0.990854</td>\n",
              "      <td>0.361446</td>\n",
              "    </tr>\n",
              "    <tr>\n",
              "      <th>4</th>\n",
              "      <td>Decision Tree</td>\n",
              "      <td>0.512195</td>\n",
              "      <td>0.512195</td>\n",
              "      <td>0.313253</td>\n",
              "    </tr>\n",
              "    <tr>\n",
              "      <th>5</th>\n",
              "      <td>RandomForest</td>\n",
              "      <td>0.612805</td>\n",
              "      <td>0.612805</td>\n",
              "      <td>0.373494</td>\n",
              "    </tr>\n",
              "    <tr>\n",
              "      <th>6</th>\n",
              "      <td>Bagging</td>\n",
              "      <td>1.000000</td>\n",
              "      <td>1.000000</td>\n",
              "      <td>0.373494</td>\n",
              "    </tr>\n",
              "    <tr>\n",
              "      <th>7</th>\n",
              "      <td>AdaBoost</td>\n",
              "      <td>0.393293</td>\n",
              "      <td>0.393293</td>\n",
              "      <td>0.349398</td>\n",
              "    </tr>\n",
              "    <tr>\n",
              "      <th>8</th>\n",
              "      <td>Gradient Boost</td>\n",
              "      <td>0.920732</td>\n",
              "      <td>0.920732</td>\n",
              "      <td>0.325301</td>\n",
              "    </tr>\n",
              "    <tr>\n",
              "      <th>9</th>\n",
              "      <td>XGBoost</td>\n",
              "      <td>0.951220</td>\n",
              "      <td>0.951220</td>\n",
              "      <td>0.313253</td>\n",
              "    </tr>\n",
              "    <tr>\n",
              "      <th>10</th>\n",
              "      <td>ANN_Model</td>\n",
              "      <td>0.905488</td>\n",
              "      <td>0.409639</td>\n",
              "      <td>0.409639</td>\n",
              "    </tr>\n",
              "    <tr>\n",
              "      <th>11</th>\n",
              "      <td>LSTM_Model</td>\n",
              "      <td>0.326219</td>\n",
              "      <td>0.373494</td>\n",
              "      <td>0.325301</td>\n",
              "    </tr>\n",
              "  </tbody>\n",
              "</table>\n",
              "</div>"
            ],
            "text/plain": [
              "             Model  Train_accuracy  Test_accuracy  F1_score\n",
              "0           LogReg        0.890244       0.890244  0.373494\n",
              "1      Naive Bayes        1.000000       1.000000  0.421687\n",
              "2              KNN        0.591463       0.591463  0.361446\n",
              "3              SVM        0.990854       0.990854  0.361446\n",
              "4    Decision Tree        0.512195       0.512195  0.313253\n",
              "5     RandomForest        0.612805       0.612805  0.373494\n",
              "6          Bagging        1.000000       1.000000  0.373494\n",
              "7         AdaBoost        0.393293       0.393293  0.349398\n",
              "8   Gradient Boost        0.920732       0.920732  0.325301\n",
              "9          XGBoost        0.951220       0.951220  0.313253\n",
              "10       ANN_Model        0.905488       0.409639  0.409639\n",
              "11      LSTM_Model        0.326219       0.373494  0.325301"
            ]
          },
          "execution_count": 129,
          "metadata": {},
          "output_type": "execute_result"
        }
      ],
      "source": [
        "result_df.loc[len(result_df.index)] = ['LSTM_Model', tr_accuracy, te_accuracy,F1_sre] \n",
        "result_df"
      ]
    },
    {
      "cell_type": "markdown",
      "metadata": {
        "id": "26aEFIW6chr4"
      },
      "source": [
        "- From all these models. Naive bayes and bagging model clearly overfits.\n",
        "- SVM model, Gradient Boost and XG Boost have pretty good train and test accuracy but low F1 Score.\n",
        "- ANN model have good train accuracy but very low test accuracy and F1 Score.\n",
        "- LSTM model have equal Train, Test and F1 Score but everything is very low."
      ]
    },
    {
      "cell_type": "code",
      "execution_count": null,
      "metadata": {
        "id": "WRvArp3-R03p"
      },
      "outputs": [],
      "source": [
        "with open('/content/drive/MyDrive/AIML/Capstone/Jan-G4---NLP-Chatbot/result_df.csv', \"wb\") as f:\n",
        "  pickle.dump((result_df), f)"
      ]
    },
    {
      "cell_type": "code",
      "execution_count": null,
      "metadata": {
        "colab": {
          "base_uri": "https://localhost:8080/",
          "height": 374
        },
        "id": "5IeRL6uhB79l",
        "outputId": "24c620ad-25bf-456f-cadc-e4405b220dbd"
      },
      "outputs": [
        {
          "data": {
            "image/png": "[encoded data removed]",
            "text/plain": [
              "<Figure size 864x432 with 2 Axes>"
            ]
          },
          "metadata": {
            "needs_background": "light"
          },
          "output_type": "display_data"
        }
      ],
      "source": [
        "cm = confusion_matrix(y_original,y_pred_index)\n",
        "cm_label = ['I', 'II', 'III','IV', 'V']\n",
        "plt.figure(figsize=(12,6))\n",
        "sns.heatmap(cm, annot=True, cmap='Blues',xticklabels = cm_label, yticklabels = cm_label);"
      ]
    },
    {
      "cell_type": "markdown",
      "metadata": {
        "id": "Vn_2p-o7dKk8"
      },
      "source": [
        "The Model is predicting all the data is Potential accident level 4, so clearly the model is not performing good."
      ]
    },
    {
      "cell_type": "code",
      "execution_count": null,
      "metadata": {
        "colab": {
          "base_uri": "https://localhost:8080/"
        },
        "id": "xmRAeU7U7RKa",
        "outputId": "4d3c1494-115e-45e2-c422-cf1b405efacf"
      },
      "outputs": [
        {
          "name": "stdout",
          "output_type": "stream",
          "text": [
            "              precision    recall  f1-score   support\n",
            "\n",
            "           0       0.00      0.00      0.00         9\n",
            "           1       0.00      0.00      0.00        22\n",
            "           2       0.00      0.00      0.00        20\n",
            "           3       0.37      1.00      0.54        31\n",
            "           4       0.00      0.00      0.00         1\n",
            "\n",
            "    accuracy                           0.37        83\n",
            "   macro avg       0.07      0.20      0.11        83\n",
            "weighted avg       0.14      0.37      0.20        83\n",
            "\n"
          ]
        }
      ],
      "source": [
        "print(classification_report(y_original, y_pred_index))"
      ]
    },
    {
      "cell_type": "markdown",
      "metadata": {
        "id": "adnX8r7QdXzY"
      },
      "source": [
        "Similary we are getting very low Macro average F1 Score."
      ]
    },
    {
      "cell_type": "code",
      "execution_count": null,
      "metadata": {
        "colab": {
          "base_uri": "https://localhost:8080/",
          "height": 300
        },
        "id": "j-1Nu-OQAFq3",
        "outputId": "4366510a-344b-4c43-8334-ea8f9b9012af"
      },
      "outputs": [
        {
          "data": {
            "text/plain": [
              "Text(0.5, 1.0, 'Training and validation loss')"
            ]
          },
          "execution_count": 255,
          "metadata": {},
          "output_type": "execute_result"
        },
        {
          "data": {
            "image/png": "[encoded data removed]",
            "text/plain": [
              "<Figure size 432x288 with 1 Axes>"
            ]
          },
          "metadata": {
            "needs_background": "light"
          },
          "output_type": "display_data"
        }
      ],
      "source": [
        "epochs = range(len(training_history.history['loss'])) # Get number of epochs\n",
        "\n",
        "# plot loss learning curves\n",
        "plt.plot(epochs, training_history.history['loss'], label = 'train')\n",
        "plt.plot(epochs, training_history.history['val_loss'], label = 'test')\n",
        "plt.legend(loc = 'upper right')\n",
        "plt.title ('Training and validation loss')"
      ]
    },
    {
      "cell_type": "markdown",
      "metadata": {
        "id": "DwLC0mjZdgdQ"
      },
      "source": [
        "After 5 epochs the validation loss doesn't change, since we have very low volume of data for validation."
      ]
    },
    {
      "cell_type": "code",
      "execution_count": null,
      "metadata": {
        "colab": {
          "base_uri": "https://localhost:8080/",
          "height": 300
        },
        "id": "5JMtMAgMAGUa",
        "outputId": "33a2c149-9569-4556-d1ee-6c8ff13a584c"
      },
      "outputs": [
        {
          "data": {
            "text/plain": [
              "Text(0.5, 1.0, 'Training and validation accuracy')"
            ]
          },
          "execution_count": 256,
          "metadata": {},
          "output_type": "execute_result"
        },
        {
          "data": {
            "image/png": "[encoded data removed]",
            "text/plain": [
              "<Figure size 432x288 with 1 Axes>"
            ]
          },
          "metadata": {
            "needs_background": "light"
          },
          "output_type": "display_data"
        }
      ],
      "source": [
        "# plot accuracy learning curves\n",
        "plt.plot(epochs, training_history.history['acc'], label = 'train')\n",
        "plt.plot(epochs, training_history.history['val_acc'], label = 'test')\n",
        "plt.legend(loc = 'upper right')\n",
        "plt.title ('Training and validation accuracy')"
      ]
    },
    {
      "cell_type": "markdown",
      "metadata": {
        "id": "U7naHG11d0ST"
      },
      "source": [
        "- The Validation accuracy stays constant after few epochs, the model is clearly unable to learn with validation data.\n",
        "- The Training accuracy is jumping between 23-37 %.\n"
      ]
    },
    {
      "cell_type": "code",
      "execution_count": null,
      "metadata": {
        "id": "tLeB-kzvSAlM"
      },
      "outputs": [],
      "source": [
        "# to pickle the files dont run\n",
        "with open('/content/drive/MyDrive/AIML/Capstone/Jan-G4---NLP-Chatbot/Utilities/parameters.pickle', \"wb\") as f:\n",
        "  pickle.dump((le, tokenizer), f)"
      ]
    },
    {
      "cell_type": "code",
      "execution_count": null,
      "metadata": {
        "id": "-mhBd9G_SMt-"
      },
      "outputs": [],
      "source": [
        "def model_prediction(usr_txt):\n",
        "  with open('/content/drive/MyDrive/AIML/Capstone/Jan-G4---NLP-Chatbot/Utilities/parameters.pickle', \"rb\") as f:\n",
        "      lab_en, tokenizer_data = pickle.load(f)\n",
        "  from NLP_text_preprocess import PreProcessing\n",
        "  pp = PreProcessing(to_lower = config.to_lower,remove_url=config.remove_url,\n",
        "                   remove_time = config.remove_time,expand_contraction =config.expand_contraction,\n",
        "                   remove_special_character=config.remove_special_character,\n",
        "                   remove_punctuation=config.remove_punctuation,\n",
        "                   remove_whitespace=config.remove_whitespace,\n",
        "                   keep_alpha_numeric = False,\n",
        "                   check_spelling=config.check_spelling,\n",
        "                   remove_stopword=False,\n",
        "                   lemmatize_word=config.lemmatize_word)\n",
        "\n",
        "  pre_txt = pp.preprocess(usr_txt)\n",
        "  tok_txt = tokenizer_data.texts_to_sequences([pre_txt])\n",
        "  pad_txt = pad_sequences(tok_txt, padding='post', maxlen=185)\n",
        "  prediction = ls_model.predict(pad_txt, verbose=0)\n",
        "  pred_index = np.argmax(prediction,axis=1)\n",
        "  result = lab_en.inverse_transform(pred_index)[0]\n",
        "  return print('The Potential accident level is', result)"
      ]
    },
    {
      "cell_type": "code",
      "execution_count": null,
      "metadata": {
        "colab": {
          "base_uri": "https://localhost:8080/"
        },
        "id": "CWb18ngZSXN9",
        "outputId": "ad8c9c1e-7681-45e9-886e-e97e70d48c09"
      },
      "outputs": [
        {
          "name": "stdout",
          "output_type": "stream",
          "text": [
            "The Potential accident level is IV\n"
          ]
        }
      ],
      "source": [
        "model_prediction(industry_df['Description_preprocessed'][1])"
      ]
    },
    {
      "cell_type": "markdown",
      "metadata": {
        "id": "K1lZy3apeN4a"
      },
      "source": [
        "From the LSTM model we did a sample prediction and displaye above."
      ]
    },
    {
      "cell_type": "markdown",
      "metadata": {
        "id": "bcy54RwB3Xgx"
      },
      "source": [
        "## Hybrid Model (NN with categorical data+LSTM Model with text data)"
      ]
    },
    {
      "cell_type": "code",
      "execution_count": null,
      "metadata": {
        "id": "YQoMTN0g3Xgx"
      },
      "outputs": [],
      "source": [
        "from sklearn.preprocessing import LabelEncoder, StandardScaler\n",
        "from tensorflow.keras.utils import to_categorical\n",
        "from tensorflow.keras.regularizers import l1, l2, l1_l2\n",
        "from tensorflow.keras.constraints import unit_norm\n",
        "from tensorflow.keras.layers import Concatenate\n",
        "from tensorflow.keras.optimizers import SGD\n",
        "from tensorflow.keras.utils import plot_model"
      ]
    },
    {
      "cell_type": "code",
      "execution_count": null,
      "metadata": {
        "id": "YCfQRyC83Xgx"
      },
      "outputs": [],
      "source": [
        "industry_df_1 = pd.read_csv(\"industry_df_preprocessed.csv\")"
      ]
    },
    {
      "cell_type": "code",
      "execution_count": null,
      "metadata": {
        "id": "Lb7skuDe3Xgy",
        "outputId": "a7201bd8-ab2f-4088-eed4-f1107b0acad8"
      },
      "outputs": [
        {
          "data": {
            "text/html": [
              "<div>\n",
              "<style scoped>\n",
              "    .dataframe tbody tr th:only-of-type {\n",
              "        vertical-align: middle;\n",
              "    }\n",
              "\n",
              "    .dataframe tbody tr th {\n",
              "        vertical-align: top;\n",
              "    }\n",
              "\n",
              "    .dataframe thead th {\n",
              "        text-align: right;\n",
              "    }\n",
              "</style>\n",
              "<table border=\"1\" class=\"dataframe\">\n",
              "  <thead>\n",
              "    <tr style=\"text-align: right;\">\n",
              "      <th></th>\n",
              "      <th>Date</th>\n",
              "      <th>Country</th>\n",
              "      <th>Local</th>\n",
              "      <th>Industry_Sector</th>\n",
              "      <th>Accident_Level</th>\n",
              "      <th>Potential_Accident_Level</th>\n",
              "      <th>Gender</th>\n",
              "      <th>Employee_type</th>\n",
              "      <th>Critical_Risk</th>\n",
              "      <th>Description</th>\n",
              "      <th>Year</th>\n",
              "      <th>Month</th>\n",
              "      <th>Day</th>\n",
              "      <th>Weekday</th>\n",
              "      <th>WeekofYear</th>\n",
              "      <th>Season</th>\n",
              "      <th>Description_preprocessed</th>\n",
              "    </tr>\n",
              "  </thead>\n",
              "  <tbody>\n",
              "    <tr>\n",
              "      <th>0</th>\n",
              "      <td>2016-01-01</td>\n",
              "      <td>Country_01</td>\n",
              "      <td>Local_01</td>\n",
              "      <td>Mining</td>\n",
              "      <td>I</td>\n",
              "      <td>IV</td>\n",
              "      <td>Male</td>\n",
              "      <td>Third Party</td>\n",
              "      <td>Pressed</td>\n",
              "      <td>While removing the drill rod of the Jumbo 08 f...</td>\n",
              "      <td>2016</td>\n",
              "      <td>1</td>\n",
              "      <td>1</td>\n",
              "      <td>Friday</td>\n",
              "      <td>53</td>\n",
              "      <td>Summer</td>\n",
              "      <td>removing drill rod jumbo 08 maintenance superv...</td>\n",
              "    </tr>\n",
              "    <tr>\n",
              "      <th>1</th>\n",
              "      <td>2016-01-02</td>\n",
              "      <td>Country_02</td>\n",
              "      <td>Local_02</td>\n",
              "      <td>Mining</td>\n",
              "      <td>I</td>\n",
              "      <td>IV</td>\n",
              "      <td>Male</td>\n",
              "      <td>Employee</td>\n",
              "      <td>Pressurized Systems</td>\n",
              "      <td>During the activation of a sodium sulphide pum...</td>\n",
              "      <td>2016</td>\n",
              "      <td>1</td>\n",
              "      <td>2</td>\n",
              "      <td>Saturday</td>\n",
              "      <td>53</td>\n",
              "      <td>Summer</td>\n",
              "      <td>activation sodium sulphide pump piping uncoupl...</td>\n",
              "    </tr>\n",
              "    <tr>\n",
              "      <th>2</th>\n",
              "      <td>2016-01-06</td>\n",
              "      <td>Country_01</td>\n",
              "      <td>Local_03</td>\n",
              "      <td>Mining</td>\n",
              "      <td>I</td>\n",
              "      <td>III</td>\n",
              "      <td>Male</td>\n",
              "      <td>Third Party (Remote)</td>\n",
              "      <td>Manual Tools</td>\n",
              "      <td>In the sub-station MILPO located at level +170...</td>\n",
              "      <td>2016</td>\n",
              "      <td>1</td>\n",
              "      <td>6</td>\n",
              "      <td>Wednesday</td>\n",
              "      <td>1</td>\n",
              "      <td>Summer</td>\n",
              "      <td>substation milo located level 170 collaborator...</td>\n",
              "    </tr>\n",
              "    <tr>\n",
              "      <th>3</th>\n",
              "      <td>2016-01-08</td>\n",
              "      <td>Country_01</td>\n",
              "      <td>Local_04</td>\n",
              "      <td>Mining</td>\n",
              "      <td>I</td>\n",
              "      <td>I</td>\n",
              "      <td>Male</td>\n",
              "      <td>Third Party</td>\n",
              "      <td>Others</td>\n",
              "      <td>Being 9:45 am. approximately in the Nv. 1880 C...</td>\n",
              "      <td>2016</td>\n",
              "      <td>1</td>\n",
              "      <td>8</td>\n",
              "      <td>Friday</td>\n",
              "      <td>1</td>\n",
              "      <td>Summer</td>\n",
              "      <td>approximately 1880 cx695 ob personnel begin ta...</td>\n",
              "    </tr>\n",
              "    <tr>\n",
              "      <th>4</th>\n",
              "      <td>2016-01-10</td>\n",
              "      <td>Country_01</td>\n",
              "      <td>Local_04</td>\n",
              "      <td>Mining</td>\n",
              "      <td>IV</td>\n",
              "      <td>IV</td>\n",
              "      <td>Male</td>\n",
              "      <td>Third Party</td>\n",
              "      <td>Others</td>\n",
              "      <td>Approximately at 11:45 a.m. in circumstances t...</td>\n",
              "      <td>2016</td>\n",
              "      <td>1</td>\n",
              "      <td>10</td>\n",
              "      <td>Sunday</td>\n",
              "      <td>1</td>\n",
              "      <td>Summer</td>\n",
              "      <td>approximately circumstance mechanic anthony gr...</td>\n",
              "    </tr>\n",
              "  </tbody>\n",
              "</table>\n",
              "</div>"
            ],
            "text/plain": [
              "         Date     Country     Local Industry_Sector Accident_Level  \\\n",
              "0  2016-01-01  Country_01  Local_01          Mining              I   \n",
              "1  2016-01-02  Country_02  Local_02          Mining              I   \n",
              "2  2016-01-06  Country_01  Local_03          Mining              I   \n",
              "3  2016-01-08  Country_01  Local_04          Mining              I   \n",
              "4  2016-01-10  Country_01  Local_04          Mining             IV   \n",
              "\n",
              "  Potential_Accident_Level Gender         Employee_type        Critical_Risk  \\\n",
              "0                       IV   Male           Third Party              Pressed   \n",
              "1                       IV   Male              Employee  Pressurized Systems   \n",
              "2                      III   Male  Third Party (Remote)         Manual Tools   \n",
              "3                        I   Male           Third Party               Others   \n",
              "4                       IV   Male           Third Party               Others   \n",
              "\n",
              "                                         Description  Year  Month  Day  \\\n",
              "0  While removing the drill rod of the Jumbo 08 f...  2016      1    1   \n",
              "1  During the activation of a sodium sulphide pum...  2016      1    2   \n",
              "2  In the sub-station MILPO located at level +170...  2016      1    6   \n",
              "3  Being 9:45 am. approximately in the Nv. 1880 C...  2016      1    8   \n",
              "4  Approximately at 11:45 a.m. in circumstances t...  2016      1   10   \n",
              "\n",
              "     Weekday  WeekofYear  Season  \\\n",
              "0     Friday          53  Summer   \n",
              "1   Saturday          53  Summer   \n",
              "2  Wednesday           1  Summer   \n",
              "3     Friday           1  Summer   \n",
              "4     Sunday           1  Summer   \n",
              "\n",
              "                            Description_preprocessed  \n",
              "0  removing drill rod jumbo 08 maintenance superv...  \n",
              "1  activation sodium sulphide pump piping uncoupl...  \n",
              "2  substation milo located level 170 collaborator...  \n",
              "3  approximately 1880 cx695 ob personnel begin ta...  \n",
              "4  approximately circumstance mechanic anthony gr...  "
            ]
          },
          "execution_count": 289,
          "metadata": {},
          "output_type": "execute_result"
        }
      ],
      "source": [
        "industry_df_1.head()"
      ]
    },
    {
      "cell_type": "markdown",
      "metadata": {
        "id": "thqsynej3Xgy"
      },
      "source": [
        "**Preprocessing for categorical features**"
      ]
    },
    {
      "cell_type": "code",
      "execution_count": null,
      "metadata": {
        "id": "mCmefD8z3Xgy"
      },
      "outputs": [],
      "source": [
        "# To replace white space everywhere in Employee type and Critical Risk\n",
        "industry_df_1['Employee_type'] = industry_df_1['Employee_type'].str.replace(' ', '_')\n",
        "industry_df_1['Critical_Risk'] = industry_df_1['Critical_Risk'].str.replace('\\n', '').str.replace(' ', '_')"
      ]
    },
    {
      "cell_type": "code",
      "execution_count": null,
      "metadata": {
        "id": "sG2lsXS23Xgy"
      },
      "outputs": [],
      "source": [
        "# Create categorical inputs DataFrame\n",
        "cat_featenc_df = pd.DataFrame()\n",
        "\n",
        "# Label encoding\n",
        "industry_df_1['Season'] = industry_df_1['Season'].replace('Summer', 'aSummer').replace('Autumn', 'bAutumn').replace('Winter', 'cWinter').replace('Spring', 'dSpring')\n",
        "cat_featenc_df['Season'] = LabelEncoder().fit_transform(industry_df_1['Season']).astype(np.int8)\n",
        "\n",
        "industry_df_1['Weekday'] = industry_df_1['Weekday'].replace('Monday', 'aMonday').replace('Tuesday', 'bTuesday').replace('Wednesday', 'cWednesday').replace('Thursday', 'dThursday').replace('Friday', 'eFriday').replace('Saturday', 'fSaturday').replace('Sunday', 'gSunday')\n",
        "cat_featenc_df['Weekday'] = LabelEncoder().fit_transform(industry_df_1['Weekday']).astype(np.int8)\n",
        "\n",
        "cat_featenc_df['Accident_Level'] = LabelEncoder().fit_transform(industry_df_1['Accident_Level']).astype(np.int8)\n",
        "cat_featenc_df['Potential_Accident_Level'] = LabelEncoder().fit_transform(industry_df_1['Potential_Accident_Level']).astype(np.int8)"
      ]
    },
    {
      "cell_type": "code",
      "execution_count": null,
      "metadata": {
        "id": "ABaQ26gF3Xgy",
        "outputId": "4e3f2b4e-2bfd-4673-d873-aa0d25ecb152"
      },
      "outputs": [
        {
          "data": {
            "text/html": [
              "<div>\n",
              "<style scoped>\n",
              "    .dataframe tbody tr th:only-of-type {\n",
              "        vertical-align: middle;\n",
              "    }\n",
              "\n",
              "    .dataframe tbody tr th {\n",
              "        vertical-align: top;\n",
              "    }\n",
              "\n",
              "    .dataframe thead th {\n",
              "        text-align: right;\n",
              "    }\n",
              "</style>\n",
              "<table border=\"1\" class=\"dataframe\">\n",
              "  <thead>\n",
              "    <tr style=\"text-align: right;\">\n",
              "      <th></th>\n",
              "      <th>Year</th>\n",
              "      <th>Month</th>\n",
              "      <th>Day</th>\n",
              "      <th>WeekofYear</th>\n",
              "      <th>Season</th>\n",
              "      <th>Weekday</th>\n",
              "      <th>Accident_Level</th>\n",
              "      <th>Potential_Accident_Level</th>\n",
              "      <th>Country_02</th>\n",
              "      <th>Country_03</th>\n",
              "      <th>...</th>\n",
              "      <th>CR_Projection</th>\n",
              "      <th>CR_Projection/Burning</th>\n",
              "      <th>CR_Projection/Choco</th>\n",
              "      <th>CR_Projection/Manual_Tools</th>\n",
              "      <th>CR_Projection_of_fragments</th>\n",
              "      <th>CR_Suspended_Loads</th>\n",
              "      <th>CR_Traffic</th>\n",
              "      <th>CR_Vehicles_and_Mobile_Equipment</th>\n",
              "      <th>CR_Venomous_Animals</th>\n",
              "      <th>CR_remains_of_choco</th>\n",
              "    </tr>\n",
              "  </thead>\n",
              "  <tbody>\n",
              "    <tr>\n",
              "      <th>0</th>\n",
              "      <td>2016</td>\n",
              "      <td>1</td>\n",
              "      <td>1</td>\n",
              "      <td>53</td>\n",
              "      <td>0</td>\n",
              "      <td>4</td>\n",
              "      <td>0</td>\n",
              "      <td>3</td>\n",
              "      <td>0</td>\n",
              "      <td>0</td>\n",
              "      <td>...</td>\n",
              "      <td>0</td>\n",
              "      <td>0</td>\n",
              "      <td>0</td>\n",
              "      <td>0</td>\n",
              "      <td>0</td>\n",
              "      <td>0</td>\n",
              "      <td>0</td>\n",
              "      <td>0</td>\n",
              "      <td>0</td>\n",
              "      <td>0</td>\n",
              "    </tr>\n",
              "    <tr>\n",
              "      <th>1</th>\n",
              "      <td>2016</td>\n",
              "      <td>1</td>\n",
              "      <td>2</td>\n",
              "      <td>53</td>\n",
              "      <td>0</td>\n",
              "      <td>5</td>\n",
              "      <td>0</td>\n",
              "      <td>3</td>\n",
              "      <td>1</td>\n",
              "      <td>0</td>\n",
              "      <td>...</td>\n",
              "      <td>0</td>\n",
              "      <td>0</td>\n",
              "      <td>0</td>\n",
              "      <td>0</td>\n",
              "      <td>0</td>\n",
              "      <td>0</td>\n",
              "      <td>0</td>\n",
              "      <td>0</td>\n",
              "      <td>0</td>\n",
              "      <td>0</td>\n",
              "    </tr>\n",
              "    <tr>\n",
              "      <th>2</th>\n",
              "      <td>2016</td>\n",
              "      <td>1</td>\n",
              "      <td>6</td>\n",
              "      <td>1</td>\n",
              "      <td>0</td>\n",
              "      <td>2</td>\n",
              "      <td>0</td>\n",
              "      <td>2</td>\n",
              "      <td>0</td>\n",
              "      <td>0</td>\n",
              "      <td>...</td>\n",
              "      <td>0</td>\n",
              "      <td>0</td>\n",
              "      <td>0</td>\n",
              "      <td>0</td>\n",
              "      <td>0</td>\n",
              "      <td>0</td>\n",
              "      <td>0</td>\n",
              "      <td>0</td>\n",
              "      <td>0</td>\n",
              "      <td>0</td>\n",
              "    </tr>\n",
              "  </tbody>\n",
              "</table>\n",
              "<p>3 rows × 58 columns</p>\n",
              "</div>"
            ],
            "text/plain": [
              "   Year  Month  Day  WeekofYear  Season  Weekday  Accident_Level  \\\n",
              "0  2016      1    1          53       0        4               0   \n",
              "1  2016      1    2          53       0        5               0   \n",
              "2  2016      1    6           1       0        2               0   \n",
              "\n",
              "   Potential_Accident_Level  Country_02  Country_03  ...  CR_Projection  \\\n",
              "0                         3           0           0  ...              0   \n",
              "1                         3           1           0  ...              0   \n",
              "2                         2           0           0  ...              0   \n",
              "\n",
              "   CR_Projection/Burning  CR_Projection/Choco  CR_Projection/Manual_Tools  \\\n",
              "0                      0                    0                           0   \n",
              "1                      0                    0                           0   \n",
              "2                      0                    0                           0   \n",
              "\n",
              "   CR_Projection_of_fragments  CR_Suspended_Loads  CR_Traffic  \\\n",
              "0                           0                   0           0   \n",
              "1                           0                   0           0   \n",
              "2                           0                   0           0   \n",
              "\n",
              "   CR_Vehicles_and_Mobile_Equipment  CR_Venomous_Animals  CR_remains_of_choco  \n",
              "0                                 0                    0                    0  \n",
              "1                                 0                    0                    0  \n",
              "2                                 0                    0                    0  \n",
              "\n",
              "[3 rows x 58 columns]"
            ]
          },
          "execution_count": 292,
          "metadata": {},
          "output_type": "execute_result"
        }
      ],
      "source": [
        "#Creating dummy variables for categoricalinputs\n",
        "Dummy_frame = pd.get_dummies(industry_df_1[['Country','Local','Gender','Industry_Sector','Employee_type','Critical_Risk']], columns=['Country','Local','Gender','Industry_Sector','Employee_type','Critical_Risk'],prefix=['','','','IS','EmpType','CR'],prefix_sep=['','','','_','_','_'], drop_first=True)\n",
        "\n",
        "# Merge the above dataframe with the original dataframe cat_featenc_df\n",
        "cat_featenc_df = cat_featenc_df.join(Dummy_frame.reset_index(drop=True))\n",
        "\n",
        "cat_featenc_df = industry_df_1[['Year','Month','Day','WeekofYear']].reset_index(drop=True).join(cat_featenc_df.reset_index(drop=True))\n",
        "\n",
        "cat_featenc_df.head(3)"
      ]
    },
    {
      "cell_type": "code",
      "execution_count": null,
      "metadata": {
        "id": "mHNWtzhF3Xgz",
        "outputId": "3659a5aa-5d45-4421-d6bb-415655ce0a5c"
      },
      "outputs": [
        {
          "name": "stdout",
          "output_type": "stream",
          "text": [
            "X_cat_train shape : (328)\n",
            "y_cat_train shape : (328,)\n",
            "X_cat_test shape : (83)\n",
            "y_cat_test shape : (83,)\n"
          ]
        }
      ],
      "source": [
        "# Select input and output features\n",
        "X_cat = cat_featenc_df.drop(['Accident_Level','Potential_Accident_Level'], axis = 1)\n",
        "y_cat = cat_featenc_df['Potential_Accident_Level']\n",
        "\n",
        "# Divide our data into testing and training sets:\n",
        "X_cat_train, X_cat_test, y_cat_train, y_cat_test = train_test_split(X_cat, y_cat, test_size = 0.20, random_state = 1, stratify = y_cat)\n",
        "\n",
        "print('X_cat_train shape : ({0})'.format(X_cat_train.shape[0]))\n",
        "print('y_cat_train shape : ({0},)'.format(y_cat_train.shape[0]))\n",
        "print('X_cat_test shape : ({0})'.format(X_cat_test.shape[0]))\n",
        "print('y_cat_test shape : ({0},)'.format(y_cat_test.shape[0]))\n",
        "\n",
        "# Convert both the training and test labels into one-hot encoded vectors:\n",
        "y_cat_train = to_categorical(y_cat_train)\n",
        "y_cat_test = to_categorical(y_cat_test)\n",
        "\n",
        "# Variable transformation using StandardScaler\n",
        "scaler_X = StandardScaler()\n",
        "X_cat_train.iloc[:,:6] = scaler_X.fit_transform(X_cat_train.iloc[:,:6]) # Scaling only first 6 feautres\n",
        "\n",
        "X_cat_test.iloc[:,:6] = scaler_X.transform(X_cat_test.iloc[:,:6]) # Scaling only first 6 feautres"
      ]
    },
    {
      "cell_type": "markdown",
      "metadata": {
        "id": "Q8Pm414D3Xgz"
      },
      "source": [
        "**Hybrid model with text data and categorical data**"
      ]
    },
    {
      "cell_type": "code",
      "execution_count": null,
      "metadata": {
        "id": "Yf6bDZC73Xgz"
      },
      "outputs": [],
      "source": [
        "#This is lstm model for text data\n",
        "input_1 = Input(shape=(maxlen,))\n",
        "embedding_layer   = Embedding(vocab_size, embedding_size, weights=[embedding_matrix], trainable=False)(input_1)\n",
        "LSTM_Layer_1      = Bidirectional(LSTM(128, return_sequences = True))(embedding_layer)\n",
        "max_pool_layer_1  = GlobalMaxPool1D()(LSTM_Layer_1)\n",
        "drop_out_layer_1  = Dropout(0.5, input_shape = (256,))(max_pool_layer_1)\n",
        "dense_layer_1     = Dense(128, activation = 'relu')(drop_out_layer_1)\n",
        "drop_out_layer_2  = Dropout(0.5, input_shape = (128,))(dense_layer_1)\n",
        "dense_layer_2     = Dense(64, activation = 'relu')(drop_out_layer_2)\n",
        "drop_out_layer_3  = Dropout(0.5, input_shape = (64,))(dense_layer_2)\n",
        "\n",
        "dense_layer_3     = Dense(32, activation = 'relu')(drop_out_layer_3)\n",
        "drop_out_layer_4  = Dropout(0.5, input_shape = (32,))(dense_layer_3)\n",
        "\n",
        "dense_layer_4     = Dense(10, activation = 'relu')(drop_out_layer_4)\n",
        "drop_out_layer_5 = Dropout(0.5, input_shape = (10,))(dense_layer_4)\n",
        "\n",
        "#-------------------------------------------------------------------------------\n",
        "#This is Neural network to process categorical variables\n",
        "param = 1e-4\n",
        "\n",
        "input_2 = Input(shape=(X_cat_train.shape[1],))\n",
        "dense_layer_5       = Dense(10, input_dim=X_cat_train.shape[1], activation='relu', kernel_initializer='he_uniform', kernel_regularizer=l2(param),\n",
        "                      kernel_constraint=unit_norm())(input_2)\n",
        "drop_out_layer_6    = Dropout(0.2)(dense_layer_5)\n",
        "batch_norm_layer_1  = BatchNormalization()(drop_out_layer_6)\n",
        "dense_layer_6       = Dense(10, activation='relu', kernel_initializer='he_uniform', kernel_regularizer=l2(param), \n",
        "                            kernel_constraint=unit_norm())(batch_norm_layer_1)\n",
        "drop_out_layer_7   = Dropout(0.5)(dense_layer_6)\n",
        "batch_norm_layer_2 = BatchNormalization()(drop_out_layer_7)\n",
        "\n",
        "concat_layer        = Concatenate()([drop_out_layer_5, batch_norm_layer_2])\n",
        "dense_layer_7       = Dense(10, activation='relu')(concat_layer)\n",
        "output  = Dense(5, activation='softmax')(dense_layer_7)\n",
        "hybrid_model   = Model(inputs=[input_1, input_2], outputs=output)\n",
        "\n",
        "# compile the model\n",
        "opt = SGD(lr=0.001, momentum=0.9)\n",
        "hybrid_model.compile(loss='categorical_crossentropy', optimizer=opt, metrics=['acc'])"
      ]
    },
    {
      "cell_type": "code",
      "execution_count": null,
      "metadata": {
        "id": "TNB2Kjup3Xgz",
        "outputId": "fec4fbf2-594c-45da-e432-97f1cacff28a"
      },
      "outputs": [
        {
          "name": "stdout",
          "output_type": "stream",
          "text": [
            "Model: \"functional_27\"\n",
            "__________________________________________________________________________________________________\n",
            "Layer (type)                    Output Shape         Param #     Connected to                     \n",
            "==================================================================================================\n",
            "input_35 (InputLayer)           [(None, 185)]        0                                            \n",
            "__________________________________________________________________________________________________\n",
            "embedding_16 (Embedding)        (None, 185, 200)     568200      input_35[0][0]                   \n",
            "__________________________________________________________________________________________________\n",
            "bidirectional_16 (Bidirectional (None, 185, 256)     336896      embedding_16[0][0]               \n",
            "__________________________________________________________________________________________________\n",
            "global_max_pooling1d_15 (Global (None, 256)          0           bidirectional_16[0][0]           \n",
            "__________________________________________________________________________________________________\n",
            "dropout_166 (Dropout)           (None, 256)          0           global_max_pooling1d_15[0][0]    \n",
            "__________________________________________________________________________________________________\n",
            "dense_334 (Dense)               (None, 128)          32896       dropout_166[0][0]                \n",
            "__________________________________________________________________________________________________\n",
            "dropout_167 (Dropout)           (None, 128)          0           dense_334[0][0]                  \n",
            "__________________________________________________________________________________________________\n",
            "input_36 (InputLayer)           [(None, 56)]         0                                            \n",
            "__________________________________________________________________________________________________\n",
            "dense_335 (Dense)               (None, 64)           8256        dropout_167[0][0]                \n",
            "__________________________________________________________________________________________________\n",
            "dense_338 (Dense)               (None, 10)           570         input_36[0][0]                   \n",
            "__________________________________________________________________________________________________\n",
            "dropout_168 (Dropout)           (None, 64)           0           dense_335[0][0]                  \n",
            "__________________________________________________________________________________________________\n",
            "dropout_171 (Dropout)           (None, 10)           0           dense_338[0][0]                  \n",
            "__________________________________________________________________________________________________\n",
            "dense_336 (Dense)               (None, 32)           2080        dropout_168[0][0]                \n",
            "__________________________________________________________________________________________________\n",
            "batch_normalization_80 (BatchNo (None, 10)           40          dropout_171[0][0]                \n",
            "__________________________________________________________________________________________________\n",
            "dropout_169 (Dropout)           (None, 32)           0           dense_336[0][0]                  \n",
            "__________________________________________________________________________________________________\n",
            "dense_339 (Dense)               (None, 10)           110         batch_normalization_80[0][0]     \n",
            "__________________________________________________________________________________________________\n",
            "dense_337 (Dense)               (None, 10)           330         dropout_169[0][0]                \n",
            "__________________________________________________________________________________________________\n",
            "dropout_172 (Dropout)           (None, 10)           0           dense_339[0][0]                  \n",
            "__________________________________________________________________________________________________\n",
            "dropout_170 (Dropout)           (None, 10)           0           dense_337[0][0]                  \n",
            "__________________________________________________________________________________________________\n",
            "batch_normalization_81 (BatchNo (None, 10)           40          dropout_172[0][0]                \n",
            "__________________________________________________________________________________________________\n",
            "concatenate_11 (Concatenate)    (None, 20)           0           dropout_170[0][0]                \n",
            "                                                                 batch_normalization_81[0][0]     \n",
            "__________________________________________________________________________________________________\n",
            "dense_340 (Dense)               (None, 10)           210         concatenate_11[0][0]             \n",
            "__________________________________________________________________________________________________\n",
            "dense_341 (Dense)               (None, 5)            55          dense_340[0][0]                  \n",
            "==================================================================================================\n",
            "Total params: 949,683\n",
            "Trainable params: 381,443\n",
            "Non-trainable params: 568,240\n",
            "__________________________________________________________________________________________________\n",
            "None\n"
          ]
        }
      ],
      "source": [
        "print(hybrid_model.summary())"
      ]
    },
    {
      "cell_type": "code",
      "execution_count": null,
      "metadata": {
        "id": "HSBhmyH53Xgz",
        "outputId": "96384571-61f0-49a5-ba12-0afb941b121d"
      },
      "outputs": [
        {
          "name": "stdout",
          "output_type": "stream",
          "text": [
            "('Failed to import pydot. You must `pip install pydot` and install graphviz (https://graphviz.gitlab.io/download/), ', 'for `pydotprint` to work.')\n"
          ]
        }
      ],
      "source": [
        "plot_model(hybrid_model, to_file='hybrid_model.png', show_shapes=True, show_layer_names=True)"
      ]
    },
    {
      "cell_type": "code",
      "execution_count": null,
      "metadata": {
        "id": "yurtgMuO3Xgz",
        "outputId": "56cd8c1a-5191-4745-b781-ea3dba633ea5"
      },
      "outputs": [
        {
          "name": "stdout",
          "output_type": "stream",
          "text": [
            "Epoch 1/50\n",
            "41/41 [==============================] - 12s 296ms/step - loss: 1.6375 - acc: 0.2134 - val_loss: 1.5680 - val_acc: 0.2771\n",
            "Epoch 2/50\n",
            "41/41 [==============================] - 8s 207ms/step - loss: 1.6129 - acc: 0.2774 - val_loss: 1.5594 - val_acc: 0.3133\n",
            "Epoch 3/50\n",
            "41/41 [==============================] - 8s 199ms/step - loss: 1.5414 - acc: 0.2896 - val_loss: 1.5442 - val_acc: 0.3253\n",
            "Epoch 4/50\n",
            "41/41 [==============================] - 8s 199ms/step - loss: 1.5338 - acc: 0.3689 - val_loss: 1.5328 - val_acc: 0.2892\n",
            "Epoch 5/50\n",
            "41/41 [==============================] - 8s 202ms/step - loss: 1.5297 - acc: 0.3445 - val_loss: 1.5213 - val_acc: 0.2771\n",
            "Epoch 6/50\n",
            "41/41 [==============================] - 8s 197ms/step - loss: 1.5077 - acc: 0.3140 - val_loss: 1.5110 - val_acc: 0.2771\n",
            "Epoch 7/50\n",
            "41/41 [==============================] - 8s 194ms/step - loss: 1.5157 - acc: 0.3506 - val_loss: 1.5027 - val_acc: 0.2771\n",
            "Epoch 8/50\n",
            "41/41 [==============================] - 8s 206ms/step - loss: 1.5255 - acc: 0.3079 - val_loss: 1.4870 - val_acc: 0.2651\n",
            "Epoch 9/50\n",
            "41/41 [==============================] - 8s 200ms/step - loss: 1.5237 - acc: 0.3506 - val_loss: 1.4862 - val_acc: 0.3133\n",
            "Epoch 10/50\n",
            "41/41 [==============================] - 8s 206ms/step - loss: 1.5123 - acc: 0.2774 - val_loss: 1.4766 - val_acc: 0.3253\n",
            "Epoch 11/50\n",
            "41/41 [==============================] - 9s 209ms/step - loss: 1.5075 - acc: 0.3171 - val_loss: 1.4779 - val_acc: 0.3253\n",
            "Epoch 12/50\n",
            "41/41 [==============================] - 9s 213ms/step - loss: 1.4801 - acc: 0.3384 - val_loss: 1.4741 - val_acc: 0.3373\n",
            "Epoch 13/50\n",
            "41/41 [==============================] - 9s 210ms/step - loss: 1.5294 - acc: 0.3110 - val_loss: 1.4733 - val_acc: 0.3494\n",
            "Epoch 14/50\n",
            "41/41 [==============================] - 8s 202ms/step - loss: 1.4959 - acc: 0.3293 - val_loss: 1.4800 - val_acc: 0.3614\n",
            "Epoch 15/50\n",
            "41/41 [==============================] - 8s 203ms/step - loss: 1.5040 - acc: 0.2896 - val_loss: 1.4668 - val_acc: 0.3253\n",
            "Epoch 16/50\n",
            "41/41 [==============================] - 8s 200ms/step - loss: 1.4708 - acc: 0.3201 - val_loss: 1.4565 - val_acc: 0.3373\n",
            "Epoch 17/50\n",
            "41/41 [==============================] - 8s 198ms/step - loss: 1.4969 - acc: 0.2835 - val_loss: 1.4513 - val_acc: 0.3494\n",
            "Epoch 18/50\n",
            "41/41 [==============================] - 8s 206ms/step - loss: 1.4524 - acc: 0.3354 - val_loss: 1.4520 - val_acc: 0.3373\n",
            "Epoch 19/50\n",
            "41/41 [==============================] - 9s 209ms/step - loss: 1.4783 - acc: 0.3262 - val_loss: 1.4518 - val_acc: 0.3494\n",
            "Epoch 20/50\n",
            "41/41 [==============================] - 9s 215ms/step - loss: 1.4770 - acc: 0.3171 - val_loss: 1.4567 - val_acc: 0.3494\n",
            "Epoch 21/50\n",
            "41/41 [==============================] - 8s 197ms/step - loss: 1.4784 - acc: 0.3323 - val_loss: 1.4564 - val_acc: 0.3253\n",
            "Epoch 22/50\n",
            "41/41 [==============================] - 8s 205ms/step - loss: 1.4878 - acc: 0.3293 - val_loss: 1.4557 - val_acc: 0.3133\n",
            "Epoch 23/50\n",
            "41/41 [==============================] - 8s 205ms/step - loss: 1.4692 - acc: 0.3354 - val_loss: 1.4540 - val_acc: 0.3253\n",
            "Epoch 24/50\n",
            "41/41 [==============================] - 8s 206ms/step - loss: 1.4798 - acc: 0.3018 - val_loss: 1.4520 - val_acc: 0.3253\n",
            "Epoch 25/50\n",
            "41/41 [==============================] - 9s 208ms/step - loss: 1.4873 - acc: 0.3232 - val_loss: 1.4520 - val_acc: 0.3253\n",
            "Epoch 26/50\n",
            "41/41 [==============================] - 8s 205ms/step - loss: 1.4762 - acc: 0.3079 - val_loss: 1.4541 - val_acc: 0.3133\n",
            "Epoch 27/50\n",
            "41/41 [==============================] - 9s 208ms/step - loss: 1.4590 - acc: 0.3354 - val_loss: 1.4558 - val_acc: 0.3133\n",
            "Epoch 28/50\n",
            "41/41 [==============================] - 8s 204ms/step - loss: 1.4600 - acc: 0.3506 - val_loss: 1.4544 - val_acc: 0.3373\n",
            "Epoch 29/50\n",
            "41/41 [==============================] - 9s 214ms/step - loss: 1.4622 - acc: 0.3293 - val_loss: 1.4543 - val_acc: 0.3373\n",
            "Epoch 30/50\n",
            "41/41 [==============================] - 9s 209ms/step - loss: 1.4587 - acc: 0.3171 - val_loss: 1.4549 - val_acc: 0.3373\n",
            "Epoch 31/50\n",
            "41/41 [==============================] - 8s 207ms/step - loss: 1.4559 - acc: 0.3171 - val_loss: 1.4562 - val_acc: 0.3253\n",
            "Epoch 32/50\n",
            "41/41 [==============================] - 9s 208ms/step - loss: 1.4641 - acc: 0.3171 - val_loss: 1.4563 - val_acc: 0.3253\n",
            "Epoch 33/50\n",
            "41/41 [==============================] - 8s 201ms/step - loss: 1.4790 - acc: 0.2957 - val_loss: 1.4560 - val_acc: 0.3253\n",
            "Epoch 34/50\n",
            "41/41 [==============================] - 8s 197ms/step - loss: 1.4627 - acc: 0.3567 - val_loss: 1.4543 - val_acc: 0.3253\n",
            "Epoch 35/50\n",
            "41/41 [==============================] - 8s 205ms/step - loss: 1.4803 - acc: 0.3293 - val_loss: 1.4546 - val_acc: 0.3253\n",
            "Epoch 36/50\n",
            "41/41 [==============================] - 8s 206ms/step - loss: 1.4793 - acc: 0.3293 - val_loss: 1.4552 - val_acc: 0.3253\n",
            "Epoch 37/50\n",
            "41/41 [==============================] - 9s 208ms/step - loss: 1.4723 - acc: 0.3262 - val_loss: 1.4540 - val_acc: 0.3373\n",
            "Epoch 38/50\n",
            "41/41 [==============================] - 8s 201ms/step - loss: 1.4585 - acc: 0.3323 - val_loss: 1.4547 - val_acc: 0.3373\n",
            "Epoch 39/50\n",
            "41/41 [==============================] - 8s 206ms/step - loss: 1.4533 - acc: 0.3567 - val_loss: 1.4540 - val_acc: 0.3373\n",
            "Epoch 40/50\n",
            "41/41 [==============================] - 8s 206ms/step - loss: 1.4973 - acc: 0.3018 - val_loss: 1.4528 - val_acc: 0.3373\n",
            "Epoch 41/50\n",
            "41/41 [==============================] - 8s 206ms/step - loss: 1.4808 - acc: 0.3384 - val_loss: 1.4541 - val_acc: 0.3373\n",
            "Epoch 42/50\n",
            "41/41 [==============================] - 8s 203ms/step - loss: 1.4540 - acc: 0.3110 - val_loss: 1.4541 - val_acc: 0.3373\n",
            "Epoch 43/50\n",
            "41/41 [==============================] - 8s 204ms/step - loss: 1.4668 - acc: 0.3201 - val_loss: 1.4549 - val_acc: 0.3253\n",
            "Epoch 44/50\n",
            "41/41 [==============================] - 8s 206ms/step - loss: 1.4706 - acc: 0.3262 - val_loss: 1.4538 - val_acc: 0.3253\n",
            "Epoch 45/50\n",
            "41/41 [==============================] - 9s 208ms/step - loss: 1.4659 - acc: 0.3384 - val_loss: 1.4524 - val_acc: 0.3253\n",
            "Epoch 46/50\n",
            "41/41 [==============================] - 8s 206ms/step - loss: 1.4608 - acc: 0.3140 - val_loss: 1.4560 - val_acc: 0.3133\n",
            "Epoch 47/50\n",
            "41/41 [==============================] - 8s 207ms/step - loss: 1.4667 - acc: 0.3140 - val_loss: 1.4553 - val_acc: 0.3253\n",
            "Epoch 48/50\n",
            "41/41 [==============================] - 8s 207ms/step - loss: 1.4790 - acc: 0.3445 - val_loss: 1.4566 - val_acc: 0.3253\n",
            "Epoch 49/50\n",
            "41/41 [==============================] - 8s 205ms/step - loss: 1.4793 - acc: 0.3354 - val_loss: 1.4557 - val_acc: 0.3253\n",
            "Epoch 50/50\n",
            "41/41 [==============================] - 9s 210ms/step - loss: 1.4693 - acc: 0.3232 - val_loss: 1.4555 - val_acc: 0.3253\n"
          ]
        }
      ],
      "source": [
        "# Use earlystopping\n",
        "callback = tf.keras.callbacks.EarlyStopping(monitor='loss', patience=3, min_delta=1E-3)\n",
        "rlrp = ReduceLROnPlateau(monitor='val_loss', factor=0.0001, patience=5, min_delta=1E-4)\n",
        "\n",
        "#target_type = 'multi_label'\n",
        "#, target_type\n",
        "metrics = Metrics(validation_data=([X_text_train, X_cat_train], y_cat_train))\n",
        "\n",
        "# fit the keras model on the dataset\n",
        "training_history = hybrid_model.fit([X_text_train, X_cat_train], y_cat_train, epochs=50, batch_size=8, verbose=1, validation_data=([X_text_test, X_cat_test], y_cat_test), callbacks=[rlrp, metrics])"
      ]
    },
    {
      "cell_type": "code",
      "execution_count": null,
      "metadata": {
        "id": "k15Y_3rB3Xg0",
        "outputId": "791578e4-d474-45c5-9e12-ddaf84fb9bbf"
      },
      "outputs": [
        {
          "name": "stdout",
          "output_type": "stream",
          "text": [
            "Train accuracy: 37.50\n",
            "Test accuracy: 32.53\n"
          ]
        }
      ],
      "source": [
        "# evaluate the keras model\n",
        "_, train_accuracy = hybrid_model.evaluate([X_text_train, X_cat_train], y_cat_train, batch_size=8, verbose=0)\n",
        "_, test_accuracy = hybrid_model.evaluate([X_text_test, X_cat_test], y_cat_test, batch_size=8, verbose=0)\n",
        "\n",
        "print('Train accuracy: %.2f' % (train_accuracy*100))\n",
        "print('Test accuracy: %.2f' % (test_accuracy*100))"
      ]
    },
    {
      "cell_type": "code",
      "execution_count": null,
      "metadata": {
        "id": "7XF8iLma3Xg0",
        "outputId": "fdba5107-1c4d-4025-92f7-ceef58868153"
      },
      "outputs": [
        {
          "data": {
            "text/plain": [
              "Text(0.5, 1.0, 'Training and validation loss')"
            ]
          },
          "execution_count": 298,
          "metadata": {},
          "output_type": "execute_result"
        },
        {
          "data": {
            "image/png": "[encoded data removed]",
            "text/plain": [
              "<Figure size 432x288 with 1 Axes>"
            ]
          },
          "metadata": {
            "needs_background": "light"
          },
          "output_type": "display_data"
        }
      ],
      "source": [
        "epochs = range(len(training_history.history['loss'])) # Get number of epochs\n",
        "\n",
        "# plot loss learning curves\n",
        "plt.plot(epochs, training_history.history['loss'], label = 'train')\n",
        "plt.plot(epochs, training_history.history['val_loss'], label = 'test')\n",
        "plt.legend(loc = 'upper right')\n",
        "plt.title ('Training and validation loss')"
      ]
    },
    {
      "cell_type": "code",
      "execution_count": null,
      "metadata": {
        "id": "1YtmBcrr3Xg0",
        "outputId": "af1cec7e-b876-460c-c389-099eb3f8c67a"
      },
      "outputs": [
        {
          "data": {
            "text/plain": [
              "Text(0.5, 1.0, 'Training and validation accuracy')"
            ]
          },
          "execution_count": 299,
          "metadata": {},
          "output_type": "execute_result"
        },
        {
          "data": {
            "image/png": "[encoded data removed]",
            "text/plain": [
              "<Figure size 432x288 with 1 Axes>"
            ]
          },
          "metadata": {
            "needs_background": "light"
          },
          "output_type": "display_data"
        }
      ],
      "source": [
        "# plot accuracy learning curves\n",
        "plt.plot(epochs, training_history.history['acc'], label = 'train')\n",
        "plt.plot(epochs, training_history.history['val_acc'], label = 'test')\n",
        "plt.legend(loc = 'upper right')\n",
        "plt.title ('Training and validation accuracy')"
      ]
    },
    {
      "cell_type": "markdown",
      "metadata": {
        "id": "buJwPQ3f3Xg0"
      },
      "source": [
        "Train accuracy is fluctuating around 30 value. Test accuracy fluctuted upto 30 epochs, later it is settled at around 32.\n",
        "\n",
        "This might be due to less data available."
      ]
    },
    {
      "cell_type": "code",
      "execution_count": null,
      "metadata": {
        "id": "oG5hXaia3Xg1",
        "outputId": "5edddba9-6730-4952-93d1-817eb1d34894"
      },
      "outputs": [
        {
          "name": "stdout",
          "output_type": "stream",
          "text": [
            "Saved model weights to disk\n",
            "Saved model to disk\n"
          ]
        }
      ],
      "source": [
        "hybrid_model_json = hybrid_model.to_json()\n",
        "with open(\"Hybrid_model.json\", \"w\") as json_file:\n",
        "    json_file.write(hybrid_model_json)\n",
        "    \n",
        "# serialize weights to HDF5\n",
        "hybrid_model.save_weights(\"HYBRID_model.h5\")\n",
        "print(\"Saved model weights to disk\")\n",
        "\n",
        "# Save the model in h5 format \n",
        "hybrid_model.save(\"finalized_Hybrid_model.h5\")\n",
        "print(\"Saved model to disk\")"
      ]
    },
    {
      "cell_type": "code",
      "execution_count": null,
      "metadata": {
        "id": "C4sESvuP3Xg1"
      },
      "outputs": [],
      "source": [
        "#hd_model = load_model(r\"/content/drive/MyDrive/AIML/Capstone/Jan-G4---NLP-Chatbot/Models/HYBRID_model.h5\")\n",
        "hd_model = load_model(r\"C:\\Users\\200488052\\Downloads\\ML\\GL\\Capstone\\Jan-G4---NLP-Chatbot-main\\finalized_Hybrid_model.h5\")\n",
        "\n",
        "y_pred = hd_model.predict([X_text_test, X_cat_test], verbose=0) # Multiclass\n",
        "y_pred_index = np.argmax(y_pred,axis=1)\n",
        "y_original = np.argmax(y_cat_test, axis =1)"
      ]
    },
    {
      "cell_type": "code",
      "execution_count": null,
      "metadata": {
        "id": "fOQi_OZk3Xg1",
        "outputId": "5b3467c2-a1a1-42a8-9768-8941e6b6edef"
      },
      "outputs": [
        {
          "name": "stdout",
          "output_type": "stream",
          "text": [
            "11/11 [==============================] - 1s 118ms/step - loss: 1.4069 - acc: 0.3720\n",
            "3/3 [==============================] - 0s 86ms/step - loss: 1.4220 - acc: 0.3012\n"
          ]
        },
        {
          "data": {
            "text/plain": [
              "(0.37195122241973877, 0.3012048304080963, 0.30120481927710846)"
            ]
          },
          "execution_count": 242,
          "metadata": {},
          "output_type": "execute_result"
        }
      ],
      "source": [
        "_,tr_accuracy = hd_model.evaluate([X_text_train, X_cat_train],y_cat_train) \n",
        "_,te_accuracy = hd_model.evaluate([X_text_test, X_cat_test],y_cat_test) \n",
        "\n",
        "F1_sre= f1_score(y_original,y_pred_index, average='micro')\n",
        "tr_accuracy,te_accuracy,F1_sre"
      ]
    },
    {
      "cell_type": "code",
      "execution_count": null,
      "metadata": {
        "id": "d6Thg1X43Xg1"
      },
      "outputs": [],
      "source": [
        "result_df.loc[len(result_df.index)] = ['HYBRID_Model', tr_accuracy, te_accuracy,F1_sre] \n",
        "result_df"
      ]
    },
    {
      "cell_type": "code",
      "execution_count": null,
      "metadata": {
        "id": "tbndj1AJ3Xg2"
      },
      "outputs": [],
      "source": [
        "with open('/content/drive/MyDrive/AIML/Capstone/Jan-G4---NLP-Chatbot/result_df.csv', \"wb\") as f:\n",
        "  pickle.dump((result_df), f)"
      ]
    },
    {
      "cell_type": "code",
      "execution_count": null,
      "metadata": {
        "id": "loWlqmOA3Xg2",
        "outputId": "b9537757-99a6-43bb-f5bd-be1b3daff16e"
      },
      "outputs": [
        {
          "data": {
            "image/png": "[encoded data removed]",
            "text/plain": [
              "<Figure size 864x432 with 2 Axes>"
            ]
          },
          "metadata": {
            "needs_background": "light"
          },
          "output_type": "display_data"
        }
      ],
      "source": [
        "cm = confusion_matrix(y_original,y_pred_index)\n",
        "cm_label = ['I', 'II', 'III','IV', 'V']\n",
        "plt.figure(figsize=(12,6))\n",
        "sns.heatmap(cm, annot=True, cmap='Blues',xticklabels = cm_label, yticklabels = cm_label);"
      ]
    },
    {
      "cell_type": "code",
      "execution_count": null,
      "metadata": {
        "id": "_Iqk76MU3Xg2",
        "outputId": "be481fe6-4102-44ca-fe26-a25e52500a9e"
      },
      "outputs": [
        {
          "name": "stdout",
          "output_type": "stream",
          "text": [
            "              precision    recall  f1-score   support\n",
            "\n",
            "           0       0.00      0.00      0.00         9\n",
            "           1       0.31      0.21      0.25        19\n",
            "           2       0.00      0.00      0.00        21\n",
            "           3       0.30      0.75      0.43        28\n",
            "           4       0.00      0.00      0.00         6\n",
            "\n",
            "    accuracy                           0.30        83\n",
            "   macro avg       0.12      0.19      0.14        83\n",
            "weighted avg       0.17      0.30      0.20        83\n",
            "\n"
          ]
        }
      ],
      "source": [
        "print(classification_report(y_original, y_pred_index))"
      ]
    },
    {
      "cell_type": "markdown",
      "metadata": {
        "id": "HPc7IRLo3Xg2"
      },
      "source": [
        "## CNN"
      ]
    },
    {
      "cell_type": "code",
      "execution_count": null,
      "metadata": {
        "id": "V1mrAuaH3Xg2"
      },
      "outputs": [],
      "source": [
        "from tensorflow.keras.models import Sequential\n",
        "from tensorflow.keras.layers import Dense\n",
        "from tensorflow.keras import regularizers, optimizers"
      ]
    },
    {
      "cell_type": "code",
      "execution_count": null,
      "metadata": {
        "id": "zgOl_k7n3Xg2"
      },
      "outputs": [],
      "source": [
        "def train_and_test_loop(iterations, lr, Lambda, verb=True):\n",
        "\n",
        "    ## hyperparameters\n",
        "    iterations = iterations\n",
        "    learning_rate = lr\n",
        "    hidden_nodes = 58\n",
        "    output_nodes = 5\n",
        "\n",
        "    model = Sequential()\n",
        "    model.add(Dense(hidden_nodes, input_shape=(X_cat_train.shape[1],), activation='relu'))\n",
        "    model.add(Dropout(0.2))\n",
        "    model.add(BatchNormalization())\n",
        "    model.add(Dense(29, activation='relu'))\n",
        "    model.add(Dropout(0.5))\n",
        "    model.add(Dense(14, activation='relu'))\n",
        "    model.add(BatchNormalization())\n",
        "    model.add(Dense(output_nodes, activation='softmax', kernel_regularizer=regularizers.l2(Lambda)))\n",
        "    \n",
        "    sgd = optimizers.SGD(lr=learning_rate, decay=1e-6, momentum=0.9)\n",
        "    # Compile model\n",
        "    model.compile(loss='categorical_crossentropy', optimizer=sgd, metrics=['accuracy'])\n",
        "    \n",
        "    # Fit the model\n",
        "    model.fit(X_cat_train, y_cat_train, epochs=iterations, batch_size=8, verbose= 1)\n",
        "    score = model.evaluate(X_cat_train, y_cat_train, verbose=0)\n",
        "    print(('This is test set score:'+str(model.evaluate(X_cat_test, y_cat_test, verbose=0))))\n",
        "    return score,model"
      ]
    },
    {
      "cell_type": "code",
      "execution_count": null,
      "metadata": {
        "id": "NziF-Gck3Xg3",
        "outputId": "e4e0b1f8-93c2-4a68-a7d6-246768dae73a"
      },
      "outputs": [
        {
          "name": "stdout",
          "output_type": "stream",
          "text": [
            "Epoch 1/30\n",
            "41/41 [==============================] - 0s 2ms/step - loss: 1.7987 - accuracy: 0.2226\n",
            "Epoch 2/30\n",
            "41/41 [==============================] - 0s 2ms/step - loss: 1.5721 - accuracy: 0.3323\n",
            "Epoch 3/30\n",
            "41/41 [==============================] - 0s 2ms/step - loss: 1.4989 - accuracy: 0.3293\n",
            "Epoch 4/30\n",
            "41/41 [==============================] - 0s 2ms/step - loss: 1.4766 - accuracy: 0.3323\n",
            "Epoch 5/30\n",
            "41/41 [==============================] - 0s 2ms/step - loss: 1.4305 - accuracy: 0.3872\n",
            "Epoch 6/30\n",
            "41/41 [==============================] - 0s 2ms/step - loss: 1.4005 - accuracy: 0.3872\n",
            "Epoch 7/30\n",
            "41/41 [==============================] - 0s 2ms/step - loss: 1.3960 - accuracy: 0.3963\n",
            "Epoch 8/30\n",
            "41/41 [==============================] - 0s 2ms/step - loss: 1.4107 - accuracy: 0.3323\n",
            "Epoch 9/30\n",
            "41/41 [==============================] - 0s 2ms/step - loss: 1.4089 - accuracy: 0.3598\n",
            "Epoch 10/30\n",
            "41/41 [==============================] - 0s 3ms/step - loss: 1.3871 - accuracy: 0.3415\n",
            "Epoch 11/30\n",
            "41/41 [==============================] - 0s 2ms/step - loss: 1.4423 - accuracy: 0.3476\n",
            "Epoch 12/30\n",
            "41/41 [==============================] - 0s 2ms/step - loss: 1.3908 - accuracy: 0.3841\n",
            "Epoch 13/30\n",
            "41/41 [==============================] - 0s 2ms/step - loss: 1.3909 - accuracy: 0.3720\n",
            "Epoch 14/30\n",
            "41/41 [==============================] - 0s 2ms/step - loss: 1.3650 - accuracy: 0.3689\n",
            "Epoch 15/30\n",
            "41/41 [==============================] - 0s 2ms/step - loss: 1.3585 - accuracy: 0.3750\n",
            "Epoch 16/30\n",
            "41/41 [==============================] - 0s 2ms/step - loss: 1.3489 - accuracy: 0.4085\n",
            "Epoch 17/30\n",
            "41/41 [==============================] - 0s 2ms/step - loss: 1.3656 - accuracy: 0.3902\n",
            "Epoch 18/30\n",
            "41/41 [==============================] - 0s 2ms/step - loss: 1.3580 - accuracy: 0.3872\n",
            "Epoch 19/30\n",
            "41/41 [==============================] - 0s 2ms/step - loss: 1.3600 - accuracy: 0.3872\n",
            "Epoch 20/30\n",
            "41/41 [==============================] - 0s 3ms/step - loss: 1.3332 - accuracy: 0.3689\n",
            "Epoch 21/30\n",
            "41/41 [==============================] - 0s 3ms/step - loss: 1.3057 - accuracy: 0.3841\n",
            "Epoch 22/30\n",
            "41/41 [==============================] - 0s 3ms/step - loss: 1.3629 - accuracy: 0.4146\n",
            "Epoch 23/30\n",
            "41/41 [==============================] - 0s 2ms/step - loss: 1.3295 - accuracy: 0.3933\n",
            "Epoch 24/30\n",
            "41/41 [==============================] - 0s 2ms/step - loss: 1.3195 - accuracy: 0.4177\n",
            "Epoch 25/30\n",
            "41/41 [==============================] - 0s 2ms/step - loss: 1.3541 - accuracy: 0.3841\n",
            "Epoch 26/30\n",
            "41/41 [==============================] - 0s 2ms/step - loss: 1.3065 - accuracy: 0.3994\n",
            "Epoch 27/30\n",
            "41/41 [==============================] - 0s 2ms/step - loss: 1.3243 - accuracy: 0.3811\n",
            "Epoch 28/30\n",
            "41/41 [==============================] - 0s 2ms/step - loss: 1.2933 - accuracy: 0.4299\n",
            "Epoch 29/30\n",
            "41/41 [==============================] - 0s 2ms/step - loss: 1.2777 - accuracy: 0.4695\n",
            "Epoch 30/30\n",
            "41/41 [==============================] - 0s 2ms/step - loss: 1.2901 - accuracy: 0.3994\n",
            "This is test set score:[1.4258099794387817, 0.39759036898612976]\n",
            "Try 1/10: Best_val_acc: [1.1827713251113892, 0.4908536672592163], lr: 0.004510700946584333, Lambda: 2.8196656244985595e-06\n",
            "\n",
            "Epoch 1/30\n",
            "41/41 [==============================] - 0s 2ms/step - loss: nan - accuracy: 0.1006\n",
            "Epoch 2/30\n",
            "41/41 [==============================] - 0s 2ms/step - loss: nan - accuracy: 0.1037\n",
            "Epoch 3/30\n",
            "41/41 [==============================] - 0s 2ms/step - loss: nan - accuracy: 0.1037\n",
            "Epoch 4/30\n",
            "41/41 [==============================] - 0s 3ms/step - loss: nan - accuracy: 0.1037\n",
            "Epoch 5/30\n",
            "41/41 [==============================] - 0s 3ms/step - loss: nan - accuracy: 0.1037\n",
            "Epoch 6/30\n",
            "41/41 [==============================] - 0s 3ms/step - loss: nan - accuracy: 0.1037\n",
            "Epoch 7/30\n",
            "41/41 [==============================] - 0s 3ms/step - loss: nan - accuracy: 0.1037\n",
            "Epoch 8/30\n",
            "41/41 [==============================] - 0s 3ms/step - loss: nan - accuracy: 0.1037\n",
            "Epoch 9/30\n",
            "41/41 [==============================] - 0s 3ms/step - loss: nan - accuracy: 0.1037\n",
            "Epoch 10/30\n",
            "41/41 [==============================] - 0s 4ms/step - loss: nan - accuracy: 0.1037\n",
            "Epoch 11/30\n",
            "41/41 [==============================] - 0s 4ms/step - loss: nan - accuracy: 0.1037\n",
            "Epoch 12/30\n",
            "41/41 [==============================] - 0s 4ms/step - loss: nan - accuracy: 0.1037\n",
            "Epoch 13/30\n",
            "41/41 [==============================] - 0s 4ms/step - loss: nan - accuracy: 0.1037\n",
            "Epoch 14/30\n",
            "41/41 [==============================] - 0s 5ms/step - loss: nan - accuracy: 0.1037\n",
            "Epoch 15/30\n",
            "41/41 [==============================] - 0s 4ms/step - loss: nan - accuracy: 0.1037\n",
            "Epoch 16/30\n",
            "41/41 [==============================] - 0s 4ms/step - loss: nan - accuracy: 0.1037\n",
            "Epoch 17/30\n",
            "41/41 [==============================] - 0s 4ms/step - loss: nan - accuracy: 0.1037\n",
            "Epoch 18/30\n",
            "41/41 [==============================] - 0s 2ms/step - loss: nan - accuracy: 0.1037\n",
            "Epoch 19/30\n",
            "41/41 [==============================] - 0s 2ms/step - loss: nan - accuracy: 0.1037\n",
            "Epoch 20/30\n",
            "41/41 [==============================] - 0s 3ms/step - loss: nan - accuracy: 0.1037\n",
            "Epoch 21/30\n",
            "41/41 [==============================] - 0s 4ms/step - loss: nan - accuracy: 0.1037\n",
            "Epoch 22/30\n",
            "41/41 [==============================] - 0s 4ms/step - loss: nan - accuracy: 0.1037\n",
            "Epoch 23/30\n",
            "41/41 [==============================] - 0s 4ms/step - loss: nan - accuracy: 0.1037\n",
            "Epoch 24/30\n",
            "41/41 [==============================] - 0s 3ms/step - loss: nan - accuracy: 0.1037\n",
            "Epoch 25/30\n",
            "41/41 [==============================] - 0s 2ms/step - loss: nan - accuracy: 0.1037\n",
            "Epoch 26/30\n",
            "41/41 [==============================] - 0s 2ms/step - loss: nan - accuracy: 0.1037\n",
            "Epoch 27/30\n",
            "41/41 [==============================] - 0s 2ms/step - loss: nan - accuracy: 0.1037\n",
            "Epoch 28/30\n",
            "41/41 [==============================] - 0s 2ms/step - loss: nan - accuracy: 0.1037\n",
            "Epoch 29/30\n",
            "41/41 [==============================] - 0s 2ms/step - loss: nan - accuracy: 0.1037\n",
            "Epoch 30/30\n",
            "41/41 [==============================] - 0s 2ms/step - loss: nan - accuracy: 0.1037\n",
            "This is test set score:[nan, 0.10843373835086823]\n",
            "Try 2/10: Best_val_acc: [nan, 0.1036585345864296], lr: 111.81179609674732, Lambda: 0.00012669614546320657\n",
            "\n",
            "Epoch 1/30\n",
            "41/41 [==============================] - 0s 2ms/step - loss: nan - accuracy: 0.1372  \n",
            "Epoch 2/30\n",
            "41/41 [==============================] - 0s 2ms/step - loss: nan - accuracy: 0.1037\n",
            "Epoch 3/30\n",
            "41/41 [==============================] - 0s 2ms/step - loss: nan - accuracy: 0.1037\n",
            "Epoch 4/30\n",
            "41/41 [==============================] - 0s 2ms/step - loss: nan - accuracy: 0.1037\n",
            "Epoch 5/30\n",
            "41/41 [==============================] - 0s 2ms/step - loss: nan - accuracy: 0.1037\n",
            "Epoch 6/30\n",
            "41/41 [==============================] - 0s 2ms/step - loss: nan - accuracy: 0.1037\n",
            "Epoch 7/30\n",
            "41/41 [==============================] - 0s 2ms/step - loss: nan - accuracy: 0.1037\n",
            "Epoch 8/30\n",
            "41/41 [==============================] - 0s 2ms/step - loss: nan - accuracy: 0.1037\n",
            "Epoch 9/30\n",
            "41/41 [==============================] - 0s 2ms/step - loss: nan - accuracy: 0.1037\n",
            "Epoch 10/30\n",
            "41/41 [==============================] - 0s 2ms/step - loss: nan - accuracy: 0.1037\n",
            "Epoch 11/30\n",
            "41/41 [==============================] - 0s 2ms/step - loss: nan - accuracy: 0.1037\n",
            "Epoch 12/30\n",
            "41/41 [==============================] - 0s 2ms/step - loss: nan - accuracy: 0.1037\n",
            "Epoch 13/30\n",
            "41/41 [==============================] - 0s 2ms/step - loss: nan - accuracy: 0.1037\n",
            "Epoch 14/30\n",
            "41/41 [==============================] - 0s 2ms/step - loss: nan - accuracy: 0.1037\n",
            "Epoch 15/30\n",
            "41/41 [==============================] - 0s 2ms/step - loss: nan - accuracy: 0.1037\n",
            "Epoch 16/30\n",
            "41/41 [==============================] - 0s 2ms/step - loss: nan - accuracy: 0.1037\n",
            "Epoch 17/30\n",
            "41/41 [==============================] - 0s 2ms/step - loss: nan - accuracy: 0.1037\n",
            "Epoch 18/30\n",
            "41/41 [==============================] - 0s 2ms/step - loss: nan - accuracy: 0.1037\n",
            "Epoch 19/30\n",
            "41/41 [==============================] - 0s 2ms/step - loss: nan - accuracy: 0.1037\n",
            "Epoch 20/30\n",
            "41/41 [==============================] - 0s 2ms/step - loss: nan - accuracy: 0.1037\n",
            "Epoch 21/30\n",
            "41/41 [==============================] - 0s 2ms/step - loss: nan - accuracy: 0.1037\n",
            "Epoch 22/30\n",
            "41/41 [==============================] - 0s 2ms/step - loss: nan - accuracy: 0.1037\n",
            "Epoch 23/30\n",
            "41/41 [==============================] - 0s 2ms/step - loss: nan - accuracy: 0.1037\n",
            "Epoch 24/30\n",
            "41/41 [==============================] - 0s 2ms/step - loss: nan - accuracy: 0.1037\n",
            "Epoch 25/30\n",
            "41/41 [==============================] - 0s 2ms/step - loss: nan - accuracy: 0.1037\n",
            "Epoch 26/30\n",
            "41/41 [==============================] - 0s 2ms/step - loss: nan - accuracy: 0.1037\n",
            "Epoch 27/30\n",
            "41/41 [==============================] - 0s 2ms/step - loss: nan - accuracy: 0.1037\n",
            "Epoch 28/30\n",
            "41/41 [==============================] - 0s 2ms/step - loss: nan - accuracy: 0.1037\n",
            "Epoch 29/30\n",
            "41/41 [==============================] - 0s 2ms/step - loss: nan - accuracy: 0.1037\n",
            "Epoch 30/30\n",
            "41/41 [==============================] - 0s 2ms/step - loss: nan - accuracy: 0.1037\n",
            "This is test set score:[nan, 0.10843373835086823]\n",
            "Try 3/10: Best_val_acc: [nan, 0.1036585345864296], lr: 15.839205759509568, Lambda: 0.0002864876216749428\n",
            "\n",
            "Epoch 1/30\n",
            "41/41 [==============================] - 0s 2ms/step - loss: nan - accuracy: 0.1006\n",
            "Epoch 2/30\n",
            "41/41 [==============================] - 0s 2ms/step - loss: nan - accuracy: 0.1037\n",
            "Epoch 3/30\n",
            "41/41 [==============================] - 0s 2ms/step - loss: nan - accuracy: 0.1037\n",
            "Epoch 4/30\n",
            "41/41 [==============================] - 0s 2ms/step - loss: nan - accuracy: 0.1037\n",
            "Epoch 5/30\n",
            "41/41 [==============================] - 0s 2ms/step - loss: nan - accuracy: 0.1037\n",
            "Epoch 6/30\n",
            "41/41 [==============================] - 0s 2ms/step - loss: nan - accuracy: 0.1037\n",
            "Epoch 7/30\n",
            "41/41 [==============================] - 0s 2ms/step - loss: nan - accuracy: 0.1037\n",
            "Epoch 8/30\n",
            "41/41 [==============================] - 0s 2ms/step - loss: nan - accuracy: 0.1037\n",
            "Epoch 9/30\n",
            "41/41 [==============================] - 0s 2ms/step - loss: nan - accuracy: 0.1037\n",
            "Epoch 10/30\n",
            "41/41 [==============================] - 0s 2ms/step - loss: nan - accuracy: 0.1037\n",
            "Epoch 11/30\n",
            "41/41 [==============================] - 0s 2ms/step - loss: nan - accuracy: 0.1037\n",
            "Epoch 12/30\n",
            "41/41 [==============================] - 0s 2ms/step - loss: nan - accuracy: 0.1037\n",
            "Epoch 13/30\n",
            "41/41 [==============================] - 0s 3ms/step - loss: nan - accuracy: 0.1037\n",
            "Epoch 14/30\n",
            "41/41 [==============================] - 0s 2ms/step - loss: nan - accuracy: 0.1037\n",
            "Epoch 15/30\n",
            "41/41 [==============================] - 0s 2ms/step - loss: nan - accuracy: 0.1037\n",
            "Epoch 16/30\n",
            "41/41 [==============================] - 0s 2ms/step - loss: nan - accuracy: 0.1037\n",
            "Epoch 17/30\n",
            "41/41 [==============================] - 0s 3ms/step - loss: nan - accuracy: 0.1037\n",
            "Epoch 18/30\n",
            "41/41 [==============================] - 0s 2ms/step - loss: nan - accuracy: 0.1037\n",
            "Epoch 19/30\n",
            "41/41 [==============================] - 0s 2ms/step - loss: nan - accuracy: 0.1037\n",
            "Epoch 20/30\n",
            "41/41 [==============================] - 0s 2ms/step - loss: nan - accuracy: 0.1037\n",
            "Epoch 21/30\n",
            "41/41 [==============================] - 0s 2ms/step - loss: nan - accuracy: 0.1037\n",
            "Epoch 22/30\n",
            "41/41 [==============================] - 0s 2ms/step - loss: nan - accuracy: 0.1037\n",
            "Epoch 23/30\n",
            "41/41 [==============================] - 0s 2ms/step - loss: nan - accuracy: 0.1037\n",
            "Epoch 24/30\n",
            "41/41 [==============================] - 0s 2ms/step - loss: nan - accuracy: 0.1037\n",
            "Epoch 25/30\n",
            "41/41 [==============================] - 0s 2ms/step - loss: nan - accuracy: 0.1037\n",
            "Epoch 26/30\n",
            "41/41 [==============================] - 0s 2ms/step - loss: nan - accuracy: 0.1037\n",
            "Epoch 27/30\n",
            "41/41 [==============================] - 0s 2ms/step - loss: nan - accuracy: 0.1037\n",
            "Epoch 28/30\n",
            "41/41 [==============================] - 0s 2ms/step - loss: nan - accuracy: 0.1037\n",
            "Epoch 29/30\n",
            "41/41 [==============================] - 0s 2ms/step - loss: nan - accuracy: 0.1037\n",
            "Epoch 30/30\n",
            "41/41 [==============================] - 0s 3ms/step - loss: nan - accuracy: 0.1037\n",
            "This is test set score:[nan, 0.10843373835086823]\n",
            "Try 4/10: Best_val_acc: [nan, 0.1036585345864296], lr: 236.23845214362592, Lambda: 2.7808931808880112e-05\n",
            "\n",
            "Epoch 1/30\n",
            "41/41 [==============================] - 0s 2ms/step - loss: nan - accuracy: 0.1189\n",
            "Epoch 2/30\n",
            "41/41 [==============================] - 0s 2ms/step - loss: nan - accuracy: 0.1037\n",
            "Epoch 3/30\n",
            "41/41 [==============================] - 0s 2ms/step - loss: nan - accuracy: 0.1037\n",
            "Epoch 4/30\n",
            "41/41 [==============================] - 0s 2ms/step - loss: nan - accuracy: 0.1037\n",
            "Epoch 5/30\n",
            "41/41 [==============================] - 0s 2ms/step - loss: nan - accuracy: 0.1037\n",
            "Epoch 6/30\n",
            "41/41 [==============================] - 0s 2ms/step - loss: nan - accuracy: 0.1037\n",
            "Epoch 7/30\n",
            "41/41 [==============================] - 0s 2ms/step - loss: nan - accuracy: 0.1037\n",
            "Epoch 8/30\n",
            "41/41 [==============================] - 0s 2ms/step - loss: nan - accuracy: 0.1037\n",
            "Epoch 9/30\n",
            "41/41 [==============================] - 0s 2ms/step - loss: nan - accuracy: 0.1037\n",
            "Epoch 10/30\n",
            "41/41 [==============================] - 0s 2ms/step - loss: nan - accuracy: 0.1037\n",
            "Epoch 11/30\n",
            "41/41 [==============================] - 0s 2ms/step - loss: nan - accuracy: 0.1037\n",
            "Epoch 12/30\n",
            "41/41 [==============================] - 0s 2ms/step - loss: nan - accuracy: 0.1037\n",
            "Epoch 13/30\n",
            "41/41 [==============================] - 0s 2ms/step - loss: nan - accuracy: 0.1037\n",
            "Epoch 14/30\n",
            "41/41 [==============================] - 0s 2ms/step - loss: nan - accuracy: 0.1037\n",
            "Epoch 15/30\n",
            "41/41 [==============================] - 0s 2ms/step - loss: nan - accuracy: 0.1037\n",
            "Epoch 16/30\n",
            "41/41 [==============================] - 0s 2ms/step - loss: nan - accuracy: 0.1037\n",
            "Epoch 17/30\n",
            "41/41 [==============================] - 0s 2ms/step - loss: nan - accuracy: 0.1037\n",
            "Epoch 18/30\n",
            "41/41 [==============================] - 0s 2ms/step - loss: nan - accuracy: 0.1037\n",
            "Epoch 19/30\n",
            "41/41 [==============================] - 0s 2ms/step - loss: nan - accuracy: 0.1037\n",
            "Epoch 20/30\n",
            "41/41 [==============================] - 0s 2ms/step - loss: nan - accuracy: 0.1037\n",
            "Epoch 21/30\n",
            "41/41 [==============================] - 0s 2ms/step - loss: nan - accuracy: 0.1037\n",
            "Epoch 22/30\n",
            "41/41 [==============================] - 0s 2ms/step - loss: nan - accuracy: 0.1037\n",
            "Epoch 23/30\n",
            "41/41 [==============================] - 0s 2ms/step - loss: nan - accuracy: 0.1037\n",
            "Epoch 24/30\n",
            "41/41 [==============================] - 0s 2ms/step - loss: nan - accuracy: 0.1037\n",
            "Epoch 25/30\n",
            "41/41 [==============================] - 0s 2ms/step - loss: nan - accuracy: 0.1037\n",
            "Epoch 26/30\n",
            "41/41 [==============================] - 0s 2ms/step - loss: nan - accuracy: 0.1037\n",
            "Epoch 27/30\n",
            "41/41 [==============================] - 0s 2ms/step - loss: nan - accuracy: 0.1037\n",
            "Epoch 28/30\n",
            "41/41 [==============================] - 0s 2ms/step - loss: nan - accuracy: 0.1037\n",
            "Epoch 29/30\n",
            "41/41 [==============================] - 0s 2ms/step - loss: nan - accuracy: 0.1037\n",
            "Epoch 30/30\n",
            "41/41 [==============================] - 0s 2ms/step - loss: nan - accuracy: 0.1037\n",
            "This is test set score:[nan, 0.10843373835086823]\n",
            "Try 5/10: Best_val_acc: [nan, 0.1036585345864296], lr: 764.3088645706238, Lambda: 1.5442419730577116e-06\n",
            "\n",
            "Epoch 1/30\n",
            "41/41 [==============================] - 0s 2ms/step - loss: 2.2062 - accuracy: 0.2256\n",
            "Epoch 2/30\n",
            "41/41 [==============================] - 0s 2ms/step - loss: 2.0024 - accuracy: 0.2500\n",
            "Epoch 3/30\n",
            "41/41 [==============================] - 0s 2ms/step - loss: 2.1567 - accuracy: 0.2317\n",
            "Epoch 4/30\n",
            "41/41 [==============================] - 0s 2ms/step - loss: 2.2173 - accuracy: 0.1951\n",
            "Epoch 5/30\n",
            "41/41 [==============================] - 0s 2ms/step - loss: 2.1030 - accuracy: 0.2470\n",
            "Epoch 6/30\n",
            "41/41 [==============================] - 0s 2ms/step - loss: 2.1097 - accuracy: 0.2104\n",
            "Epoch 7/30\n",
            "41/41 [==============================] - 0s 2ms/step - loss: 2.0137 - accuracy: 0.2104\n",
            "Epoch 8/30\n",
            "41/41 [==============================] - 0s 2ms/step - loss: 2.0779 - accuracy: 0.2348\n",
            "Epoch 9/30\n",
            "41/41 [==============================] - 0s 2ms/step - loss: 2.0576 - accuracy: 0.2409\n",
            "Epoch 10/30\n",
            "41/41 [==============================] - 0s 2ms/step - loss: 2.0209 - accuracy: 0.1951\n",
            "Epoch 11/30\n",
            "41/41 [==============================] - 0s 2ms/step - loss: 2.0562 - accuracy: 0.2012\n",
            "Epoch 12/30\n",
            "41/41 [==============================] - 0s 2ms/step - loss: 1.8879 - accuracy: 0.2104\n",
            "Epoch 13/30\n",
            "41/41 [==============================] - 0s 2ms/step - loss: 2.0003 - accuracy: 0.1951\n",
            "Epoch 14/30\n",
            "41/41 [==============================] - 0s 2ms/step - loss: 1.9221 - accuracy: 0.2104\n",
            "Epoch 15/30\n",
            "41/41 [==============================] - 0s 2ms/step - loss: 1.9691 - accuracy: 0.2134\n",
            "Epoch 16/30\n",
            "41/41 [==============================] - 0s 2ms/step - loss: 1.9167 - accuracy: 0.2470\n",
            "Epoch 17/30\n",
            "41/41 [==============================] - 0s 2ms/step - loss: 1.9334 - accuracy: 0.2530\n",
            "Epoch 18/30\n",
            "41/41 [==============================] - 0s 2ms/step - loss: 1.9744 - accuracy: 0.2439\n",
            "Epoch 19/30\n",
            "41/41 [==============================] - 0s 2ms/step - loss: 2.0126 - accuracy: 0.2104\n",
            "Epoch 20/30\n",
            "41/41 [==============================] - 0s 2ms/step - loss: 1.8032 - accuracy: 0.2713\n",
            "Epoch 21/30\n",
            "41/41 [==============================] - 0s 2ms/step - loss: 1.8799 - accuracy: 0.2073\n",
            "Epoch 22/30\n",
            "41/41 [==============================] - 0s 2ms/step - loss: 1.8478 - accuracy: 0.2500\n",
            "Epoch 23/30\n",
            "41/41 [==============================] - 0s 2ms/step - loss: 1.8878 - accuracy: 0.2165\n",
            "Epoch 24/30\n",
            "41/41 [==============================] - 0s 3ms/step - loss: 1.7838 - accuracy: 0.2927\n",
            "Epoch 25/30\n",
            "41/41 [==============================] - 0s 2ms/step - loss: 1.7968 - accuracy: 0.2226\n",
            "Epoch 26/30\n",
            "41/41 [==============================] - 0s 2ms/step - loss: 1.8970 - accuracy: 0.1768\n",
            "Epoch 27/30\n",
            "41/41 [==============================] - 0s 2ms/step - loss: 1.8014 - accuracy: 0.2744\n",
            "Epoch 28/30\n",
            "41/41 [==============================] - 0s 2ms/step - loss: 1.7635 - accuracy: 0.2683\n",
            "Epoch 29/30\n",
            "41/41 [==============================] - 0s 2ms/step - loss: 1.7341 - accuracy: 0.2866\n",
            "Epoch 30/30\n",
            "41/41 [==============================] - 0s 2ms/step - loss: 1.7378 - accuracy: 0.2561\n",
            "This is test set score:[1.7181646823883057, 0.16867469251155853]\n",
            "Try 6/10: Best_val_acc: [1.6738240718841553, 0.25], lr: 6.642472934600087e-05, Lambda: 9.010088536684731e-05\n",
            "\n",
            "Epoch 1/30\n",
            "41/41 [==============================] - 0s 3ms/step - loss: 2.2681 - accuracy: 0.1677\n",
            "Epoch 2/30\n",
            "41/41 [==============================] - 0s 2ms/step - loss: 2.2363 - accuracy: 0.1799\n",
            "Epoch 3/30\n",
            "41/41 [==============================] - 0s 2ms/step - loss: 2.2813 - accuracy: 0.1646\n",
            "Epoch 4/30\n",
            "41/41 [==============================] - 0s 2ms/step - loss: 2.2083 - accuracy: 0.1982\n",
            "Epoch 5/30\n",
            "41/41 [==============================] - 0s 2ms/step - loss: 2.1913 - accuracy: 0.2134\n",
            "Epoch 6/30\n",
            "41/41 [==============================] - 0s 2ms/step - loss: 2.2838 - accuracy: 0.1463\n",
            "Epoch 7/30\n",
            "41/41 [==============================] - 0s 2ms/step - loss: 2.1761 - accuracy: 0.1768\n",
            "Epoch 8/30\n",
            "41/41 [==============================] - 0s 2ms/step - loss: 2.1659 - accuracy: 0.1829\n",
            "Epoch 9/30\n",
            "41/41 [==============================] - 0s 2ms/step - loss: 2.1681 - accuracy: 0.2012\n",
            "Epoch 10/30\n",
            "41/41 [==============================] - 0s 2ms/step - loss: 2.1903 - accuracy: 0.1799\n",
            "Epoch 11/30\n",
            "41/41 [==============================] - 0s 2ms/step - loss: 2.1910 - accuracy: 0.1951\n",
            "Epoch 12/30\n",
            "41/41 [==============================] - 0s 2ms/step - loss: 2.1944 - accuracy: 0.1799\n",
            "Epoch 13/30\n",
            "41/41 [==============================] - 0s 2ms/step - loss: 2.2267 - accuracy: 0.1829\n",
            "Epoch 14/30\n",
            "41/41 [==============================] - 0s 2ms/step - loss: 2.1263 - accuracy: 0.1829\n",
            "Epoch 15/30\n",
            "41/41 [==============================] - 0s 2ms/step - loss: 2.2330 - accuracy: 0.1799\n",
            "Epoch 16/30\n",
            "41/41 [==============================] - 0s 2ms/step - loss: 2.1930 - accuracy: 0.2195\n",
            "Epoch 17/30\n",
            "41/41 [==============================] - 0s 2ms/step - loss: 2.1406 - accuracy: 0.2104\n",
            "Epoch 18/30\n",
            "41/41 [==============================] - 0s 2ms/step - loss: 2.0673 - accuracy: 0.2012\n",
            "Epoch 19/30\n",
            "41/41 [==============================] - 0s 2ms/step - loss: 2.0971 - accuracy: 0.2073\n",
            "Epoch 20/30\n",
            "41/41 [==============================] - 0s 2ms/step - loss: 2.1171 - accuracy: 0.1890\n",
            "Epoch 21/30\n",
            "41/41 [==============================] - 0s 2ms/step - loss: 2.1539 - accuracy: 0.2226\n",
            "Epoch 22/30\n",
            "41/41 [==============================] - 0s 2ms/step - loss: 2.0335 - accuracy: 0.2500\n",
            "Epoch 23/30\n",
            "41/41 [==============================] - 0s 2ms/step - loss: 2.1426 - accuracy: 0.1768\n",
            "Epoch 24/30\n",
            "41/41 [==============================] - 0s 2ms/step - loss: 2.0959 - accuracy: 0.1982\n",
            "Epoch 25/30\n",
            "41/41 [==============================] - 0s 2ms/step - loss: 2.1284 - accuracy: 0.1646\n",
            "Epoch 26/30\n",
            "41/41 [==============================] - 0s 2ms/step - loss: 2.0418 - accuracy: 0.2165\n",
            "Epoch 27/30\n",
            "41/41 [==============================] - 0s 2ms/step - loss: 2.0837 - accuracy: 0.1799\n",
            "Epoch 28/30\n",
            "41/41 [==============================] - 0s 2ms/step - loss: 2.0584 - accuracy: 0.2073\n",
            "Epoch 29/30\n",
            "41/41 [==============================] - 0s 2ms/step - loss: 2.0895 - accuracy: 0.1890\n",
            "Epoch 30/30\n",
            "41/41 [==============================] - 0s 2ms/step - loss: 2.0661 - accuracy: 0.2043\n",
            "This is test set score:[1.912026286125183, 0.1807228922843933]\n",
            "Try 7/10: Best_val_acc: [1.7517173290252686, 0.20121951401233673], lr: 1.2989674113792667e-05, Lambda: 0.0007773871719867979\n",
            "\n",
            "Epoch 1/30\n",
            "41/41 [==============================] - 0s 2ms/step - loss: 1.6994 - accuracy: 0.2622\n",
            "Epoch 2/30\n",
            "41/41 [==============================] - 0s 2ms/step - loss: 1.5499 - accuracy: 0.2500\n",
            "Epoch 3/30\n",
            "41/41 [==============================] - 0s 2ms/step - loss: 1.4974 - accuracy: 0.3079\n",
            "Epoch 4/30\n",
            "41/41 [==============================] - 0s 2ms/step - loss: 1.4743 - accuracy: 0.3018\n",
            "Epoch 5/30\n",
            "41/41 [==============================] - 0s 2ms/step - loss: 1.4657 - accuracy: 0.3140\n",
            "Epoch 6/30\n",
            "41/41 [==============================] - 0s 2ms/step - loss: 1.4116 - accuracy: 0.3598\n",
            "Epoch 7/30\n",
            "41/41 [==============================] - 0s 2ms/step - loss: 1.4648 - accuracy: 0.3079\n",
            "Epoch 8/30\n",
            "41/41 [==============================] - 0s 2ms/step - loss: 1.4450 - accuracy: 0.3018\n",
            "Epoch 9/30\n",
            "41/41 [==============================] - 0s 2ms/step - loss: 1.3781 - accuracy: 0.3811\n",
            "Epoch 10/30\n",
            "41/41 [==============================] - 0s 2ms/step - loss: 1.4445 - accuracy: 0.3201\n",
            "Epoch 11/30\n",
            "41/41 [==============================] - 0s 2ms/step - loss: 1.4054 - accuracy: 0.3384\n",
            "Epoch 12/30\n",
            "41/41 [==============================] - 0s 3ms/step - loss: 1.3819 - accuracy: 0.3872\n",
            "Epoch 13/30\n",
            "41/41 [==============================] - 0s 2ms/step - loss: 1.3962 - accuracy: 0.3415\n",
            "Epoch 14/30\n",
            "41/41 [==============================] - 0s 2ms/step - loss: 1.3531 - accuracy: 0.3750\n",
            "Epoch 15/30\n",
            "41/41 [==============================] - 0s 2ms/step - loss: 1.3689 - accuracy: 0.3933\n",
            "Epoch 16/30\n",
            "41/41 [==============================] - 0s 2ms/step - loss: 1.3636 - accuracy: 0.3598\n",
            "Epoch 17/30\n",
            "41/41 [==============================] - 0s 2ms/step - loss: 1.3556 - accuracy: 0.3811\n",
            "Epoch 18/30\n",
            "41/41 [==============================] - 0s 2ms/step - loss: 1.3311 - accuracy: 0.4146\n",
            "Epoch 19/30\n",
            "41/41 [==============================] - 0s 2ms/step - loss: 1.3683 - accuracy: 0.3841\n",
            "Epoch 20/30\n",
            "41/41 [==============================] - 0s 2ms/step - loss: 1.3743 - accuracy: 0.3567\n",
            "Epoch 21/30\n",
            "41/41 [==============================] - 0s 2ms/step - loss: 1.3603 - accuracy: 0.4085\n",
            "Epoch 22/30\n",
            "41/41 [==============================] - 0s 2ms/step - loss: 1.3297 - accuracy: 0.4024\n",
            "Epoch 23/30\n",
            "41/41 [==============================] - 0s 2ms/step - loss: 1.3313 - accuracy: 0.3902\n",
            "Epoch 24/30\n",
            "41/41 [==============================] - 0s 2ms/step - loss: 1.3167 - accuracy: 0.4329\n",
            "Epoch 25/30\n",
            "41/41 [==============================] - 0s 2ms/step - loss: 1.3322 - accuracy: 0.4055\n",
            "Epoch 26/30\n",
            "41/41 [==============================] - 0s 2ms/step - loss: 1.3228 - accuracy: 0.3994\n",
            "Epoch 27/30\n",
            "41/41 [==============================] - 0s 2ms/step - loss: 1.3244 - accuracy: 0.4055\n",
            "Epoch 28/30\n",
            "41/41 [==============================] - 0s 2ms/step - loss: 1.3113 - accuracy: 0.4116\n",
            "Epoch 29/30\n",
            "41/41 [==============================] - 0s 2ms/step - loss: 1.3159 - accuracy: 0.4055\n",
            "Epoch 30/30\n",
            "41/41 [==============================] - 0s 2ms/step - loss: 1.3190 - accuracy: 0.4177\n",
            "This is test set score:[1.5218315124511719, 0.39759036898612976]\n",
            "Try 8/10: Best_val_acc: [1.2113683223724365, 0.4146341383457184], lr: 0.02988508534183691, Lambda: 0.0004630481112730656\n",
            "\n",
            "Epoch 1/30\n",
            "41/41 [==============================] - 0s 2ms/step - loss: 1.8967 - accuracy: 0.2165\n",
            "Epoch 2/30\n",
            "41/41 [==============================] - 0s 2ms/step - loss: 1.7588 - accuracy: 0.2439\n",
            "Epoch 3/30\n",
            "41/41 [==============================] - 0s 3ms/step - loss: 1.6485 - accuracy: 0.2744\n",
            "Epoch 4/30\n",
            "41/41 [==============================] - 0s 2ms/step - loss: 1.6387 - accuracy: 0.2409\n",
            "Epoch 5/30\n",
            "41/41 [==============================] - 0s 2ms/step - loss: 1.5871 - accuracy: 0.2439\n",
            "Epoch 6/30\n",
            "41/41 [==============================] - 0s 2ms/step - loss: 1.5350 - accuracy: 0.3049\n",
            "Epoch 7/30\n",
            "41/41 [==============================] - 0s 2ms/step - loss: 1.5497 - accuracy: 0.2927\n",
            "Epoch 8/30\n",
            "41/41 [==============================] - 0s 2ms/step - loss: 1.5284 - accuracy: 0.3110\n",
            "Epoch 9/30\n",
            "41/41 [==============================] - 0s 2ms/step - loss: 1.5119 - accuracy: 0.3201\n",
            "Epoch 10/30\n",
            "41/41 [==============================] - 0s 2ms/step - loss: 1.4722 - accuracy: 0.3445\n",
            "Epoch 11/30\n",
            "41/41 [==============================] - 0s 2ms/step - loss: 1.4756 - accuracy: 0.3140\n",
            "Epoch 12/30\n",
            "41/41 [==============================] - 0s 2ms/step - loss: 1.4271 - accuracy: 0.3445\n",
            "Epoch 13/30\n",
            "41/41 [==============================] - 0s 2ms/step - loss: 1.4376 - accuracy: 0.3049\n",
            "Epoch 14/30\n",
            "41/41 [==============================] - 0s 2ms/step - loss: 1.4567 - accuracy: 0.2988\n",
            "Epoch 15/30\n",
            "41/41 [==============================] - 0s 2ms/step - loss: 1.4412 - accuracy: 0.3567\n",
            "Epoch 16/30\n",
            "41/41 [==============================] - 0s 2ms/step - loss: 1.3827 - accuracy: 0.3811\n",
            "Epoch 17/30\n",
            "41/41 [==============================] - 0s 2ms/step - loss: 1.3803 - accuracy: 0.3963\n",
            "Epoch 18/30\n",
            "41/41 [==============================] - 0s 2ms/step - loss: 1.4129 - accuracy: 0.3293\n",
            "Epoch 19/30\n",
            "41/41 [==============================] - 0s 2ms/step - loss: 1.3839 - accuracy: 0.3750\n",
            "Epoch 20/30\n",
            "41/41 [==============================] - 0s 2ms/step - loss: 1.3791 - accuracy: 0.3720\n",
            "Epoch 21/30\n",
            "41/41 [==============================] - 0s 2ms/step - loss: 1.3409 - accuracy: 0.4146\n",
            "Epoch 22/30\n",
            "41/41 [==============================] - 0s 2ms/step - loss: 1.3610 - accuracy: 0.4024\n",
            "Epoch 23/30\n",
            "41/41 [==============================] - 0s 2ms/step - loss: 1.3863 - accuracy: 0.3994\n",
            "Epoch 24/30\n",
            "41/41 [==============================] - 0s 2ms/step - loss: 1.3572 - accuracy: 0.4421\n",
            "Epoch 25/30\n",
            "41/41 [==============================] - 0s 2ms/step - loss: 1.3630 - accuracy: 0.3780\n",
            "Epoch 26/30\n",
            "41/41 [==============================] - 0s 2ms/step - loss: 1.3727 - accuracy: 0.3963\n",
            "Epoch 27/30\n",
            "41/41 [==============================] - 0s 2ms/step - loss: 1.3475 - accuracy: 0.3994\n",
            "Epoch 28/30\n",
            "41/41 [==============================] - 0s 2ms/step - loss: 1.3774 - accuracy: 0.3659\n",
            "Epoch 29/30\n",
            "41/41 [==============================] - 0s 3ms/step - loss: 1.3498 - accuracy: 0.4116\n",
            "Epoch 30/30\n",
            "41/41 [==============================] - 0s 2ms/step - loss: 1.3275 - accuracy: 0.4085\n",
            "This is test set score:[1.4301996231079102, 0.40963855385780334]\n",
            "Try 9/10: Best_val_acc: [1.2303223609924316, 0.4908536672592163], lr: 0.001151587618713728, Lambda: 0.0002776611732646734\n",
            "\n",
            "Epoch 1/30\n",
            "41/41 [==============================] - 0s 2ms/step - loss: 1.8477 - accuracy: 0.2409\n",
            "Epoch 2/30\n",
            "41/41 [==============================] - 0s 2ms/step - loss: 1.7890 - accuracy: 0.2561\n",
            "Epoch 3/30\n",
            "41/41 [==============================] - 0s 2ms/step - loss: 1.7190 - accuracy: 0.2530\n",
            "Epoch 4/30\n",
            "41/41 [==============================] - 0s 2ms/step - loss: 1.6197 - accuracy: 0.2744\n",
            "Epoch 5/30\n",
            "41/41 [==============================] - 0s 2ms/step - loss: 1.6538 - accuracy: 0.2835\n",
            "Epoch 6/30\n",
            "41/41 [==============================] - 0s 2ms/step - loss: 1.6353 - accuracy: 0.2896\n",
            "Epoch 7/30\n",
            "41/41 [==============================] - 0s 2ms/step - loss: 1.5293 - accuracy: 0.2927\n",
            "Epoch 8/30\n",
            "41/41 [==============================] - 0s 2ms/step - loss: 1.5652 - accuracy: 0.2927\n",
            "Epoch 9/30\n",
            "41/41 [==============================] - 0s 3ms/step - loss: 1.5009 - accuracy: 0.3384\n",
            "Epoch 10/30\n",
            "41/41 [==============================] - 0s 2ms/step - loss: 1.5464 - accuracy: 0.3018\n",
            "Epoch 11/30\n",
            "41/41 [==============================] - 0s 2ms/step - loss: 1.4883 - accuracy: 0.3201\n",
            "Epoch 12/30\n",
            "41/41 [==============================] - 0s 2ms/step - loss: 1.4988 - accuracy: 0.3415\n",
            "Epoch 13/30\n",
            "41/41 [==============================] - 0s 2ms/step - loss: 1.4505 - accuracy: 0.3720\n",
            "Epoch 14/30\n",
            "41/41 [==============================] - 0s 2ms/step - loss: 1.4803 - accuracy: 0.3323\n",
            "Epoch 15/30\n",
            "41/41 [==============================] - 0s 2ms/step - loss: 1.4653 - accuracy: 0.3445\n",
            "Epoch 16/30\n",
            "41/41 [==============================] - 0s 2ms/step - loss: 1.4564 - accuracy: 0.3293\n",
            "Epoch 17/30\n",
            "41/41 [==============================] - 0s 2ms/step - loss: 1.4486 - accuracy: 0.3140\n",
            "Epoch 18/30\n",
            "41/41 [==============================] - 0s 2ms/step - loss: 1.4395 - accuracy: 0.3689\n",
            "Epoch 19/30\n",
            "41/41 [==============================] - 0s 2ms/step - loss: 1.4120 - accuracy: 0.3933\n",
            "Epoch 20/30\n",
            "41/41 [==============================] - 0s 2ms/step - loss: 1.4436 - accuracy: 0.3445\n",
            "Epoch 21/30\n",
            "41/41 [==============================] - 0s 2ms/step - loss: 1.4376 - accuracy: 0.3567\n",
            "Epoch 22/30\n",
            "41/41 [==============================] - 0s 2ms/step - loss: 1.4192 - accuracy: 0.3811\n",
            "Epoch 23/30\n",
            "41/41 [==============================] - 0s 3ms/step - loss: 1.3976 - accuracy: 0.3750\n",
            "Epoch 24/30\n",
            "41/41 [==============================] - 0s 2ms/step - loss: 1.3999 - accuracy: 0.3476\n",
            "Epoch 25/30\n",
            "41/41 [==============================] - 0s 4ms/step - loss: 1.4088 - accuracy: 0.3567\n",
            "Epoch 26/30\n",
            "41/41 [==============================] - 0s 4ms/step - loss: 1.3724 - accuracy: 0.3841\n",
            "Epoch 27/30\n",
            "41/41 [==============================] - 0s 4ms/step - loss: 1.3982 - accuracy: 0.3720\n",
            "Epoch 28/30\n",
            "41/41 [==============================] - 0s 3ms/step - loss: 1.3928 - accuracy: 0.3567\n",
            "Epoch 29/30\n",
            "41/41 [==============================] - 0s 3ms/step - loss: 1.3660 - accuracy: 0.3994\n",
            "Epoch 30/30\n",
            "41/41 [==============================] - 0s 3ms/step - loss: 1.3455 - accuracy: 0.3720\n",
            "This is test set score:[1.4638365507125854, 0.34939759969711304]\n",
            "Try 10/10: Best_val_acc: [1.2682509422302246, 0.4664634168148041], lr: 0.0009824958024951304, Lambda: 0.00016929477857966898\n",
            "\n"
          ]
        }
      ],
      "source": [
        "import math\n",
        "for k in range(1,11):\n",
        "    lr = math.pow(10, np.random.uniform(-6.0, 3.0))\n",
        "    Lambda = math.pow(10, np.random.uniform(-6,-2))\n",
        "    best_acc,model = train_and_test_loop(30, lr, Lambda, False)\n",
        "    print(\"Try {0}/{1}: Best_val_acc: {2}, lr: {3}, Lambda: {4}\\n\".format(k, 10, best_acc, lr, Lambda))"
      ]
    },
    {
      "cell_type": "markdown",
      "metadata": {
        "id": "7I8sg1nM3Xg3"
      },
      "source": [
        "From the above, we understand that lr: 0.001151587618713728, Lambda: 0.0002776611732646734 are giving good train and test accuracy"
      ]
    },
    {
      "cell_type": "code",
      "execution_count": null,
      "metadata": {
        "id": "5tyRrGdR3Xg3",
        "outputId": "ac01fafa-e4f0-4538-f6c4-08d51226ab2c"
      },
      "outputs": [
        {
          "name": "stdout",
          "output_type": "stream",
          "text": [
            "Epoch 1/30\n",
            "41/41 [==============================] - 0s 2ms/step - loss: 2.0367 - accuracy: 0.2043\n",
            "Epoch 2/30\n",
            "41/41 [==============================] - 0s 2ms/step - loss: 1.8225 - accuracy: 0.2348\n",
            "Epoch 3/30\n",
            "41/41 [==============================] - 0s 2ms/step - loss: 1.7368 - accuracy: 0.2561\n",
            "Epoch 4/30\n",
            "41/41 [==============================] - 0s 2ms/step - loss: 1.6718 - accuracy: 0.2713\n",
            "Epoch 5/30\n",
            "41/41 [==============================] - 0s 2ms/step - loss: 1.5823 - accuracy: 0.2774\n",
            "Epoch 6/30\n",
            "41/41 [==============================] - 0s 2ms/step - loss: 1.5627 - accuracy: 0.3079\n",
            "Epoch 7/30\n",
            "41/41 [==============================] - 0s 2ms/step - loss: 1.5268 - accuracy: 0.3201\n",
            "Epoch 8/30\n",
            "41/41 [==============================] - 0s 2ms/step - loss: 1.4847 - accuracy: 0.3567\n",
            "Epoch 9/30\n",
            "41/41 [==============================] - 0s 2ms/step - loss: 1.4767 - accuracy: 0.3506\n",
            "Epoch 10/30\n",
            "41/41 [==============================] - 0s 2ms/step - loss: 1.5058 - accuracy: 0.2988\n",
            "Epoch 11/30\n",
            "41/41 [==============================] - 0s 2ms/step - loss: 1.4795 - accuracy: 0.3262\n",
            "Epoch 12/30\n",
            "41/41 [==============================] - 0s 2ms/step - loss: 1.4402 - accuracy: 0.3780\n",
            "Epoch 13/30\n",
            "41/41 [==============================] - 0s 2ms/step - loss: 1.4840 - accuracy: 0.3262\n",
            "Epoch 14/30\n",
            "41/41 [==============================] - 0s 2ms/step - loss: 1.4390 - accuracy: 0.3171\n",
            "Epoch 15/30\n",
            "41/41 [==============================] - 0s 3ms/step - loss: 1.4109 - accuracy: 0.3659\n",
            "Epoch 16/30\n",
            "41/41 [==============================] - 0s 3ms/step - loss: 1.4648 - accuracy: 0.3598\n",
            "Epoch 17/30\n",
            "41/41 [==============================] - 0s 3ms/step - loss: 1.3594 - accuracy: 0.3902\n",
            "Epoch 18/30\n",
            "41/41 [==============================] - 0s 3ms/step - loss: 1.3764 - accuracy: 0.4116\n",
            "Epoch 19/30\n",
            "41/41 [==============================] - 0s 2ms/step - loss: 1.3959 - accuracy: 0.3293\n",
            "Epoch 20/30\n",
            "41/41 [==============================] - 0s 2ms/step - loss: 1.4268 - accuracy: 0.3262\n",
            "Epoch 21/30\n",
            "41/41 [==============================] - 0s 2ms/step - loss: 1.3676 - accuracy: 0.3811\n",
            "Epoch 22/30\n",
            "41/41 [==============================] - 0s 2ms/step - loss: 1.4184 - accuracy: 0.3872\n",
            "Epoch 23/30\n",
            "41/41 [==============================] - 0s 2ms/step - loss: 1.3872 - accuracy: 0.3872\n",
            "Epoch 24/30\n",
            "41/41 [==============================] - 0s 2ms/step - loss: 1.3881 - accuracy: 0.3994\n",
            "Epoch 25/30\n",
            "41/41 [==============================] - 0s 2ms/step - loss: 1.3523 - accuracy: 0.3994\n",
            "Epoch 26/30\n",
            "41/41 [==============================] - 0s 3ms/step - loss: 1.3765 - accuracy: 0.3476\n",
            "Epoch 27/30\n",
            "41/41 [==============================] - 0s 4ms/step - loss: 1.3413 - accuracy: 0.3659\n",
            "Epoch 28/30\n",
            "41/41 [==============================] - 0s 5ms/step - loss: 1.3577 - accuracy: 0.4024\n",
            "Epoch 29/30\n",
            "41/41 [==============================] - 0s 4ms/step - loss: 1.3656 - accuracy: 0.4024\n",
            "Epoch 30/30\n",
            "41/41 [==============================] - 0s 5ms/step - loss: 1.3419 - accuracy: 0.3963\n",
            "This is test set score:[1.3993325233459473, 0.3855421543121338]\n"
          ]
        }
      ],
      "source": [
        "lr=0.00115\n",
        "Lambda=0.000277\n",
        "best_acc,NN_model = train_and_test_loop(30, lr, Lambda, False)"
      ]
    },
    {
      "cell_type": "markdown",
      "metadata": {
        "id": "NaEQnIxceixq"
      },
      "source": [
        "# Model Performance"
      ]
    },
    {
      "cell_type": "code",
      "execution_count": null,
      "metadata": {
        "id": "3pfqRExeSchL"
      },
      "outputs": [],
      "source": [
        "  with open('/content/drive/MyDrive/AIML/Capstone/Jan-G4---NLP-Chatbot/Utilities/result_df.csv', \"rb\") as f:\n",
        "      result_df = pickle.load(f)"
      ]
    },
    {
      "cell_type": "code",
      "execution_count": null,
      "metadata": {
        "colab": {
          "base_uri": "https://localhost:8080/",
          "height": 426
        },
        "id": "WIU7aVLbTkS9",
        "outputId": "fd55344f-4dc1-4212-97c3-56dc5210c1a8"
      },
      "outputs": [
        {
          "data": {
            "text/html": [
              "<div>\n",
              "<style scoped>\n",
              "    .dataframe tbody tr th:only-of-type {\n",
              "        vertical-align: middle;\n",
              "    }\n",
              "\n",
              "    .dataframe tbody tr th {\n",
              "        vertical-align: top;\n",
              "    }\n",
              "\n",
              "    .dataframe thead th {\n",
              "        text-align: right;\n",
              "    }\n",
              "</style>\n",
              "<table border=\"1\" class=\"dataframe\">\n",
              "  <thead>\n",
              "    <tr style=\"text-align: right;\">\n",
              "      <th></th>\n",
              "      <th>Model</th>\n",
              "      <th>Train_accuracy</th>\n",
              "      <th>Test_accuracy</th>\n",
              "      <th>F1_score</th>\n",
              "    </tr>\n",
              "  </thead>\n",
              "  <tbody>\n",
              "    <tr>\n",
              "      <th>0</th>\n",
              "      <td>LogReg</td>\n",
              "      <td>0.890244</td>\n",
              "      <td>0.890244</td>\n",
              "      <td>0.373494</td>\n",
              "    </tr>\n",
              "    <tr>\n",
              "      <th>1</th>\n",
              "      <td>Naive Bayes</td>\n",
              "      <td>1.000000</td>\n",
              "      <td>1.000000</td>\n",
              "      <td>0.421687</td>\n",
              "    </tr>\n",
              "    <tr>\n",
              "      <th>2</th>\n",
              "      <td>KNN</td>\n",
              "      <td>0.591463</td>\n",
              "      <td>0.591463</td>\n",
              "      <td>0.361446</td>\n",
              "    </tr>\n",
              "    <tr>\n",
              "      <th>3</th>\n",
              "      <td>SVM</td>\n",
              "      <td>0.990854</td>\n",
              "      <td>0.990854</td>\n",
              "      <td>0.361446</td>\n",
              "    </tr>\n",
              "    <tr>\n",
              "      <th>4</th>\n",
              "      <td>Decision Tree</td>\n",
              "      <td>0.512195</td>\n",
              "      <td>0.512195</td>\n",
              "      <td>0.313253</td>\n",
              "    </tr>\n",
              "    <tr>\n",
              "      <th>5</th>\n",
              "      <td>RandomForest</td>\n",
              "      <td>0.612805</td>\n",
              "      <td>0.612805</td>\n",
              "      <td>0.373494</td>\n",
              "    </tr>\n",
              "    <tr>\n",
              "      <th>6</th>\n",
              "      <td>Bagging</td>\n",
              "      <td>1.000000</td>\n",
              "      <td>1.000000</td>\n",
              "      <td>0.373494</td>\n",
              "    </tr>\n",
              "    <tr>\n",
              "      <th>7</th>\n",
              "      <td>AdaBoost</td>\n",
              "      <td>0.393293</td>\n",
              "      <td>0.393293</td>\n",
              "      <td>0.349398</td>\n",
              "    </tr>\n",
              "    <tr>\n",
              "      <th>8</th>\n",
              "      <td>Gradient Boost</td>\n",
              "      <td>0.920732</td>\n",
              "      <td>0.920732</td>\n",
              "      <td>0.325301</td>\n",
              "    </tr>\n",
              "    <tr>\n",
              "      <th>9</th>\n",
              "      <td>XGBoost</td>\n",
              "      <td>0.951220</td>\n",
              "      <td>0.951220</td>\n",
              "      <td>0.313253</td>\n",
              "    </tr>\n",
              "    <tr>\n",
              "      <th>10</th>\n",
              "      <td>ANN_Model</td>\n",
              "      <td>0.905488</td>\n",
              "      <td>0.409639</td>\n",
              "      <td>0.409639</td>\n",
              "    </tr>\n",
              "    <tr>\n",
              "      <th>11</th>\n",
              "      <td>LSTM_Model</td>\n",
              "      <td>0.326219</td>\n",
              "      <td>0.373494</td>\n",
              "      <td>0.325301</td>\n",
              "    </tr>\n",
              "  </tbody>\n",
              "</table>\n",
              "</div>"
            ],
            "text/plain": [
              "             Model  Train_accuracy  Test_accuracy  F1_score\n",
              "0           LogReg        0.890244       0.890244  0.373494\n",
              "1      Naive Bayes        1.000000       1.000000  0.421687\n",
              "2              KNN        0.591463       0.591463  0.361446\n",
              "3              SVM        0.990854       0.990854  0.361446\n",
              "4    Decision Tree        0.512195       0.512195  0.313253\n",
              "5     RandomForest        0.612805       0.612805  0.373494\n",
              "6          Bagging        1.000000       1.000000  0.373494\n",
              "7         AdaBoost        0.393293       0.393293  0.349398\n",
              "8   Gradient Boost        0.920732       0.920732  0.325301\n",
              "9          XGBoost        0.951220       0.951220  0.313253\n",
              "10       ANN_Model        0.905488       0.409639  0.409639\n",
              "11      LSTM_Model        0.326219       0.373494  0.325301"
            ]
          },
          "execution_count": 132,
          "metadata": {},
          "output_type": "execute_result"
        }
      ],
      "source": [
        "result_df"
      ]
    },
    {
      "cell_type": "markdown",
      "metadata": {
        "id": "1aX4Fw2berOS"
      },
      "source": [
        "- From all these models. Naive bayes and bagging model clearly overfits.\n",
        "- SVM model, Gradient Boost and XG Boost have pretty good train and test accuracy but low F1 Score.\n",
        "- ANN model have good train accuracy but very low test accuracy and F1 Score.\n",
        "- LSTM model have equal Train, Test and F1 Score but everything is very low."
      ]
    },
    {
      "cell_type": "code",
      "execution_count": null,
      "metadata": {
        "colab": {
          "base_uri": "https://localhost:8080/",
          "height": 484
        },
        "id": "dMYxQvzvTmSP",
        "outputId": "6c7905fd-b360-4f36-efc2-e5d9f73079fe"
      },
      "outputs": [
        {
          "data": {
            "image/png": "[encoded data removed]",
            "text/plain": [
              "<Figure size 1296x576 with 1 Axes>"
            ]
          },
          "metadata": {
            "needs_background": "light"
          },
          "output_type": "display_data"
        }
      ],
      "source": [
        "plt.figure(figsize = (18,8))\n",
        "sns.set_style(\"darkgrid\")\n",
        "plt.plot(result_df['Model'], result_df['Train_accuracy'], marker = '^', label = 'Train_Accuracy')\n",
        "plt.plot(result_df['Model'], result_df['Test_accuracy'], marker = 'o', label = 'Test_Acuracy')\n",
        "plt.plot(result_df['Model'], result_df['F1_score'], marker = '>', linestyle='--', label = 'F1_score')\n",
        "plt.legend(fontsize = 6)\n",
        "plt.show()"
      ]
    },
    {
      "cell_type": "markdown",
      "metadata": {
        "id": "JLh3g4LteVHF"
      },
      "source": [
        " - The Train, Test accuracy and F1 score varies drastically in machine learning models.\n",
        " - All three parametes are very close in LSTM model."
      ]
    },
    {
      "cell_type": "code",
      "execution_count": null,
      "metadata": {
        "id": "FD5FddB1UxNY"
      },
      "outputs": [],
      "source": [
        "result_df.set_index('Model', inplace = True)"
      ]
    },
    {
      "cell_type": "code",
      "execution_count": null,
      "metadata": {
        "colab": {
          "base_uri": "https://localhost:8080/",
          "height": 531
        },
        "id": "eHq8Egd8U-3N",
        "outputId": "fd12252a-0328-4587-b2db-65ded2c87388"
      },
      "outputs": [
        {
          "data": {
            "image/png": "[encoded data removed]",
            "text/plain": [
              "<Figure size 1584x576 with 1 Axes>"
            ]
          },
          "metadata": {},
          "output_type": "display_data"
        }
      ],
      "source": [
        "ax = result_df.plot(kind='bar', rot = 0, figsize = (22,8), fontsize = 15) #,colormap='Pastel1') \n",
        "ax.legend(bbox_to_anchor=(1, 1), prop={'size': 15})\n",
        "ax.set_ylabel(\"Metric score\", fontsize=18)\n",
        "ax.set_xlabel(\"Model\", fontsize=18)\n",
        "plt.show()"
      ]
    },
    {
      "cell_type": "markdown",
      "metadata": {
        "id": "3ujEXsQ1b-MV"
      },
      "source": [
        "### Summary\n",
        "- We Preprocessed the data, removed duplicates, removed instances of same description, checked outliers, Checked Missing data.\n",
        "- We built a seperate library for NLP Text Preprocessing and created a configuration file to change the parameters.\n",
        "- We Performed various EDA on the data and validated it through hypothesis testing \n",
        "- We have built 10 different Machine learning models, an Artificial Neural Network model and a LSTM model for analysis. \n",
        "- The Naive Bayes and Bagging model clearly overfits the data. \n",
        "- We have good train and test accuracy for logistic regression but low F1 score so we can neglect it. \n",
        "- The F1 scores are very less for all the models.\n",
        "- The model with Higher F1 Score is ANN model, but still the model overfits with higher train accuracy and low test accuracy. \n",
        "- LSTM model have similar test, train accuracy and F1 score but all of them were pretty low.\n",
        "- We need to build much more complex models to have better accuracy and predictions.\n"
      ]
    }
  ],
  "metadata": {
    "colab": {
      "collapsed_sections": [],
      "name": "Hybrid_CNN_LSTM.ipynb",
      "provenance": [],
      "toc_visible": true,
      "include_colab_link": true
    },
    "kernelspec": {
      "display_name": "Python 3",
      "language": "python",
      "name": "python3"
    },
    "language_info": {
      "codemirror_mode": {
        "name": "ipython",
        "version": 3
      },
      "file_extension": ".py",
      "mimetype": "text/x-python",
      "name": "python",
      "nbconvert_exporter": "python",
      "pygments_lexer": "ipython3",
      "version": "3.7.10"
    }
  },
  "nbformat": 4,
  "nbformat_minor": 0
}