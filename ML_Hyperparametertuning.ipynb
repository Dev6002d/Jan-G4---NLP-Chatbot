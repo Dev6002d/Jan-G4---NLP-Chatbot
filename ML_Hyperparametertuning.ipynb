{
  "nbformat": 4,
  "nbformat_minor": 0,
  "metadata": {
    "kernelspec": {
      "display_name": "Python 3",
      "language": "python",
      "name": "python3"
    },
    "language_info": {
      "codemirror_mode": {
        "name": "ipython",
        "version": 3
      },
      "file_extension": ".py",
      "mimetype": "text/x-python",
      "name": "python",
      "nbconvert_exporter": "python",
      "pygments_lexer": "ipython3",
      "version": "3.7.6"
    },
    "colab": {
      "name": "Capstone_NLP_Chatbot_Jan_A_G4_15_12.ipynb",
      "provenance": [],
      "collapsed_sections": []
    }
  },
  "cells": [
    {
      "cell_type": "markdown",
      "metadata": {
        "id": "9Yj3kJll4cxT"
      },
      "source": [
        "# Capstone Project - NLP Chatbot\n",
        "\n",
        "### DOMAIN: \n",
        "Industrial safety. NLP based Chatbot.\n",
        "\n",
        "### CONTEXT:\n",
        "The database comes from one of the biggest industry in Brazil and in the world. It is an urgent need for industries/companies around the globe to understand why employees still suffer some injuries/accidents in plants. Sometimes they also die in such environment.\n",
        "\n",
        "### DATA DESCRIPTION:\n",
        "This The database is basically records of accidents from 12 different plants in 03 different countries which every line in the data is an occurrence of an accident.\n",
        "\n",
        "### Columns description:\n",
        "* Data: timestamp or time/date information\n",
        "* Countries: which country the accident occurred (anonymised)\n",
        "* Local: the city where the manufacturing plant is located (anonymised)\n",
        "* Industry sector: which sector the plant belongs to\n",
        "* Accident level: from I to VI, it registers how severe was the accident (I means not severe but VI means very severe)\n",
        "* Potential Accident Level: Depending on the Accident Level, the database also registers how severe the accident could have   been (due to other factors involved in the accident)\n",
        "* Gender: if the person is male of female\n",
        "* Employee or Third Party: if the injured person is an employee or a third party\n",
        "* Critical Risk: some description of the risk involved in the accident\n",
        "* Description: Detailed description of how the accident happened.\n",
        "\n",
        "Link to download the dataset: https://drive.google.com/file/d/1_GmrRP1S2OIa02KlfOBNkYa8uxazGbfE/view?usp=sharing,\n",
        "Original dataset link: https://www.kaggle.com/ihmstefanini/industrial-safety-and-health-analytics-database\n",
        "\n",
        "### PROJECT OBJECTIVE:\n",
        "Design a ML/DL based chatbot utility which can help the professionals to highlight the safety risk as per the incident description."
      ]
    },
    {
      "cell_type": "code",
      "metadata": {
        "id": "UXY9aXj-FwOg",
        "colab": {
          "base_uri": "https://localhost:8080/"
        },
        "outputId": "e33aee66-e562-4934-bae3-e900d929b9e8"
      },
      "source": [
        "from google.colab import drive\n",
        "drive.mount('/content/drive')"
      ],
      "execution_count": 55,
      "outputs": [
        {
          "output_type": "stream",
          "name": "stdout",
          "text": [
            "Drive already mounted at /content/drive; to attempt to forcibly remount, call drive.mount(\"/content/drive\", force_remount=True).\n"
          ]
        }
      ]
    },
    {
      "cell_type": "markdown",
      "metadata": {
        "id": "yJ3cY1PPaSlS"
      },
      "source": [
        "Replace the folder path with your drive folder path and clone the githb repo"
      ]
    },
    {
      "cell_type": "code",
      "metadata": {
        "id": "wwhw9SyePdXo",
        "colab": {
          "base_uri": "https://localhost:8080/",
          "height": 913
        },
        "outputId": "73d18475-46eb-47e0-f4fe-7488d37562eb"
      },
      "source": [
        "%cd /content/drive/MyDrive/AIML/Capstone"
      ],
      "execution_count": 56,
      "outputs": [
        {
          "output_type": "stream",
          "name": "stderr",
          "text": [
            "ERROR:root:Internal Python error in the inspect module.\n",
            "Below is the traceback from this internal error.\n",
            "\n"
          ]
        },
        {
          "output_type": "stream",
          "name": "stdout",
          "text": [
            "Traceback (most recent call last):\n",
            "  File \"/usr/local/lib/python3.7/dist-packages/IPython/core/interactiveshell.py\", line 2882, in run_code\n",
            "    exec(code_obj, self.user_global_ns, self.user_ns)\n",
            "  File \"<ipython-input-56-4950b27ae2f1>\", line 1, in <module>\n",
            "    get_ipython().magic('cd /content/drive/MyDrive/AIML/Capstone')\n",
            "  File \"/usr/local/lib/python3.7/dist-packages/IPython/core/interactiveshell.py\", line 2160, in magic\n",
            "    return self.run_line_magic(magic_name, magic_arg_s)\n",
            "  File \"/usr/local/lib/python3.7/dist-packages/IPython/core/interactiveshell.py\", line 2081, in run_line_magic\n",
            "    result = fn(*args,**kwargs)\n",
            "  File \"<decorator-gen-84>\", line 2, in cd\n",
            "  File \"/usr/local/lib/python3.7/dist-packages/IPython/core/magic.py\", line 188, in <lambda>\n",
            "    call = lambda f, *a, **k: f(*a, **k)\n",
            "  File \"/usr/local/lib/python3.7/dist-packages/IPython/core/magics/osm.py\", line 288, in cd\n",
            "    oldcwd = py3compat.getcwd()\n",
            "FileNotFoundError: [Errno 2] No such file or directory\n",
            "\n",
            "During handling of the above exception, another exception occurred:\n",
            "\n",
            "Traceback (most recent call last):\n",
            "  File \"/usr/local/lib/python3.7/dist-packages/IPython/core/interactiveshell.py\", line 1823, in showtraceback\n",
            "    stb = value._render_traceback_()\n",
            "AttributeError: 'FileNotFoundError' object has no attribute '_render_traceback_'\n",
            "\n",
            "During handling of the above exception, another exception occurred:\n",
            "\n",
            "Traceback (most recent call last):\n",
            "  File \"/usr/local/lib/python3.7/dist-packages/IPython/core/ultratb.py\", line 1132, in get_records\n",
            "    return _fixed_getinnerframes(etb, number_of_lines_of_context, tb_offset)\n",
            "  File \"/usr/local/lib/python3.7/dist-packages/IPython/core/ultratb.py\", line 313, in wrapped\n",
            "    return f(*args, **kwargs)\n",
            "  File \"/usr/local/lib/python3.7/dist-packages/IPython/core/ultratb.py\", line 358, in _fixed_getinnerframes\n",
            "    records = fix_frame_records_filenames(inspect.getinnerframes(etb, context))\n",
            "  File \"/usr/lib/python3.7/inspect.py\", line 1502, in getinnerframes\n",
            "    frameinfo = (tb.tb_frame,) + getframeinfo(tb, context)\n",
            "  File \"/usr/lib/python3.7/inspect.py\", line 1460, in getframeinfo\n",
            "    filename = getsourcefile(frame) or getfile(frame)\n",
            "  File \"/usr/lib/python3.7/inspect.py\", line 696, in getsourcefile\n",
            "    if getattr(getmodule(object, filename), '__loader__', None) is not None:\n",
            "  File \"/usr/lib/python3.7/inspect.py\", line 725, in getmodule\n",
            "    file = getabsfile(object, _filename)\n",
            "  File \"/usr/lib/python3.7/inspect.py\", line 709, in getabsfile\n",
            "    return os.path.normcase(os.path.abspath(_filename))\n",
            "  File \"/usr/lib/python3.7/posixpath.py\", line 383, in abspath\n",
            "    cwd = os.getcwd()\n",
            "FileNotFoundError: [Errno 2] No such file or directory\n"
          ]
        },
        {
          "output_type": "error",
          "ename": "FileNotFoundError",
          "evalue": "ignored",
          "traceback": [
            "\u001b[0;31m---------------------------------------------------------------------------\u001b[0m"
          ]
        }
      ]
    },
    {
      "cell_type": "markdown",
      "metadata": {
        "id": "zb2bSd4Qa6sd"
      },
      "source": [
        "Run the below code for clone the repo in our Googele drive for first time"
      ]
    },
    {
      "cell_type": "code",
      "metadata": {
        "colab": {
          "base_uri": "https://localhost:8080/"
        },
        "id": "02mIR5BkLrQM",
        "outputId": "e55d7607-f51f-4fba-a66a-282900807a49"
      },
      "source": [
        "! git clone https://github.com/shyamsparrow/Jan-G4---NLP-Chatbot.git"
      ],
      "execution_count": 5,
      "outputs": [
        {
          "output_type": "stream",
          "name": "stdout",
          "text": [
            "Cloning into 'Jan-G4---NLP-Chatbot'...\n",
            "remote: Enumerating objects: 534, done.\u001b[K\n",
            "remote: Counting objects: 100% (82/82), done.\u001b[K\n",
            "remote: Compressing objects: 100% (82/82), done.\u001b[K\n",
            "remote: Total 534 (delta 35), reused 0 (delta 0), pack-reused 452\u001b[K\n",
            "Receiving objects: 100% (534/534), 147.09 MiB | 16.34 MiB/s, done.\n",
            "Resolving deltas: 100% (268/268), done.\n",
            "Checking out files: 100% (22/22), done.\n"
          ]
        }
      ]
    },
    {
      "cell_type": "markdown",
      "metadata": {
        "id": "DE4JYNESXKDx"
      },
      "source": [
        "Change the Current folder into Github repo main folder, all the functions we are calling has to be in this repo."
      ]
    },
    {
      "cell_type": "code",
      "metadata": {
        "id": "OigsCtatbCvx"
      },
      "source": [
        "%cd /content/drive/MyDrive/AIML/Capstone/Jan-G4---NLP-Chatbot"
      ],
      "execution_count": null,
      "outputs": []
    },
    {
      "cell_type": "code",
      "metadata": {
        "id": "9DP36cGdeCGy"
      },
      "source": [
        "!git config --global user.email \"pradeebha.ab@gmail.com\"\n",
        "!git config --global user.name \"Pradeebha\""
      ],
      "execution_count": 5,
      "outputs": []
    },
    {
      "cell_type": "code",
      "metadata": {
        "id": "dduXV2HWejMI",
        "colab": {
          "base_uri": "https://localhost:8080/"
        },
        "outputId": "34a795a9-f2a6-44d8-a4b9-39f01dec6dc9"
      },
      "source": [
        "!git status"
      ],
      "execution_count": 6,
      "outputs": [
        {
          "output_type": "stream",
          "name": "stdout",
          "text": [
            "fatal: not a git repository (or any parent up to mount point /content)\n",
            "Stopping at filesystem boundary (GIT_DISCOVERY_ACROSS_FILESYSTEM not set).\n"
          ]
        }
      ]
    },
    {
      "cell_type": "code",
      "metadata": {
        "id": "Mdx1iSzven86",
        "colab": {
          "base_uri": "https://localhost:8080/"
        },
        "outputId": "47bc759a-80d9-4e6a-a114-34b1b4f9a86d"
      },
      "source": [
        "!git commit -m \"My message\""
      ],
      "execution_count": 7,
      "outputs": [
        {
          "output_type": "stream",
          "name": "stdout",
          "text": [
            "fatal: not a git repository (or any parent up to mount point /content)\n",
            "Stopping at filesystem boundary (GIT_DISCOVERY_ACROSS_FILESYSTEM not set).\n"
          ]
        }
      ]
    },
    {
      "cell_type": "markdown",
      "metadata": {
        "id": "fuZqYC2yXV1e"
      },
      "source": [
        "Run this code to update the changes in repo to our drive"
      ]
    },
    {
      "cell_type": "code",
      "metadata": {
        "colab": {
          "base_uri": "https://localhost:8080/"
        },
        "id": "WITqKl1Nb_G4",
        "outputId": "116404c1-da2f-44cc-b895-09f638b4bd04"
      },
      "source": [
        "!git pull"
      ],
      "execution_count": 8,
      "outputs": [
        {
          "output_type": "stream",
          "name": "stdout",
          "text": [
            "Already up to date.\n"
          ]
        }
      ]
    },
    {
      "cell_type": "code",
      "metadata": {
        "id": "d4CkHgK24cxV"
      },
      "source": [
        "import warnings\n",
        "warnings.filterwarnings('ignore')\n",
        "\n",
        "\n",
        "import string\n",
        "import numpy as np\n",
        "import pandas as pd\n",
        "import seaborn as sns\n",
        "import matplotlib.pyplot as plt\n",
        "import re\n",
        "\n",
        "from tqdm import tqdm\n",
        "\n",
        "from sklearn.model_selection import train_test_split\n",
        "from sklearn import metrics\n",
        "from sklearn.metrics import classification_report\n",
        "from sklearn.metrics import accuracy_score, f1_score, confusion_matrix, recall_score, precision_score, roc_auc_score\n",
        "from sklearn.preprocessing import LabelEncoder\n",
        "import pickle\n",
        "\n"
      ],
      "execution_count": 8,
      "outputs": []
    },
    {
      "cell_type": "code",
      "metadata": {
        "id": "h5sQ-rKcCO5i"
      },
      "source": [
        "industry_df = pd.read_csv(\"/content/drive/MyDrive/AIML/Capstone/Jan-G4---NLP-Chatbot/industry_df_preprocessed.csv\")"
      ],
      "execution_count": 9,
      "outputs": []
    },
    {
      "cell_type": "markdown",
      "metadata": {
        "id": "1TGiZyni0VDM"
      },
      "source": [
        "Model Building: Train-Test Split"
      ]
    },
    {
      "cell_type": "code",
      "metadata": {
        "id": "JWJygL6Cz0ea"
      },
      "source": [
        "X_train, X_test, y_train, y_test = train_test_split(industry_df['Description_preprocessed'], industry_df['Potential_Accident_Level'].values, test_size=0.2, random_state=42)"
      ],
      "execution_count": 10,
      "outputs": []
    },
    {
      "cell_type": "code",
      "metadata": {
        "colab": {
          "base_uri": "https://localhost:8080/"
        },
        "id": "8XURiVVJ0yxz",
        "outputId": "028a51cf-4653-4ccb-a72b-6fa1f612d07b"
      },
      "source": [
        "print('Training utterances: {}'.format(X_train.shape[0]))\n",
        "print('Validation utterances: {}'.format(X_test.shape[0]))"
      ],
      "execution_count": 11,
      "outputs": [
        {
          "output_type": "stream",
          "name": "stdout",
          "text": [
            "Training utterances: 328\n",
            "Validation utterances: 83\n"
          ]
        }
      ]
    },
    {
      "cell_type": "code",
      "metadata": {
        "id": "oED_mhDp0zEP"
      },
      "source": [
        "# Defining a function which quickly test the fit of 6 different models on the dataset\n",
        "def ml_models(X_train , y_train, X_test, y_test):\n",
        "\n",
        "    # creating a dictionary with different ML models\n",
        "    models = {\n",
        "        'LogReg': LogisticRegression(), \n",
        "        'Naive Bayes': GaussianNB(),        \n",
        "        'KNN': KNeighborsClassifier(),\n",
        "        'SVM': SVC(), \n",
        "        'Decision Tree': DecisionTreeClassifier(criterion='entropy',max_depth=6,random_state=100,min_samples_leaf=5),          \n",
        "        'RandomForest': RandomForestClassifier(n_estimators=100, max_depth=7),\n",
        "        'Bagging': BaggingClassifier(n_estimators=50, max_samples=.7),\n",
        "        'AdaBoost': AdaBoostClassifier(n_estimators= 50),\n",
        "        'Gradient Boost': GradientBoostingClassifier(n_estimators = 50, learning_rate = 0.05),\n",
        "        'XGBoost': XGBClassifier()\n",
        "    }\n",
        "    \n",
        "    names = []\n",
        "    scores = []\n",
        "\n",
        "    for name, model in models.items(): # Looping through each and every model\n",
        "        clf = model.fit(X_train, y_train) # Fit the models one by one\n",
        "        result = clf.score(X_test,y_test) \n",
        "\n",
        "        names.append(name)\n",
        "        scores.append(result) # Appending the test scores to the list\n",
        "\n",
        "        result_df =  pd.DataFrame({'model': names, 'accuracy': scores}) # Creating the dataframe using the model scores\n",
        "      \n",
        "    return result_df # Returns the dataframe"
      ],
      "execution_count": 12,
      "outputs": []
    },
    {
      "cell_type": "markdown",
      "metadata": {
        "id": "J0zbvYav1LHl"
      },
      "source": [
        "TF-IDF"
      ]
    },
    {
      "cell_type": "markdown",
      "metadata": {
        "id": "sHFRB36R1NFn"
      },
      "source": [
        "TF-IDF is a statistical measure that evaluates how relevant a word is to a document in a collection of documents. This is done by multiplying two metrics: how many times a word appears in a document, and the inverse document frequency of the word across a set of documents."
      ]
    },
    {
      "cell_type": "code",
      "metadata": {
        "id": "FTJ_LjJV1cQh"
      },
      "source": [
        "from sklearn.feature_extraction.text import TfidfVectorizer"
      ],
      "execution_count": 13,
      "outputs": []
    },
    {
      "cell_type": "code",
      "metadata": {
        "id": "CzLPJnPC0zHJ"
      },
      "source": [
        "# Initializing TfidfVectorizer object\n",
        "tfIdfVectorizer = TfidfVectorizer()\n",
        "X_train_tf = tfIdfVectorizer.fit_transform(X_train)\n",
        "X_test_tf = tfIdfVectorizer.transform(X_test)"
      ],
      "execution_count": 14,
      "outputs": []
    },
    {
      "cell_type": "code",
      "source": [
        "X_train_tf[1]"
      ],
      "metadata": {
        "colab": {
          "base_uri": "https://localhost:8080/"
        },
        "id": "zuDGox5OuiuW",
        "outputId": "0504d32e-7ef0-45b8-dac6-c7910ac3231b"
      },
      "execution_count": 15,
      "outputs": [
        {
          "output_type": "execute_result",
          "data": {
            "text/plain": [
              "<1x2671 sparse matrix of type '<class 'numpy.float64'>'\n",
              "\twith 54 stored elements in Compressed Sparse Row format>"
            ]
          },
          "metadata": {},
          "execution_count": 15
        }
      ]
    },
    {
      "cell_type": "markdown",
      "metadata": {
        "id": "RLjLm_qj1jAb"
      },
      "source": [
        "ML Classifiers"
      ]
    },
    {
      "cell_type": "code",
      "metadata": {
        "id": "y_EmE7W60zKG"
      },
      "source": [
        "from sklearn.linear_model import LogisticRegression\n",
        "from sklearn.naive_bayes import GaussianNB\n",
        "from sklearn.neighbors import KNeighborsClassifier\n",
        "from sklearn.svm import SVC\n",
        "from sklearn.tree import DecisionTreeClassifier\n",
        "from sklearn.ensemble import RandomForestClassifier, BaggingClassifier, AdaBoostClassifier, GradientBoostingClassifier\n",
        "from xgboost import XGBClassifier"
      ],
      "execution_count": 16,
      "outputs": []
    },
    {
      "cell_type": "code",
      "metadata": {
        "colab": {
          "base_uri": "https://localhost:8080/",
          "height": 363
        },
        "id": "T49cy1Br0zM0",
        "outputId": "de0f0dd8-8d5c-414c-a8f0-cf26b847700f"
      },
      "source": [
        "ml_models(X_train_tf.toarray(), y_train, X_test_tf.toarray(), y_test)"
      ],
      "execution_count": 17,
      "outputs": [
        {
          "output_type": "execute_result",
          "data": {
            "text/html": [
              "\n",
              "  <div id=\"df-cc5a6b8b-d35b-49e7-9d4d-3a363c9abf64\">\n",
              "    <div class=\"colab-df-container\">\n",
              "      <div>\n",
              "<style scoped>\n",
              "    .dataframe tbody tr th:only-of-type {\n",
              "        vertical-align: middle;\n",
              "    }\n",
              "\n",
              "    .dataframe tbody tr th {\n",
              "        vertical-align: top;\n",
              "    }\n",
              "\n",
              "    .dataframe thead th {\n",
              "        text-align: right;\n",
              "    }\n",
              "</style>\n",
              "<table border=\"1\" class=\"dataframe\">\n",
              "  <thead>\n",
              "    <tr style=\"text-align: right;\">\n",
              "      <th></th>\n",
              "      <th>model</th>\n",
              "      <th>accuracy</th>\n",
              "    </tr>\n",
              "  </thead>\n",
              "  <tbody>\n",
              "    <tr>\n",
              "      <th>0</th>\n",
              "      <td>LogReg</td>\n",
              "      <td>0.373494</td>\n",
              "    </tr>\n",
              "    <tr>\n",
              "      <th>1</th>\n",
              "      <td>Naive Bayes</td>\n",
              "      <td>0.421687</td>\n",
              "    </tr>\n",
              "    <tr>\n",
              "      <th>2</th>\n",
              "      <td>KNN</td>\n",
              "      <td>0.361446</td>\n",
              "    </tr>\n",
              "    <tr>\n",
              "      <th>3</th>\n",
              "      <td>SVM</td>\n",
              "      <td>0.361446</td>\n",
              "    </tr>\n",
              "    <tr>\n",
              "      <th>4</th>\n",
              "      <td>Decision Tree</td>\n",
              "      <td>0.313253</td>\n",
              "    </tr>\n",
              "    <tr>\n",
              "      <th>5</th>\n",
              "      <td>RandomForest</td>\n",
              "      <td>0.373494</td>\n",
              "    </tr>\n",
              "    <tr>\n",
              "      <th>6</th>\n",
              "      <td>Bagging</td>\n",
              "      <td>0.337349</td>\n",
              "    </tr>\n",
              "    <tr>\n",
              "      <th>7</th>\n",
              "      <td>AdaBoost</td>\n",
              "      <td>0.349398</td>\n",
              "    </tr>\n",
              "    <tr>\n",
              "      <th>8</th>\n",
              "      <td>Gradient Boost</td>\n",
              "      <td>0.337349</td>\n",
              "    </tr>\n",
              "    <tr>\n",
              "      <th>9</th>\n",
              "      <td>XGBoost</td>\n",
              "      <td>0.313253</td>\n",
              "    </tr>\n",
              "  </tbody>\n",
              "</table>\n",
              "</div>\n",
              "      <button class=\"colab-df-convert\" onclick=\"convertToInteractive('df-cc5a6b8b-d35b-49e7-9d4d-3a363c9abf64')\"\n",
              "              title=\"Convert this dataframe to an interactive table.\"\n",
              "              style=\"display:none;\">\n",
              "        \n",
              "  <svg xmlns=\"http://www.w3.org/2000/svg\" height=\"24px\"viewBox=\"0 0 24 24\"\n",
              "       width=\"24px\">\n",
              "    <path d=\"M0 0h24v24H0V0z\" fill=\"none\"/>\n",
              "    <path d=\"M18.56 5.44l.94 2.06.94-2.06 2.06-.94-2.06-.94-.94-2.06-.94 2.06-2.06.94zm-11 1L8.5 8.5l.94-2.06 2.06-.94-2.06-.94L8.5 2.5l-.94 2.06-2.06.94zm10 10l.94 2.06.94-2.06 2.06-.94-2.06-.94-.94-2.06-.94 2.06-2.06.94z\"/><path d=\"M17.41 7.96l-1.37-1.37c-.4-.4-.92-.59-1.43-.59-.52 0-1.04.2-1.43.59L10.3 9.45l-7.72 7.72c-.78.78-.78 2.05 0 2.83L4 21.41c.39.39.9.59 1.41.59.51 0 1.02-.2 1.41-.59l7.78-7.78 2.81-2.81c.8-.78.8-2.07 0-2.86zM5.41 20L4 18.59l7.72-7.72 1.47 1.35L5.41 20z\"/>\n",
              "  </svg>\n",
              "      </button>\n",
              "      \n",
              "  <style>\n",
              "    .colab-df-container {\n",
              "      display:flex;\n",
              "      flex-wrap:wrap;\n",
              "      gap: 12px;\n",
              "    }\n",
              "\n",
              "    .colab-df-convert {\n",
              "      background-color: #E8F0FE;\n",
              "      border: none;\n",
              "      border-radius: 50%;\n",
              "      cursor: pointer;\n",
              "      display: none;\n",
              "      fill: #1967D2;\n",
              "      height: 32px;\n",
              "      padding: 0 0 0 0;\n",
              "      width: 32px;\n",
              "    }\n",
              "\n",
              "    .colab-df-convert:hover {\n",
              "      background-color: #E2EBFA;\n",
              "      box-shadow: 0px 1px 2px rgba(60, 64, 67, 0.3), 0px 1px 3px 1px rgba(60, 64, 67, 0.15);\n",
              "      fill: #174EA6;\n",
              "    }\n",
              "\n",
              "    [theme=dark] .colab-df-convert {\n",
              "      background-color: #3B4455;\n",
              "      fill: #D2E3FC;\n",
              "    }\n",
              "\n",
              "    [theme=dark] .colab-df-convert:hover {\n",
              "      background-color: #434B5C;\n",
              "      box-shadow: 0px 1px 3px 1px rgba(0, 0, 0, 0.15);\n",
              "      filter: drop-shadow(0px 1px 2px rgba(0, 0, 0, 0.3));\n",
              "      fill: #FFFFFF;\n",
              "    }\n",
              "  </style>\n",
              "\n",
              "      <script>\n",
              "        const buttonEl =\n",
              "          document.querySelector('#df-cc5a6b8b-d35b-49e7-9d4d-3a363c9abf64 button.colab-df-convert');\n",
              "        buttonEl.style.display =\n",
              "          google.colab.kernel.accessAllowed ? 'block' : 'none';\n",
              "\n",
              "        async function convertToInteractive(key) {\n",
              "          const element = document.querySelector('#df-cc5a6b8b-d35b-49e7-9d4d-3a363c9abf64');\n",
              "          const dataTable =\n",
              "            await google.colab.kernel.invokeFunction('convertToInteractive',\n",
              "                                                     [key], {});\n",
              "          if (!dataTable) return;\n",
              "\n",
              "          const docLinkHtml = 'Like what you see? Visit the ' +\n",
              "            '<a target=\"_blank\" href=https://colab.research.google.com/notebooks/data_table.ipynb>data table notebook</a>'\n",
              "            + ' to learn more about interactive tables.';\n",
              "          element.innerHTML = '';\n",
              "          dataTable['output_type'] = 'display_data';\n",
              "          await google.colab.output.renderOutput(dataTable, element);\n",
              "          const docLink = document.createElement('div');\n",
              "          docLink.innerHTML = docLinkHtml;\n",
              "          element.appendChild(docLink);\n",
              "        }\n",
              "      </script>\n",
              "    </div>\n",
              "  </div>\n",
              "  "
            ],
            "text/plain": [
              "            model  accuracy\n",
              "0          LogReg  0.373494\n",
              "1     Naive Bayes  0.421687\n",
              "2             KNN  0.361446\n",
              "3             SVM  0.361446\n",
              "4   Decision Tree  0.313253\n",
              "5    RandomForest  0.373494\n",
              "6         Bagging  0.337349\n",
              "7        AdaBoost  0.349398\n",
              "8  Gradient Boost  0.337349\n",
              "9         XGBoost  0.313253"
            ]
          },
          "metadata": {},
          "execution_count": 17
        }
      ]
    },
    {
      "cell_type": "markdown",
      "metadata": {
        "id": "YUUs_s-j2iUg"
      },
      "source": [
        "For TF-IDF vectorization, the accuracy is quite less. Though Logistic Regression performs better than the rest, The accuracy is not upto the mark. Next better accuracy comes with Naive Bayes clasifier"
      ]
    },
    {
      "cell_type": "markdown",
      "metadata": {
        "id": "F66cB89v3Fkv"
      },
      "source": [
        "Using Bag of words"
      ]
    },
    {
      "cell_type": "markdown",
      "metadata": {
        "id": "QEsqL8I13IM7"
      },
      "source": [
        "A bag-of-words is a representation of text that describes the occurrence of words within a document."
      ]
    },
    {
      "cell_type": "code",
      "metadata": {
        "id": "jFANiquS0zPf"
      },
      "source": [
        "from sklearn.feature_extraction.text import CountVectorizer"
      ],
      "execution_count": 18,
      "outputs": []
    },
    {
      "cell_type": "code",
      "metadata": {
        "id": "bFhmXOgO0zR7"
      },
      "source": [
        "vectorizer = CountVectorizer(binary=True, ngram_range=(1, 2))\n",
        "X_train_bow = vectorizer.fit_transform(X_train)\n",
        "X_test_bow = vectorizer.transform(X_test)"
      ],
      "execution_count": 19,
      "outputs": []
    },
    {
      "cell_type": "markdown",
      "metadata": {
        "id": "9jk2uPT93bDy"
      },
      "source": [
        "ML Classifiers"
      ]
    },
    {
      "cell_type": "code",
      "metadata": {
        "colab": {
          "base_uri": "https://localhost:8080/",
          "height": 363
        },
        "id": "Bb93wOOI3WSr",
        "outputId": "39826804-6f56-4ddd-a70d-7f5cfaac1d05"
      },
      "source": [
        "ml_models(X_train_bow.toarray(), y_train, X_test_bow.toarray(), y_test)"
      ],
      "execution_count": 20,
      "outputs": [
        {
          "output_type": "execute_result",
          "data": {
            "text/html": [
              "\n",
              "  <div id=\"df-d64f88b7-14a7-46df-8705-471e97824f87\">\n",
              "    <div class=\"colab-df-container\">\n",
              "      <div>\n",
              "<style scoped>\n",
              "    .dataframe tbody tr th:only-of-type {\n",
              "        vertical-align: middle;\n",
              "    }\n",
              "\n",
              "    .dataframe tbody tr th {\n",
              "        vertical-align: top;\n",
              "    }\n",
              "\n",
              "    .dataframe thead th {\n",
              "        text-align: right;\n",
              "    }\n",
              "</style>\n",
              "<table border=\"1\" class=\"dataframe\">\n",
              "  <thead>\n",
              "    <tr style=\"text-align: right;\">\n",
              "      <th></th>\n",
              "      <th>model</th>\n",
              "      <th>accuracy</th>\n",
              "    </tr>\n",
              "  </thead>\n",
              "  <tbody>\n",
              "    <tr>\n",
              "      <th>0</th>\n",
              "      <td>LogReg</td>\n",
              "      <td>0.445783</td>\n",
              "    </tr>\n",
              "    <tr>\n",
              "      <th>1</th>\n",
              "      <td>Naive Bayes</td>\n",
              "      <td>0.409639</td>\n",
              "    </tr>\n",
              "    <tr>\n",
              "      <th>2</th>\n",
              "      <td>KNN</td>\n",
              "      <td>0.277108</td>\n",
              "    </tr>\n",
              "    <tr>\n",
              "      <th>3</th>\n",
              "      <td>SVM</td>\n",
              "      <td>0.385542</td>\n",
              "    </tr>\n",
              "    <tr>\n",
              "      <th>4</th>\n",
              "      <td>Decision Tree</td>\n",
              "      <td>0.349398</td>\n",
              "    </tr>\n",
              "    <tr>\n",
              "      <th>5</th>\n",
              "      <td>RandomForest</td>\n",
              "      <td>0.349398</td>\n",
              "    </tr>\n",
              "    <tr>\n",
              "      <th>6</th>\n",
              "      <td>Bagging</td>\n",
              "      <td>0.397590</td>\n",
              "    </tr>\n",
              "    <tr>\n",
              "      <th>7</th>\n",
              "      <td>AdaBoost</td>\n",
              "      <td>0.277108</td>\n",
              "    </tr>\n",
              "    <tr>\n",
              "      <th>8</th>\n",
              "      <td>Gradient Boost</td>\n",
              "      <td>0.349398</td>\n",
              "    </tr>\n",
              "    <tr>\n",
              "      <th>9</th>\n",
              "      <td>XGBoost</td>\n",
              "      <td>0.385542</td>\n",
              "    </tr>\n",
              "  </tbody>\n",
              "</table>\n",
              "</div>\n",
              "      <button class=\"colab-df-convert\" onclick=\"convertToInteractive('df-d64f88b7-14a7-46df-8705-471e97824f87')\"\n",
              "              title=\"Convert this dataframe to an interactive table.\"\n",
              "              style=\"display:none;\">\n",
              "        \n",
              "  <svg xmlns=\"http://www.w3.org/2000/svg\" height=\"24px\"viewBox=\"0 0 24 24\"\n",
              "       width=\"24px\">\n",
              "    <path d=\"M0 0h24v24H0V0z\" fill=\"none\"/>\n",
              "    <path d=\"M18.56 5.44l.94 2.06.94-2.06 2.06-.94-2.06-.94-.94-2.06-.94 2.06-2.06.94zm-11 1L8.5 8.5l.94-2.06 2.06-.94-2.06-.94L8.5 2.5l-.94 2.06-2.06.94zm10 10l.94 2.06.94-2.06 2.06-.94-2.06-.94-.94-2.06-.94 2.06-2.06.94z\"/><path d=\"M17.41 7.96l-1.37-1.37c-.4-.4-.92-.59-1.43-.59-.52 0-1.04.2-1.43.59L10.3 9.45l-7.72 7.72c-.78.78-.78 2.05 0 2.83L4 21.41c.39.39.9.59 1.41.59.51 0 1.02-.2 1.41-.59l7.78-7.78 2.81-2.81c.8-.78.8-2.07 0-2.86zM5.41 20L4 18.59l7.72-7.72 1.47 1.35L5.41 20z\"/>\n",
              "  </svg>\n",
              "      </button>\n",
              "      \n",
              "  <style>\n",
              "    .colab-df-container {\n",
              "      display:flex;\n",
              "      flex-wrap:wrap;\n",
              "      gap: 12px;\n",
              "    }\n",
              "\n",
              "    .colab-df-convert {\n",
              "      background-color: #E8F0FE;\n",
              "      border: none;\n",
              "      border-radius: 50%;\n",
              "      cursor: pointer;\n",
              "      display: none;\n",
              "      fill: #1967D2;\n",
              "      height: 32px;\n",
              "      padding: 0 0 0 0;\n",
              "      width: 32px;\n",
              "    }\n",
              "\n",
              "    .colab-df-convert:hover {\n",
              "      background-color: #E2EBFA;\n",
              "      box-shadow: 0px 1px 2px rgba(60, 64, 67, 0.3), 0px 1px 3px 1px rgba(60, 64, 67, 0.15);\n",
              "      fill: #174EA6;\n",
              "    }\n",
              "\n",
              "    [theme=dark] .colab-df-convert {\n",
              "      background-color: #3B4455;\n",
              "      fill: #D2E3FC;\n",
              "    }\n",
              "\n",
              "    [theme=dark] .colab-df-convert:hover {\n",
              "      background-color: #434B5C;\n",
              "      box-shadow: 0px 1px 3px 1px rgba(0, 0, 0, 0.15);\n",
              "      filter: drop-shadow(0px 1px 2px rgba(0, 0, 0, 0.3));\n",
              "      fill: #FFFFFF;\n",
              "    }\n",
              "  </style>\n",
              "\n",
              "      <script>\n",
              "        const buttonEl =\n",
              "          document.querySelector('#df-d64f88b7-14a7-46df-8705-471e97824f87 button.colab-df-convert');\n",
              "        buttonEl.style.display =\n",
              "          google.colab.kernel.accessAllowed ? 'block' : 'none';\n",
              "\n",
              "        async function convertToInteractive(key) {\n",
              "          const element = document.querySelector('#df-d64f88b7-14a7-46df-8705-471e97824f87');\n",
              "          const dataTable =\n",
              "            await google.colab.kernel.invokeFunction('convertToInteractive',\n",
              "                                                     [key], {});\n",
              "          if (!dataTable) return;\n",
              "\n",
              "          const docLinkHtml = 'Like what you see? Visit the ' +\n",
              "            '<a target=\"_blank\" href=https://colab.research.google.com/notebooks/data_table.ipynb>data table notebook</a>'\n",
              "            + ' to learn more about interactive tables.';\n",
              "          element.innerHTML = '';\n",
              "          dataTable['output_type'] = 'display_data';\n",
              "          await google.colab.output.renderOutput(dataTable, element);\n",
              "          const docLink = document.createElement('div');\n",
              "          docLink.innerHTML = docLinkHtml;\n",
              "          element.appendChild(docLink);\n",
              "        }\n",
              "      </script>\n",
              "    </div>\n",
              "  </div>\n",
              "  "
            ],
            "text/plain": [
              "            model  accuracy\n",
              "0          LogReg  0.445783\n",
              "1     Naive Bayes  0.409639\n",
              "2             KNN  0.277108\n",
              "3             SVM  0.385542\n",
              "4   Decision Tree  0.349398\n",
              "5    RandomForest  0.349398\n",
              "6         Bagging  0.397590\n",
              "7        AdaBoost  0.277108\n",
              "8  Gradient Boost  0.349398\n",
              "9         XGBoost  0.385542"
            ]
          },
          "metadata": {},
          "execution_count": 20
        }
      ]
    },
    {
      "cell_type": "markdown",
      "metadata": {
        "id": "IS3ucWe14DNw"
      },
      "source": [
        "The accuracy using BOW is more or less similar to those we got using TF-IDF"
      ]
    },
    {
      "cell_type": "markdown",
      "source": [
        "Hyperparameter Tuning:"
      ],
      "metadata": {
        "id": "l8NzH2RkmPmn"
      }
    },
    {
      "cell_type": "code",
      "source": [
        "from sklearn.model_selection import RepeatedStratifiedKFold"
      ],
      "metadata": {
        "id": "_v7EYzqCp2ry"
      },
      "execution_count": 21,
      "outputs": []
    },
    {
      "cell_type": "code",
      "source": [
        "from sklearn.model_selection import GridSearchCV, RandomizedSearchCV"
      ],
      "metadata": {
        "id": "nDRTeAJ5p-zG"
      },
      "execution_count": 22,
      "outputs": []
    },
    {
      "cell_type": "code",
      "source": [
        "def RF_grid_search(X,y,nfolds):\n",
        "    \n",
        "    #create a dictionary of all values we want to test\n",
        "    param = {'criterion':['gini','entropy'],'max_depth': np.arange(11, 19), # if the outcome is 18, re use (16, 22)\n",
        "                  'n_estimators': [50, 100]} # min_samples_split=2,\n",
        "    #randomForest model without gridSrearch\n",
        "    rf = RandomForestClassifier() # without specifying any parameter\n",
        "    #use gridsearch to val all values\n",
        "    rf_gscv = GridSearchCV(estimator = rf, param_grid = param, cv=nfolds)\n",
        "    #fit model to data\n",
        "    rf_gscv.fit(X, y) # with grid search\n",
        "    #find score\n",
        "    score_gscv = rf_gscv.score(X, y) # with grid search\n",
        "    \n",
        "    return rf_gscv.best_params_, rf_gscv, score_gscv  "
      ],
      "metadata": {
        "id": "c0BFjaUZm9Am"
      },
      "execution_count": 23,
      "outputs": []
    },
    {
      "cell_type": "code",
      "source": [
        "best_params, rf_gscv, score_gscv = RF_grid_search(X_train_tf, y_train,4)\n",
        "print(best_params)\n",
        "acc_RF_gs = score_gscv\n",
        "\n",
        "acc_val_RF_gs = rf_gscv.score(X_test_tf,y_test)\n",
        "predictions_RF_gs = rf_gscv.predict(X_test_tf) \n",
        "f1_RF_gs = f1_score(y_test,predictions_RF_gs, average='micro')\n"
      ],
      "metadata": {
        "id": "tlapUXpxnnrs",
        "outputId": "d9d2a41c-4dab-497c-8d03-ca84ec02141d",
        "colab": {
          "base_uri": "https://localhost:8080/"
        }
      },
      "execution_count": 24,
      "outputs": [
        {
          "output_type": "stream",
          "name": "stdout",
          "text": [
            "{'criterion': 'entropy', 'max_depth': 18, 'n_estimators': 100}\n"
          ]
        }
      ]
    },
    {
      "cell_type": "code",
      "source": [
        "print(f1_RF_gs)\n"
      ],
      "metadata": {
        "id": "hbuAS0Ghnnuw",
        "outputId": "afdd5ffd-1c61-4a62-fe83-f645b4776b56",
        "colab": {
          "base_uri": "https://localhost:8080/"
        }
      },
      "execution_count": 25,
      "outputs": [
        {
          "output_type": "stream",
          "name": "stdout",
          "text": [
            "0.3253012048192771\n"
          ]
        }
      ]
    },
    {
      "cell_type": "code",
      "source": [
        "print(acc_RF_gs, acc_val_RF_gs) \n"
      ],
      "metadata": {
        "id": "zbPR_4Pynnxw",
        "outputId": "2985680a-54b7-4307-8383-87531883609b",
        "colab": {
          "base_uri": "https://localhost:8080/"
        }
      },
      "execution_count": 26,
      "outputs": [
        {
          "output_type": "stream",
          "name": "stdout",
          "text": [
            "0.9725609756097561 0.3253012048192771\n"
          ]
        }
      ]
    },
    {
      "cell_type": "code",
      "source": [
        "print(classification_report(y_test, predictions_RF_gs))"
      ],
      "metadata": {
        "id": "0HxSTH1wmFlC",
        "outputId": "52b6933d-86c0-409e-d7e0-b4e3a6ca7f28",
        "colab": {
          "base_uri": "https://localhost:8080/"
        }
      },
      "execution_count": 39,
      "outputs": [
        {
          "output_type": "stream",
          "name": "stdout",
          "text": [
            "              precision    recall  f1-score   support\n",
            "\n",
            "           I       1.00      0.50      0.67         4\n",
            "          II       0.40      0.19      0.26        21\n",
            "         III       0.15      0.09      0.11        22\n",
            "          IV       0.33      0.70      0.45        27\n",
            "           V       0.00      0.00      0.00         9\n",
            "\n",
            "    accuracy                           0.33        83\n",
            "   macro avg       0.38      0.30      0.30        83\n",
            "weighted avg       0.30      0.33      0.27        83\n",
            "\n"
          ]
        }
      ]
    },
    {
      "cell_type": "markdown",
      "source": [
        "Hyperparameter tuning for Bagging classifier"
      ],
      "metadata": {
        "id": "4RFxMlbApUzh"
      }
    },
    {
      "cell_type": "code",
      "source": [
        "def Bag_grid_search(X,y,nfolds):\n",
        "    \n",
        "    #create a dictionary of all values we want to test\n",
        "    param = {'n_estimators': [50, 100, 200]} # min_samples_split=2,\n",
        "    #randomForest model without gridSrearch\n",
        "    bg = BaggingClassifier(bootstrap=True, oob_score=True, random_state=22) # without specifying any parameter\n",
        "    #use gridsearch to val all values\n",
        "    bg_gscv = GridSearchCV(estimator = bg, param_grid = param, cv=nfolds)\n",
        "    #fit model to data\n",
        "    bg_gscv.fit(X, y) # with grid search\n",
        "    #find score\n",
        "    score_gscv = bg_gscv.score(X, y) # with grid search\n",
        "    \n",
        "    return bg_gscv.best_params_, bg_gscv, score_gscv "
      ],
      "metadata": {
        "id": "TornP5pmnn0j"
      },
      "execution_count": 27,
      "outputs": []
    },
    {
      "cell_type": "code",
      "source": [
        "best_params, bg_gscv, score_gscv = Bag_grid_search(X_train_tf, y_train,4)\n",
        "print(best_params)\n",
        "acc_BG_gs = score_gscv\n",
        "acc_val_BG_gs = bg_gscv.score(X_test_tf,y_test)\n",
        "predictions_BG_gs = bg_gscv.predict(X_test_tf) \n",
        "f1_BG_gs = f1_score(y_test,predictions_BG_gs, average='micro')"
      ],
      "metadata": {
        "id": "7XYh5iWAnn25",
        "outputId": "2725768b-774d-46e6-9dcb-3604b92d41ed",
        "colab": {
          "base_uri": "https://localhost:8080/"
        }
      },
      "execution_count": 28,
      "outputs": [
        {
          "output_type": "stream",
          "name": "stdout",
          "text": [
            "{'n_estimators': 100}\n"
          ]
        }
      ]
    },
    {
      "cell_type": "code",
      "source": [
        "print(f1_BG_gs)\n"
      ],
      "metadata": {
        "id": "vlcnB2ySwmAS",
        "outputId": "fefd710c-79f2-48b6-e20a-993eb9c9139b",
        "colab": {
          "base_uri": "https://localhost:8080/"
        }
      },
      "execution_count": 32,
      "outputs": [
        {
          "output_type": "stream",
          "name": "stdout",
          "text": [
            "0.3373493975903614\n"
          ]
        }
      ]
    },
    {
      "cell_type": "code",
      "source": [
        "print(acc_BG_gs, acc_val_BG_gs) \n"
      ],
      "metadata": {
        "id": "UfFdNEhNwmDl",
        "outputId": "4b399047-fa9b-459e-c85f-4d04d7fde2a4",
        "colab": {
          "base_uri": "https://localhost:8080/"
        }
      },
      "execution_count": 29,
      "outputs": [
        {
          "output_type": "stream",
          "name": "stdout",
          "text": [
            "1.0 0.3373493975903614\n"
          ]
        }
      ]
    },
    {
      "cell_type": "code",
      "source": [
        "print(classification_report(y_test, predictions_BG_gs))"
      ],
      "metadata": {
        "id": "jLNQgmI_mXfm",
        "outputId": "38ff874a-0c65-43f9-b91e-a120ea2a7f2e",
        "colab": {
          "base_uri": "https://localhost:8080/"
        }
      },
      "execution_count": 40,
      "outputs": [
        {
          "output_type": "stream",
          "name": "stdout",
          "text": [
            "              precision    recall  f1-score   support\n",
            "\n",
            "           I       1.00      0.50      0.67         4\n",
            "          II       0.42      0.24      0.30        21\n",
            "         III       0.21      0.18      0.20        22\n",
            "          IV       0.34      0.63      0.44        27\n",
            "           V       0.00      0.00      0.00         9\n",
            "\n",
            "    accuracy                           0.34        83\n",
            "   macro avg       0.39      0.31      0.32        83\n",
            "weighted avg       0.32      0.34      0.30        83\n",
            "\n"
          ]
        }
      ]
    },
    {
      "cell_type": "markdown",
      "source": [
        "Hyperparameter tuning for XGBoost"
      ],
      "metadata": {
        "id": "iRNguRIEw2e9"
      }
    },
    {
      "cell_type": "code",
      "source": [
        "def XGBoost_grid_search(X,y,nfolds):\n",
        "    \n",
        "    #create a dictionary of all values we want to test\n",
        "    param = {'learning_rate' :[0.05, 0.1,0.2], 'n_estimators':[50,100,200,300], 'max_depth':[5]} # min_samples_split=2,\n",
        "    #randomForest model without gridSrearch\n",
        "    xg = XGBClassifier() # without specifying any parameter\n",
        "    #use gridsearch to val all values\n",
        "    xg_gscv = GridSearchCV(estimator = xg, param_grid = param, cv=nfolds)\n",
        "    #fit model to data\n",
        "    xg_gscv.fit(X, y) # with grid search\n",
        "    #find score\n",
        "    score_gscv = xg_gscv.score(X, y) # with grid search\n",
        "    \n",
        "    return xg_gscv.best_params_, xg_gscv, score_gscv  \n"
      ],
      "metadata": {
        "id": "iCiFHIH9wmGl"
      },
      "execution_count": 30,
      "outputs": []
    },
    {
      "cell_type": "code",
      "source": [
        "best_params, xg_gscv, score_gscv = XGBoost_grid_search(X_train_tf, y_train,4)\n",
        "print(best_params)\n",
        "acc_XG_gs = score_gscv\n",
        "acc_val_XG_gs = xg_gscv.score(X_test_tf,y_test)\n",
        "predictions_XG_gs = xg_gscv.predict(X_test_tf) \n",
        "f1_XG_gs = f1_score(y_test,predictions_XG_gs, average='micro')"
      ],
      "metadata": {
        "id": "2aUONbsLwmJe",
        "outputId": "25576e58-67d5-4867-9041-430129f921f7",
        "colab": {
          "base_uri": "https://localhost:8080/"
        }
      },
      "execution_count": 31,
      "outputs": [
        {
          "output_type": "stream",
          "name": "stdout",
          "text": [
            "{'learning_rate': 0.05, 'max_depth': 5, 'n_estimators': 100}\n"
          ]
        }
      ]
    },
    {
      "cell_type": "code",
      "source": [
        "print('acc_XG_gs_o-->',acc_XG_gs)\n",
        "print('acc_val_XG_gs_o-->',acc_val_XG_gs)\n",
        "print('f1_XG_gs_o-->',f1_XG_gs)"
      ],
      "metadata": {
        "id": "FZbhlLjywmMU",
        "outputId": "8b44b540-11f3-44fb-e816-11dbcca4c678",
        "colab": {
          "base_uri": "https://localhost:8080/"
        }
      },
      "execution_count": 32,
      "outputs": [
        {
          "output_type": "stream",
          "name": "stdout",
          "text": [
            "acc_XG_gs_o--> 0.9725609756097561\n",
            "acc_val_XG_gs_o--> 0.2891566265060241\n",
            "f1_XG_gs_o--> 0.2891566265060241\n"
          ]
        }
      ]
    },
    {
      "cell_type": "code",
      "source": [
        "print(classification_report(y_test, predictions_XG_gs))"
      ],
      "metadata": {
        "id": "5DlT-uVQmg2r",
        "outputId": "10551a6c-9eb3-4e8f-9b17-aa7abe7e6781",
        "colab": {
          "base_uri": "https://localhost:8080/"
        }
      },
      "execution_count": 41,
      "outputs": [
        {
          "output_type": "stream",
          "name": "stdout",
          "text": [
            "              precision    recall  f1-score   support\n",
            "\n",
            "           I       1.00      0.50      0.67         4\n",
            "          II       0.26      0.24      0.25        21\n",
            "         III       0.12      0.09      0.10        22\n",
            "          IV       0.33      0.56      0.42        27\n",
            "           V       0.00      0.00      0.00         9\n",
            "\n",
            "    accuracy                           0.29        83\n",
            "   macro avg       0.34      0.28      0.29        83\n",
            "weighted avg       0.25      0.29      0.26        83\n",
            "\n"
          ]
        }
      ]
    },
    {
      "cell_type": "markdown",
      "source": [
        "# Hyperparameter tuning for Logistic Regression"
      ],
      "metadata": {
        "id": "9JA9k6p62w7t"
      }
    },
    {
      "cell_type": "code",
      "source": [
        "def LR_grid_search(X,y,nfolds):\n",
        "    \n",
        "    #create a dictionary of all values we want to test\n",
        "    param = {'solver': ['newton-cg', 'lbfgs', 'liblinear', 'sag', 'saga'],\n",
        "                 'penalty': ['l2']}\n",
        "    #param = {'learning_rate' :[0.05, 0.1,0.2], 'n_estimators':[50,100,200,300], 'max_depth':[5]} # min_samples_split=2,\n",
        "    #randomForest model without gridSrearch\n",
        "    lr = LogisticRegression() # without specifying any parameter\n",
        "    #use gridsearch to val all values\n",
        "    lr_gscv = GridSearchCV(estimator = lr, param_grid = param, cv=nfolds)\n",
        "    #fit model to data\n",
        "    lr_gscv.fit(X, y) # with grid search\n",
        "    #find score\n",
        "    score_gscv = lr_gscv.score(X, y) # with grid search\n",
        "    \n",
        "    return lr_gscv.best_params_, lr_gscv, score_gscv  "
      ],
      "metadata": {
        "id": "bCGZczDVxkA4"
      },
      "execution_count": 33,
      "outputs": []
    },
    {
      "cell_type": "code",
      "source": [
        "best_params, lr_gscv, score_gscv = LR_grid_search(X_train_tf, y_train,4)\n",
        "print(best_params)\n",
        "acc_LR_gs = score_gscv\n",
        "acc_val_LR_gs = lr_gscv.score(X_test_tf,y_test)\n",
        "predictions_LR_gs = lr_gscv.predict(X_test_tf) \n",
        "f1_LR_gs = f1_score(y_test,predictions_LR_gs, average='micro')"
      ],
      "metadata": {
        "id": "ioalVqLjeBMl",
        "outputId": "44e8ebd5-59c6-4f31-9e58-ced577f09b1e",
        "colab": {
          "base_uri": "https://localhost:8080/"
        }
      },
      "execution_count": 34,
      "outputs": [
        {
          "output_type": "stream",
          "name": "stdout",
          "text": [
            "{'penalty': 'l2', 'solver': 'saga'}\n"
          ]
        }
      ]
    },
    {
      "cell_type": "code",
      "source": [
        "print(f1_LR_gs)\n"
      ],
      "metadata": {
        "id": "gjoQpg-EjmeQ",
        "outputId": "46a79ed9-4828-4977-9cd0-daffe9754b04",
        "colab": {
          "base_uri": "https://localhost:8080/"
        }
      },
      "execution_count": 35,
      "outputs": [
        {
          "output_type": "stream",
          "name": "stdout",
          "text": [
            "0.37349397590361444\n"
          ]
        }
      ]
    },
    {
      "cell_type": "code",
      "source": [
        "print(acc_LR_gs, acc_val_LR_gs) "
      ],
      "metadata": {
        "id": "Hppo-YCXjsjA",
        "outputId": "0ad4102b-fdeb-49f3-c65d-ddd714298373",
        "colab": {
          "base_uri": "https://localhost:8080/"
        }
      },
      "execution_count": 36,
      "outputs": [
        {
          "output_type": "stream",
          "name": "stdout",
          "text": [
            "0.8932926829268293 0.37349397590361444\n"
          ]
        }
      ]
    },
    {
      "cell_type": "code",
      "source": [
        "print(classification_report(y_test, predictions_LR_gs))"
      ],
      "metadata": {
        "id": "hL3upVetmlVB",
        "outputId": "ba59a5b1-7260-4d4d-95e3-acdb075872b7",
        "colab": {
          "base_uri": "https://localhost:8080/"
        }
      },
      "execution_count": 42,
      "outputs": [
        {
          "output_type": "stream",
          "name": "stdout",
          "text": [
            "              precision    recall  f1-score   support\n",
            "\n",
            "           I       1.00      0.50      0.67         4\n",
            "          II       0.44      0.19      0.27        21\n",
            "         III       0.42      0.23      0.29        22\n",
            "          IV       0.33      0.74      0.46        27\n",
            "           V       0.00      0.00      0.00         9\n",
            "\n",
            "    accuracy                           0.37        83\n",
            "   macro avg       0.44      0.33      0.34        83\n",
            "weighted avg       0.38      0.37      0.33        83\n",
            "\n"
          ]
        }
      ]
    },
    {
      "cell_type": "markdown",
      "source": [
        "Plotting the Graph:"
      ],
      "metadata": {
        "id": "L4FgAcwAds3B"
      }
    },
    {
      "cell_type": "code",
      "source": [
        "d = {'Model': ['Logistic Regression','Random Forest', 'Bagging Classifier','XGBoost'], \n",
        "          'F1_score':[f1_LR_gs, f1_RF_gs, f1_BG_gs, f1_XG_gs],\n",
        "          'Train Validation Accuracy':[acc_LR_gs, acc_RF_gs, acc_BG_gs, acc_XG_gs] }\n",
        "\n",
        "#df_metrics = pd.DataFrame(d)\n",
        "\n",
        "print(d)"
      ],
      "metadata": {
        "id": "4yE8TAyvdjdw",
        "outputId": "5623cf35-6e47-4378-a8a6-528fcaf9fc19",
        "colab": {
          "base_uri": "https://localhost:8080/"
        }
      },
      "execution_count": 47,
      "outputs": [
        {
          "output_type": "stream",
          "name": "stdout",
          "text": [
            "{'Model': ['Logistic Regression', 'Random Forest', 'Bagging Classifier', 'XGBoost'], 'F1_score': [0.37349397590361444, 0.3253012048192771, 0.3373493975903614, 0.2891566265060241], 'Train Validation Accuracy': [0.8932926829268293, 0.9725609756097561, 1.0, 0.9725609756097561]}\n"
          ]
        }
      ]
    },
    {
      "cell_type": "code",
      "source": [
        "df_metrics = pd.DataFrame(d)\n",
        "df_metrics"
      ],
      "metadata": {
        "id": "BCjN5_ndelEy",
        "outputId": "07bb177e-78d1-422a-9bc6-dbbdc6b77847",
        "colab": {
          "base_uri": "https://localhost:8080/",
          "height": 175
        }
      },
      "execution_count": 48,
      "outputs": [
        {
          "output_type": "execute_result",
          "data": {
            "text/html": [
              "\n",
              "  <div id=\"df-8e01934d-12f3-45d6-bad9-a8d303ac7c55\">\n",
              "    <div class=\"colab-df-container\">\n",
              "      <div>\n",
              "<style scoped>\n",
              "    .dataframe tbody tr th:only-of-type {\n",
              "        vertical-align: middle;\n",
              "    }\n",
              "\n",
              "    .dataframe tbody tr th {\n",
              "        vertical-align: top;\n",
              "    }\n",
              "\n",
              "    .dataframe thead th {\n",
              "        text-align: right;\n",
              "    }\n",
              "</style>\n",
              "<table border=\"1\" class=\"dataframe\">\n",
              "  <thead>\n",
              "    <tr style=\"text-align: right;\">\n",
              "      <th></th>\n",
              "      <th>Model</th>\n",
              "      <th>F1_score</th>\n",
              "      <th>Train Validation Accuracy</th>\n",
              "    </tr>\n",
              "  </thead>\n",
              "  <tbody>\n",
              "    <tr>\n",
              "      <th>0</th>\n",
              "      <td>Logistic Regression</td>\n",
              "      <td>0.373494</td>\n",
              "      <td>0.893293</td>\n",
              "    </tr>\n",
              "    <tr>\n",
              "      <th>1</th>\n",
              "      <td>Random Forest</td>\n",
              "      <td>0.325301</td>\n",
              "      <td>0.972561</td>\n",
              "    </tr>\n",
              "    <tr>\n",
              "      <th>2</th>\n",
              "      <td>Bagging Classifier</td>\n",
              "      <td>0.337349</td>\n",
              "      <td>1.000000</td>\n",
              "    </tr>\n",
              "    <tr>\n",
              "      <th>3</th>\n",
              "      <td>XGBoost</td>\n",
              "      <td>0.289157</td>\n",
              "      <td>0.972561</td>\n",
              "    </tr>\n",
              "  </tbody>\n",
              "</table>\n",
              "</div>\n",
              "      <button class=\"colab-df-convert\" onclick=\"convertToInteractive('df-8e01934d-12f3-45d6-bad9-a8d303ac7c55')\"\n",
              "              title=\"Convert this dataframe to an interactive table.\"\n",
              "              style=\"display:none;\">\n",
              "        \n",
              "  <svg xmlns=\"http://www.w3.org/2000/svg\" height=\"24px\"viewBox=\"0 0 24 24\"\n",
              "       width=\"24px\">\n",
              "    <path d=\"M0 0h24v24H0V0z\" fill=\"none\"/>\n",
              "    <path d=\"M18.56 5.44l.94 2.06.94-2.06 2.06-.94-2.06-.94-.94-2.06-.94 2.06-2.06.94zm-11 1L8.5 8.5l.94-2.06 2.06-.94-2.06-.94L8.5 2.5l-.94 2.06-2.06.94zm10 10l.94 2.06.94-2.06 2.06-.94-2.06-.94-.94-2.06-.94 2.06-2.06.94z\"/><path d=\"M17.41 7.96l-1.37-1.37c-.4-.4-.92-.59-1.43-.59-.52 0-1.04.2-1.43.59L10.3 9.45l-7.72 7.72c-.78.78-.78 2.05 0 2.83L4 21.41c.39.39.9.59 1.41.59.51 0 1.02-.2 1.41-.59l7.78-7.78 2.81-2.81c.8-.78.8-2.07 0-2.86zM5.41 20L4 18.59l7.72-7.72 1.47 1.35L5.41 20z\"/>\n",
              "  </svg>\n",
              "      </button>\n",
              "      \n",
              "  <style>\n",
              "    .colab-df-container {\n",
              "      display:flex;\n",
              "      flex-wrap:wrap;\n",
              "      gap: 12px;\n",
              "    }\n",
              "\n",
              "    .colab-df-convert {\n",
              "      background-color: #E8F0FE;\n",
              "      border: none;\n",
              "      border-radius: 50%;\n",
              "      cursor: pointer;\n",
              "      display: none;\n",
              "      fill: #1967D2;\n",
              "      height: 32px;\n",
              "      padding: 0 0 0 0;\n",
              "      width: 32px;\n",
              "    }\n",
              "\n",
              "    .colab-df-convert:hover {\n",
              "      background-color: #E2EBFA;\n",
              "      box-shadow: 0px 1px 2px rgba(60, 64, 67, 0.3), 0px 1px 3px 1px rgba(60, 64, 67, 0.15);\n",
              "      fill: #174EA6;\n",
              "    }\n",
              "\n",
              "    [theme=dark] .colab-df-convert {\n",
              "      background-color: #3B4455;\n",
              "      fill: #D2E3FC;\n",
              "    }\n",
              "\n",
              "    [theme=dark] .colab-df-convert:hover {\n",
              "      background-color: #434B5C;\n",
              "      box-shadow: 0px 1px 3px 1px rgba(0, 0, 0, 0.15);\n",
              "      filter: drop-shadow(0px 1px 2px rgba(0, 0, 0, 0.3));\n",
              "      fill: #FFFFFF;\n",
              "    }\n",
              "  </style>\n",
              "\n",
              "      <script>\n",
              "        const buttonEl =\n",
              "          document.querySelector('#df-8e01934d-12f3-45d6-bad9-a8d303ac7c55 button.colab-df-convert');\n",
              "        buttonEl.style.display =\n",
              "          google.colab.kernel.accessAllowed ? 'block' : 'none';\n",
              "\n",
              "        async function convertToInteractive(key) {\n",
              "          const element = document.querySelector('#df-8e01934d-12f3-45d6-bad9-a8d303ac7c55');\n",
              "          const dataTable =\n",
              "            await google.colab.kernel.invokeFunction('convertToInteractive',\n",
              "                                                     [key], {});\n",
              "          if (!dataTable) return;\n",
              "\n",
              "          const docLinkHtml = 'Like what you see? Visit the ' +\n",
              "            '<a target=\"_blank\" href=https://colab.research.google.com/notebooks/data_table.ipynb>data table notebook</a>'\n",
              "            + ' to learn more about interactive tables.';\n",
              "          element.innerHTML = '';\n",
              "          dataTable['output_type'] = 'display_data';\n",
              "          await google.colab.output.renderOutput(dataTable, element);\n",
              "          const docLink = document.createElement('div');\n",
              "          docLink.innerHTML = docLinkHtml;\n",
              "          element.appendChild(docLink);\n",
              "        }\n",
              "      </script>\n",
              "    </div>\n",
              "  </div>\n",
              "  "
            ],
            "text/plain": [
              "                 Model  F1_score  Train Validation Accuracy\n",
              "0  Logistic Regression  0.373494                   0.893293\n",
              "1        Random Forest  0.325301                   0.972561\n",
              "2   Bagging Classifier  0.337349                   1.000000\n",
              "3              XGBoost  0.289157                   0.972561"
            ]
          },
          "metadata": {},
          "execution_count": 48
        }
      ]
    },
    {
      "cell_type": "code",
      "source": [
        "plt.figure(figsize = (10,7))\n",
        "sns.set_style(\"darkgrid\")\n",
        "plt.plot(df_metrics['Model'], df_metrics['F1_score'],df_metrics['Train Validation Accuracy'], marker = '>', linestyle='--', label = 'f1_score')\n",
        "plt.legend(fontsize = 10)\n",
        "plt.show()\n"
      ],
      "metadata": {
        "id": "IfUCelbLept6",
        "outputId": "581a336b-eb81-478e-cdb9-3005192f5246",
        "colab": {
          "base_uri": "https://localhost:8080/",
          "height": 428
        }
      },
      "execution_count": 50,
      "outputs": [
        {
          "output_type": "display_data",
          "data": {
            "image/png": "[encoded data removed]",
            "text/plain": [
              "<Figure size 720x504 with 1 Axes>"
            ]
          },
          "metadata": {
            "needs_background": "light"
          }
        }
      ]
    },
    {
      "cell_type": "markdown",
      "source": [
        "# Now using Augmented data"
      ],
      "metadata": {
        "id": "yS4mz_iqojdO"
      }
    },
    {
      "cell_type": "code",
      "source": [
        "import pickle"
      ],
      "metadata": {
        "id": "KlQ5KRspey9O"
      },
      "execution_count": 51,
      "outputs": []
    },
    {
      "cell_type": "code",
      "source": [
        "infile = open('/content/drive/MyDrive/AIML/Capstone/X_aug_train.pickle','rb')\n",
        "X_aug = pickle.load(infile)"
      ],
      "metadata": {
        "id": "rTfARQNFonpE",
        "outputId": "be05ef1e-c909-499d-a676-589a08b0e857",
        "colab": {
          "base_uri": "https://localhost:8080/",
          "height": 184
        }
      },
      "execution_count": 52,
      "outputs": [
        {
          "output_type": "error",
          "ename": "FileNotFoundError",
          "evalue": "ignored",
          "traceback": [
            "\u001b[0;31m---------------------------------------------------------------------------\u001b[0m",
            "\u001b[0;31mFileNotFoundError\u001b[0m                         Traceback (most recent call last)",
            "\u001b[0;32m<ipython-input-52-eef33e9266a6>\u001b[0m in \u001b[0;36m<module>\u001b[0;34m()\u001b[0m\n\u001b[0;32m----> 1\u001b[0;31m \u001b[0minfile\u001b[0m \u001b[0;34m=\u001b[0m \u001b[0mopen\u001b[0m\u001b[0;34m(\u001b[0m\u001b[0;34m'/content/drive/MyDrive/AIML/Capstone/X_aug_train.pickle'\u001b[0m\u001b[0;34m,\u001b[0m\u001b[0;34m'rb'\u001b[0m\u001b[0;34m)\u001b[0m\u001b[0;34m\u001b[0m\u001b[0;34m\u001b[0m\u001b[0m\n\u001b[0m\u001b[1;32m      2\u001b[0m \u001b[0mX_aug\u001b[0m \u001b[0;34m=\u001b[0m \u001b[0mpickle\u001b[0m\u001b[0;34m.\u001b[0m\u001b[0mload\u001b[0m\u001b[0;34m(\u001b[0m\u001b[0minfile\u001b[0m\u001b[0;34m)\u001b[0m\u001b[0;34m\u001b[0m\u001b[0;34m\u001b[0m\u001b[0m\n",
            "\u001b[0;31mFileNotFoundError\u001b[0m: [Errno 2] No such file or directory: '/content/drive/MyDrive/AIML/Capstone/X_aug_train.pickle'"
          ]
        }
      ]
    },
    {
      "cell_type": "code",
      "source": [
        ""
      ],
      "metadata": {
        "id": "RUyziHazovj6"
      },
      "execution_count": null,
      "outputs": []
    }
  ]
}