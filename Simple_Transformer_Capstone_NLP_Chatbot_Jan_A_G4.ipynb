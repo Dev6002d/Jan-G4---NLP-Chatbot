{
  "nbformat": 4,
  "nbformat_minor": 0,
  "metadata": {
    "kernelspec": {
      "display_name": "Python 3",
      "language": "python",
      "name": "python3"
    },
    "language_info": {
      "codemirror_mode": {
        "name": "ipython",
        "version": 3
      },
      "file_extension": ".py",
      "mimetype": "text/x-python",
      "name": "python",
      "nbconvert_exporter": "python",
      "pygments_lexer": "ipython3",
      "version": "3.7.6"
    },
    "colab": {
      "name": "Capstone_NLP_Chatbot_Jan_A_G4 Simple Transformer Model.ipynb",
      "provenance": [],
      "collapsed_sections": [],
      "toc_visible": true
    },
    "accelerator": "GPU"
  },
  "cells": [
    {
      "cell_type": "markdown",
      "metadata": {
        "id": "9Yj3kJll4cxT"
      },
      "source": [
        "# Capstone Project - NLP Chatbot\n",
        "\n",
        "### DOMAIN: \n",
        "Industrial safety. NLP based Chatbot.\n",
        "\n",
        "### CONTEXT:\n",
        "The database comes from one of the biggest industry in Brazil and in the world. It is an urgent need for industries/companies around the globe to understand why employees still suffer some injuries/accidents in plants. Sometimes they also die in such environment.\n",
        "\n",
        "### DATA DESCRIPTION:\n",
        "This The database is basically records of accidents from 12 different plants in 03 different countries which every line in the data is an occurrence of an accident.\n",
        "\n",
        "### Columns description:\n",
        "* Data: timestamp or time/date information\n",
        "* Countries: which country the accident occurred (anonymised)\n",
        "* Local: the city where the manufacturing plant is located (anonymised)\n",
        "* Industry sector: which sector the plant belongs to\n",
        "* Accident level: from I to VI, it registers how severe was the accident (I means not severe but VI means very severe)\n",
        "* Potential Accident Level: Depending on the Accident Level, the database also registers how severe the accident could have   been (due to other factors involved in the accident)\n",
        "* Gender: if the person is male of female\n",
        "* Employee or Third Party: if the injured person is an employee or a third party\n",
        "* Critical Risk: some description of the risk involved in the accident\n",
        "* Description: Detailed description of how the accident happened.\n",
        "\n",
        "Link to download the dataset: https://drive.google.com/file/d/1_GmrRP1S2OIa02KlfOBNkYa8uxazGbfE/view?usp=sharing,\n",
        "Original dataset link: https://www.kaggle.com/ihmstefanini/industrial-safety-and-health-analytics-database\n",
        "\n",
        "### PROJECT OBJECTIVE:\n",
        "Design a ML/DL based chatbot utility which can help the professionals to highlight the safety risk as per the incident description."
      ]
    },
    {
      "cell_type": "code",
      "metadata": {
        "id": "UXY9aXj-FwOg",
        "outputId": "aa89acf0-4f47-4158-c884-4b2c11b63c09",
        "colab": {
          "base_uri": "https://localhost:8080/"
        }
      },
      "source": [
        "from google.colab import drive\n",
        "drive.mount('/content/drive')"
      ],
      "execution_count": null,
      "outputs": [
        {
          "output_type": "stream",
          "name": "stdout",
          "text": [
            "Mounted at /content/drive\n"
          ]
        }
      ]
    },
    {
      "cell_type": "markdown",
      "metadata": {
        "id": "yJ3cY1PPaSlS"
      },
      "source": [
        "Replace the folder path with your drive folder path and clone the githb repo"
      ]
    },
    {
      "cell_type": "code",
      "metadata": {
        "id": "wwhw9SyePdXo",
        "colab": {
          "base_uri": "https://localhost:8080/"
        },
        "outputId": "c68a5b37-976b-43d2-c11d-bb8c72e45d76"
      },
      "source": [
        "%cd /content/drive/MyDrive/AIML/Capstone"
      ],
      "execution_count": null,
      "outputs": [
        {
          "output_type": "stream",
          "name": "stdout",
          "text": [
            "/content/drive/MyDrive/AIML/Capstone\n"
          ]
        }
      ]
    },
    {
      "cell_type": "markdown",
      "metadata": {
        "id": "zb2bSd4Qa6sd"
      },
      "source": [
        "Run the below code for clone the repo in our Googele drive for first time"
      ]
    },
    {
      "cell_type": "code",
      "metadata": {
        "colab": {
          "base_uri": "https://localhost:8080/"
        },
        "id": "02mIR5BkLrQM",
        "outputId": "c78efba7-8118-4571-ad11-ae2c7554a849"
      },
      "source": [
        "! git clone https://github.com/shyamsparrow/Jan-G4---NLP-Chatbot.git"
      ],
      "execution_count": null,
      "outputs": [
        {
          "output_type": "stream",
          "name": "stdout",
          "text": [
            "fatal: destination path 'Jan-G4---NLP-Chatbot' already exists and is not an empty directory.\n"
          ]
        }
      ]
    },
    {
      "cell_type": "markdown",
      "metadata": {
        "id": "DE4JYNESXKDx"
      },
      "source": [
        "Change the Current folder into Github repo main folder, all the functions we are calling has to be in this repo."
      ]
    },
    {
      "cell_type": "code",
      "metadata": {
        "colab": {
          "base_uri": "https://localhost:8080/"
        },
        "id": "OigsCtatbCvx",
        "outputId": "683388b8-29ee-48e1-b00f-56161509a367"
      },
      "source": [
        "%cd /content/drive/MyDrive/AIML/Capstone/Jan-G4---NLP-Chatbot"
      ],
      "execution_count": null,
      "outputs": [
        {
          "output_type": "stream",
          "name": "stdout",
          "text": [
            "/content/drive/MyDrive/AIML/Capstone/Jan-G4---NLP-Chatbot\n"
          ]
        }
      ]
    },
    {
      "cell_type": "markdown",
      "metadata": {
        "id": "fuZqYC2yXV1e"
      },
      "source": [
        "Run this code to update the changes in repo to our drive"
      ]
    },
    {
      "cell_type": "code",
      "metadata": {
        "colab": {
          "base_uri": "https://localhost:8080/"
        },
        "id": "WITqKl1Nb_G4",
        "outputId": "a6e9c77f-7864-42ff-e587-3ef3876f7768"
      },
      "source": [
        "!git pull"
      ],
      "execution_count": null,
      "outputs": [
        {
          "output_type": "stream",
          "name": "stdout",
          "text": [
            "remote: Enumerating objects: 32, done.\u001b[K\n",
            "remote: Counting objects:   5% (1/18)\u001b[K\rremote: Counting objects:  11% (2/18)\u001b[K\rremote: Counting objects:  16% (3/18)\u001b[K\rremote: Counting objects:  22% (4/18)\u001b[K\rremote: Counting objects:  27% (5/18)\u001b[K\rremote: Counting objects:  33% (6/18)\u001b[K\rremote: Counting objects:  38% (7/18)\u001b[K\rremote: Counting objects:  44% (8/18)\u001b[K\rremote: Counting objects:  50% (9/18)\u001b[K\rremote: Counting objects:  55% (10/18)\u001b[K\rremote: Counting objects:  61% (11/18)\u001b[K\rremote: Counting objects:  66% (12/18)\u001b[K\rremote: Counting objects:  72% (13/18)\u001b[K\rremote: Counting objects:  77% (14/18)\u001b[K\rremote: Counting objects:  83% (15/18)\u001b[K\rremote: Counting objects:  88% (16/18)\u001b[K\rremote: Counting objects:  94% (17/18)\u001b[K\rremote: Counting objects: 100% (18/18)\u001b[K\rremote: Counting objects: 100% (18/18), done.\u001b[K\n",
            "remote: Compressing objects: 100% (10/10), done.\u001b[K\n",
            "remote: Total 32 (delta 11), reused 8 (delta 8), pack-reused 14\u001b[K\n",
            "Unpacking objects: 100% (32/32), done.\n",
            "From https://github.com/shyamsparrow/Jan-G4---NLP-Chatbot\n",
            " * [new branch]      CNN_LSTM_Ganesh -> origin/CNN_LSTM_Ganesh\n",
            "   562c431..2ed79d3  Models          -> origin/Models\n",
            "   6b96cb0..8db2fcb  Simple_Transformer_Model -> origin/Simple_Transformer_Model\n",
            "Already up to date.\n"
          ]
        }
      ]
    },
    {
      "cell_type": "code",
      "source": [
        "pip install pandas --upgrade"
      ],
      "metadata": {
        "colab": {
          "base_uri": "https://localhost:8080/"
        },
        "id": "yNkEgJBIme2K",
        "outputId": "c092bb99-b201-4c0f-9783-41a6a43131d7"
      },
      "execution_count": null,
      "outputs": [
        {
          "output_type": "stream",
          "name": "stdout",
          "text": [
            "Requirement already satisfied: pandas in /usr/local/lib/python3.7/dist-packages (1.3.5)\n",
            "Requirement already satisfied: numpy>=1.17.3 in /usr/local/lib/python3.7/dist-packages (from pandas) (1.19.5)\n",
            "Requirement already satisfied: pytz>=2017.3 in /usr/local/lib/python3.7/dist-packages (from pandas) (2018.9)\n",
            "Requirement already satisfied: python-dateutil>=2.7.3 in /usr/local/lib/python3.7/dist-packages (from pandas) (2.8.2)\n",
            "Requirement already satisfied: six>=1.5 in /usr/local/lib/python3.7/dist-packages (from python-dateutil>=2.7.3->pandas) (1.15.0)\n"
          ]
        }
      ]
    },
    {
      "cell_type": "markdown",
      "source": [
        "### **Transformer Model**"
      ],
      "metadata": {
        "id": "ggIbUlPpg-hW"
      }
    },
    {
      "cell_type": "code",
      "source": [
        "import warnings\n",
        "warnings.filterwarnings('ignore')\n",
        "\n",
        "from wordcloud import WordCloud,STOPWORDS\n",
        "import nltk\n",
        "from nltk.corpus import stopwords\n",
        "from bs4 import BeautifulSoup\n",
        "import string\n",
        "import numpy as np\n",
        "import pandas as pd\n",
        "import seaborn as sns\n",
        "import matplotlib.pyplot as plt\n",
        "import re\n",
        "from sklearn.model_selection import train_test_split\n",
        "from sklearn import metrics\n",
        "from sklearn.metrics import classification_report\n",
        "from sklearn.metrics import accuracy_score, f1_score, confusion_matrix, recall_score, precision_score, roc_auc_score\n",
        "from sklearn.preprocessing import LabelEncoder\n",
        "import pickle\n",
        "from sklearn.feature_extraction.text import TfidfVectorizer\n",
        "\n",
        "# Deep learning libraries\n",
        "import tensorflow as tf\n",
        "from tensorflow.keras.layers import Input\n",
        "from tensorflow.keras.models import Sequential\n",
        "from tensorflow.keras.models import Model\n",
        "from tensorflow.keras import optimizers\n",
        "from tensorflow.keras.layers import Dense, LSTM,  Embedding, Dropout, Bidirectional, GlobalMaxPool1D\n",
        "\n",
        "from keras.utils import np_utils\n",
        "from keras.layers.merge import Concatenate\n",
        "#from keras.utils import plot_model\n",
        "\n",
        "from tensorflow.keras.callbacks import ReduceLROnPlateau\n",
        "from tensorflow.keras.callbacks import EarlyStopping\n",
        "from tensorflow.keras.callbacks import ModelCheckpoint\n",
        "\n",
        "from tensorflow.keras.models import load_model\n",
        "from tensorflow.keras.models import model_from_json\n",
        "from tensorflow.keras.wrappers.scikit_learn import KerasClassifier\n",
        "\n",
        "# Keras pre-processing\n",
        "from tensorflow.keras.preprocessing.text import Tokenizer\n",
        "from tensorflow.keras.preprocessing.sequence import pad_sequences"
      ],
      "metadata": {
        "id": "NJVhyAR4hJnc"
      },
      "execution_count": null,
      "outputs": []
    },
    {
      "cell_type": "code",
      "source": [
        "industry_df = pd.read_csv(\"industry_df_with_stopwords.csv\")"
      ],
      "metadata": {
        "id": "pJ_qWZLchBkg"
      },
      "execution_count": null,
      "outputs": []
    },
    {
      "cell_type": "code",
      "source": [
        "# Select input and output features\n",
        "\n",
        "X_text_1 = industry_df['Description_preprocessed']\n",
        "y_text_1 = industry_df['Potential_Accident_Level']"
      ],
      "metadata": {
        "id": "x_mVvzglkCFy"
      },
      "execution_count": null,
      "outputs": []
    },
    {
      "cell_type": "code",
      "source": [
        "# Encode labels in column 'Potential Accident Level'and Convert into one-hot encoded vectors:\n",
        "y_text_1 = LabelEncoder().fit_transform(y_text_1)\n",
        "y_text_1 = np_utils.to_categorical(y_text_1)"
      ],
      "metadata": {
        "id": "RwfOhuRKkFIV"
      },
      "execution_count": null,
      "outputs": []
    },
    {
      "cell_type": "code",
      "source": [
        "# Divide our data into testing and training sets:\n",
        "X_text_train_1, X_text_test_1, y_text_train_1, y_text_test_1 = train_test_split(X_text_1, y_text_1, test_size = 0.20, random_state = 55)\n",
        "\n",
        "print('X_text_train shape : ({0})'.format(X_text_train.shape))\n",
        "print('y_text_train shape : ({0},)'.format(y_text_train.shape))\n",
        "print('X_text_test shape : ({0})'.format(X_text_test.shape))\n",
        "print('y_text_test shape : ({0},)'.format(y_text_test.shape))"
      ],
      "metadata": {
        "colab": {
          "base_uri": "https://localhost:8080/"
        },
        "id": "b8fmzpcqkH4l",
        "outputId": "6f89fcf9-8a8c-4d11-e9a0-61af7cc22622"
      },
      "execution_count": null,
      "outputs": [
        {
          "output_type": "stream",
          "name": "stdout",
          "text": [
            "X_text_train shape : ((1644, 185))\n",
            "y_text_train shape : ((1644, 5),)\n",
            "X_text_test shape : ((411, 185))\n",
            "y_text_test shape : ((411, 5),)\n"
          ]
        }
      ]
    },
    {
      "cell_type": "code",
      "source": [
        "# The first step in word embeddings is to convert the words into thier corresponding numeric indexes.\n",
        "tokenizer = Tokenizer(num_words=3000)\n",
        "tokenizer.fit_on_texts(X_text_train_1)\n",
        "X_text_train_1 = tokenizer.texts_to_sequences(X_text_train_1)\n",
        "X_text_test_1 = tokenizer.texts_to_sequences(X_text_test_1)"
      ],
      "metadata": {
        "id": "yOHrs-CXlLWv"
      },
      "execution_count": null,
      "outputs": []
    },
    {
      "cell_type": "code",
      "source": [
        "industry_df['nb_words'] = industry_df['Description_preprocessed'].apply(lambda x: len(x.split(' ')))\n",
        "\n",
        "print('Minimum number of words: {}'.format(industry_df['nb_words'].min()))\n",
        "print('Maximum number of words: {}'.format(industry_df['nb_words'].max()))"
      ],
      "metadata": {
        "colab": {
          "base_uri": "https://localhost:8080/"
        },
        "id": "6E88zlj3lOQ9",
        "outputId": "2aef5aa2-a4c6-4e0d-9672-f596e0b6e96d"
      },
      "execution_count": null,
      "outputs": [
        {
          "output_type": "stream",
          "name": "stdout",
          "text": [
            "Minimum number of words: 16\n",
            "Maximum number of words: 183\n"
          ]
        }
      ]
    },
    {
      "cell_type": "code",
      "source": [
        "vocab_size = len(tokenizer.word_index) + 1\n",
        "print(\"vocab_size:\", vocab_size)\n",
        "\n",
        "maxlen = 185\n",
        "\n",
        "X_text_train_1 = pad_sequences(X_text_train_1, padding='post', maxlen=maxlen)\n",
        "X_text_test_1 = pad_sequences(X_text_test_1, padding='post', maxlen=maxlen)"
      ],
      "metadata": {
        "colab": {
          "base_uri": "https://localhost:8080/"
        },
        "id": "tZJK3MUAlTEg",
        "outputId": "6f11d932-654b-4f2e-ec4f-436e461646b8"
      },
      "execution_count": null,
      "outputs": [
        {
          "output_type": "stream",
          "name": "stdout",
          "text": [
            "vocab_size: 2755\n"
          ]
        }
      ]
    },
    {
      "cell_type": "code",
      "source": [
        "import pickle\n",
        "#pickle.dump(embeddings_dictionary, open('/content/drive/MyDrive/AIML/Capstone/embeddings.pickle', 'wb'))\n",
        "infile = open('/content/drive/MyDrive/AIML/Capstone/embeddings.pickle','rb')\n",
        "embeddings_dictionary = pickle.load(infile)"
      ],
      "metadata": {
        "id": "cAb0gCfFlz2E"
      },
      "execution_count": null,
      "outputs": []
    },
    {
      "cell_type": "code",
      "source": [
        "embedding_size = 200\n",
        "\n",
        "embedding_matrix = np.zeros((vocab_size, embedding_size))\n",
        "\n",
        "for word, index in tokenizer.word_index.items():\n",
        "    embedding_vector = embeddings_dictionary.get(word)\n",
        "    if embedding_vector is not None:\n",
        "        embedding_matrix[index] = embedding_vector\n",
        "embedding_matrix.shape"
      ],
      "metadata": {
        "colab": {
          "base_uri": "https://localhost:8080/"
        },
        "id": "k5t_RW0NlQCT",
        "outputId": "f58515b8-3934-4527-8e3e-a11f49ee37ff"
      },
      "execution_count": null,
      "outputs": [
        {
          "output_type": "execute_result",
          "data": {
            "text/plain": [
              "(2755, 200)"
            ]
          },
          "metadata": {},
          "execution_count": 296
        }
      ]
    },
    {
      "cell_type": "code",
      "source": [
        "import tensorflow as tf\n",
        "from tensorflow import keras\n",
        "from tensorflow.keras import layers"
      ],
      "metadata": {
        "id": "1BiWCh6JIdM6"
      },
      "execution_count": null,
      "outputs": []
    },
    {
      "cell_type": "markdown",
      "source": [
        "**Implement a Transformer block as a layer**"
      ],
      "metadata": {
        "id": "e4vOd2e3Y_2w"
      }
    },
    {
      "cell_type": "code",
      "source": [
        "class TransformerBlock(layers.Layer):\n",
        "    def __init__(self, embed_dim, num_heads, ff_dim, rate=0.1):\n",
        "        super(TransformerBlock, self).__init__()\n",
        "        self.att = layers.MultiHeadAttention(num_heads=num_heads, key_dim=embed_dim)\n",
        "        self.ffn = keras.Sequential(\n",
        "            [layers.Dense(ff_dim, activation=\"relu\"), layers.Dense(embed_dim),]\n",
        "        )\n",
        "        self.layernorm1 = layers.LayerNormalization(epsilon=1e-4)\n",
        "        self.layernorm2 = layers.LayerNormalization(epsilon=1e-4)\n",
        "        self.dropout1 = layers.Dropout(rate)\n",
        "        self.dropout2 = layers.Dropout(rate)\n",
        "\n",
        "    def call(self, inputs, training):\n",
        "        attn_output = self.att(inputs, inputs)\n",
        "        attn_output = self.dropout1(attn_output, training=training)\n",
        "        out1 = self.layernorm1(inputs + attn_output)\n",
        "        ffn_output = self.ffn(out1)\n",
        "        ffn_output = self.dropout2(ffn_output, training=training)\n",
        "        return self.layernorm2(out1 + ffn_output)"
      ],
      "metadata": {
        "id": "cx7fzdtLJa6y"
      },
      "execution_count": null,
      "outputs": []
    },
    {
      "cell_type": "markdown",
      "source": [
        "**Implement embedding layer**\n",
        "\n",
        "Two seperate embedding layers, one for tokens, one for token index (positions)."
      ],
      "metadata": {
        "id": "ePwCP2nkZDpf"
      }
    },
    {
      "cell_type": "code",
      "source": [
        "class TokenAndPositionEmbedding(layers.Layer):\n",
        "    def __init__(self, maxlen, vocab_size, embed_dim):\n",
        "        super(TokenAndPositionEmbedding, self).__init__()\n",
        "        self.token_emb = layers.Embedding(input_dim=vocab_size, output_dim=embed_dim)\n",
        "        self.pos_emb = layers.Embedding(input_dim=maxlen, output_dim=embed_dim)\n",
        "\n",
        "    def call(self, x):\n",
        "        maxlen = tf.shape(x)[-1]\n",
        "        positions = tf.range(start=0, limit=maxlen, delta=1)\n",
        "        positions = self.pos_emb(positions)\n",
        "        x = self.token_emb(x)\n",
        "        return x + positions"
      ],
      "metadata": {
        "id": "1uTVBLQeJfj6"
      },
      "execution_count": null,
      "outputs": []
    },
    {
      "cell_type": "code",
      "source": [
        "vocab_size = vocab_size  # Only consider the top 20k words\n",
        "maxlen = maxlen  # Only consider the first 200 words of each movie review\n",
        "x_train_1 = X_text_train_1\n",
        "x_val_1 = X_text_test_1\n",
        "y_train_1 = y_text_train_1\n",
        "y_val_1 = y_text_test_1"
      ],
      "metadata": {
        "id": "Y-ev-MnYJkIT"
      },
      "execution_count": null,
      "outputs": []
    },
    {
      "cell_type": "markdown",
      "source": [
        "**Create classifier model using transformer layer**"
      ],
      "metadata": {
        "id": "3mAh1k_fZMn_"
      }
    },
    {
      "cell_type": "code",
      "source": [
        "embed_dim = embedding_size  # Embedding size for each token\n",
        "num_heads = 5  # Number of attention heads\n",
        "ff_dim = 200 # Hidden layer size in feed forward network inside transformer\n",
        "\n",
        "inputs = layers.Input(shape=(maxlen,))\n",
        "embedding_layer = TokenAndPositionEmbedding(maxlen, vocab_size, embed_dim)\n",
        "x = embedding_layer(inputs)\n",
        "transformer_block = TransformerBlock(embed_dim, num_heads, ff_dim)\n",
        "x = transformer_block(x)\n",
        "x = layers.GlobalAveragePooling1D()(x)\n",
        "x = layers.Dropout(0.1)(x)\n",
        "x = layers.Dense(20, activation=\"relu\")(x)\n",
        "x = layers.Dropout(0.1)(x)\n",
        "outputs = layers.Dense(5, activation=\"softmax\")(x)\n",
        "\n",
        "\n",
        "model_simple = keras.Model(inputs=inputs, outputs=outputs)\n",
        "print(model_simple.summary())"
      ],
      "metadata": {
        "id": "vpj35CuUKHwp",
        "colab": {
          "base_uri": "https://localhost:8080/"
        },
        "outputId": "4cd29728-e551-41cf-fee9-2b2759ec6067"
      },
      "execution_count": null,
      "outputs": [
        {
          "output_type": "stream",
          "name": "stdout",
          "text": [
            "Model: \"model_11\"\n",
            "_________________________________________________________________\n",
            " Layer (type)                Output Shape              Param #   \n",
            "=================================================================\n",
            " input_12 (InputLayer)       [(None, 185)]             0         \n",
            "                                                                 \n",
            " token_and_position_embeddin  (None, 185, 200)         588000    \n",
            " g_11 (TokenAndPositionEmbed                                     \n",
            " ding)                                                           \n",
            "                                                                 \n",
            " transformer_block_11 (Trans  (None, 185, 200)         884400    \n",
            " formerBlock)                                                    \n",
            "                                                                 \n",
            " global_average_pooling1d_11  (None, 200)              0         \n",
            "  (GlobalAveragePooling1D)                                       \n",
            "                                                                 \n",
            " dropout_49 (Dropout)        (None, 200)               0         \n",
            "                                                                 \n",
            " dense_46 (Dense)            (None, 20)                4020      \n",
            "                                                                 \n",
            " dropout_50 (Dropout)        (None, 20)                0         \n",
            "                                                                 \n",
            " dense_47 (Dense)            (None, 5)                 105       \n",
            "                                                                 \n",
            "=================================================================\n",
            "Total params: 1,476,525\n",
            "Trainable params: 1,476,525\n",
            "Non-trainable params: 0\n",
            "_________________________________________________________________\n",
            "None\n"
          ]
        }
      ]
    },
    {
      "cell_type": "code",
      "source": [
        "epochs = 5\n",
        "batch_size = 32\n",
        "loss = \"categorical_crossentropy\"\n",
        "opt = keras.optimizers.Adam(lr=1e-3)\n",
        "\n",
        "metrics = [\"accuracy\"]\n",
        "\n",
        "early_stopping = EarlyStopping(monitor='val_loss', mode='min', verbose=0, patience=3)\n",
        "\n",
        "model_simple.compile(optimizer=opt, loss=loss, metrics=metrics)\n",
        "history = model_simple.fit(\n",
        "    x_train_1, y_train_1, batch_size=batch_size, epochs=epochs, validation_data=(x_val_1, y_val_1)\n",
        ")"
      ],
      "metadata": {
        "colab": {
          "base_uri": "https://localhost:8080/"
        },
        "id": "FaepjLl_KInG",
        "outputId": "55b613f6-f3b7-4747-d05a-b9c3b7cffb1f"
      },
      "execution_count": null,
      "outputs": [
        {
          "output_type": "stream",
          "name": "stdout",
          "text": [
            "Epoch 1/5\n",
            "11/11 [==============================] - 17s 1s/step - loss: 1.7323 - accuracy: 0.3049 - val_loss: 1.5891 - val_accuracy: 0.2289\n",
            "Epoch 2/5\n",
            "11/11 [==============================] - 21s 2s/step - loss: 1.5249 - accuracy: 0.2622 - val_loss: 1.6717 - val_accuracy: 0.3253\n",
            "Epoch 3/5\n",
            "11/11 [==============================] - 16s 1s/step - loss: 1.5278 - accuracy: 0.3384 - val_loss: 1.5644 - val_accuracy: 0.2169\n",
            "Epoch 4/5\n",
            "11/11 [==============================] - 15s 1s/step - loss: 1.4993 - accuracy: 0.2652 - val_loss: 1.5506 - val_accuracy: 0.2410\n",
            "Epoch 5/5\n",
            "11/11 [==============================] - 20s 2s/step - loss: 1.4615 - accuracy: 0.3506 - val_loss: 1.6217 - val_accuracy: 0.3253\n"
          ]
        }
      ]
    },
    {
      "cell_type": "code",
      "source": [
        "# summarize history for accuracy\n",
        "plt.plot(history.history['accuracy'])\n",
        "plt.plot(history.history['val_accuracy'])\n",
        "plt.title('Model Accuracy')\n",
        "plt.ylabel('accuracy')\n",
        "plt.xlabel('epoch')\n",
        "plt.legend(['train', 'test'], loc='upper left')\n",
        "plt.show()"
      ],
      "metadata": {
        "colab": {
          "base_uri": "https://localhost:8080/",
          "height": 295
        },
        "outputId": "f9747b2e-cbbf-4706-9606-f0d91f8861c8",
        "id": "q10Sk4n4Xxi4"
      },
      "execution_count": null,
      "outputs": [
        {
          "output_type": "display_data",
          "data": {
            "image/png": "[encoded data removed]",
            "text/plain": [
              "<Figure size 432x288 with 1 Axes>"
            ]
          },
          "metadata": {
            "needs_background": "light"
          }
        }
      ]
    },
    {
      "cell_type": "code",
      "source": [
        "# summarize history for loss\n",
        "plt.plot(history.history['loss'])\n",
        "plt.plot(history.history['val_loss'])\n",
        "plt.title('Model Loss')\n",
        "plt.ylabel('loss')\n",
        "plt.xlabel('epoch')\n",
        "plt.legend(['train', 'test'], loc='upper left')\n",
        "plt.show()"
      ],
      "metadata": {
        "colab": {
          "base_uri": "https://localhost:8080/",
          "height": 295
        },
        "outputId": "f5f34392-c7f9-4c9c-b001-f2bcc008f82a",
        "id": "BSLbSQ79Xxi4"
      },
      "execution_count": null,
      "outputs": [
        {
          "output_type": "display_data",
          "data": {
            "image/png": "[encoded data removed]",
            "text/plain": [
              "<Figure size 432x288 with 1 Axes>"
            ]
          },
          "metadata": {
            "needs_background": "light"
          }
        }
      ]
    },
    {
      "cell_type": "code",
      "source": [
        ""
      ],
      "metadata": {
        "id": "oI-g0qMgYFBL"
      },
      "execution_count": null,
      "outputs": []
    },
    {
      "cell_type": "code",
      "source": [
        "embed_dim = embedding_size  # Embedding size for each token\n",
        "num_heads = 5  # Number of attention heads\n",
        "ff_dim = 200 # Hidden layer size in feed forward network inside transformer\n",
        "\n",
        "inputs = layers.Input(shape=(maxlen,))\n",
        "embedding_layer = TokenAndPositionEmbedding(maxlen, vocab_size, embed_dim)\n",
        "x = embedding_layer(inputs)\n",
        "transformer_block = TransformerBlock(embed_dim, num_heads, ff_dim)\n",
        "x = transformer_block(x)\n",
        "x = layers.GlobalAveragePooling1D()(x)\n",
        "x = layers.Dense(512, activation=\"relu\")(x)\n",
        "x = layers.Dense(256, activation=\"relu\")(x)\n",
        "x = layers.Dropout(0.1)(x)\n",
        "x = layers.Dense(128, activation=\"relu\")(x)\n",
        "x = layers.Dense(64, activation=\"relu\")(x)\n",
        "x = layers.Dropout(0.1)(x)\n",
        "x = layers.Dense(20, activation=\"relu\")(x)\n",
        "x = layers.Dropout(0.1)(x)\n",
        "outputs = layers.Dense(5, activation=\"softmax\")(x)\n",
        "\n",
        "\n",
        "model_simple = keras.Model(inputs=inputs, outputs=outputs)\n",
        "print(model_simple.summary())"
      ],
      "metadata": {
        "colab": {
          "base_uri": "https://localhost:8080/"
        },
        "id": "Yj8GvqKEPtZk",
        "outputId": "c335b2f7-47a2-4d31-bbaa-ba01d83cf69d"
      },
      "execution_count": null,
      "outputs": [
        {
          "output_type": "stream",
          "name": "stdout",
          "text": [
            "Model: \"model_12\"\n",
            "_________________________________________________________________\n",
            " Layer (type)                Output Shape              Param #   \n",
            "=================================================================\n",
            " input_13 (InputLayer)       [(None, 185)]             0         \n",
            "                                                                 \n",
            " token_and_position_embeddin  (None, 185, 200)         588000    \n",
            " g_12 (TokenAndPositionEmbed                                     \n",
            " ding)                                                           \n",
            "                                                                 \n",
            " transformer_block_12 (Trans  (None, 185, 200)         884400    \n",
            " formerBlock)                                                    \n",
            "                                                                 \n",
            " global_average_pooling1d_12  (None, 200)              0         \n",
            "  (GlobalAveragePooling1D)                                       \n",
            "                                                                 \n",
            " dense_50 (Dense)            (None, 512)               102912    \n",
            "                                                                 \n",
            " dense_51 (Dense)            (None, 256)               131328    \n",
            "                                                                 \n",
            " dropout_53 (Dropout)        (None, 256)               0         \n",
            "                                                                 \n",
            " dense_52 (Dense)            (None, 128)               32896     \n",
            "                                                                 \n",
            " dense_53 (Dense)            (None, 64)                8256      \n",
            "                                                                 \n",
            " dropout_54 (Dropout)        (None, 64)                0         \n",
            "                                                                 \n",
            " dense_54 (Dense)            (None, 20)                1300      \n",
            "                                                                 \n",
            " dropout_55 (Dropout)        (None, 20)                0         \n",
            "                                                                 \n",
            " dense_55 (Dense)            (None, 5)                 105       \n",
            "                                                                 \n",
            "=================================================================\n",
            "Total params: 1,749,197\n",
            "Trainable params: 1,749,197\n",
            "Non-trainable params: 0\n",
            "_________________________________________________________________\n",
            "None\n"
          ]
        }
      ]
    },
    {
      "cell_type": "code",
      "source": [
        "epochs = 5\n",
        "batch_size = 32\n",
        "loss = \"categorical_crossentropy\"\n",
        "opt = keras.optimizers.Adam(lr=1e-4)\n",
        "\n",
        "metrics = [\"accuracy\"]\n",
        "\n",
        "early_stopping = EarlyStopping(monitor='val_loss', mode='min', verbose=0, patience=3)\n",
        "\n",
        "model_simple.compile(optimizer=opt, loss=loss, metrics=metrics)\n",
        "history = model_simple.fit(\n",
        "    x_train_1, y_train_1, batch_size=batch_size, epochs=epochs, validation_data=(x_val_1, y_val_1)\n",
        ")"
      ],
      "metadata": {
        "colab": {
          "base_uri": "https://localhost:8080/"
        },
        "id": "oYH9QD_qQI4-",
        "outputId": "d646ac8d-3a2f-4f8c-946b-e8331df2c8e4"
      },
      "execution_count": null,
      "outputs": [
        {
          "output_type": "stream",
          "name": "stdout",
          "text": [
            "Epoch 1/5\n",
            "11/11 [==============================] - 28s 2s/step - loss: 1.5606 - accuracy: 0.2652 - val_loss: 1.5323 - val_accuracy: 0.2771\n",
            "Epoch 2/5\n",
            "11/11 [==============================] - 17s 1s/step - loss: 1.4943 - accuracy: 0.2988 - val_loss: 1.5134 - val_accuracy: 0.3373\n",
            "Epoch 3/5\n",
            "11/11 [==============================] - 15s 1s/step - loss: 1.4727 - accuracy: 0.3537 - val_loss: 1.5116 - val_accuracy: 0.3494\n",
            "Epoch 4/5\n",
            "11/11 [==============================] - 17s 1s/step - loss: 1.4813 - accuracy: 0.3079 - val_loss: 1.5092 - val_accuracy: 0.3133\n",
            "Epoch 5/5\n",
            "11/11 [==============================] - 16s 1s/step - loss: 1.4570 - accuracy: 0.3628 - val_loss: 1.5029 - val_accuracy: 0.3855\n"
          ]
        }
      ]
    },
    {
      "cell_type": "code",
      "source": [
        "# summarize history for accuracy\n",
        "plt.plot(history.history['accuracy'])\n",
        "plt.plot(history.history['val_accuracy'])\n",
        "plt.title('Model Accuracy')\n",
        "plt.ylabel('accuracy')\n",
        "plt.xlabel('epoch')\n",
        "plt.legend(['train', 'test'], loc='upper left')\n",
        "plt.show()"
      ],
      "metadata": {
        "colab": {
          "base_uri": "https://localhost:8080/",
          "height": 295
        },
        "outputId": "25a4b39b-16c2-48dc-c4dc-51fa0e5e2411",
        "id": "cyUeOz3eYJ2x"
      },
      "execution_count": null,
      "outputs": [
        {
          "output_type": "display_data",
          "data": {
            "image/png": "[encoded data removed]",
            "text/plain": [
              "<Figure size 432x288 with 1 Axes>"
            ]
          },
          "metadata": {
            "needs_background": "light"
          }
        }
      ]
    },
    {
      "cell_type": "code",
      "source": [
        "# summarize history for loss\n",
        "plt.plot(history.history['loss'])\n",
        "plt.plot(history.history['val_loss'])\n",
        "plt.title('Model Loss')\n",
        "plt.ylabel('loss')\n",
        "plt.xlabel('epoch')\n",
        "plt.legend(['train', 'test'], loc='upper left')\n",
        "plt.show()"
      ],
      "metadata": {
        "colab": {
          "base_uri": "https://localhost:8080/",
          "height": 295
        },
        "id": "PMnJ7c75YJ2x",
        "outputId": "f6534398-88e6-4372-8515-bff14e48e9c8"
      },
      "execution_count": null,
      "outputs": [
        {
          "output_type": "display_data",
          "data": {
            "image/png": "[encoded data removed]",
            "text/plain": [
              "<Figure size 432x288 with 1 Axes>"
            ]
          },
          "metadata": {
            "needs_background": "light"
          }
        }
      ]
    },
    {
      "cell_type": "markdown",
      "source": [
        "Train for larger epochs"
      ],
      "metadata": {
        "id": "3-1bgH-wRHkD"
      }
    },
    {
      "cell_type": "code",
      "source": [
        "epochs = 30\n",
        "batch_size = 100\n",
        "loss = \"categorical_crossentropy\"\n",
        "opt = keras.optimizers.Adam(lr=1e-4)\n",
        "\n",
        "metrics = [\"accuracy\"]\n",
        "\n",
        "early_stopping = EarlyStopping(monitor='val_loss', mode='min', verbose=0, patience=3)\n",
        "\n",
        "model_simple.compile(optimizer=opt, loss=loss, metrics=metrics)\n",
        "history = model_simple.fit(\n",
        "    x_train_1, y_train_1, batch_size=batch_size, epochs=epochs, validation_data=(x_val_1, y_val_1)\n",
        ")"
      ],
      "metadata": {
        "colab": {
          "base_uri": "https://localhost:8080/"
        },
        "id": "eSWdjwvVRLLL",
        "outputId": "c54f4225-ebb8-410a-ef94-5d3aa021c5f7"
      },
      "execution_count": null,
      "outputs": [
        {
          "output_type": "stream",
          "name": "stdout",
          "text": [
            "Epoch 1/30\n",
            "4/4 [==============================] - 18s 4s/step - loss: 1.2865 - accuracy: 0.4451 - val_loss: 1.4952 - val_accuracy: 0.3735\n",
            "Epoch 2/30\n",
            "4/4 [==============================] - 23s 6s/step - loss: 1.2462 - accuracy: 0.4665 - val_loss: 1.4976 - val_accuracy: 0.3614\n",
            "Epoch 3/30\n",
            "4/4 [==============================] - 20s 4s/step - loss: 1.2243 - accuracy: 0.4817 - val_loss: 1.5061 - val_accuracy: 0.3735\n",
            "Epoch 4/30\n",
            "4/4 [==============================] - 16s 4s/step - loss: 1.2152 - accuracy: 0.5061 - val_loss: 1.4993 - val_accuracy: 0.3735\n",
            "Epoch 5/30\n",
            "4/4 [==============================] - 17s 4s/step - loss: 1.1981 - accuracy: 0.4817 - val_loss: 1.5017 - val_accuracy: 0.3614\n",
            "Epoch 6/30\n",
            "4/4 [==============================] - 15s 4s/step - loss: 1.1630 - accuracy: 0.4909 - val_loss: 1.5358 - val_accuracy: 0.3735\n",
            "Epoch 7/30\n",
            "4/4 [==============================] - 16s 4s/step - loss: 1.1667 - accuracy: 0.4909 - val_loss: 1.5359 - val_accuracy: 0.3373\n",
            "Epoch 8/30\n",
            "4/4 [==============================] - 16s 4s/step - loss: 1.1091 - accuracy: 0.5244 - val_loss: 1.5320 - val_accuracy: 0.3855\n",
            "Epoch 9/30\n",
            "4/4 [==============================] - 19s 5s/step - loss: 1.1023 - accuracy: 0.5518 - val_loss: 1.5502 - val_accuracy: 0.3494\n",
            "Epoch 10/30\n",
            "4/4 [==============================] - 15s 4s/step - loss: 1.0559 - accuracy: 0.5549 - val_loss: 1.5428 - val_accuracy: 0.3855\n",
            "Epoch 11/30\n",
            "4/4 [==============================] - 17s 4s/step - loss: 1.0352 - accuracy: 0.5457 - val_loss: 1.5514 - val_accuracy: 0.3373\n",
            "Epoch 12/30\n",
            "4/4 [==============================] - 16s 4s/step - loss: 1.0256 - accuracy: 0.5610 - val_loss: 1.5674 - val_accuracy: 0.3855\n",
            "Epoch 13/30\n",
            "4/4 [==============================] - 15s 4s/step - loss: 0.9923 - accuracy: 0.5610 - val_loss: 1.5777 - val_accuracy: 0.3494\n",
            "Epoch 14/30\n",
            "4/4 [==============================] - 15s 4s/step - loss: 0.9752 - accuracy: 0.5549 - val_loss: 1.5976 - val_accuracy: 0.3735\n",
            "Epoch 15/30\n",
            "4/4 [==============================] - 16s 4s/step - loss: 0.9143 - accuracy: 0.5701 - val_loss: 1.6152 - val_accuracy: 0.3614\n",
            "Epoch 16/30\n",
            "4/4 [==============================] - 15s 4s/step - loss: 0.9145 - accuracy: 0.6067 - val_loss: 1.6531 - val_accuracy: 0.3735\n",
            "Epoch 17/30\n",
            "4/4 [==============================] - 15s 4s/step - loss: 0.9061 - accuracy: 0.5701 - val_loss: 1.6686 - val_accuracy: 0.3494\n",
            "Epoch 18/30\n",
            "4/4 [==============================] - 15s 4s/step - loss: 0.8534 - accuracy: 0.6280 - val_loss: 1.7085 - val_accuracy: 0.3855\n",
            "Epoch 19/30\n",
            "4/4 [==============================] - 15s 4s/step - loss: 0.9230 - accuracy: 0.5701 - val_loss: 1.7100 - val_accuracy: 0.3735\n",
            "Epoch 20/30\n",
            "4/4 [==============================] - 15s 4s/step - loss: 0.9115 - accuracy: 0.5945 - val_loss: 1.6897 - val_accuracy: 0.3735\n",
            "Epoch 21/30\n",
            "4/4 [==============================] - 18s 4s/step - loss: 0.9001 - accuracy: 0.6128 - val_loss: 1.6864 - val_accuracy: 0.4096\n",
            "Epoch 22/30\n",
            "4/4 [==============================] - 16s 4s/step - loss: 0.8161 - accuracy: 0.6341 - val_loss: 1.7620 - val_accuracy: 0.3494\n",
            "Epoch 23/30\n",
            "4/4 [==============================] - 15s 4s/step - loss: 0.7937 - accuracy: 0.6280 - val_loss: 1.7653 - val_accuracy: 0.3976\n",
            "Epoch 24/30\n",
            "4/4 [==============================] - 15s 4s/step - loss: 0.7824 - accuracy: 0.6402 - val_loss: 1.7738 - val_accuracy: 0.3494\n",
            "Epoch 25/30\n",
            "4/4 [==============================] - 15s 4s/step - loss: 0.7158 - accuracy: 0.6677 - val_loss: 1.7400 - val_accuracy: 0.3976\n",
            "Epoch 26/30\n",
            "4/4 [==============================] - 15s 4s/step - loss: 0.7427 - accuracy: 0.6646 - val_loss: 1.7659 - val_accuracy: 0.3855\n",
            "Epoch 27/30\n",
            "4/4 [==============================] - 15s 4s/step - loss: 0.7495 - accuracy: 0.6311 - val_loss: 1.8061 - val_accuracy: 0.3735\n",
            "Epoch 28/30\n",
            "4/4 [==============================] - 15s 4s/step - loss: 0.6842 - accuracy: 0.6616 - val_loss: 1.8684 - val_accuracy: 0.3614\n",
            "Epoch 29/30\n",
            "4/4 [==============================] - 15s 4s/step - loss: 0.7163 - accuracy: 0.6463 - val_loss: 1.8498 - val_accuracy: 0.3735\n",
            "Epoch 30/30\n",
            "4/4 [==============================] - 16s 4s/step - loss: 0.6805 - accuracy: 0.6646 - val_loss: 1.7955 - val_accuracy: 0.3614\n"
          ]
        }
      ]
    },
    {
      "cell_type": "code",
      "source": [
        "# summarize history for accuracy\n",
        "plt.plot(history.history['accuracy'])\n",
        "plt.plot(history.history['val_accuracy'])\n",
        "plt.title('Model Accuracy')\n",
        "plt.ylabel('accuracy')\n",
        "plt.xlabel('epoch')\n",
        "plt.legend(['train', 'test'], loc='upper left')\n",
        "plt.show()"
      ],
      "metadata": {
        "colab": {
          "base_uri": "https://localhost:8080/",
          "height": 295
        },
        "id": "YSYQ6VD6VkeC",
        "outputId": "e06b9f14-88da-4c49-ae21-6642009e7288"
      },
      "execution_count": null,
      "outputs": [
        {
          "output_type": "display_data",
          "data": {
            "image/png": "[encoded data removed]",
            "text/plain": [
              "<Figure size 432x288 with 1 Axes>"
            ]
          },
          "metadata": {
            "needs_background": "light"
          }
        }
      ]
    },
    {
      "cell_type": "code",
      "source": [
        "# summarize history for loss\n",
        "plt.plot(history.history['loss'])\n",
        "plt.plot(history.history['val_loss'])\n",
        "plt.title('Model Loss')\n",
        "plt.ylabel('loss')\n",
        "plt.xlabel('epoch')\n",
        "plt.legend(['train', 'test'], loc='upper left')\n",
        "plt.show()"
      ],
      "metadata": {
        "colab": {
          "base_uri": "https://localhost:8080/",
          "height": 295
        },
        "id": "uX3oc9R3XPSQ",
        "outputId": "157cc9fa-a044-46da-ac38-2fda99cb0b48"
      },
      "execution_count": null,
      "outputs": [
        {
          "output_type": "display_data",
          "data": {
            "image/png": "[encoded data removed]",
            "text/plain": [
              "<Figure size 432x288 with 1 Axes>"
            ]
          },
          "metadata": {
            "needs_background": "light"
          }
        }
      ]
    },
    {
      "cell_type": "markdown",
      "source": [
        "Try with different batch size and learning rate"
      ],
      "metadata": {
        "id": "cPn3_GoeWAtI"
      }
    },
    {
      "cell_type": "code",
      "source": [
        "epochs = 30\n",
        "batch_size = 200\n",
        "loss = \"categorical_crossentropy\"\n",
        "opt = keras.optimizers.Adam(lr=1e-6)\n",
        "\n",
        "metrics = [\"accuracy\"]\n",
        "\n",
        "early_stopping = EarlyStopping(monitor='val_loss', mode='min', verbose=0, patience=3)\n",
        "\n",
        "model_simple.compile(optimizer=opt, loss=loss, metrics=metrics)\n",
        "history = model_simple.fit(\n",
        "    x_train_1, y_train_1, batch_size=batch_size, epochs=epochs, validation_data=(x_val_1, y_val_1)\n",
        ")"
      ],
      "metadata": {
        "colab": {
          "base_uri": "https://localhost:8080/"
        },
        "id": "BgtJ9P92V9IB",
        "outputId": "bca442d1-95e1-4286-9979-b6b74238be7c"
      },
      "execution_count": null,
      "outputs": [
        {
          "output_type": "stream",
          "name": "stdout",
          "text": [
            "Epoch 1/30\n",
            "2/2 [==============================] - 23s 9s/step - loss: 1.3674 - accuracy: 0.3994 - val_loss: 1.4751 - val_accuracy: 0.3735\n",
            "Epoch 2/30\n",
            "2/2 [==============================] - 17s 7s/step - loss: 1.3545 - accuracy: 0.4085 - val_loss: 1.4750 - val_accuracy: 0.3855\n",
            "Epoch 3/30\n",
            "2/2 [==============================] - 15s 7s/step - loss: 1.3457 - accuracy: 0.4329 - val_loss: 1.4748 - val_accuracy: 0.3855\n",
            "Epoch 4/30\n",
            "2/2 [==============================] - 15s 7s/step - loss: 1.3566 - accuracy: 0.3872 - val_loss: 1.4747 - val_accuracy: 0.3855\n",
            "Epoch 5/30\n",
            "2/2 [==============================] - 16s 7s/step - loss: 1.3469 - accuracy: 0.3902 - val_loss: 1.4746 - val_accuracy: 0.3855\n",
            "Epoch 6/30\n",
            "2/2 [==============================] - 15s 7s/step - loss: 1.3508 - accuracy: 0.3994 - val_loss: 1.4745 - val_accuracy: 0.3855\n",
            "Epoch 7/30\n",
            "2/2 [==============================] - 15s 7s/step - loss: 1.3467 - accuracy: 0.4482 - val_loss: 1.4744 - val_accuracy: 0.3855\n",
            "Epoch 8/30\n",
            "2/2 [==============================] - 15s 7s/step - loss: 1.3626 - accuracy: 0.3841 - val_loss: 1.4744 - val_accuracy: 0.3855\n",
            "Epoch 9/30\n",
            "2/2 [==============================] - 15s 7s/step - loss: 1.3260 - accuracy: 0.4543 - val_loss: 1.4743 - val_accuracy: 0.3855\n",
            "Epoch 10/30\n",
            "2/2 [==============================] - 15s 7s/step - loss: 1.3275 - accuracy: 0.4451 - val_loss: 1.4742 - val_accuracy: 0.3855\n",
            "Epoch 11/30\n",
            "2/2 [==============================] - 17s 8s/step - loss: 1.3434 - accuracy: 0.4055 - val_loss: 1.4742 - val_accuracy: 0.3855\n",
            "Epoch 12/30\n",
            "2/2 [==============================] - 19s 7s/step - loss: 1.3174 - accuracy: 0.4207 - val_loss: 1.4741 - val_accuracy: 0.3855\n",
            "Epoch 13/30\n",
            "2/2 [==============================] - 15s 7s/step - loss: 1.3499 - accuracy: 0.4116 - val_loss: 1.4741 - val_accuracy: 0.3976\n",
            "Epoch 14/30\n",
            "2/2 [==============================] - 19s 7s/step - loss: 1.3306 - accuracy: 0.4146 - val_loss: 1.4740 - val_accuracy: 0.3976\n",
            "Epoch 15/30\n",
            "2/2 [==============================] - 16s 7s/step - loss: 1.3698 - accuracy: 0.3963 - val_loss: 1.4740 - val_accuracy: 0.3976\n",
            "Epoch 16/30\n",
            "2/2 [==============================] - 15s 7s/step - loss: 1.3365 - accuracy: 0.4390 - val_loss: 1.4739 - val_accuracy: 0.3976\n",
            "Epoch 17/30\n",
            "2/2 [==============================] - 15s 7s/step - loss: 1.3270 - accuracy: 0.4329 - val_loss: 1.4739 - val_accuracy: 0.3976\n",
            "Epoch 18/30\n",
            "2/2 [==============================] - 16s 7s/step - loss: 1.3337 - accuracy: 0.4207 - val_loss: 1.4738 - val_accuracy: 0.3976\n",
            "Epoch 19/30\n",
            "2/2 [==============================] - 21s 10s/step - loss: 1.3359 - accuracy: 0.4055 - val_loss: 1.4738 - val_accuracy: 0.3976\n",
            "Epoch 20/30\n",
            "2/2 [==============================] - 20s 8s/step - loss: 1.3428 - accuracy: 0.3780 - val_loss: 1.4737 - val_accuracy: 0.3976\n",
            "Epoch 21/30\n",
            "2/2 [==============================] - 15s 7s/step - loss: 1.3315 - accuracy: 0.4146 - val_loss: 1.4736 - val_accuracy: 0.3976\n",
            "Epoch 22/30\n",
            "2/2 [==============================] - 15s 7s/step - loss: 1.3207 - accuracy: 0.4207 - val_loss: 1.4736 - val_accuracy: 0.3976\n",
            "Epoch 23/30\n",
            "2/2 [==============================] - 15s 7s/step - loss: 1.3569 - accuracy: 0.3872 - val_loss: 1.4735 - val_accuracy: 0.3976\n",
            "Epoch 24/30\n",
            "2/2 [==============================] - 15s 7s/step - loss: 1.3570 - accuracy: 0.4116 - val_loss: 1.4735 - val_accuracy: 0.3976\n",
            "Epoch 25/30\n",
            "2/2 [==============================] - 15s 7s/step - loss: 1.3541 - accuracy: 0.3720 - val_loss: 1.4735 - val_accuracy: 0.3976\n",
            "Epoch 26/30\n",
            "2/2 [==============================] - 15s 7s/step - loss: 1.3518 - accuracy: 0.4116 - val_loss: 1.4734 - val_accuracy: 0.3976\n",
            "Epoch 27/30\n",
            "2/2 [==============================] - 15s 7s/step - loss: 1.3286 - accuracy: 0.4451 - val_loss: 1.4734 - val_accuracy: 0.3976\n",
            "Epoch 28/30\n",
            "2/2 [==============================] - 15s 7s/step - loss: 1.3329 - accuracy: 0.4177 - val_loss: 1.4734 - val_accuracy: 0.3976\n",
            "Epoch 29/30\n",
            "2/2 [==============================] - 16s 7s/step - loss: 1.3515 - accuracy: 0.4024 - val_loss: 1.4734 - val_accuracy: 0.3976\n",
            "Epoch 30/30\n",
            "2/2 [==============================] - 17s 8s/step - loss: 1.3154 - accuracy: 0.4329 - val_loss: 1.4734 - val_accuracy: 0.3976\n"
          ]
        }
      ]
    },
    {
      "cell_type": "code",
      "source": [
        "# summarize history for accuracy\n",
        "plt.plot(history.history['accuracy'])\n",
        "plt.plot(history.history['val_accuracy'])\n",
        "plt.title('Model Accuracy')\n",
        "plt.ylabel('accuracy')\n",
        "plt.xlabel('epoch')\n",
        "plt.legend(['train', 'test'], loc='upper left')\n",
        "plt.show()"
      ],
      "metadata": {
        "colab": {
          "base_uri": "https://localhost:8080/",
          "height": 295
        },
        "outputId": "a4cf5958-a33f-45e0-b339-a4b9cf4f3423",
        "id": "LOqKdEqkX_FA"
      },
      "execution_count": null,
      "outputs": [
        {
          "output_type": "display_data",
          "data": {
            "image/png": "[encoded data removed]",
            "text/plain": [
              "<Figure size 432x288 with 1 Axes>"
            ]
          },
          "metadata": {
            "needs_background": "light"
          }
        }
      ]
    },
    {
      "cell_type": "code",
      "source": [
        "# summarize history for loss\n",
        "plt.plot(history.history['loss'])\n",
        "plt.plot(history.history['val_loss'])\n",
        "plt.title('Model Loss')\n",
        "plt.ylabel('loss')\n",
        "plt.xlabel('epoch')\n",
        "plt.legend(['train', 'test'], loc='upper left')\n",
        "plt.show()"
      ],
      "metadata": {
        "colab": {
          "base_uri": "https://localhost:8080/",
          "height": 295
        },
        "id": "4YgErv3oX_FC",
        "outputId": "3c658e37-0044-4e09-b937-8f33cf5fbf16"
      },
      "execution_count": null,
      "outputs": [
        {
          "output_type": "display_data",
          "data": {
            "image/png": "[encoded data removed]",
            "text/plain": [
              "<Figure size 432x288 with 1 Axes>"
            ]
          },
          "metadata": {
            "needs_background": "light"
          }
        }
      ]
    },
    {
      "cell_type": "code",
      "source": [
        "epochs = 3\n",
        "batch_size = 500\n",
        "loss = \"categorical_crossentropy\"\n",
        "opt = keras.optimizers.Adam(lr=1e-5)\n",
        "\n",
        "metrics = [\"accuracy\"]\n",
        "\n",
        "early_stopping = EarlyStopping(monitor='val_loss', mode='min', verbose=0, patience=3)\n",
        "\n",
        "model.compile(optimizer=opt, loss=loss, metrics=metrics)\n",
        "history = model.fit(\n",
        "    x_train, y_train, batch_size=batch_size, epochs=epochs, validation_data=(x_val, y_val)\n",
        ")"
      ],
      "metadata": {
        "colab": {
          "base_uri": "https://localhost:8080/"
        },
        "id": "wfREgRwqa_2D",
        "outputId": "21a08f6a-cc72-4a9e-f29b-efe5833c8e47"
      },
      "execution_count": null,
      "outputs": [
        {
          "output_type": "stream",
          "name": "stdout",
          "text": [
            "Epoch 1/3\n",
            "1/1 [==============================] - 23s 23s/step - loss: 0.6471 - accuracy: 0.7134 - val_loss: 1.8442 - val_accuracy: 0.3614\n",
            "Epoch 2/3\n",
            "1/1 [==============================] - 20s 20s/step - loss: 0.6630 - accuracy: 0.6555 - val_loss: 1.8503 - val_accuracy: 0.3855\n",
            "Epoch 3/3\n",
            "1/1 [==============================] - 15s 15s/step - loss: 0.6698 - accuracy: 0.6524 - val_loss: 1.8496 - val_accuracy: 0.3735\n"
          ]
        }
      ]
    },
    {
      "cell_type": "markdown",
      "source": [
        "# **Try Augmentation**"
      ],
      "metadata": {
        "id": "yVE00SWErgRH"
      }
    },
    {
      "cell_type": "code",
      "source": [
        "!pip install nlpaug"
      ],
      "metadata": {
        "colab": {
          "base_uri": "https://localhost:8080/",
          "height": 502
        },
        "id": "7o9SMmAQd3eA",
        "outputId": "eb03cd75-37e0-4859-f6dc-117b644f6d3c"
      },
      "execution_count": null,
      "outputs": [
        {
          "output_type": "stream",
          "name": "stdout",
          "text": [
            "Collecting nlpaug\n",
            "  Downloading nlpaug-1.1.9-py3-none-any.whl (408 kB)\n",
            "\u001b[K     |████████████████████████████████| 408 kB 5.3 MB/s \n",
            "\u001b[?25hCollecting pandas>=1.2.0\n",
            "  Downloading pandas-1.3.5-cp37-cp37m-manylinux_2_17_x86_64.manylinux2014_x86_64.whl (11.3 MB)\n",
            "\u001b[K     |████████████████████████████████| 11.3 MB 34.0 MB/s \n",
            "\u001b[?25hRequirement already satisfied: numpy>=1.16.2 in /usr/local/lib/python3.7/dist-packages (from nlpaug) (1.19.5)\n",
            "Requirement already satisfied: requests>=2.22.0 in /usr/local/lib/python3.7/dist-packages (from nlpaug) (2.23.0)\n",
            "Requirement already satisfied: pytz>=2017.3 in /usr/local/lib/python3.7/dist-packages (from pandas>=1.2.0->nlpaug) (2018.9)\n",
            "Requirement already satisfied: python-dateutil>=2.7.3 in /usr/local/lib/python3.7/dist-packages (from pandas>=1.2.0->nlpaug) (2.8.2)\n",
            "Requirement already satisfied: six>=1.5 in /usr/local/lib/python3.7/dist-packages (from python-dateutil>=2.7.3->pandas>=1.2.0->nlpaug) (1.15.0)\n",
            "Requirement already satisfied: urllib3!=1.25.0,!=1.25.1,<1.26,>=1.21.1 in /usr/local/lib/python3.7/dist-packages (from requests>=2.22.0->nlpaug) (1.24.3)\n",
            "Requirement already satisfied: chardet<4,>=3.0.2 in /usr/local/lib/python3.7/dist-packages (from requests>=2.22.0->nlpaug) (3.0.4)\n",
            "Requirement already satisfied: certifi>=2017.4.17 in /usr/local/lib/python3.7/dist-packages (from requests>=2.22.0->nlpaug) (2021.10.8)\n",
            "Requirement already satisfied: idna<3,>=2.5 in /usr/local/lib/python3.7/dist-packages (from requests>=2.22.0->nlpaug) (2.10)\n",
            "Installing collected packages: pandas, nlpaug\n",
            "  Attempting uninstall: pandas\n",
            "    Found existing installation: pandas 1.1.5\n",
            "    Uninstalling pandas-1.1.5:\n",
            "      Successfully uninstalled pandas-1.1.5\n",
            "\u001b[31mERROR: pip's dependency resolver does not currently take into account all the packages that are installed. This behaviour is the source of the following dependency conflicts.\n",
            "google-colab 1.0.0 requires pandas~=1.1.0; python_version >= \"3.0\", but you have pandas 1.3.5 which is incompatible.\u001b[0m\n",
            "Successfully installed nlpaug-1.1.9 pandas-1.3.5\n"
          ]
        },
        {
          "output_type": "display_data",
          "data": {
            "application/vnd.colab-display-data+json": {
              "pip_warning": {
                "packages": [
                  "pandas"
                ]
              }
            }
          },
          "metadata": {}
        }
      ]
    },
    {
      "cell_type": "code",
      "source": [
        "import nltk\n",
        "nltk.download('averaged_perceptron_tagger')\n",
        "nltk.download('wordnet')"
      ],
      "metadata": {
        "colab": {
          "base_uri": "https://localhost:8080/"
        },
        "id": "z-AaWndgeVkF",
        "outputId": "9de9ff3a-ae1b-425f-83e3-f6fec2dd3076"
      },
      "execution_count": null,
      "outputs": [
        {
          "output_type": "stream",
          "name": "stdout",
          "text": [
            "[nltk_data] Downloading package averaged_perceptron_tagger to\n",
            "[nltk_data]     /root/nltk_data...\n",
            "[nltk_data]   Package averaged_perceptron_tagger is already up-to-\n",
            "[nltk_data]       date!\n",
            "[nltk_data] Downloading package wordnet to /root/nltk_data...\n",
            "[nltk_data]   Package wordnet is already up-to-date!\n"
          ]
        },
        {
          "output_type": "execute_result",
          "data": {
            "text/plain": [
              "True"
            ]
          },
          "metadata": {},
          "execution_count": 119
        }
      ]
    },
    {
      "cell_type": "code",
      "source": [
        "import nlpaug\n",
        "import nlpaug.augmenter.word as naw\n",
        "n = 2\n",
        "aug = naw.SynonymAug(aug_src='wordnet',aug_max=30)\n",
        "aug.augment(\"Misleading reviews. Worst coffee ever had, and sorely disappointing vibe.\",n=n)"
      ],
      "metadata": {
        "colab": {
          "base_uri": "https://localhost:8080/"
        },
        "id": "E5G2lcY6d5VZ",
        "outputId": "6276c156-4ea2-4cf0-aad7-da3309045f74"
      },
      "execution_count": null,
      "outputs": [
        {
          "output_type": "execute_result",
          "data": {
            "text/plain": [
              "['Misleading reviews. Worst coffee ever had, and painfully unsatisfying vibe.',\n",
              " 'Misdirect reviews. Worst coffee ever so had, and sorely dissatisfactory vibe.']"
            ]
          },
          "metadata": {},
          "execution_count": 219
        }
      ]
    },
    {
      "cell_type": "code",
      "source": [
        "#X_text = industry_df['Description_preprocessed']\n",
        "#y_text = industry_df['Potential_Accident_Level']\n",
        "\n",
        "augmented_text = list()\n",
        "label_accident_level = list()\n",
        "\n",
        "for i in range(0,industry_df.shape[0]):\n",
        "  start = 0\n",
        "  end = start+n\n",
        "  for j in range(start,end):\n",
        "    text = industry_df['Description_preprocessed'][i]\n",
        "    text = aug.augment(text)\n",
        "    augmented_text.append(text)\n",
        "    label_accident_level.append(industry_df['Potential_Accident_Level'][i])\n",
        "  start = start + n + 1\n",
        "\n",
        "#Potential_Accident_Level"
      ],
      "metadata": {
        "id": "U2WU-lEeg1IC"
      },
      "execution_count": null,
      "outputs": []
    },
    {
      "cell_type": "code",
      "source": [
        "# convert the list into dataframe\n",
        "augmented_df = pd.DataFrame(pd.concat([pd.Series(augmented_text),pd.Series(label_accident_level)],axis=1))"
      ],
      "metadata": {
        "id": "X3i7kFhUoQQu"
      },
      "execution_count": null,
      "outputs": []
    },
    {
      "cell_type": "code",
      "source": [
        "# rename the columns of dataframe\n",
        "augmented_df.rename(columns={0:'Augmented_Description',1:'Potential_Accident_Level'},inplace=True)"
      ],
      "metadata": {
        "id": "F-imPXrjqggF"
      },
      "execution_count": null,
      "outputs": []
    },
    {
      "cell_type": "code",
      "source": [
        "#!pip uninstall pandas\n",
        "#!pip install pandas==1.1.5\n",
        "import pandas as pd\n",
        "augmented_df.to_csv('industry_df_augmented.csv',index=False)"
      ],
      "metadata": {
        "id": "M-8zGFUwxP4G"
      },
      "execution_count": null,
      "outputs": []
    },
    {
      "cell_type": "markdown",
      "source": [
        "**Repeat all the above steps with augmeted Data**"
      ],
      "metadata": {
        "id": "fRS66k_fsPWk"
      }
    },
    {
      "cell_type": "code",
      "source": [
        "augmented_df['Potential_Accident_Level'].value_counts()"
      ],
      "metadata": {
        "colab": {
          "base_uri": "https://localhost:8080/"
        },
        "outputId": "e314b594-68fc-4cda-fd40-e88883d37a26",
        "id": "okMfCZhxsKyJ"
      },
      "execution_count": null,
      "outputs": [
        {
          "output_type": "execute_result",
          "data": {
            "text/plain": [
              "IV     276\n",
              "III    212\n",
              "II     190\n",
              "I       86\n",
              "V       58\n",
              "Name: Potential_Accident_Level, dtype: int64"
            ]
          },
          "metadata": {},
          "execution_count": 226
        }
      ]
    },
    {
      "cell_type": "code",
      "source": [
        "# shuffle the data\n",
        "\n",
        "augmented_df = augmented_df.sample(frac=1)"
      ],
      "metadata": {
        "id": "1syjsNC62WH1"
      },
      "execution_count": null,
      "outputs": []
    },
    {
      "cell_type": "code",
      "source": [
        "# Select input and output features\n",
        "\n",
        "X_text = augmented_df['Augmented_Description']\n",
        "y_text = augmented_df['Potential_Accident_Level']"
      ],
      "metadata": {
        "id": "2r4N_PstsKyK"
      },
      "execution_count": null,
      "outputs": []
    },
    {
      "cell_type": "code",
      "source": [
        "# Encode labels in column 'Potential Accident Level'and Convert into one-hot encoded vectors:\n",
        "Lab_en = LabelEncoder()\n",
        "y_text_en = Lab_en.fit_transform(y_text)\n",
        "y_text = np_utils.to_categorical(y_text_en)"
      ],
      "metadata": {
        "id": "hYcfiW9IsKyK"
      },
      "execution_count": null,
      "outputs": []
    },
    {
      "cell_type": "code",
      "source": [
        "# Divide our data into testing and training sets:\n",
        "X_text_train, X_text_test, y_text_train, y_text_test = train_test_split(X_text, y_text, test_size = 0.20, random_state = 55)\n",
        "\n",
        "print('X_text_train shape : ({0})'.format(X_text_train.shape))\n",
        "print('y_text_train shape : ({0},)'.format(y_text_train.shape))\n",
        "print('X_text_test shape : ({0})'.format(X_text_test.shape))\n",
        "print('y_text_test shape : ({0},)'.format(y_text_test.shape))"
      ],
      "metadata": {
        "colab": {
          "base_uri": "https://localhost:8080/"
        },
        "outputId": "e32761f7-b4a5-41cf-f955-71cad3299126",
        "id": "MsuMA7w2sKyK"
      },
      "execution_count": null,
      "outputs": [
        {
          "output_type": "stream",
          "name": "stdout",
          "text": [
            "X_text_train shape : ((657,))\n",
            "y_text_train shape : ((657, 5),)\n",
            "X_text_test shape : ((165,))\n",
            "y_text_test shape : ((165, 5),)\n"
          ]
        }
      ]
    },
    {
      "cell_type": "code",
      "source": [
        "# The first step in word embeddings is to convert the words into thier corresponding numeric indexes.\n",
        "tokenizer = Tokenizer(num_words=3000)\n",
        "tokenizer.fit_on_texts(X_text_train)\n",
        "X_text_train = tokenizer.texts_to_sequences(X_text_train)\n",
        "X_text_test = tokenizer.texts_to_sequences(X_text_test)"
      ],
      "metadata": {
        "id": "B6r-bPEVsKyK"
      },
      "execution_count": null,
      "outputs": []
    },
    {
      "cell_type": "code",
      "source": [
        "augmented_df['nb_words'] = augmented_df['Augmented_Description'].apply(lambda x: len(x.split(' ')))\n",
        "\n",
        "print('Minimum number of words: {}'.format(augmented_df['nb_words'].min()))\n",
        "print('Maximum number of words: {}'.format(augmented_df['nb_words'].max()))"
      ],
      "metadata": {
        "colab": {
          "base_uri": "https://localhost:8080/"
        },
        "outputId": "5e80796b-0ea8-4aa6-9dc3-6d8df24b3196",
        "id": "z0z1X37dsKyK"
      },
      "execution_count": null,
      "outputs": [
        {
          "output_type": "stream",
          "name": "stdout",
          "text": [
            "Minimum number of words: 16\n",
            "Maximum number of words: 188\n"
          ]
        }
      ]
    },
    {
      "cell_type": "code",
      "source": [
        "vocab_size = len(tokenizer.word_index) + 1\n",
        "print(\"vocab_size:\", vocab_size)\n",
        "\n",
        "maxlen = 190\n",
        "\n",
        "X_text_train = pad_sequences(X_text_train, padding='post', maxlen=maxlen)\n",
        "X_text_test = pad_sequences(X_text_test, padding='post', maxlen=maxlen)"
      ],
      "metadata": {
        "colab": {
          "base_uri": "https://localhost:8080/"
        },
        "outputId": "a5c5ad4e-34e0-496a-8f2c-a04321ec1e49",
        "id": "n_8K1df-sKyK"
      },
      "execution_count": null,
      "outputs": [
        {
          "output_type": "stream",
          "name": "stdout",
          "text": [
            "vocab_size: 5078\n"
          ]
        }
      ]
    },
    {
      "cell_type": "code",
      "source": [
        "embedding_size = 200\n",
        "\n",
        "embedding_matrix = np.zeros((vocab_size, embedding_size))\n",
        "\n",
        "for word, index in tokenizer.word_index.items():\n",
        "    embedding_vector = embeddings_dictionary.get(word)\n",
        "    if embedding_vector is not None:\n",
        "        embedding_matrix[index] = embedding_vector\n",
        "embedding_matrix.shape"
      ],
      "metadata": {
        "colab": {
          "base_uri": "https://localhost:8080/"
        },
        "outputId": "e13dd414-67e3-4bdd-9926-cab299d02fbf",
        "id": "0a8U2o5SsKyL"
      },
      "execution_count": null,
      "outputs": [
        {
          "output_type": "execute_result",
          "data": {
            "text/plain": [
              "(5078, 200)"
            ]
          },
          "metadata": {},
          "execution_count": 236
        }
      ]
    },
    {
      "cell_type": "markdown",
      "source": [
        "**Implement a Transformer block as a layer**"
      ],
      "metadata": {
        "id": "x9Wrm4tpsKyL"
      }
    },
    {
      "cell_type": "markdown",
      "source": [
        "**Implement embedding layer**\n",
        "\n",
        "Two seperate embedding layers, one for tokens, one for token index (positions)."
      ],
      "metadata": {
        "id": "SbUnhLEksKyL"
      }
    },
    {
      "cell_type": "code",
      "source": [
        "vocab_size = vocab_size  # Only consider the top 20k words\n",
        "maxlen = maxlen  # Only consider the first 200 words of each movie review\n",
        "x_train = X_text_train\n",
        "x_val = X_text_test\n",
        "y_train = y_text_train\n",
        "y_val = y_text_test"
      ],
      "metadata": {
        "id": "NjNqXl1xsKyM"
      },
      "execution_count": null,
      "outputs": []
    },
    {
      "cell_type": "markdown",
      "source": [
        "**Create classifier model using transformer layer**"
      ],
      "metadata": {
        "id": "hPKxewessKyM"
      }
    },
    {
      "cell_type": "code",
      "source": [
        "embed_dim = embedding_size  # Embedding size for each token\n",
        "num_heads = 5  # Number of attention heads\n",
        "ff_dim = 200 # Hidden layer size in feed forward network inside transformer\n",
        "\n",
        "inputs = layers.Input(shape=(maxlen,))\n",
        "embedding_layer = TokenAndPositionEmbedding(maxlen, vocab_size, embed_dim)\n",
        "x = embedding_layer(inputs)\n",
        "transformer_block = TransformerBlock(embed_dim, num_heads, ff_dim)\n",
        "x = transformer_block(x)\n",
        "x = layers.GlobalAveragePooling1D()(x)\n",
        "x = layers.Dropout(0.1)(x)\n",
        "x = layers.Dense(20, activation=\"relu\")(x)\n",
        "x = layers.Dropout(0.1)(x)\n",
        "outputs = layers.Dense(5, activation=\"softmax\")(x)\n",
        "\n",
        "\n",
        "model = keras.Model(inputs=inputs, outputs=outputs)\n",
        "print(model.summary())"
      ],
      "metadata": {
        "colab": {
          "base_uri": "https://localhost:8080/"
        },
        "outputId": "8902f708-f519-4f19-bb77-8313cac7c342",
        "id": "HY0XiyCcsKyM"
      },
      "execution_count": null,
      "outputs": [
        {
          "output_type": "stream",
          "name": "stdout",
          "text": [
            "Model: \"model_9\"\n",
            "_________________________________________________________________\n",
            " Layer (type)                Output Shape              Param #   \n",
            "=================================================================\n",
            " input_10 (InputLayer)       [(None, 190)]             0         \n",
            "                                                                 \n",
            " token_and_position_embeddin  (None, 190, 200)         1053600   \n",
            " g_9 (TokenAndPositionEmbedd                                     \n",
            " ing)                                                            \n",
            "                                                                 \n",
            " transformer_block_9 (Transf  (None, 190, 200)         884400    \n",
            " ormerBlock)                                                     \n",
            "                                                                 \n",
            " global_average_pooling1d_9   (None, 200)              0         \n",
            " (GlobalAveragePooling1D)                                        \n",
            "                                                                 \n",
            " dropout_46 (Dropout)        (None, 200)               0         \n",
            "                                                                 \n",
            " dense_38 (Dense)            (None, 20)                4020      \n",
            "                                                                 \n",
            " dropout_47 (Dropout)        (None, 20)                0         \n",
            "                                                                 \n",
            " dense_39 (Dense)            (None, 5)                 105       \n",
            "                                                                 \n",
            "=================================================================\n",
            "Total params: 1,942,125\n",
            "Trainable params: 1,942,125\n",
            "Non-trainable params: 0\n",
            "_________________________________________________________________\n",
            "None\n"
          ]
        }
      ]
    },
    {
      "cell_type": "code",
      "source": [
        "epochs = 30\n",
        "batch_size = 32\n",
        "loss = \"categorical_crossentropy\"\n",
        "opt = keras.optimizers.Adam(lr=1e-3)\n",
        "\n",
        "metrics = [\"accuracy\"]\n",
        "\n",
        "early_stopping = EarlyStopping(monitor='val_loss', mode='min', verbose=0, patience=3)\n",
        "\n",
        "model.compile(optimizer=opt, loss=loss, metrics=metrics)\n",
        "history = model.fit(\n",
        "    x_train, y_train, batch_size=batch_size, epochs=epochs, validation_data=(x_val, y_val)\n",
        ")"
      ],
      "metadata": {
        "colab": {
          "base_uri": "https://localhost:8080/"
        },
        "outputId": "73b105fd-921a-4845-8d8f-3d34549d7a31",
        "id": "jx9V9Hr7sKyM"
      },
      "execution_count": null,
      "outputs": [
        {
          "output_type": "stream",
          "name": "stdout",
          "text": [
            "Epoch 1/30\n",
            "21/21 [==============================] - 7s 131ms/step - loss: 1.6610 - accuracy: 0.3227 - val_loss: 1.5457 - val_accuracy: 0.3152\n",
            "Epoch 2/30\n",
            "21/21 [==============================] - 2s 83ms/step - loss: 1.5075 - accuracy: 0.3105 - val_loss: 1.5148 - val_accuracy: 0.3152\n",
            "Epoch 3/30\n",
            "21/21 [==============================] - 2s 74ms/step - loss: 1.5005 - accuracy: 0.3470 - val_loss: 1.4445 - val_accuracy: 0.3939\n",
            "Epoch 4/30\n",
            "21/21 [==============================] - 2s 73ms/step - loss: 1.3961 - accuracy: 0.3942 - val_loss: 1.3932 - val_accuracy: 0.4182\n",
            "Epoch 5/30\n",
            "21/21 [==============================] - 2s 76ms/step - loss: 1.2284 - accuracy: 0.4764 - val_loss: 1.5597 - val_accuracy: 0.3758\n",
            "Epoch 6/30\n",
            "21/21 [==============================] - 2s 75ms/step - loss: 0.9188 - accuracy: 0.5799 - val_loss: 1.0845 - val_accuracy: 0.5576\n",
            "Epoch 7/30\n",
            "21/21 [==============================] - 2s 76ms/step - loss: 0.5546 - accuracy: 0.7139 - val_loss: 1.4492 - val_accuracy: 0.5455\n",
            "Epoch 8/30\n",
            "21/21 [==============================] - 2s 75ms/step - loss: 0.3695 - accuracy: 0.8341 - val_loss: 1.1351 - val_accuracy: 0.6364\n",
            "Epoch 9/30\n",
            "21/21 [==============================] - 2s 75ms/step - loss: 0.2323 - accuracy: 0.9132 - val_loss: 1.2299 - val_accuracy: 0.6727\n",
            "Epoch 10/30\n",
            "21/21 [==============================] - 2s 73ms/step - loss: 0.1901 - accuracy: 0.9315 - val_loss: 1.3302 - val_accuracy: 0.6909\n",
            "Epoch 11/30\n",
            "21/21 [==============================] - 2s 74ms/step - loss: 0.1776 - accuracy: 0.9498 - val_loss: 1.3672 - val_accuracy: 0.6606\n",
            "Epoch 12/30\n",
            "21/21 [==============================] - 2s 75ms/step - loss: 0.1011 - accuracy: 0.9726 - val_loss: 1.4728 - val_accuracy: 0.7030\n",
            "Epoch 13/30\n",
            "21/21 [==============================] - 2s 74ms/step - loss: 0.0570 - accuracy: 0.9817 - val_loss: 1.8185 - val_accuracy: 0.6424\n",
            "Epoch 14/30\n",
            "21/21 [==============================] - 2s 74ms/step - loss: 0.0357 - accuracy: 0.9863 - val_loss: 1.4942 - val_accuracy: 0.7697\n",
            "Epoch 15/30\n",
            "21/21 [==============================] - 2s 74ms/step - loss: 0.0184 - accuracy: 0.9954 - val_loss: 1.7624 - val_accuracy: 0.6909\n",
            "Epoch 16/30\n",
            "21/21 [==============================] - 2s 74ms/step - loss: 0.0474 - accuracy: 0.9772 - val_loss: 1.6416 - val_accuracy: 0.7091\n",
            "Epoch 17/30\n",
            "21/21 [==============================] - 2s 74ms/step - loss: 0.0291 - accuracy: 0.9939 - val_loss: 2.0707 - val_accuracy: 0.7030\n",
            "Epoch 18/30\n",
            "21/21 [==============================] - 2s 74ms/step - loss: 0.0104 - accuracy: 0.9970 - val_loss: 1.6477 - val_accuracy: 0.7697\n",
            "Epoch 19/30\n",
            "21/21 [==============================] - 2s 74ms/step - loss: 0.0064 - accuracy: 0.9970 - val_loss: 1.7704 - val_accuracy: 0.7394\n",
            "Epoch 20/30\n",
            "21/21 [==============================] - 2s 75ms/step - loss: 0.0063 - accuracy: 1.0000 - val_loss: 1.8827 - val_accuracy: 0.7394\n",
            "Epoch 21/30\n",
            "21/21 [==============================] - 2s 75ms/step - loss: 0.0042 - accuracy: 1.0000 - val_loss: 2.0094 - val_accuracy: 0.7091\n",
            "Epoch 22/30\n",
            "21/21 [==============================] - 2s 74ms/step - loss: 0.0031 - accuracy: 1.0000 - val_loss: 2.1837 - val_accuracy: 0.6970\n",
            "Epoch 23/30\n",
            "21/21 [==============================] - 2s 76ms/step - loss: 0.0143 - accuracy: 0.9924 - val_loss: 2.5226 - val_accuracy: 0.6788\n",
            "Epoch 24/30\n",
            "21/21 [==============================] - 2s 75ms/step - loss: 0.0071 - accuracy: 0.9985 - val_loss: 2.1482 - val_accuracy: 0.7152\n",
            "Epoch 25/30\n",
            "21/21 [==============================] - 2s 75ms/step - loss: 0.0065 - accuracy: 0.9985 - val_loss: 2.0164 - val_accuracy: 0.7515\n",
            "Epoch 26/30\n",
            "21/21 [==============================] - 2s 75ms/step - loss: 0.0068 - accuracy: 0.9970 - val_loss: 2.2204 - val_accuracy: 0.7152\n",
            "Epoch 27/30\n",
            "21/21 [==============================] - 2s 74ms/step - loss: 0.0086 - accuracy: 0.9985 - val_loss: 2.4313 - val_accuracy: 0.7091\n",
            "Epoch 28/30\n",
            "21/21 [==============================] - 2s 75ms/step - loss: 0.0074 - accuracy: 0.9985 - val_loss: 2.5732 - val_accuracy: 0.6970\n",
            "Epoch 29/30\n",
            "21/21 [==============================] - 2s 75ms/step - loss: 0.0022 - accuracy: 1.0000 - val_loss: 2.4290 - val_accuracy: 0.7030\n",
            "Epoch 30/30\n",
            "21/21 [==============================] - 2s 74ms/step - loss: 0.0023 - accuracy: 1.0000 - val_loss: 2.4470 - val_accuracy: 0.7091\n"
          ]
        }
      ]
    },
    {
      "cell_type": "code",
      "source": [
        "# summarize history for accuracy\n",
        "plt.plot(history.history['accuracy'])\n",
        "plt.plot(history.history['val_accuracy'])\n",
        "plt.title('Model Accuracy')\n",
        "plt.ylabel('accuracy')\n",
        "plt.xlabel('epoch')\n",
        "plt.legend(['train', 'test'], loc='upper left')\n",
        "plt.show()"
      ],
      "metadata": {
        "colab": {
          "base_uri": "https://localhost:8080/",
          "height": 295
        },
        "outputId": "194509d9-09fa-442e-cb3f-3bcbc35df21b",
        "id": "z_leLGFTsKyM"
      },
      "execution_count": null,
      "outputs": [
        {
          "output_type": "display_data",
          "data": {
            "image/png": "[encoded data removed]",
            "text/plain": [
              "<Figure size 432x288 with 1 Axes>"
            ]
          },
          "metadata": {
            "needs_background": "light"
          }
        }
      ]
    },
    {
      "cell_type": "code",
      "source": [
        "# summarize history for loss\n",
        "plt.plot(history.history['loss'])\n",
        "plt.plot(history.history['val_loss'])\n",
        "plt.title('Model Loss')\n",
        "plt.ylabel('loss')\n",
        "plt.xlabel('epoch')\n",
        "plt.legend(['train', 'test'], loc='upper left')\n",
        "plt.show()"
      ],
      "metadata": {
        "colab": {
          "base_uri": "https://localhost:8080/",
          "height": 295
        },
        "outputId": "1eb808fe-fa87-47ee-a11b-6e6776cc583d",
        "id": "VL2jlMnSsKyM"
      },
      "execution_count": null,
      "outputs": [
        {
          "output_type": "display_data",
          "data": {
            "image/png": "[encoded data removed]",
            "text/plain": [
              "<Figure size 432x288 with 1 Axes>"
            ]
          },
          "metadata": {
            "needs_background": "light"
          }
        }
      ]
    },
    {
      "cell_type": "markdown",
      "source": [
        "**Validation Data**"
      ],
      "metadata": {
        "id": "bfmzp-LpOJLT"
      }
    },
    {
      "cell_type": "code",
      "source": [
        "#predict the labels\n",
        "y_predicted_labels = model.predict(X_text_test)"
      ],
      "metadata": {
        "id": "fXTuLnCz2CKt"
      },
      "execution_count": null,
      "outputs": []
    },
    {
      "cell_type": "code",
      "source": [
        "y_pred_index = np.argmax(y_predicted_labels,axis=1)\n",
        "y_original = np.argmax(y_text_test, axis =1)"
      ],
      "metadata": {
        "id": "6Yqr5hOPKwuM"
      },
      "execution_count": null,
      "outputs": []
    },
    {
      "cell_type": "code",
      "source": [
        "#plot the confusion matrix\n",
        "cm = confusion_matrix(y_original,y_pred_index)\n",
        "cm_label = ['I', 'II', 'III','IV', 'V']\n",
        "plt.figure(figsize=(6,6))\n",
        "sns.heatmap(cm, annot=True, cmap='Blues',xticklabels = cm_label, yticklabels = cm_label,fmt='g');"
      ],
      "metadata": {
        "colab": {
          "base_uri": "https://localhost:8080/",
          "height": 374
        },
        "id": "VEslIvh2KC83",
        "outputId": "cd301445-50e0-4449-a5e3-76d12ba7dc62"
      },
      "execution_count": null,
      "outputs": [
        {
          "output_type": "display_data",
          "data": {
            "image/png": "[encoded data removed]",
            "text/plain": [
              "<Figure size 432x432 with 2 Axes>"
            ]
          },
          "metadata": {
            "needs_background": "light"
          }
        }
      ]
    },
    {
      "cell_type": "code",
      "source": [
        "print(classification_report(y_original, y_pred_index))"
      ],
      "metadata": {
        "colab": {
          "base_uri": "https://localhost:8080/"
        },
        "id": "-rlt7rQqbgbB",
        "outputId": "2690724d-dc71-491e-967e-16ba251d5337"
      },
      "execution_count": null,
      "outputs": [
        {
          "output_type": "stream",
          "name": "stdout",
          "text": [
            "              precision    recall  f1-score   support\n",
            "\n",
            "           0       0.85      0.89      0.87        19\n",
            "           1       0.46      0.76      0.57        34\n",
            "           2       0.93      0.52      0.67        48\n",
            "           3       0.80      0.79      0.80        52\n",
            "           4       0.80      0.67      0.73        12\n",
            "\n",
            "    accuracy                           0.71       165\n",
            "   macro avg       0.77      0.73      0.73       165\n",
            "weighted avg       0.77      0.71      0.72       165\n",
            "\n"
          ]
        }
      ]
    },
    {
      "cell_type": "markdown",
      "source": [
        "**Training Data**"
      ],
      "metadata": {
        "id": "6FoO_FbJOYQv"
      }
    },
    {
      "cell_type": "code",
      "source": [
        "#predict the labels\n",
        "y_predicted_labels_train = model.predict(X_text_train)"
      ],
      "metadata": {
        "id": "KJdxffG6ORx3"
      },
      "execution_count": null,
      "outputs": []
    },
    {
      "cell_type": "code",
      "source": [
        "y_pred_index_train = np.argmax(y_predicted_labels_train,axis=1)\n",
        "y_original_train = np.argmax(y_text_train, axis =1)"
      ],
      "metadata": {
        "id": "zS2D2Iw3Ofnk"
      },
      "execution_count": null,
      "outputs": []
    },
    {
      "cell_type": "code",
      "source": [
        "#plot the confusion matrix\n",
        "cm = confusion_matrix(y_original_train,y_pred_index_train)\n",
        "cm_label = ['I', 'II', 'III','IV', 'V']\n",
        "plt.figure(figsize=(6,6))\n",
        "sns.heatmap(cm, annot=True, cmap='Blues',xticklabels = cm_label, yticklabels = cm_label,fmt='g');"
      ],
      "metadata": {
        "colab": {
          "base_uri": "https://localhost:8080/",
          "height": 374
        },
        "id": "gBp7GhUrOppY",
        "outputId": "9e99e7ea-bce6-468b-870b-4035b5c00c31"
      },
      "execution_count": null,
      "outputs": [
        {
          "output_type": "display_data",
          "data": {
            "image/png": "[encoded data removed]",
            "text/plain": [
              "<Figure size 432x432 with 2 Axes>"
            ]
          },
          "metadata": {
            "needs_background": "light"
          }
        }
      ]
    },
    {
      "cell_type": "code",
      "source": [
        "print(classification_report(y_original_train, y_pred_index_train))"
      ],
      "metadata": {
        "colab": {
          "base_uri": "https://localhost:8080/"
        },
        "id": "K40R_6BObZEs",
        "outputId": "d04d563c-90ec-46a5-f375-4ba7d9175fe5"
      },
      "execution_count": null,
      "outputs": [
        {
          "output_type": "stream",
          "name": "stdout",
          "text": [
            "              precision    recall  f1-score   support\n",
            "\n",
            "           0       1.00      1.00      1.00        67\n",
            "           1       1.00      1.00      1.00       156\n",
            "           2       1.00      1.00      1.00       164\n",
            "           3       1.00      1.00      1.00       224\n",
            "           4       1.00      1.00      1.00        46\n",
            "\n",
            "    accuracy                           1.00       657\n",
            "   macro avg       1.00      1.00      1.00       657\n",
            "weighted avg       1.00      1.00      1.00       657\n",
            "\n"
          ]
        }
      ]
    },
    {
      "cell_type": "code",
      "source": [
        "# pickle the model\n",
        "\n",
        "# save the model to disk\n",
        "filename = 'final_simple_transformer_model_updated.sav'\n",
        "pickle.dump(model, open(filename, 'wb'))"
      ],
      "metadata": {
        "colab": {
          "base_uri": "https://localhost:8080/"
        },
        "id": "fe_5Aj9lO-43",
        "outputId": "62e4772c-1109-4deb-c579-f29450357d7f"
      },
      "execution_count": null,
      "outputs": [
        {
          "output_type": "stream",
          "name": "stderr",
          "text": [
            "WARNING:absl:Found untraced functions such as embedding_18_layer_call_fn, embedding_18_layer_call_and_return_conditional_losses, embedding_19_layer_call_fn, embedding_19_layer_call_and_return_conditional_losses, multi_head_attention_9_layer_call_fn while saving (showing 5 of 65). These functions will not be directly callable after loading.\n"
          ]
        },
        {
          "output_type": "stream",
          "name": "stdout",
          "text": [
            "INFO:tensorflow:Assets written to: ram://f6146012-75b8-4488-bf3f-afdce9916b32/assets\n"
          ]
        },
        {
          "output_type": "stream",
          "name": "stderr",
          "text": [
            "INFO:tensorflow:Assets written to: ram://f6146012-75b8-4488-bf3f-afdce9916b32/assets\n"
          ]
        }
      ]
    },
    {
      "cell_type": "code",
      "source": [
        "# load the model from disk\n",
        "#filename = '/content/drive/MyDrive/AIML/Capstone/simple_transformer_model.sav'\n",
        "loaded_model = pickle.load(open(filename, 'rb'))\n",
        "result = loaded_model.evaluate(x_val, y_val)\n",
        "print(result)"
      ],
      "metadata": {
        "colab": {
          "base_uri": "https://localhost:8080/"
        },
        "id": "GYOEnplOQSlI",
        "outputId": "eeb0b12c-f4ae-42e1-966d-09dd9e629c58"
      },
      "execution_count": null,
      "outputs": [
        {
          "output_type": "stream",
          "name": "stdout",
          "text": [
            "6/6 [==============================] - 0s 31ms/step - loss: 2.4470 - accuracy: 0.7091\n",
            "[2.446956157684326, 0.7090908885002136]\n"
          ]
        }
      ]
    },
    {
      "cell_type": "code",
      "source": [
        "#loaded_model = pickle.load(open(filename, 'rb'))\n",
        "result = loaded_model.evaluate(x_train, y_train)\n",
        "print(result)"
      ],
      "metadata": {
        "colab": {
          "base_uri": "https://localhost:8080/"
        },
        "id": "Iz08NzJLGUHt",
        "outputId": "f40a10d7-7b09-4255-e637-ee73d531a2cf"
      },
      "execution_count": null,
      "outputs": [
        {
          "output_type": "stream",
          "name": "stdout",
          "text": [
            "21/21 [==============================] - 1s 36ms/step - loss: 8.8919e-05 - accuracy: 1.0000\n",
            "[8.891857578419149e-05, 1.0]\n"
          ]
        }
      ]
    },
    {
      "cell_type": "markdown",
      "source": [
        "# **Using the CSV File industry_df augmented with the same transformer**"
      ],
      "metadata": {
        "id": "PRSdsg4aHrwy"
      }
    },
    {
      "cell_type": "code",
      "source": [
        ""
      ],
      "metadata": {
        "id": "0GEOYlWI9WxE"
      },
      "execution_count": null,
      "outputs": []
    },
    {
      "cell_type": "code",
      "source": [
        "industry_df_augmented = pd.read_csv('https://raw.githubusercontent.com/shyamsparrow/Jan-G4---NLP-Chatbot/Models/industry_augmentation.csv')"
      ],
      "metadata": {
        "id": "mI9jNz_DMEdw"
      },
      "execution_count": null,
      "outputs": []
    },
    {
      "cell_type": "code",
      "source": [
        "industry_df_augmented.head(2)"
      ],
      "metadata": {
        "colab": {
          "base_uri": "https://localhost:8080/",
          "height": 112
        },
        "id": "h0XCBOP2Ms32",
        "outputId": "1b98b9bc-6aec-49e3-fa8a-7263ceff719c"
      },
      "execution_count": null,
      "outputs": [
        {
          "output_type": "execute_result",
          "data": {
            "text/html": [
              "\n",
              "  <div id=\"df-02b937b1-c115-44df-9568-1c1d8b021f65\">\n",
              "    <div class=\"colab-df-container\">\n",
              "      <div>\n",
              "<style scoped>\n",
              "    .dataframe tbody tr th:only-of-type {\n",
              "        vertical-align: middle;\n",
              "    }\n",
              "\n",
              "    .dataframe tbody tr th {\n",
              "        vertical-align: top;\n",
              "    }\n",
              "\n",
              "    .dataframe thead th {\n",
              "        text-align: right;\n",
              "    }\n",
              "</style>\n",
              "<table border=\"1\" class=\"dataframe\">\n",
              "  <thead>\n",
              "    <tr style=\"text-align: right;\">\n",
              "      <th></th>\n",
              "      <th>Description</th>\n",
              "      <th>Potential_Accident_Level</th>\n",
              "    </tr>\n",
              "  </thead>\n",
              "  <tbody>\n",
              "    <tr>\n",
              "      <th>0</th>\n",
              "      <td>While removing the drill rod of the Jumbo 08 f...</td>\n",
              "      <td>IV</td>\n",
              "    </tr>\n",
              "    <tr>\n",
              "      <th>1</th>\n",
              "      <td>During the activation of a sodium sulphide pum...</td>\n",
              "      <td>IV</td>\n",
              "    </tr>\n",
              "  </tbody>\n",
              "</table>\n",
              "</div>\n",
              "      <button class=\"colab-df-convert\" onclick=\"convertToInteractive('df-02b937b1-c115-44df-9568-1c1d8b021f65')\"\n",
              "              title=\"Convert this dataframe to an interactive table.\"\n",
              "              style=\"display:none;\">\n",
              "        \n",
              "  <svg xmlns=\"http://www.w3.org/2000/svg\" height=\"24px\"viewBox=\"0 0 24 24\"\n",
              "       width=\"24px\">\n",
              "    <path d=\"M0 0h24v24H0V0z\" fill=\"none\"/>\n",
              "    <path d=\"M18.56 5.44l.94 2.06.94-2.06 2.06-.94-2.06-.94-.94-2.06-.94 2.06-2.06.94zm-11 1L8.5 8.5l.94-2.06 2.06-.94-2.06-.94L8.5 2.5l-.94 2.06-2.06.94zm10 10l.94 2.06.94-2.06 2.06-.94-2.06-.94-.94-2.06-.94 2.06-2.06.94z\"/><path d=\"M17.41 7.96l-1.37-1.37c-.4-.4-.92-.59-1.43-.59-.52 0-1.04.2-1.43.59L10.3 9.45l-7.72 7.72c-.78.78-.78 2.05 0 2.83L4 21.41c.39.39.9.59 1.41.59.51 0 1.02-.2 1.41-.59l7.78-7.78 2.81-2.81c.8-.78.8-2.07 0-2.86zM5.41 20L4 18.59l7.72-7.72 1.47 1.35L5.41 20z\"/>\n",
              "  </svg>\n",
              "      </button>\n",
              "      \n",
              "  <style>\n",
              "    .colab-df-container {\n",
              "      display:flex;\n",
              "      flex-wrap:wrap;\n",
              "      gap: 12px;\n",
              "    }\n",
              "\n",
              "    .colab-df-convert {\n",
              "      background-color: #E8F0FE;\n",
              "      border: none;\n",
              "      border-radius: 50%;\n",
              "      cursor: pointer;\n",
              "      display: none;\n",
              "      fill: #1967D2;\n",
              "      height: 32px;\n",
              "      padding: 0 0 0 0;\n",
              "      width: 32px;\n",
              "    }\n",
              "\n",
              "    .colab-df-convert:hover {\n",
              "      background-color: #E2EBFA;\n",
              "      box-shadow: 0px 1px 2px rgba(60, 64, 67, 0.3), 0px 1px 3px 1px rgba(60, 64, 67, 0.15);\n",
              "      fill: #174EA6;\n",
              "    }\n",
              "\n",
              "    [theme=dark] .colab-df-convert {\n",
              "      background-color: #3B4455;\n",
              "      fill: #D2E3FC;\n",
              "    }\n",
              "\n",
              "    [theme=dark] .colab-df-convert:hover {\n",
              "      background-color: #434B5C;\n",
              "      box-shadow: 0px 1px 3px 1px rgba(0, 0, 0, 0.15);\n",
              "      filter: drop-shadow(0px 1px 2px rgba(0, 0, 0, 0.3));\n",
              "      fill: #FFFFFF;\n",
              "    }\n",
              "  </style>\n",
              "\n",
              "      <script>\n",
              "        const buttonEl =\n",
              "          document.querySelector('#df-02b937b1-c115-44df-9568-1c1d8b021f65 button.colab-df-convert');\n",
              "        buttonEl.style.display =\n",
              "          google.colab.kernel.accessAllowed ? 'block' : 'none';\n",
              "\n",
              "        async function convertToInteractive(key) {\n",
              "          const element = document.querySelector('#df-02b937b1-c115-44df-9568-1c1d8b021f65');\n",
              "          const dataTable =\n",
              "            await google.colab.kernel.invokeFunction('convertToInteractive',\n",
              "                                                     [key], {});\n",
              "          if (!dataTable) return;\n",
              "\n",
              "          const docLinkHtml = 'Like what you see? Visit the ' +\n",
              "            '<a target=\"_blank\" href=https://colab.research.google.com/notebooks/data_table.ipynb>data table notebook</a>'\n",
              "            + ' to learn more about interactive tables.';\n",
              "          element.innerHTML = '';\n",
              "          dataTable['output_type'] = 'display_data';\n",
              "          await google.colab.output.renderOutput(dataTable, element);\n",
              "          const docLink = document.createElement('div');\n",
              "          docLink.innerHTML = docLinkHtml;\n",
              "          element.appendChild(docLink);\n",
              "        }\n",
              "      </script>\n",
              "    </div>\n",
              "  </div>\n",
              "  "
            ],
            "text/plain": [
              "                                         Description Potential_Accident_Level\n",
              "0  While removing the drill rod of the Jumbo 08 f...                       IV\n",
              "1  During the activation of a sodium sulphide pum...                       IV"
            ]
          },
          "metadata": {},
          "execution_count": 147
        }
      ]
    },
    {
      "cell_type": "code",
      "source": [
        "industry_df_augmented['Potential_Accident_Level'].value_counts()"
      ],
      "metadata": {
        "colab": {
          "base_uri": "https://localhost:8080/"
        },
        "outputId": "af80a917-1786-4120-e6a4-97e3f5a2c5d4",
        "id": "9a0qZ2dgN4Yj"
      },
      "execution_count": null,
      "outputs": [
        {
          "output_type": "execute_result",
          "data": {
            "text/plain": [
              "IV     276\n",
              "III    212\n",
              "II     190\n",
              "I       86\n",
              "V       58\n",
              "Name: Potential_Accident_Level, dtype: int64"
            ]
          },
          "metadata": {},
          "execution_count": 148
        }
      ]
    },
    {
      "cell_type": "code",
      "source": [
        "# Select input and output features\n",
        "\n",
        "X_text = industry_df_augmented['Description']\n",
        "y_text = industry_df_augmented['Potential_Accident_Level']"
      ],
      "metadata": {
        "id": "OCy-fmkGN4Yj"
      },
      "execution_count": null,
      "outputs": []
    },
    {
      "cell_type": "code",
      "source": [
        "# Encode labels in column 'Potential Accident Level'and Convert into one-hot encoded vectors:\n",
        "Lab_en = LabelEncoder()\n",
        "y_text_en = Lab_en.fit_transform(y_text)\n",
        "y_text = np_utils.to_categorical(y_text_en)"
      ],
      "metadata": {
        "id": "vnaNdysxN4Yj"
      },
      "execution_count": null,
      "outputs": []
    },
    {
      "cell_type": "code",
      "source": [
        "# Divide our data into testing and training sets:\n",
        "X_text_train, X_text_test, y_text_train, y_text_test = train_test_split(X_text, y_text, test_size = 0.20, random_state = 55)\n",
        "\n",
        "print('X_text_train shape : ({0})'.format(X_text_train.shape))\n",
        "print('y_text_train shape : ({0},)'.format(y_text_train.shape))\n",
        "print('X_text_test shape : ({0})'.format(X_text_test.shape))\n",
        "print('y_text_test shape : ({0},)'.format(y_text_test.shape))"
      ],
      "metadata": {
        "colab": {
          "base_uri": "https://localhost:8080/"
        },
        "outputId": "bb8369c8-00e3-4e49-9684-01f7c6500b23",
        "id": "y6m5tiXhN4Yk"
      },
      "execution_count": null,
      "outputs": [
        {
          "output_type": "stream",
          "name": "stdout",
          "text": [
            "X_text_train shape : ((657,))\n",
            "y_text_train shape : ((657, 5),)\n",
            "X_text_test shape : ((165,))\n",
            "y_text_test shape : ((165, 5),)\n"
          ]
        }
      ]
    },
    {
      "cell_type": "code",
      "source": [
        "# The first step in word embeddings is to convert the words into thier corresponding numeric indexes.\n",
        "tokenizer = Tokenizer(num_words=3000)\n",
        "tokenizer.fit_on_texts(X_text_train)\n",
        "X_text_train = tokenizer.texts_to_sequences(X_text_train)\n",
        "X_text_test = tokenizer.texts_to_sequences(X_text_test)"
      ],
      "metadata": {
        "id": "x4DxRMSVN4Yk"
      },
      "execution_count": null,
      "outputs": []
    },
    {
      "cell_type": "code",
      "source": [
        "industry_df_augmented['nb_words'] = industry_df_augmented['Description'].apply(lambda x: len(x.split(' ')))\n",
        "\n",
        "print('Minimum number of words: {}'.format(industry_df_augmented['nb_words'].min()))\n",
        "print('Maximum number of words: {}'.format(industry_df_augmented['nb_words'].max()))"
      ],
      "metadata": {
        "colab": {
          "base_uri": "https://localhost:8080/"
        },
        "outputId": "9985ce61-b4d0-4953-bf63-a8be3067a68b",
        "id": "nI-GrO12N4Yk"
      },
      "execution_count": null,
      "outputs": [
        {
          "output_type": "stream",
          "name": "stdout",
          "text": [
            "Minimum number of words: 16\n",
            "Maximum number of words: 192\n"
          ]
        }
      ]
    },
    {
      "cell_type": "code",
      "source": [
        "vocab_size = len(tokenizer.word_index) + 1\n",
        "print(\"vocab_size:\", vocab_size)\n",
        "\n",
        "maxlen = 200\n",
        "\n",
        "X_text_train = pad_sequences(X_text_train, padding='post', maxlen=maxlen)\n",
        "X_text_test = pad_sequences(X_text_test, padding='post', maxlen=maxlen)"
      ],
      "metadata": {
        "colab": {
          "base_uri": "https://localhost:8080/"
        },
        "outputId": "4af76e23-aa20-4a8d-98f8-aa3c7c6e1572",
        "id": "00XG6aXuN4Yk"
      },
      "execution_count": null,
      "outputs": [
        {
          "output_type": "stream",
          "name": "stdout",
          "text": [
            "vocab_size: 3937\n"
          ]
        }
      ]
    },
    {
      "cell_type": "code",
      "source": [
        "%cd /content/drive/MyDrive/AIML/Capstone"
      ],
      "metadata": {
        "colab": {
          "base_uri": "https://localhost:8080/"
        },
        "outputId": "3a0c0865-88f4-44be-804b-4b00844fb0b8",
        "id": "n8QFFRHaOm_0"
      },
      "execution_count": null,
      "outputs": [
        {
          "output_type": "stream",
          "name": "stdout",
          "text": [
            "/content/drive/MyDrive/AIML/Capstone\n"
          ]
        }
      ]
    },
    {
      "cell_type": "code",
      "source": [
        "print('Indexing word vectors.')\n",
        "\n",
        "embeddings_dictionary = {}\n",
        "f = open('glove.6B.200d.txt', encoding='utf-8')\n",
        "for line in f:\n",
        "    values = line.split()\n",
        "    word = values[0]\n",
        "    coefs = np.asarray(values[1:], dtype='float32')\n",
        "    embeddings_dictionary[word] = coefs\n",
        "f.close()\n",
        "\n",
        "print('Found %s word vectors.' % len(embeddings_dictionary))"
      ],
      "metadata": {
        "colab": {
          "base_uri": "https://localhost:8080/"
        },
        "id": "FTleYzTwPJgW",
        "outputId": "e1eb03ab-27a4-4b48-c1ae-af73feb9032d"
      },
      "execution_count": null,
      "outputs": [
        {
          "output_type": "stream",
          "name": "stdout",
          "text": [
            "Indexing word vectors.\n",
            "Found 400000 word vectors.\n"
          ]
        }
      ]
    },
    {
      "cell_type": "code",
      "source": [
        "embedding_size = 200\n",
        "\n",
        "embedding_matrix = np.zeros((vocab_size, embedding_size))\n",
        "\n",
        "for word, index in tokenizer.word_index.items():\n",
        "    embedding_vector = embeddings_dictionary.get(word)\n",
        "    if embedding_vector is not None:\n",
        "        embedding_matrix[index] = embedding_vector\n",
        "embedding_matrix.shape"
      ],
      "metadata": {
        "colab": {
          "base_uri": "https://localhost:8080/"
        },
        "outputId": "8aedc497-62f8-46a6-85e4-2d8f7cfab156",
        "id": "zVCtT6GzOm_1"
      },
      "execution_count": null,
      "outputs": [
        {
          "output_type": "execute_result",
          "data": {
            "text/plain": [
              "(3937, 200)"
            ]
          },
          "metadata": {},
          "execution_count": 157
        }
      ]
    },
    {
      "cell_type": "code",
      "source": [
        "import tensorflow as tf\n",
        "from tensorflow import keras\n",
        "from tensorflow.keras import layers"
      ],
      "metadata": {
        "id": "Ip51ud2hOm_1"
      },
      "execution_count": null,
      "outputs": []
    },
    {
      "cell_type": "markdown",
      "source": [
        "**Implement a Transformer block as a layer**"
      ],
      "metadata": {
        "id": "41wKcBFWOm_1"
      }
    },
    {
      "cell_type": "code",
      "source": [
        "class TransformerBlock(layers.Layer):\n",
        "    def __init__(self, embed_dim, num_heads, ff_dim, rate=0.1):\n",
        "        super(TransformerBlock, self).__init__()\n",
        "        self.att = layers.MultiHeadAttention(num_heads=num_heads, key_dim=embed_dim)\n",
        "        self.ffn = keras.Sequential(\n",
        "            [layers.Dense(ff_dim, activation=\"relu\"), layers.Dense(embed_dim),]\n",
        "        )\n",
        "        self.layernorm1 = layers.LayerNormalization(epsilon=1e-4)\n",
        "        self.layernorm2 = layers.LayerNormalization(epsilon=1e-4)\n",
        "        self.dropout1 = layers.Dropout(rate)\n",
        "        self.dropout2 = layers.Dropout(rate)\n",
        "\n",
        "    def call(self, inputs, training):\n",
        "        attn_output = self.att(inputs, inputs)\n",
        "        attn_output = self.dropout1(attn_output, training=training)\n",
        "        out1 = self.layernorm1(inputs + attn_output)\n",
        "        ffn_output = self.ffn(out1)\n",
        "        ffn_output = self.dropout2(ffn_output, training=training)\n",
        "        return self.layernorm2(out1 + ffn_output)"
      ],
      "metadata": {
        "id": "axgzEiaDOm_1"
      },
      "execution_count": null,
      "outputs": []
    },
    {
      "cell_type": "markdown",
      "source": [
        "**Implement embedding layer**\n",
        "\n",
        "Two seperate embedding layers, one for tokens, one for token index (positions)."
      ],
      "metadata": {
        "id": "F5Z30iLHOm_1"
      }
    },
    {
      "cell_type": "code",
      "source": [
        "class TokenAndPositionEmbedding(layers.Layer):\n",
        "    def __init__(self, maxlen, vocab_size, embed_dim):\n",
        "        super(TokenAndPositionEmbedding, self).__init__()\n",
        "        self.token_emb = layers.Embedding(input_dim=vocab_size, output_dim=embed_dim)\n",
        "        self.pos_emb = layers.Embedding(input_dim=maxlen, output_dim=embed_dim)\n",
        "\n",
        "    def call(self, x):\n",
        "        maxlen = tf.shape(x)[-1]\n",
        "        positions = tf.range(start=0, limit=maxlen, delta=1)\n",
        "        positions = self.pos_emb(positions)\n",
        "        x = self.token_emb(x)\n",
        "        return x + positions"
      ],
      "metadata": {
        "id": "-GgfEGPbOm_1"
      },
      "execution_count": null,
      "outputs": []
    },
    {
      "cell_type": "code",
      "source": [
        "vocab_size = vocab_size  # Only consider the top 20k words\n",
        "maxlen = maxlen  # Only consider the first 200 words of each movie review\n",
        "x_train = X_text_train\n",
        "x_val = X_text_test\n",
        "y_train = y_text_train\n",
        "y_val = y_text_test"
      ],
      "metadata": {
        "id": "V75xCkwbOm_2"
      },
      "execution_count": null,
      "outputs": []
    },
    {
      "cell_type": "markdown",
      "source": [
        "**Create classifier model using transformer layer**"
      ],
      "metadata": {
        "id": "smmgv4EvOm_2"
      }
    },
    {
      "cell_type": "code",
      "source": [
        "embed_dim = embedding_size  # Embedding size for each token\n",
        "num_heads = 5  # Number of attention heads\n",
        "ff_dim = 200 # Hidden layer size in feed forward network inside transformer\n",
        "\n",
        "inputs = layers.Input(shape=(maxlen,))\n",
        "embedding_layer = TokenAndPositionEmbedding(maxlen, vocab_size, embed_dim)\n",
        "x = embedding_layer(inputs)\n",
        "transformer_block = TransformerBlock(embed_dim, num_heads, ff_dim)\n",
        "x = transformer_block(x)\n",
        "x = layers.GlobalAveragePooling1D()(x)\n",
        "x = layers.Dropout(0.1)(x)\n",
        "x = layers.Dense(20, activation=\"relu\")(x)\n",
        "x = layers.Dropout(0.1)(x)\n",
        "outputs = layers.Dense(5, activation=\"softmax\")(x)\n",
        "\n",
        "\n",
        "model = keras.Model(inputs=inputs, outputs=outputs)\n",
        "print(model.summary())"
      ],
      "metadata": {
        "colab": {
          "base_uri": "https://localhost:8080/"
        },
        "outputId": "a303f761-052d-40aa-91a1-30b14ca08d0c",
        "id": "rUT0l_gmOm_2"
      },
      "execution_count": null,
      "outputs": [
        {
          "output_type": "stream",
          "name": "stdout",
          "text": [
            "Model: \"model_6\"\n",
            "_________________________________________________________________\n",
            " Layer (type)                Output Shape              Param #   \n",
            "=================================================================\n",
            " input_7 (InputLayer)        [(None, 200)]             0         \n",
            "                                                                 \n",
            " token_and_position_embeddin  (None, 200, 200)         827400    \n",
            " g_6 (TokenAndPositionEmbedd                                     \n",
            " ing)                                                            \n",
            "                                                                 \n",
            " transformer_block_6 (Transf  (None, 200, 200)         884400    \n",
            " ormerBlock)                                                     \n",
            "                                                                 \n",
            " global_average_pooling1d_6   (None, 200)              0         \n",
            " (GlobalAveragePooling1D)                                        \n",
            "                                                                 \n",
            " dropout_29 (Dropout)        (None, 200)               0         \n",
            "                                                                 \n",
            " dense_26 (Dense)            (None, 20)                4020      \n",
            "                                                                 \n",
            " dropout_30 (Dropout)        (None, 20)                0         \n",
            "                                                                 \n",
            " dense_27 (Dense)            (None, 5)                 105       \n",
            "                                                                 \n",
            "=================================================================\n",
            "Total params: 1,715,925\n",
            "Trainable params: 1,715,925\n",
            "Non-trainable params: 0\n",
            "_________________________________________________________________\n",
            "None\n"
          ]
        }
      ]
    },
    {
      "cell_type": "code",
      "source": [
        "epochs = 50\n",
        "batch_size = 100\n",
        "loss = \"categorical_crossentropy\"\n",
        "opt = keras.optimizers.Adam(lr=1e-3)\n",
        "\n",
        "metrics = [\"accuracy\"]\n",
        "\n",
        "early_stopping = EarlyStopping(monitor='val_loss', mode='min', verbose=0, patience=4)\n",
        "\n",
        "model.compile(optimizer=opt, loss=loss, metrics=metrics)\n",
        "history = model.fit(\n",
        "    x_train, y_train, batch_size=batch_size, epochs=epochs, validation_data=(x_val, y_val), callbacks = early_stopping\n",
        ")"
      ],
      "metadata": {
        "colab": {
          "base_uri": "https://localhost:8080/"
        },
        "outputId": "3f62d01a-fa74-467b-b16e-eb98021d4748",
        "id": "rZ_G4kolOm_2"
      },
      "execution_count": null,
      "outputs": [
        {
          "output_type": "stream",
          "name": "stdout",
          "text": [
            "Epoch 1/50\n",
            "7/7 [==============================] - 4s 366ms/step - loss: 1.6539 - accuracy: 0.3075 - val_loss: 1.5053 - val_accuracy: 0.2909\n",
            "Epoch 2/50\n",
            "7/7 [==============================] - 1s 213ms/step - loss: 1.4850 - accuracy: 0.3501 - val_loss: 1.4763 - val_accuracy: 0.2909\n",
            "Epoch 3/50\n",
            "7/7 [==============================] - 1s 206ms/step - loss: 1.4673 - accuracy: 0.3303 - val_loss: 1.4559 - val_accuracy: 0.3939\n",
            "Epoch 4/50\n",
            "7/7 [==============================] - 1s 206ms/step - loss: 1.4581 - accuracy: 0.3379 - val_loss: 1.4476 - val_accuracy: 0.3636\n",
            "Epoch 5/50\n",
            "7/7 [==============================] - 1s 207ms/step - loss: 1.4229 - accuracy: 0.3744 - val_loss: 1.4435 - val_accuracy: 0.2909\n",
            "Epoch 6/50\n",
            "7/7 [==============================] - 1s 207ms/step - loss: 1.4065 - accuracy: 0.3303 - val_loss: 1.3900 - val_accuracy: 0.3939\n",
            "Epoch 7/50\n",
            "7/7 [==============================] - 1s 207ms/step - loss: 1.3755 - accuracy: 0.3638 - val_loss: 1.3870 - val_accuracy: 0.4000\n",
            "Epoch 8/50\n",
            "7/7 [==============================] - 1s 206ms/step - loss: 1.3302 - accuracy: 0.3973 - val_loss: 1.3528 - val_accuracy: 0.3152\n",
            "Epoch 9/50\n",
            "7/7 [==============================] - 1s 206ms/step - loss: 1.2336 - accuracy: 0.4368 - val_loss: 1.3927 - val_accuracy: 0.3273\n",
            "Epoch 10/50\n",
            "7/7 [==============================] - 1s 207ms/step - loss: 1.1689 - accuracy: 0.4916 - val_loss: 1.2529 - val_accuracy: 0.4061\n",
            "Epoch 11/50\n",
            "7/7 [==============================] - 1s 207ms/step - loss: 0.9750 - accuracy: 0.5525 - val_loss: 1.1131 - val_accuracy: 0.5152\n",
            "Epoch 12/50\n",
            "7/7 [==============================] - 1s 207ms/step - loss: 0.8460 - accuracy: 0.6271 - val_loss: 1.1149 - val_accuracy: 0.5636\n",
            "Epoch 13/50\n",
            "7/7 [==============================] - 1s 207ms/step - loss: 0.6629 - accuracy: 0.7230 - val_loss: 1.0554 - val_accuracy: 0.5818\n",
            "Epoch 14/50\n",
            "7/7 [==============================] - 1s 206ms/step - loss: 0.4833 - accuracy: 0.8265 - val_loss: 1.1116 - val_accuracy: 0.6242\n",
            "Epoch 15/50\n",
            "7/7 [==============================] - 2s 229ms/step - loss: 0.3621 - accuracy: 0.8782 - val_loss: 0.9908 - val_accuracy: 0.7091\n",
            "Epoch 16/50\n",
            "7/7 [==============================] - 1s 209ms/step - loss: 0.2860 - accuracy: 0.9011 - val_loss: 1.0317 - val_accuracy: 0.7152\n",
            "Epoch 17/50\n",
            "7/7 [==============================] - 1s 208ms/step - loss: 0.1981 - accuracy: 0.9406 - val_loss: 0.9876 - val_accuracy: 0.7212\n",
            "Epoch 18/50\n",
            "7/7 [==============================] - 1s 213ms/step - loss: 0.1361 - accuracy: 0.9619 - val_loss: 1.0678 - val_accuracy: 0.7697\n",
            "Epoch 19/50\n",
            "7/7 [==============================] - 1s 207ms/step - loss: 0.0891 - accuracy: 0.9772 - val_loss: 1.1417 - val_accuracy: 0.7515\n",
            "Epoch 20/50\n",
            "7/7 [==============================] - 1s 208ms/step - loss: 0.0876 - accuracy: 0.9741 - val_loss: 1.1770 - val_accuracy: 0.7636\n",
            "Epoch 21/50\n",
            "7/7 [==============================] - 1s 206ms/step - loss: 0.0659 - accuracy: 0.9878 - val_loss: 1.3276 - val_accuracy: 0.7697\n"
          ]
        }
      ]
    },
    {
      "cell_type": "code",
      "source": [
        "# summarize history for accuracy\n",
        "plt.plot(history.history['accuracy'])\n",
        "plt.plot(history.history['val_accuracy'])\n",
        "plt.title('Model Accuracy')\n",
        "plt.ylabel('accuracy')\n",
        "plt.xlabel('epoch')\n",
        "plt.legend(['train', 'test'], loc='upper left')\n",
        "plt.show()"
      ],
      "metadata": {
        "colab": {
          "base_uri": "https://localhost:8080/",
          "height": 295
        },
        "outputId": "0ba75466-f8a0-4db2-aa09-062b2242b637",
        "id": "m3JePXB1Om_2"
      },
      "execution_count": null,
      "outputs": [
        {
          "output_type": "display_data",
          "data": {
            "image/png": "[encoded data removed]",
            "text/plain": [
              "<Figure size 432x288 with 1 Axes>"
            ]
          },
          "metadata": {
            "needs_background": "light"
          }
        }
      ]
    },
    {
      "cell_type": "code",
      "source": [
        "# summarize history for loss\n",
        "plt.plot(history.history['loss'])\n",
        "plt.plot(history.history['val_loss'])\n",
        "plt.title('Model Loss')\n",
        "plt.ylabel('loss')\n",
        "plt.xlabel('epoch')\n",
        "plt.legend(['train', 'test'], loc='upper left')\n",
        "plt.show()"
      ],
      "metadata": {
        "colab": {
          "base_uri": "https://localhost:8080/",
          "height": 295
        },
        "outputId": "6c60c2ad-7797-4898-98bc-e1142abae7a9",
        "id": "tpezWcYwOm_2"
      },
      "execution_count": null,
      "outputs": [
        {
          "output_type": "display_data",
          "data": {
            "image/png": "[encoded data removed]",
            "text/plain": [
              "<Figure size 432x288 with 1 Axes>"
            ]
          },
          "metadata": {
            "needs_background": "light"
          }
        }
      ]
    },
    {
      "cell_type": "markdown",
      "source": [
        "**Validation Data**"
      ],
      "metadata": {
        "id": "SF4gNZczOm_2"
      }
    },
    {
      "cell_type": "code",
      "source": [
        "#predict the labels\n",
        "y_predicted_labels = model.predict(X_text_test)"
      ],
      "metadata": {
        "id": "5EdrgPvkOm_2"
      },
      "execution_count": null,
      "outputs": []
    },
    {
      "cell_type": "code",
      "source": [
        "y_pred_index = np.argmax(y_predicted_labels,axis=1)\n",
        "y_original = np.argmax(y_text_test, axis =1)"
      ],
      "metadata": {
        "id": "U5DqcRM_Om_2"
      },
      "execution_count": null,
      "outputs": []
    },
    {
      "cell_type": "code",
      "source": [
        "#plot the confusion matrix\n",
        "cm = confusion_matrix(y_original,y_pred_index)\n",
        "cm_label = ['I', 'II', 'III','IV', 'V']\n",
        "plt.figure(figsize=(6,6))\n",
        "sns.heatmap(cm, annot=True, cmap='Blues',xticklabels = cm_label, yticklabels = cm_label,fmt='g');"
      ],
      "metadata": {
        "colab": {
          "base_uri": "https://localhost:8080/",
          "height": 373
        },
        "outputId": "5c0f420a-0f06-45be-f8aa-31d8cd30837c",
        "id": "w_qMGt2DOm_3"
      },
      "execution_count": null,
      "outputs": [
        {
          "output_type": "display_data",
          "data": {
            "image/png": "[encoded data removed]",
            "text/plain": [
              "<Figure size 432x432 with 2 Axes>"
            ]
          },
          "metadata": {
            "needs_background": "light"
          }
        }
      ]
    },
    {
      "cell_type": "code",
      "source": [
        "print(classification_report(y_original, y_pred_index))"
      ],
      "metadata": {
        "colab": {
          "base_uri": "https://localhost:8080/"
        },
        "outputId": "a9e88269-0a97-4391-e8c6-f100fbd6cf80",
        "id": "eat9AAYiOm_3"
      },
      "execution_count": null,
      "outputs": [
        {
          "output_type": "stream",
          "name": "stdout",
          "text": [
            "              precision    recall  f1-score   support\n",
            "\n",
            "           0       1.00      0.64      0.78        22\n",
            "           1       0.85      0.70      0.77        40\n",
            "           2       0.63      0.82      0.71        45\n",
            "           3       0.83      0.79      0.81        48\n",
            "           4       0.77      1.00      0.87        10\n",
            "\n",
            "    accuracy                           0.77       165\n",
            "   macro avg       0.81      0.79      0.79       165\n",
            "weighted avg       0.80      0.77      0.77       165\n",
            "\n"
          ]
        }
      ]
    },
    {
      "cell_type": "markdown",
      "source": [
        "**Training Data**"
      ],
      "metadata": {
        "id": "G5D85-yKOm_3"
      }
    },
    {
      "cell_type": "code",
      "source": [
        "#predict the labels\n",
        "y_predicted_labels_train = model.predict(X_text_train)"
      ],
      "metadata": {
        "id": "7Su1P3LFOm_3"
      },
      "execution_count": null,
      "outputs": []
    },
    {
      "cell_type": "code",
      "source": [
        "y_pred_index_train = np.argmax(y_predicted_labels_train,axis=1)\n",
        "y_original_train = np.argmax(y_text_train, axis =1)"
      ],
      "metadata": {
        "id": "ZfWDDpGsOm_3"
      },
      "execution_count": null,
      "outputs": []
    },
    {
      "cell_type": "code",
      "source": [
        "#plot the confusion matrix\n",
        "cm = confusion_matrix(y_original_train,y_pred_index_train)\n",
        "cm_label = ['I', 'II', 'III','IV', 'V']\n",
        "plt.figure(figsize=(6,6))\n",
        "sns.heatmap(cm, annot=True, cmap='Blues',xticklabels = cm_label, yticklabels = cm_label,fmt='g');"
      ],
      "metadata": {
        "colab": {
          "base_uri": "https://localhost:8080/",
          "height": 373
        },
        "outputId": "0b9ac9cb-fb09-4365-8fcb-3b34e9b5ada0",
        "id": "43ob3veKOm_3"
      },
      "execution_count": null,
      "outputs": [
        {
          "output_type": "display_data",
          "data": {
            "image/png": "[encoded data removed]",
            "text/plain": [
              "<Figure size 432x432 with 2 Axes>"
            ]
          },
          "metadata": {
            "needs_background": "light"
          }
        }
      ]
    },
    {
      "cell_type": "code",
      "source": [
        "print(classification_report(y_original_train, y_pred_index_train))"
      ],
      "metadata": {
        "colab": {
          "base_uri": "https://localhost:8080/"
        },
        "outputId": "2d9178c0-0e7a-43db-8e21-fef4e6ae9aec",
        "id": "Q26H5xxGOm_3"
      },
      "execution_count": null,
      "outputs": [
        {
          "output_type": "stream",
          "name": "stdout",
          "text": [
            "              precision    recall  f1-score   support\n",
            "\n",
            "           0       1.00      1.00      1.00        64\n",
            "           1       1.00      1.00      1.00       150\n",
            "           2       1.00      1.00      1.00       167\n",
            "           3       1.00      1.00      1.00       228\n",
            "           4       1.00      1.00      1.00        48\n",
            "\n",
            "    accuracy                           1.00       657\n",
            "   macro avg       1.00      1.00      1.00       657\n",
            "weighted avg       1.00      1.00      1.00       657\n",
            "\n"
          ]
        }
      ]
    },
    {
      "cell_type": "code",
      "source": [
        "model.save(\"/content/drive/MyDrive/AIML/transformer_model\")"
      ],
      "metadata": {
        "colab": {
          "base_uri": "https://localhost:8080/"
        },
        "id": "7cCts7Hoz6NS",
        "outputId": "efc7ee8b-bad9-4f2b-e753-836b36519a4f"
      },
      "execution_count": null,
      "outputs": [
        {
          "output_type": "stream",
          "name": "stderr",
          "text": [
            "WARNING:absl:Found untraced functions such as embedding_12_layer_call_fn, embedding_12_layer_call_and_return_conditional_losses, embedding_13_layer_call_fn, embedding_13_layer_call_and_return_conditional_losses, multi_head_attention_6_layer_call_fn while saving (showing 5 of 65). These functions will not be directly callable after loading.\n"
          ]
        },
        {
          "output_type": "stream",
          "name": "stdout",
          "text": [
            "INFO:tensorflow:Assets written to: /content/drive/MyDrive/AIML/transformer_model/assets\n"
          ]
        },
        {
          "output_type": "stream",
          "name": "stderr",
          "text": [
            "INFO:tensorflow:Assets written to: /content/drive/MyDrive/AIML/transformer_model/assets\n"
          ]
        }
      ]
    },
    {
      "cell_type": "code",
      "source": [
        "from keras.models import load_model\n",
        "new_model = load_model(\"/content/drive/MyDrive/AIML/transformer_model\")"
      ],
      "metadata": {
        "id": "pYfjlZ3E8Cgt"
      },
      "execution_count": null,
      "outputs": []
    },
    {
      "cell_type": "code",
      "source": [
        "new_model.evaluate(x_train, y_train)"
      ],
      "metadata": {
        "colab": {
          "base_uri": "https://localhost:8080/"
        },
        "outputId": "3dca0ef1-df81-44e4-b236-ed8cdc38f337",
        "id": "TAuadu34RUqg"
      },
      "execution_count": null,
      "outputs": [
        {
          "output_type": "stream",
          "name": "stdout",
          "text": [
            "21/21 [==============================] - 2s 34ms/step - loss: 0.0066 - accuracy: 1.0000\n"
          ]
        },
        {
          "output_type": "execute_result",
          "data": {
            "text/plain": [
              "[0.0066031189635396, 1.0]"
            ]
          },
          "metadata": {},
          "execution_count": 221
        }
      ]
    },
    {
      "cell_type": "code",
      "source": [
        "new_model.evaluate(x_val, y_val)"
      ],
      "metadata": {
        "colab": {
          "base_uri": "https://localhost:8080/"
        },
        "outputId": "179c1b07-1101-420a-84db-43637e724dfa",
        "id": "4Q3R0k-9RUqh"
      },
      "execution_count": null,
      "outputs": [
        {
          "output_type": "stream",
          "name": "stdout",
          "text": [
            "6/6 [==============================] - 0s 25ms/step - loss: 1.3276 - accuracy: 0.7697\n"
          ]
        },
        {
          "output_type": "execute_result",
          "data": {
            "text/plain": [
              "[1.3276476860046387, 0.7696969509124756]"
            ]
          },
          "metadata": {},
          "execution_count": 222
        }
      ]
    },
    {
      "cell_type": "code",
      "source": [
        "model.predict(x_val)[0]"
      ],
      "metadata": {
        "colab": {
          "base_uri": "https://localhost:8080/"
        },
        "id": "7znjcy10aXdJ",
        "outputId": "785dd722-a7ae-400b-d4e1-355a55c15799"
      },
      "execution_count": null,
      "outputs": [
        {
          "output_type": "execute_result",
          "data": {
            "text/plain": [
              "array([6.1180675e-05, 2.3591888e-01, 7.6079255e-01, 3.2182708e-03,\n",
              "       9.1669053e-06], dtype=float32)"
            ]
          },
          "metadata": {},
          "execution_count": 192
        }
      ]
    },
    {
      "cell_type": "code",
      "source": [
        "new_model.predict(x_val)[0]"
      ],
      "metadata": {
        "colab": {
          "base_uri": "https://localhost:8080/"
        },
        "id": "WkT-aBvua8pP",
        "outputId": "b69e40b5-4a31-4021-d356-ea7f913a44c8"
      },
      "execution_count": null,
      "outputs": [
        {
          "output_type": "execute_result",
          "data": {
            "text/plain": [
              "array([6.1180675e-05, 2.3591888e-01, 7.6079255e-01, 3.2182708e-03,\n",
              "       9.1669053e-06], dtype=float32)"
            ]
          },
          "metadata": {},
          "execution_count": 193
        }
      ]
    },
    {
      "cell_type": "markdown",
      "source": [
        "# **Predict a sample result**"
      ],
      "metadata": {
        "id": "Nr8mO32Rbdhg"
      }
    },
    {
      "cell_type": "code",
      "source": [
        "# to pickle the files dont run\n",
        "with open('/content/drive/MyDrive/AIML/parameters.pickle', \"wb\") as f:\n",
        "  pickle.dump((Lab_en, tokenizer), f)"
      ],
      "metadata": {
        "id": "z38xt3zfcWQG"
      },
      "execution_count": null,
      "outputs": []
    },
    {
      "cell_type": "code",
      "source": [
        "%cd /content/drive/MyDrive/AIML/Capstone/Jan-G4---NLP-Chatbot"
      ],
      "metadata": {
        "colab": {
          "base_uri": "https://localhost:8080/"
        },
        "id": "qIYQ2zXpdQX3",
        "outputId": "694e8e92-8ec1-4d12-fa93-7ce6b048ae49"
      },
      "execution_count": null,
      "outputs": [
        {
          "output_type": "stream",
          "name": "stdout",
          "text": [
            "/content/drive/MyDrive/AIML/Capstone/Jan-G4---NLP-Chatbot\n"
          ]
        }
      ]
    },
    {
      "cell_type": "code",
      "source": [
        "!pip install contractions"
      ],
      "metadata": {
        "colab": {
          "base_uri": "https://localhost:8080/"
        },
        "id": "lfC9X1PqdTWW",
        "outputId": "86b39abc-0dc4-4bd6-f2f8-211f6de632ee"
      },
      "execution_count": null,
      "outputs": [
        {
          "output_type": "stream",
          "name": "stdout",
          "text": [
            "Collecting contractions\n",
            "  Downloading contractions-0.0.58-py2.py3-none-any.whl (8.0 kB)\n",
            "Collecting textsearch>=0.0.21\n",
            "  Downloading textsearch-0.0.21-py2.py3-none-any.whl (7.5 kB)\n",
            "Collecting anyascii\n",
            "  Downloading anyascii-0.3.0-py3-none-any.whl (284 kB)\n",
            "\u001b[K     |████████████████████████████████| 284 kB 5.6 MB/s \n",
            "\u001b[?25hCollecting pyahocorasick\n",
            "  Downloading pyahocorasick-1.4.2.tar.gz (321 kB)\n",
            "\u001b[K     |████████████████████████████████| 321 kB 29.9 MB/s \n",
            "\u001b[?25hBuilding wheels for collected packages: pyahocorasick\n",
            "  Building wheel for pyahocorasick (setup.py) ... \u001b[?25l\u001b[?25hdone\n",
            "  Created wheel for pyahocorasick: filename=pyahocorasick-1.4.2-cp37-cp37m-linux_x86_64.whl size=85451 sha256=9a7a9b826427ee2ceb640fe0145f56cb366f65e597fe569d63d222e7326aee12\n",
            "  Stored in directory: /root/.cache/pip/wheels/25/19/a6/8f363d9939162782bb8439d886469756271abc01f76fbd790f\n",
            "Successfully built pyahocorasick\n",
            "Installing collected packages: pyahocorasick, anyascii, textsearch, contractions\n",
            "Successfully installed anyascii-0.3.0 contractions-0.0.58 pyahocorasick-1.4.2 textsearch-0.0.21\n"
          ]
        }
      ]
    },
    {
      "cell_type": "code",
      "source": [
        "!pip install spellchecker"
      ],
      "metadata": {
        "colab": {
          "base_uri": "https://localhost:8080/"
        },
        "id": "J8VTdjPmde8O",
        "outputId": "2a9026b2-1792-4f91-e3b9-084666dc692c"
      },
      "execution_count": null,
      "outputs": [
        {
          "output_type": "stream",
          "name": "stdout",
          "text": [
            "Collecting spellchecker\n",
            "  Downloading spellchecker-0.4.tar.gz (3.9 MB)\n",
            "\u001b[K     |████████████████████████████████| 3.9 MB 5.6 MB/s \n",
            "\u001b[?25hRequirement already satisfied: setuptools in /usr/local/lib/python3.7/dist-packages (from spellchecker) (57.4.0)\n",
            "Collecting inexactsearch\n",
            "  Downloading inexactsearch-1.0.2.tar.gz (21 kB)\n",
            "Collecting soundex>=1.0\n",
            "  Downloading soundex-1.1.3.tar.gz (9.1 kB)\n",
            "Collecting silpa_common>=0.3\n",
            "  Downloading silpa_common-0.3.tar.gz (9.4 kB)\n",
            "Building wheels for collected packages: spellchecker, inexactsearch, silpa-common, soundex\n",
            "  Building wheel for spellchecker (setup.py) ... \u001b[?25l\u001b[?25hdone\n",
            "  Created wheel for spellchecker: filename=spellchecker-0.4-py3-none-any.whl size=3966514 sha256=9658818e33d717778deaad613ecfea091d17943c909914a66bd919328d96540c\n",
            "  Stored in directory: /root/.cache/pip/wheels/58/e9/48/b82b733a7a0a9cc52ed239ccf082ff33e2fbda71670ddd3349\n",
            "  Building wheel for inexactsearch (setup.py) ... \u001b[?25l\u001b[?25hdone\n",
            "  Created wheel for inexactsearch: filename=inexactsearch-1.0.2-py3-none-any.whl size=7140 sha256=3ea12cf9577a105bc8ba09275d1fb2503f14f0038d7414c652b9ae7461c387a5\n",
            "  Stored in directory: /root/.cache/pip/wheels/3c/f3/5d/77e8983e86af1c3c62b80d76de8020f560ce6367f1b2763b40\n",
            "  Building wheel for silpa-common (setup.py) ... \u001b[?25l\u001b[?25hdone\n",
            "  Created wheel for silpa-common: filename=silpa_common-0.3-py3-none-any.whl size=8482 sha256=f16ee5c2f8c068e98af389d70a4f3cb613069242221a5fc5aab40e910c5f1cfe\n",
            "  Stored in directory: /root/.cache/pip/wheels/02/81/11/40ef1cf40f5c4021a214653ca3362914f0f9e14e8322f75f9b\n",
            "  Building wheel for soundex (setup.py) ... \u001b[?25l\u001b[?25hdone\n",
            "  Created wheel for soundex: filename=soundex-1.1.3-py3-none-any.whl size=8894 sha256=5497f10c52334fc6fb73e05626a45d5f25a0908d7486dbea131ad8054eda8e6c\n",
            "  Stored in directory: /root/.cache/pip/wheels/6b/22/0f/0ac590ac1dc0fa60f57151bf39f1fae86a9978a1d54b48e197\n",
            "Successfully built spellchecker inexactsearch silpa-common soundex\n",
            "Installing collected packages: silpa-common, soundex, inexactsearch, spellchecker\n",
            "Successfully installed inexactsearch-1.0.2 silpa-common-0.3 soundex-1.1.3 spellchecker-0.4\n"
          ]
        }
      ]
    },
    {
      "cell_type": "code",
      "source": [
        "!pip install pyspellchecker"
      ],
      "metadata": {
        "colab": {
          "base_uri": "https://localhost:8080/"
        },
        "id": "vW8YVPAKeIBV",
        "outputId": "af6613a2-e782-43fe-c1e0-49e33683e18c"
      },
      "execution_count": null,
      "outputs": [
        {
          "output_type": "stream",
          "name": "stdout",
          "text": [
            "Collecting pyspellchecker\n",
            "  Downloading pyspellchecker-0.6.2-py3-none-any.whl (2.7 MB)\n",
            "\u001b[K     |████████████████████████████████| 2.7 MB 5.6 MB/s \n",
            "\u001b[?25hInstalling collected packages: pyspellchecker\n",
            "Successfully installed pyspellchecker-0.6.2\n"
          ]
        }
      ]
    },
    {
      "cell_type": "code",
      "source": [
        "def model_prediction(usr_txt):\n",
        "  with open('/content/drive/MyDrive/AIML/parameters.pickle', \"rb\") as f:\n",
        "      lab_en, tokenizer_data = pickle.load(f)\n",
        "  from NLP_text_preprocess import PreProcessing\n",
        "  import config\n",
        "  pp = PreProcessing(to_lower = config.to_lower,remove_url=config.remove_url,\n",
        "                   remove_time = config.remove_time,expand_contraction =config.expand_contraction,\n",
        "                   remove_special_character=config.remove_special_character,\n",
        "                   remove_punctuation=config.remove_punctuation,\n",
        "                   remove_whitespace=config.remove_whitespace,\n",
        "                   keep_alpha_numeric = False,\n",
        "                   check_spelling=config.check_spelling,\n",
        "                   remove_stopword=False,\n",
        "                   lemmatize_word=config.lemmatize_word)\n",
        "\n",
        "  pre_txt = pp.preprocess(usr_txt)\n",
        "  tok_txt = tokenizer_data.texts_to_sequences([pre_txt])\n",
        "  pad_txt = pad_sequences(tok_txt, padding='post', maxlen=200)\n",
        "  prediction = new_model.predict(pad_txt, verbose=0)\n",
        "  pred_index = np.argmax(prediction,axis=1)\n",
        "  result = lab_en.inverse_transform(pred_index)[0]\n",
        "  return print('The Potential accident level is', result)"
      ],
      "metadata": {
        "id": "IQMsDxkRbjVd"
      },
      "execution_count": null,
      "outputs": []
    },
    {
      "cell_type": "code",
      "source": [
        "model_prediction(\"when my assistant assessed each floor of module a in the work camp, she slipped down and immediately grabbed the laundry line\")"
      ],
      "metadata": {
        "colab": {
          "base_uri": "https://localhost:8080/"
        },
        "id": "WvLRxrThdtIl",
        "outputId": "070f3b7c-f2e0-409f-cc26-9dffac6a14e0"
      },
      "execution_count": null,
      "outputs": [
        {
          "output_type": "stream",
          "name": "stdout",
          "text": [
            "The Potential accident level is II\n"
          ]
        }
      ]
    },
    {
      "cell_type": "code",
      "source": [
        "model_prediction(\"comb against the wall to take it to the easel, it slipped from his hand, collapsed and exposed his entire foot.\")"
      ],
      "metadata": {
        "colab": {
          "base_uri": "https://localhost:8080/"
        },
        "id": "F-w37QnXij_s",
        "outputId": "373b566b-211d-4774-c4ee-d13ebd536aa6"
      },
      "execution_count": null,
      "outputs": [
        {
          "output_type": "stream",
          "name": "stdout",
          "text": [
            "The Potential accident level is II\n"
          ]
        }
      ]
    },
    {
      "cell_type": "code",
      "source": [
        "model_prediction(\"tether, and striking that shape, the tether cable hit with lifeline, projecting its hand into every metal plate of the shape, causing resulting bullet injury to\")"
      ],
      "metadata": {
        "colab": {
          "base_uri": "https://localhost:8080/"
        },
        "id": "Yn5cEZPGiy0U",
        "outputId": "77e3cad7-10bb-4e0e-df35-db43c20c0c7d"
      },
      "execution_count": null,
      "outputs": [
        {
          "output_type": "stream",
          "name": "stdout",
          "text": [
            "The Potential accident level is II\n"
          ]
        }
      ]
    },
    {
      "cell_type": "code",
      "source": [
        "model_prediction(\" that they were pulling the chain of the tecla, the injured one had his left hand resting on my concrete wall ( the line of fire ), product of the tension exerted by the tecle, the helical bolt breaks and the chain lashes\")"
      ],
      "metadata": {
        "colab": {
          "base_uri": "https://localhost:8080/"
        },
        "id": "2Qq81USzjMLM",
        "outputId": "0ad969fe-839a-41c2-da23-f79888e70ea8"
      },
      "execution_count": null,
      "outputs": [
        {
          "output_type": "stream",
          "name": "stdout",
          "text": [
            "The Potential accident level is III\n"
          ]
        }
      ]
    },
    {
      "cell_type": "code",
      "source": [
        "model_prediction(\"the collaborator antonio bumped the top of the field hat over one branch and was jumped by maribondos. he was bitten inside the ear or another on the shoulder, but \")"
      ],
      "metadata": {
        "colab": {
          "base_uri": "https://localhost:8080/"
        },
        "id": "jCKAqY-0jeNJ",
        "outputId": "2aa2cca9-729f-461e-8618-b84de749197d"
      },
      "execution_count": null,
      "outputs": [
        {
          "output_type": "stream",
          "name": "stdout",
          "text": [
            "The Potential accident level is I\n"
          ]
        }
      ]
    }
  ]
}