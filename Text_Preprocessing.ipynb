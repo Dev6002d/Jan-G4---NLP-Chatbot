{
  "nbformat": 4,
  "nbformat_minor": 0,
  "metadata": {
    "colab": {
      "name": "Text_Preprocessing.ipynb",
      "provenance": [],
      "collapsed_sections": [],
      "include_colab_link": true
    },
    "kernelspec": {
      "name": "python3",
      "display_name": "Python 3"
    },
    "language_info": {
      "name": "python"
    }
  },
  "cells": [
    {
      "cell_type": "markdown",
      "metadata": {
        "id": "view-in-github",
        "colab_type": "text"
      },
      "source": [
        "<a href=\"https://colab.research.google.com/github/shyamsparrow/Jan-G4---NLP-Chatbot/blob/main/Text_Preprocessing.ipynb\" target=\"_parent\"><img src=\"https://colab.research.google.com/assets/colab-badge.svg\" alt=\"Open In Colab\"/></a>"
      ]
    },
    {
      "cell_type": "code",
      "metadata": {
        "id": "6DqqzSMEsAnw"
      },
      "source": [
        "# Standard libraries\n",
        "import re\n",
        "import string\n",
        "from unicodedata import normalize\n",
        "from typing import List, Optional, Union, Callable\n",
        "\n",
        "import nltk\n",
        "from nltk.corpus import stopwords\n",
        "from nltk.tokenize import word_tokenize, PunktSentenceTokenizer\n",
        "from nltk.stem import WordNetLemmatizer\n",
        "from spellchecker import SpellChecker\n",
        "#from names_dataset import NameDataset\n",
        "\n",
        "nltk.download('stopwords', quiet=True)\n",
        "nltk.download('wordnet', quiet=True)\n",
        "nltk.download('punkt', quiet=True)\n",
        "\n",
        "class PreProcessing:\n",
        "  def __init__(self, convert_lowercase = False,\n",
        "               remove_num=False,\n",
        "               remove_whitespaces=False,\n",
        "               remove_spl_char=False,\n",
        "               remove_stopwords=False):\n",
        "    self.convert_lowercase = convert_lowercase\n",
        "    self.remove_num=remove_num\n",
        "    self.remove_whitespaces=remove_whitespaces\n",
        "    self.remove_spl_char=remove_spl_char\n",
        "  \n",
        "  def preprocess(self, text):\n",
        "\n",
        "    if self.convert_lowercase:\n",
        "      text = to_lower(text)\n",
        "\n",
        "    if self.remove_num:\n",
        "      text = remove_num_method(text)\n",
        "    \n",
        "    if self.remove_spl_char:\n",
        "      text = remove_spl_char_method(text)\n",
        "    \n",
        "    if self.remove_whitespaces:\n",
        "      text = self.remove_wspace(text)\n",
        "\n",
        "    return text\n",
        "  def to_lower(self,text):\n",
        "    \"\"\" Convert input text to lower case \"\"\"\n",
        "    return text.lower()\n",
        "\n",
        "  def remove_number(self,text):\n",
        "    \"\"\" Remove number in the input text \"\"\"\n",
        "    processed_text = re.sub('\\d+', '', text)\n",
        "    return processed_text\n",
        "\n",
        "  def remove_url(self,text):\n",
        "    \"\"\" Remove url in the input text \"\"\"\n",
        "    return re.sub('(www|http)\\S+', '', text)\n",
        "\n",
        "  def remove_punctuation(self,text,punctuations: Optional[str] = None):\n",
        "    \"\"\"\n",
        "    Removes all punctuations from a string, as defined by string.punctuation or a custom list.\n",
        "    For reference, Python's string.punctuation is equivalent to '!\"#$%&\\'()*+,-./:;<=>?@[\\\\]^_{|}~'\n",
        "    \"\"\"\n",
        "    if punctuations is None:\n",
        "        punctuations = string.punctuation\n",
        "    processed_text = text.translate(str.maketrans('', '', punctuations))\n",
        "    return processed_text\n",
        "\n",
        "  def remove_special_character(self,text,special_characters: Optional[str] = None):\n",
        "    \"\"\" Removes special characters \"\"\"\n",
        "    if special_characters is None:\n",
        "        # TODO: add more special characters\n",
        "        special_characters = 'å¼«¥ª°©ð±§µæ¹¢³¿®ä£'\n",
        "    processed_text = text.translate(str.maketrans('', '', special_characters))\n",
        "    return processed_text\n",
        "\n",
        "  def keep_alpha_numeric(self,text):\n",
        "    \"\"\" Remove any character except alphanumeric characters \"\"\"\n",
        "    return ''.join(c for c in text if c.isalnum())\n",
        "\n",
        "  def remove_whitespace(text, remove_duplicate_whitespace: bool = True):\n",
        "    \"\"\" Removes leading, trailing, and (optionally) duplicated whitespace \"\"\"\n",
        "    if remove_duplicate_whitespace:\n",
        "        return ' '.join(re.split('\\s+', input_text.strip(), flags=re.UNICODE))\n",
        "    return input_text.strip()\n",
        "\n"
      ],
      "execution_count": null,
      "outputs": []
    },
    {
      "cell_type": "code",
      "metadata": {
        "colab": {
          "base_uri": "https://localhost:8080/"
        },
        "id": "Id1Kw0htzohc",
        "outputId": "f27e007a-bbd9-4652-f0d9-16e6fc935bf5"
      },
      "source": [
        "from google.colab import drive\n",
        "drive.mount('/content/drive')"
      ],
      "execution_count": 1,
      "outputs": [
        {
          "output_type": "stream",
          "name": "stdout",
          "text": [
            "Mounted at /content/drive\n"
          ]
        }
      ]
    },
    {
      "cell_type": "code",
      "metadata": {
        "colab": {
          "base_uri": "https://localhost:8080/"
        },
        "id": "P0hlcsqnsn7W",
        "outputId": "b0e57eea-65b2-49ad-b9a0-75a983bf5d8f"
      },
      "source": [
        "%%writefile config.py\n",
        "remove_num=True\n",
        "remove_spl_char = True\n",
        "remove_whitespaces = False"
      ],
      "execution_count": null,
      "outputs": [
        {
          "output_type": "stream",
          "name": "stdout",
          "text": [
            "Overwriting config.py\n"
          ]
        }
      ]
    },
    {
      "cell_type": "code",
      "metadata": {
        "id": "eC_8CARUtWfR"
      },
      "source": [
        "import config"
      ],
      "execution_count": null,
      "outputs": []
    },
    {
      "cell_type": "code",
      "metadata": {
        "colab": {
          "base_uri": "https://localhost:8080/"
        },
        "id": "x4fHUI2EtXuf",
        "outputId": "146afe58-2b60-4c47-ab2b-2d312ff1072a"
      },
      "source": [
        "config.remove_whitespaces"
      ],
      "execution_count": null,
      "outputs": [
        {
          "output_type": "execute_result",
          "data": {
            "text/plain": [
              "False"
            ]
          },
          "metadata": {},
          "execution_count": 7
        }
      ]
    },
    {
      "cell_type": "code",
      "metadata": {
        "colab": {
          "base_uri": "https://localhost:8080/",
          "height": 37
        },
        "id": "FKsNOEvatCcb",
        "outputId": "81b47b36-d65e-4064-e06a-d0f2eb53a378"
      },
      "source": [
        "pp = PreProcessing(remove_whitespaces=config.remove_whitespaces)\n",
        "\n",
        "pp.preprocess(\"this is a sample text    \")"
      ],
      "execution_count": null,
      "outputs": [
        {
          "output_type": "execute_result",
          "data": {
            "application/vnd.google.colaboratory.intrinsic+json": {
              "type": "string"
            },
            "text/plain": [
              "'this is a sample text    '"
            ]
          },
          "metadata": {},
          "execution_count": 20
        }
      ]
    }
  ]
}