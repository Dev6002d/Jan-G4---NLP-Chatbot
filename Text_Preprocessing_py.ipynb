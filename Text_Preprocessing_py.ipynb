{
  "nbformat": 4,
  "nbformat_minor": 0,
  "metadata": {
    "colab": {
      "name": "Text_Preprocessing.py",
      "provenance": [],
      "collapsed_sections": [],
      "include_colab_link": true
    },
    "kernelspec": {
      "name": "python3",
      "display_name": "Python 3"
    },
    "language_info": {
      "name": "python"
    }
  },
  "cells": [
    {
      "cell_type": "markdown",
      "metadata": {
        "id": "view-in-github",
        "colab_type": "text"
      },
      "source": [
        "<a href=\"https://colab.research.google.com/github/shyamsparrow/Jan-G4---NLP-Chatbot/blob/main/Text_Preprocessing_py.ipynb\" target=\"_parent\"><img src=\"https://colab.research.google.com/assets/colab-badge.svg\" alt=\"Open In Colab\"/></a>"
      ]
    },
    {
      "cell_type": "code",
      "metadata": {
        "id": "6DqqzSMEsAnw",
        "colab": {
          "base_uri": "https://localhost:8080/"
        },
        "outputId": "7312ddc5-69ad-47be-db19-ec658f0907df"
      },
      "source": [
        "# Standard libraries\n",
        "!pip install pyspellchecker\n",
        "import os\n",
        "import re\n",
        "import string\n",
        "import logging\n",
        "import csv\n",
        "from pathlib import Path\n",
        "from functools import wraps\n",
        "from unicodedata import normalize\n",
        "from typing import List, Optional, Union, Callable\n",
        "\n",
        "# Third party libraries\n",
        "import nltk\n",
        "from nltk.corpus import stopwords\n",
        "from nltk.tokenize import word_tokenize, PunktSentenceTokenizer\n",
        "from nltk.stem import WordNetLemmatizer\n",
        "from spellchecker import SpellChecker\n",
        "\n",
        "nltk.download('stopwords', quiet=True)\n",
        "nltk.download('wordnet', quiet=True)\n",
        "nltk.download('punkt', quiet=True)\n",
        "\n",
        "\n",
        "_CUSTOM_SUB_CSV_FILE_PATH = os.path.join(os.path.dirname(\"__file__\"), 'data/custom_substitutions.csv')\n",
        "_IGNORE_SPELLCHECK_WORD_FILE_PATH = os.path.join(os.path.dirname(\"__file__\"), 'data/ignore_spellcheck_words.txt')\n",
        "\n",
        "LOGGER = logging.getLogger(__name__)\n",
        "LOGGER.setLevel(logging.INFO)\n",
        "\n",
        "class PreProcessing:\n",
        "  def __init__(self, to_lower = False,remove_url=False,remove_special_character=False, remove_punctuation=False,\n",
        "               remove_whitespace=False,check_spelling=False,remove_stopword=False,substitute_token=False,lemmatize_word=False,\n",
        "               tokenize_word=False, tokenize_sentence= False):\n",
        "    \n",
        "    self.to_lower = to_lower\n",
        "    self.remove_url=remove_url\n",
        "    self.remove_special_character=remove_special_character\n",
        "    self.remove_punctuation=remove_punctuation\n",
        "    self.remove_whitespace=remove_whitespace\n",
        "    self.check_spelling=check_spelling\n",
        "    self.remove_stopword=remove_stopword\n",
        "    self.substitute_token=substitute_token\n",
        "    self.lemmatize_word=lemmatize_word\n",
        "    self.tokenize_word=tokenize_word\n",
        "    self.tokenize_sentence=tokenize_sentence\n",
        "\n",
        "  \n",
        "  def preprocess(self, text):\n",
        "\n",
        "    if self.to_lower:\n",
        "      text = to_lower(text)\n",
        "\n",
        "    if self.remove_url:\n",
        "      text = remove_url(text)\n",
        "    \n",
        "    if self.remove_special_character:\n",
        "      text = remove_special_character(text)\n",
        "    \n",
        "    if self.remove_punctuation:\n",
        "      text = self.remove_punctuation(text)\n",
        "\n",
        "    if self.remove_whitespace:\n",
        "      text = remove_whitespace(text)\n",
        "      \n",
        "    if self.check_spelling:\n",
        "      text = check_spelling(text)\n",
        "      \n",
        "    if self.remove_stopword:\n",
        "      text = remove_stopword(text)\n",
        "      \n",
        "    if self.substitute_token:\n",
        "      text = substitute_token(text)\n",
        "      \n",
        "    if self.lemmatize_word:\n",
        "      text = lemmatize_word(text)\n",
        "            \n",
        "    if self.tokenize_word:\n",
        "      text = tokenize_word(text)\n",
        "            \n",
        "    if self.tokenize_sentence:\n",
        "      text = tokenize_sentence(text)\n",
        "\n",
        "    return text\n",
        "\n",
        "\n",
        "\n",
        "  def _return_empty_string_for_invalid_input(func):\n",
        "    \"\"\" Return empty string if the input is None or empty \"\"\"\n",
        "    @wraps(func)\n",
        "    def wrapper(*args, **kwargs):\n",
        "        if 'input_text' in kwargs:\n",
        "            input_text = kwargs['input_text']\n",
        "        else:\n",
        "            try:\n",
        "                input_text = args[0]\n",
        "            except IndexError as e:\n",
        "                LOGGER.exception('No appropriate positional argument is provide.')\n",
        "                raise e\n",
        "        if input_text is None or len(input_text) == 0:\n",
        "            return ''\n",
        "        else:\n",
        "            return func(*args, **kwargs)\n",
        "    return wrapper\n",
        "\n",
        "\n",
        "  def _return_empty_list_for_invalid_input(func):\n",
        "    \"\"\" Return empty list if the input is None or empty \"\"\"\n",
        "    @wraps(func)\n",
        "    def wrapper(*args, **kwargs):\n",
        "        if 'input_text_or_list' in kwargs:\n",
        "            input_text_or_list = kwargs['input_text_or_list']\n",
        "        else:\n",
        "            try:\n",
        "                input_text_or_list = args[0]\n",
        "            except IndexError as e:\n",
        "                LOGGER.exception('No appropriate positional argument is provide.')\n",
        "                raise e\n",
        "        if input_text_or_list is None or len(input_text_or_list) == 0:\n",
        "            return []\n",
        "        else:\n",
        "            return func(*args, **kwargs)\n",
        "    return wrapper\n",
        "\n",
        "  @_return_empty_string_for_invalid_input  \n",
        "  def to_lower(self,text)-> str:\n",
        "    \"\"\" Convert input text to lower case \"\"\"\n",
        "    return text.lower()\n",
        "\n",
        "  @_return_empty_string_for_invalid_input\n",
        "  def remove_url(self,text)-> str:\n",
        "    \"\"\" Remove url in the input text \"\"\"\n",
        "    return re.sub('(www|http)\\S+', '', text)\n",
        "\n",
        "  @_return_empty_string_for_invalid_input\n",
        "  def remove_punctuation(self,text)-> str:\n",
        "    \"\"\"\n",
        "    Removes all punctuations from a string, as defined by string.punctuation or a custom list.\n",
        "    For reference, Python's string.punctuation is equivalent to '!\"#$%&\\'()*+,-./:;<=>?@[\\\\]^_{|}~'\n",
        "    \"\"\"\n",
        "    punctuations = string.punctuation\n",
        "    processed_text = text.translate(str.maketrans('', '', punctuations))\n",
        "    return processed_text\n",
        "\n",
        "  @_return_empty_string_for_invalid_input\n",
        "  def remove_special_character(self,text)-> str:\n",
        "    \"\"\" Removes special characters \"\"\"\n",
        "    special_characters = 'å¼«¥ª°©ð±§µæ¹¢³¿®ä£'\n",
        "    processed_text = text.translate(str.maketrans('', '', special_characters))\n",
        "    return processed_text\n",
        "\n",
        "  @_return_empty_string_for_invalid_input\n",
        "  def keep_alpha_numeric(self,text):\n",
        "    \"\"\" Remove any character except alphanumeric characters \"\"\"\n",
        "    return ''.join(c for c in text if c.isalnum())\n",
        "\n",
        "  @_return_empty_string_for_invalid_input \n",
        "  def remove_whitespace(self,text, remove_duplicate_whitespace: bool = True)-> str:\n",
        "    \"\"\" Removes leading, trailing, and (optionally) duplicated whitespace \"\"\"\n",
        "    if remove_duplicate_whitespace:\n",
        "        return ' '.join(re.split('\\s+', input_text.strip(), flags=re.UNICODE))\n",
        "    return input_text.strip()\n",
        "\n",
        "  @_return_empty_list_for_invalid_input\n",
        "  def remove_stopword(input_text_or_list: Union[str, List[str]])-> List[str]:\n",
        "    \"\"\" Remove stop words \"\"\"\n",
        "\n",
        "    stop_words = set(stopwords.words('english'))\n",
        "    if isinstance(stop_words, list):\n",
        "        stop_words = set(stop_words)\n",
        "    if isinstance(input_text_or_list, str):\n",
        "        tokens = word_tokenize(input_text_or_list)\n",
        "        processed_tokens = [token for token in tokens if token not in stop_words]\n",
        "    else:\n",
        "        processed_tokens = [token for token in input_text_or_list\n",
        "                            if (token not in stop_words and token is not None and len(token) > 0)]\n",
        "    return processed_tokens\n",
        "     \n",
        "  @_return_empty_list_for_invalid_input\n",
        "  def lemmatize_word(input_text_or_list: Union[str, List[str]])-> List[str]:\n",
        "    \"\"\" Lemmatize each token in a text by finding its base form \"\"\"\n",
        "    lemmatizer = WordNetLemmatizer()\n",
        "    if isinstance(input_text_or_list, str):\n",
        "        tokens = word_tokenize(input_text_or_list)\n",
        "        processed_tokens = [lemmatizer.lemmatize(token) for token in tokens]\n",
        "    else:\n",
        "        processed_tokens = [lemmatizer.lemmatize(token)\n",
        "                            for token in input_text_or_list if token is not None and len(token) > 0]\n",
        "    return processed_tokens\n",
        "     \n",
        "  def tokenize_word(input_text: str) -> List[str]:\n",
        "    \"\"\" Converts a text into a list of word tokens \"\"\"\n",
        "    if input_text is None or len(input_text) == 0:\n",
        "        return []\n",
        "    return word_tokenize(input_text)\n",
        "\n",
        "\n",
        "  def tokenize_sentence(input_text: str) -> List[str]:\n",
        "    \"\"\" Converts a text into a list of sentence tokens \"\"\"\n",
        "    if input_text is None or len(input_text) == 0:\n",
        "        return []\n",
        "    tokenizer = PunktSentenceTokenizer()\n",
        "    return tokenizer.tokenize(input_text)\n",
        "\n",
        "  def substitute_token(token_list: List[str])-> List[str]:\n",
        "    \"\"\" Substitute each token by another token, e.g., 'vs' -> 'versus' \"\"\"\n",
        "    # TODO: add more custom substitutions in the csv file specified by _CUSTOM_SUB_CSV_FILE_PATH\n",
        "    if token_list is None or len(token_list) == 0:\n",
        "        return []\n",
        "    with open(_CUSTOM_SUB_CSV_FILE_PATH, 'r') as f:\n",
        "            csv_file = csv.reader(f)\n",
        "            sub_dict = dict(csv_file)\n",
        "    processed_tokens = list()\n",
        "\n",
        "    for token in token_list:\n",
        "        if token in sub_dict:\n",
        "            processed_tokens.append(sub_dict[token])\n",
        "        else:\n",
        "            processed_tokens.append(token)\n",
        "    return processed_tokens\n",
        "\n",
        "  def check_spelling(input_text_or_list: Union[str, List[str]], lang='en',\n",
        "                   ignore_word_file_path: Union[str, Path] = _IGNORE_SPELLCHECK_WORD_FILE_PATH) -> str:\n",
        "    \"\"\" Check and correct spellings of the text list \"\"\"\n",
        "    if input_text_or_list is None or len(input_text_or_list) == 0:\n",
        "        return ''\n",
        "    spelling_checker = SpellChecker(language=lang, distance=1)\n",
        "    # TODO: add acronyms into spell checker to ignore auto correction specified by _IGNORE_SPELLCHECK_WORD_FILE_PATH\n",
        "    spelling_checker.word_frequency.load_text_file(ignore_word_file_path)\n",
        "    if isinstance(input_text_or_list, str):\n",
        "        if not input_text_or_list.islower():\n",
        "            input_text_or_list = input_text_or_list.lower()\n",
        "        tokens = word_tokenize(input_text_or_list)\n",
        "    else:\n",
        "        tokens = [token.lower() for token in input_text_or_list if token is not None and len(token) > 0]\n",
        "    misspelled = spelling_checker.unknown(tokens)\n",
        "    for word in misspelled:\n",
        "        tokens[tokens.index(word)] = spelling_checker.correction(word)\n",
        "    return ' '.join(tokens).strip()"
      ],
      "execution_count": 11,
      "outputs": [
        {
          "output_type": "stream",
          "name": "stdout",
          "text": [
            "Requirement already satisfied: pyspellchecker in /usr/local/lib/python3.7/dist-packages (0.6.2)\n"
          ]
        }
      ]
    },
    {
      "cell_type": "code",
      "metadata": {
        "colab": {
          "base_uri": "https://localhost:8080/"
        },
        "id": "Id1Kw0htzohc",
        "outputId": "c361ef65-d497-46f6-eb76-f1a7a5046cd5"
      },
      "source": [
        "from google.colab import drive\n",
        "drive.mount('/content/drive')"
      ],
      "execution_count": 13,
      "outputs": [
        {
          "output_type": "stream",
          "name": "stdout",
          "text": [
            "Mounted at /content/drive\n"
          ]
        }
      ]
    },
    {
      "cell_type": "code",
      "metadata": {
        "colab": {
          "base_uri": "https://localhost:8080/"
        },
        "id": "P0hlcsqnsn7W",
        "outputId": "addf7db3-fa21-4b2c-cfe5-406206a8083d"
      },
      "source": [
        "%%writefile config.py\n",
        "self, to_lower = True\n",
        "remove_url=True\n",
        "remove_special_character=True\n",
        "remove_punctuation=True\n",
        "remove_whitespace=True\n",
        "check_spelling=True\n",
        "remove_stopword=True\n",
        "substitute_token=True\n",
        "lemmatize_word=True\n",
        "tokenize_word=True\n",
        "tokenize_sentence= False"
      ],
      "execution_count": 12,
      "outputs": [
        {
          "output_type": "stream",
          "name": "stdout",
          "text": [
            "Writing config.py\n"
          ]
        }
      ]
    },
    {
      "cell_type": "code",
      "metadata": {
        "id": "eC_8CARUtWfR"
      },
      "source": [
        "import config"
      ],
      "execution_count": null,
      "outputs": []
    },
    {
      "cell_type": "code",
      "metadata": {
        "colab": {
          "base_uri": "https://localhost:8080/"
        },
        "id": "x4fHUI2EtXuf",
        "outputId": "146afe58-2b60-4c47-ab2b-2d312ff1072a"
      },
      "source": [
        "config.remove_whitespaces"
      ],
      "execution_count": null,
      "outputs": [
        {
          "output_type": "execute_result",
          "data": {
            "text/plain": [
              "False"
            ]
          },
          "metadata": {},
          "execution_count": 7
        }
      ]
    },
    {
      "cell_type": "code",
      "metadata": {
        "colab": {
          "base_uri": "https://localhost:8080/",
          "height": 37
        },
        "id": "FKsNOEvatCcb",
        "outputId": "81b47b36-d65e-4064-e06a-d0f2eb53a378"
      },
      "source": [
        "pp = PreProcessing(remove_whitespaces=config.remove_whitespaces)\n",
        "\n",
        "pp.preprocess(\"this is a sample text    \")"
      ],
      "execution_count": null,
      "outputs": [
        {
          "output_type": "execute_result",
          "data": {
            "application/vnd.google.colaboratory.intrinsic+json": {
              "type": "string"
            },
            "text/plain": [
              "'this is a sample text    '"
            ]
          },
          "metadata": {},
          "execution_count": 20
        }
      ]
    }
  ]
}