{
  "nbformat": 4,
  "nbformat_minor": 0,
  "metadata": {
    "colab": {
      "name": "Untitled56.ipynb",
      "provenance": []
    },
    "kernelspec": {
      "name": "python3",
      "display_name": "Python 3"
    },
    "language_info": {
      "name": "python"
    }
  },
  "cells": [
    {
      "cell_type": "code",
      "metadata": {
        "id": "6DqqzSMEsAnw"
      },
      "source": [
        "import re\n",
        "class PreProcessing:\n",
        "  def __init__(self, remove_num=False,\n",
        "               remove_whitespaces=False,\n",
        "               remove_spl_char=False,\n",
        "               remove_stopwords=False):\n",
        "    self.remove_num=remove_num\n",
        "    self.remove_whitespaces=remove_whitespaces\n",
        "    self.remove_spl_char=remove_spl_char\n",
        "  \n",
        "  def preprocess(self, text):\n",
        "\n",
        "    if self.remove_num:\n",
        "      text = remove_num_method(text)\n",
        "    \n",
        "    if self.remove_spl_char:\n",
        "      text = remove_spl_char_method(text)\n",
        "    \n",
        "    if self.remove_whitespaces:\n",
        "      text = self.remove_wspace(text)\n",
        "\n",
        "    return text\n",
        "  \n",
        "  def remove_wspace(self, text):\n",
        "    text = re.sub(\"\\w\", \" \", text)\n",
        "    return text"
      ],
      "execution_count": 17,
      "outputs": []
    },
    {
      "cell_type": "code",
      "metadata": {
        "colab": {
          "base_uri": "https://localhost:8080/"
        },
        "id": "P0hlcsqnsn7W",
        "outputId": "b0e57eea-65b2-49ad-b9a0-75a983bf5d8f"
      },
      "source": [
        "%%writefile config.py\n",
        "remove_num=True\n",
        "remove_spl_char = True\n",
        "remove_whitespaces = False"
      ],
      "execution_count": 5,
      "outputs": [
        {
          "output_type": "stream",
          "name": "stdout",
          "text": [
            "Overwriting config.py\n"
          ]
        }
      ]
    },
    {
      "cell_type": "code",
      "metadata": {
        "id": "eC_8CARUtWfR"
      },
      "source": [
        "import config"
      ],
      "execution_count": 6,
      "outputs": []
    },
    {
      "cell_type": "code",
      "metadata": {
        "colab": {
          "base_uri": "https://localhost:8080/"
        },
        "id": "x4fHUI2EtXuf",
        "outputId": "146afe58-2b60-4c47-ab2b-2d312ff1072a"
      },
      "source": [
        "config.remove_whitespaces"
      ],
      "execution_count": 7,
      "outputs": [
        {
          "output_type": "execute_result",
          "data": {
            "text/plain": [
              "False"
            ]
          },
          "metadata": {},
          "execution_count": 7
        }
      ]
    },
    {
      "cell_type": "code",
      "metadata": {
        "colab": {
          "base_uri": "https://localhost:8080/",
          "height": 37
        },
        "id": "FKsNOEvatCcb",
        "outputId": "81b47b36-d65e-4064-e06a-d0f2eb53a378"
      },
      "source": [
        "pp = PreProcessing(remove_whitespaces=config.remove_whitespaces)\n",
        "\n",
        "pp.preprocess(\"this is a sample text    \")"
      ],
      "execution_count": 20,
      "outputs": [
        {
          "output_type": "execute_result",
          "data": {
            "application/vnd.google.colaboratory.intrinsic+json": {
              "type": "string"
            },
            "text/plain": [
              "'this is a sample text    '"
            ]
          },
          "metadata": {},
          "execution_count": 20
        }
      ]
    }
  ]
}